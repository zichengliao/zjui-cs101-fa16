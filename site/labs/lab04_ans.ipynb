{
 "cells": [
  {
   "cell_type": "markdown",
   "metadata": {},
   "source": [
    "## `lab04`—Logic & Control"
   ]
  },
  {
   "cell_type": "markdown",
   "metadata": {},
   "source": [
    "**Objectives**\n",
    "\n",
    "-   Use functions effectively (with arguments, comments, and scripting).\n",
    "-   Understand Python's binary logic system.\n",
    "-   Exploit conditional statements to build adaptive programs."
   ]
  },
  {
   "cell_type": "markdown",
   "metadata": {},
   "source": [
    "Let's do some more work with functions to get used to their applications.\n",
    "\n",
    "Imagine performing more complicated tasks like permuting a set of variables:\n",
    "\n",
    "<img src=\"./img/permute.png\" width=\"50%;\"/>"
   ]
  },
  {
   "cell_type": "markdown",
   "metadata": {},
   "source": [
    "-   Write a function `permute` which carries out this operation.  (It really doesn't need to be more complicated than the `swap` function above, just with more variables.)"
   ]
  },
  {
   "cell_type": "code",
   "execution_count": 1,
   "metadata": {
    "collapsed": true,
    "nbgrader": {
     "grade": false,
     "grade_id": "permute",
     "locked": false,
     "solution": true
    }
   },
   "outputs": [],
   "source": [
    "# define your function here\n",
    "def permute(i,j,k,l,m):\n",
    "    tmp = m\n",
    "    m = l\n",
    "    l = k\n",
    "    k = j\n",
    "    j = i\n",
    "    i = tmp    \n",
    "    \n",
    "    return (i,j,k,l,m)\n",
    "    #pass # you can always delete a `pass` statement, since it does nothing"
   ]
  },
  {
   "cell_type": "markdown",
   "metadata": {},
   "source": [
    "<div class=\"alert alert-warning\">\n",
    "The code stub above has a `pass` statement.  This is a placeholder which does nothing, and you should replace it with either a `return` statement or another block of appropriate code.  Notebooks that you submit should never leave `pass` statements in.\n",
    "</div>"
   ]
  },
  {
   "cell_type": "code",
   "execution_count": 2,
   "metadata": {
    "collapsed": false,
    "nbgrader": {
     "grade": true,
     "grade_id": "permute-test",
     "locked": true,
     "points": 1,
     "solution": false
    }
   },
   "outputs": [
    {
     "name": "stdout",
     "output_type": "stream",
     "text": [
      "Success!\n"
     ]
    }
   ],
   "source": [
    "# it should pass this test---do NOT edit this cell\n",
    "i,j,k,l,m = 1,2,4,8,16\n",
    "tmp = permute(i,j,k,l,m)\n",
    "assert (m,i,j,k,l) == permute(i,j,k,l,m)\n",
    "print('Success!')"
   ]
  },
  {
   "cell_type": "markdown",
   "metadata": {},
   "source": [
    "### Optional Parameters"
   ]
  },
  {
   "cell_type": "markdown",
   "metadata": {},
   "source": [
    "Occasionally, it will be convenient for us to assign default values to parameters.  Consider a function which calculates to some level of precision, or *tolerance*.  While it is good for the user to be able to specify when a very high tolerance is necessary (like $10^{-6}$), for most purposes it may be simpler to just have a default tolerance built-in.\n",
    "\n",
    "This function determines if two numbers are within a certain range of each other, *i.e.*,\n",
    "\n",
    "$$\n",
    "\\frac{|a-b|}{\\max \\left( |a|, |b| \\right)} \\leq \\varepsilon_\\textrm{tol}\n",
    "$$"
   ]
  },
  {
   "cell_type": "code",
   "execution_count": 3,
   "metadata": {
    "collapsed": true
   },
   "outputs": [],
   "source": [
    "def isclose(a, b, tol=1e-3):\n",
    "    result = abs(a - b) <= tol * max(abs(a), abs(b))\n",
    "    return result"
   ]
  },
  {
   "cell_type": "markdown",
   "metadata": {},
   "source": [
    "In this case, `tol` defaults to `1e-3` *unless* the user specifies `tol`.  The following are all valid calls to `evaluate`:"
   ]
  },
  {
   "cell_type": "code",
   "execution_count": 4,
   "metadata": {
    "collapsed": false
   },
   "outputs": [
    {
     "name": "stdout",
     "output_type": "stream",
     "text": [
      "True for a tolerance of 1e-3 (default)\n",
      "False for a tolerance of 1e-4\n",
      "False for a tolerance of 1e-5\n"
     ]
    }
   ],
   "source": [
    "value1 = 5.000\n",
    "value2 = 5.001\n",
    "\n",
    "a = isclose(value1, value2)\n",
    "b = isclose(value1, value2, tol=1e-4)\n",
    "c = isclose(value1, value2, tol=1e-5)\n",
    "\n",
    "print(a, 'for a tolerance of 1e-3 (default)')\n",
    "print(b, 'for a tolerance of 1e-4')\n",
    "print(c, 'for a tolerance of 1e-5')"
   ]
  },
  {
   "cell_type": "markdown",
   "metadata": {},
   "source": [
    "-   Write a function `inv_power` which accepts two parameters, `x` and `b`.  `b` should supply a default value of `1.0` if it is not given as an argument.  The function should return the result $x^{-b}$."
   ]
  },
  {
   "cell_type": "code",
   "execution_count": 5,
   "metadata": {
    "collapsed": false,
    "nbgrader": {
     "grade": false,
     "grade_id": "inv_power",
     "locked": false,
     "solution": true
    }
   },
   "outputs": [],
   "source": [
    "# define your function here\n",
    "def inv_power(x,b=1):\n",
    "    return x**(-b)"
   ]
  },
  {
   "cell_type": "code",
   "execution_count": 6,
   "metadata": {
    "collapsed": false,
    "nbgrader": {
     "grade": true,
     "grade_id": "inv_power-spec",
     "locked": true,
     "points": 1,
     "solution": false
    }
   },
   "outputs": [
    {
     "name": "stdout",
     "output_type": "stream",
     "text": [
      "Success!\n"
     ]
    }
   ],
   "source": [
    "# it should pass this test---do NOT edit this cell\n",
    "# test for specified case\n",
    "assert inv_power(3.0,3) == 0.037037037037037035\n",
    "print('Success!')"
   ]
  },
  {
   "cell_type": "code",
   "execution_count": 7,
   "metadata": {
    "collapsed": false,
    "nbgrader": {
     "grade": true,
     "grade_id": "inv_power-default",
     "locked": true,
     "points": 1,
     "solution": false
    }
   },
   "outputs": [
    {
     "name": "stdout",
     "output_type": "stream",
     "text": [
      "Success!\n"
     ]
    }
   ],
   "source": [
    "# it should pass this test---do NOT edit this cell\n",
    "# test for default case\n",
    "assert inv_power(3.0) == 0.3333333333333333\n",
    "print('Success!')"
   ]
  },
  {
   "cell_type": "markdown",
   "metadata": {},
   "source": [
    "<div class=\"alert alert-info\">\n",
    "This arrangement is very common in libraries like [Scientific Python (`scipy`)](https://scipy.org/scipylib/index.html) in which functions can have many parameters.  Consider the definition of the function `quad` which integrates a function:\n",
    "<pre><code>scipy.integrate.quad(func,              # function to integrate\n",
    "                     a,                 # left-hand limit\n",
    "                     b,                 # right-hand limit\n",
    "                     args=(),           # necessary function arguments\n",
    "                     full_output=0,     # various parameters for precision and numerics\n",
    "                     epsabs=1.49e-08,   # ...\n",
    "                     epsrel=1.49e-08,\n",
    "                     limit=50,\n",
    "                     points=None,\n",
    "                     weight=None,\n",
    "                     wvar=None,\n",
    "                     wopts=None,\n",
    "                     maxp1=50,\n",
    "                     limlst=50)\n",
    "</code></pre>\n",
    "<div>\n",
    "The first three parameters `func`, `a`, and `b`, are required (have no defaults); all of the others have default values but can be overridden if the user wishes to do something specific with the calculation.\n",
    "</div>\n",
    "</div>"
   ]
  },
  {
   "cell_type": "markdown",
   "metadata": {},
   "source": [
    "### Binary Logic & Comparison Operators"
   ]
  },
  {
   "cell_type": "markdown",
   "metadata": {},
   "source": [
    "<div class=\"alert alert-info\">\n",
    "You saw this in the lecture last week, but this is a quick refresher.\n",
    "</div>\n",
    "\n",
    "Mathematically, when you wish to express whether or not two things are greater than, less than, or equal to each other, you write statements along the lines of\n",
    "$$a > 5; b < 3; x = \\frac{\\pi}{3}; b \\leq 10; a \\neq b \\text{.}$$\n",
    "\n",
    "In the Python language, things are much the same.  The previous statements could be expressed thus:\n",
    "\n",
    "| $\\text{Mathematics}$ | `Python`  |\n",
    "|----------------------|-----------|\n",
    "| $a > 5$              | `a > 5`   |\n",
    "| $b < 3$              | `b < 3`   |\n",
    "| $x = \\frac{\\pi}{3}$  | `x == pi/3` |\n",
    "| $b \\leq 10$          | `b <= 10` |\n",
    "| $a \\neq b$           | `a != b`  |\n",
    "\n",
    "If you define the variables in our example, you can try them out.  Python answers tersely with `True` or `False`.  These are know as the *Boolean* or *binary* types, and arise as the result of comparisons.\n",
    "\n",
    "Comparisons can be *chained* together using `and` and `or` to create a single compound expression.  We won't delve deeply into the mysteries of binary logic, but this construction is useful when several conditions must be met.  To enforce *both* conditions of the first two lines of the above table, write\n",
    "\n",
    "    a > 5 and b < 3\n",
    "\n",
    "To enforce *either* one or *both*, write\n",
    "\n",
    "    a > 5 or b < 3"
   ]
  },
  {
   "cell_type": "markdown",
   "metadata": {},
   "source": [
    "-   Write a function `compare` which accepts three variables, `r`, `x`, and `s`, and returns True if $r < x$ and $x \\leq s$ (and False otherwise) using a compound expression."
   ]
  },
  {
   "cell_type": "code",
   "execution_count": 8,
   "metadata": {
    "collapsed": true,
    "nbgrader": {
     "grade": false,
     "grade_id": "compare",
     "locked": false,
     "solution": true
    }
   },
   "outputs": [],
   "source": [
    "# define your function here\n",
    "def compare(r,x,s):\n",
    "    return r < x and x <= s\n",
    "    #pass # you can always delete a `pass` statement, since it does nothing"
   ]
  },
  {
   "cell_type": "code",
   "execution_count": 9,
   "metadata": {
    "collapsed": false,
    "nbgrader": {
     "grade": true,
     "grade_id": "compare-spec1",
     "locked": true,
     "points": 1,
     "solution": false
    }
   },
   "outputs": [
    {
     "name": "stdout",
     "output_type": "stream",
     "text": [
      "Success!\n"
     ]
    }
   ],
   "source": [
    "# it should pass this test---do NOT edit this cell\n",
    "# test for specified case\n",
    "r = 7.64e-3\n",
    "x = 7.64e-3\n",
    "s = 45.0\n",
    "assert compare(r, x, s) == False\n",
    "print('Success!')"
   ]
  },
  {
   "cell_type": "code",
   "execution_count": 10,
   "metadata": {
    "collapsed": false,
    "nbgrader": {
     "grade": true,
     "grade_id": "compare-spec2",
     "locked": true,
     "points": 1,
     "solution": false
    }
   },
   "outputs": [
    {
     "name": "stdout",
     "output_type": "stream",
     "text": [
      "Success!\n"
     ]
    }
   ],
   "source": [
    "# it should pass this test---do NOT edit this cell\n",
    "# test for specified case\n",
    "r = 7.64e-3\n",
    "x = 45.0\n",
    "s = 45.0\n",
    "assert compare(r, x, s) == True\n",
    "print('Success!')"
   ]
  },
  {
   "cell_type": "markdown",
   "metadata": {},
   "source": [
    "###  Conditional Statements & Branched Control"
   ]
  },
  {
   "cell_type": "markdown",
   "metadata": {},
   "source": [
    "Conditional logic lets you deal with both *branches* of control.  There are two possible routes the program could take, like a river that splits around an island and then flows together again afterward.\n",
    "\n",
    "Take, for instance, the definition of the absolute value:\n",
    "\n",
    "$$\n",
    "\\text{abs}(x) =\n",
    "|x| =\n",
    "\\left\\{\n",
    "\\begin{array}{lr}\n",
    "-x & : x < 0 \\\\\n",
    "x & : x \\geq 0\n",
    "\\end{array}\n",
    "\\right.\n",
    "$$\n",
    "\n",
    "Depending on the value of $x$, a different definition applies when evaluating the function $\\text{abs}$."
   ]
  },
  {
   "cell_type": "code",
   "execution_count": 11,
   "metadata": {
    "collapsed": false
   },
   "outputs": [
    {
     "name": "stdout",
     "output_type": "stream",
     "text": [
      "|-5| = 5.0\n",
      "|+5| = 5.0\n"
     ]
    }
   ],
   "source": [
    "def abs(x):\n",
    "    if x < 0:\n",
    "        return -x\n",
    "    else:\n",
    "        return x\n",
    "\n",
    "print('|-5| =', abs(-5.))\n",
    "print('|+5| =', abs( 5.))"
   ]
  },
  {
   "cell_type": "markdown",
   "metadata": {},
   "source": [
    "Last week you wrote a $\\text{sinc}$ calculation function that included a single statement to deal with an edge case where a division by zero could occur.\n",
    "\n",
    "$$\\text{sinc}(x) = \\frac{\\sin(x)}{x}$$\n",
    "\n",
    "With conditional statements and branch control (an `if` statement), it becomes trivial to deal with the edge case.\n",
    "Now write the $\\text{sinc}$ function that returns value 1 when $x = 0$, and does the normal calculation when $x \\neq 0$"
   ]
  },
  {
   "cell_type": "code",
   "execution_count": 14,
   "metadata": {
    "collapsed": true
   },
   "outputs": [],
   "source": [
    "from math import sin\n",
    "def sinc(x):\n",
    "    if x == 0:\n",
    "        return 1.0  # safeguard against ZeroDivisionError\n",
    "    else:\n",
    "        y = sin(x) / x\n",
    "        return y"
   ]
  },
  {
   "cell_type": "code",
   "execution_count": 15,
   "metadata": {
    "collapsed": false
   },
   "outputs": [
    {
     "name": "stdout",
     "output_type": "stream",
     "text": [
      "Success!\n"
     ]
    },
    {
     "data": {
      "text/plain": [
       "0.0005072143046136395"
      ]
     },
     "execution_count": 15,
     "metadata": {},
     "output_type": "execute_result"
    }
   ],
   "source": [
    "assert sinc(0) == 1\n",
    "print('Success!')\n",
    "\n",
    "sinc(3.14)"
   ]
  },
  {
   "cell_type": "markdown",
   "metadata": {},
   "source": [
    "Essentially, the calculation of $\\text{sinc}$ at any point falls into one of two categories:  either the calculation has a simple division by a real number or the taking of a limit is involved.  Since we already know the answer in all cases, we forgo the limit and simply `return 1.0` in this case."
   ]
  },
  {
   "cell_type": "markdown",
   "metadata": {},
   "source": [
    "<div class=\"alert alert-info\">\n",
    "Does Python treat comparisons with integers and floating-point numbers differently?  Try comparing a variable to `0` and to `0.0` below.\n",
    "</div>"
   ]
  },
  {
   "cell_type": "code",
   "execution_count": 16,
   "metadata": {
    "collapsed": false
   },
   "outputs": [
    {
     "name": "stdout",
     "output_type": "stream",
     "text": [
      "Equal!\n"
     ]
    }
   ],
   "source": [
    "# test if 0 and 0.0 behave similarly in comparisons\n",
    "x = 0\n",
    "if x == 0.0:\n",
    "    print('Equal!')"
   ]
  },
  {
   "cell_type": "markdown",
   "metadata": {},
   "source": [
    "### Application:  Polygon Areas"
   ]
  },
  {
   "cell_type": "markdown",
   "metadata": {},
   "source": [
    "<img src=\"./img/apothem.png\" width=\"25%;\"/>\n",
    "\n",
    "The area $A$ of a regular polygon is given by the formula\n",
    "\n",
    "$$A = \\frac{1}{2} a \\times n \\times s$$\n",
    "\n",
    "where $a$ is the apothem, or the radius of an inscribed circle, $n$ is the number of sides, and $s$ is the length of a side.  A geometric relationship between the $a$, $s$, and $n$ is\n",
    "\n",
    "$$a = \\frac{s}{2 \\tan(\\pi / n)}$$\n",
    "\n",
    "Together, we can use these facts to write an area calculation function with two inputs:  the number of sides and the length of a side.  A function `tan` and a constant `pi` are available in the module `math`.\n",
    "\n",
    "<div class=\"alert alert-warning\">\n",
    "Python distinguishes between upper-case and lower-case letters—it is *case-sensitive*.  This means that `A` and `a` are *different variables*, just as we have used them in the previous mathematical expressions.\n",
    "</div>"
   ]
  },
  {
   "cell_type": "markdown",
   "metadata": {},
   "source": [
    "-   Compose a function `area_polygon` which calculates the area `A` of a regular polygon given the number of sides `n` and the length of a side `s` (with a default value of `1.0` for `s`).  (It should `return 0.0` if `n <= 2`.)  You should include any necessary `import` statements."
   ]
  },
  {
   "cell_type": "code",
   "execution_count": 17,
   "metadata": {
    "collapsed": true,
    "nbgrader": {
     "grade": false,
     "grade_id": "area",
     "locked": false,
     "solution": true
    }
   },
   "outputs": [],
   "source": [
    "# define your function here\n",
    "import math\n",
    "def area_polygon(n,s=1):\n",
    "    if n <= 2:\n",
    "        return 0\n",
    "    else:\n",
    "        a = s/(2*math.tan(math.pi/n))\n",
    "        return 0.5*a*n*s\n",
    "    \n",
    "    #pass # you can always delete a `pass` statement, since it does nothing"
   ]
  },
  {
   "cell_type": "code",
   "execution_count": 18,
   "metadata": {
    "collapsed": false,
    "nbgrader": {
     "grade": true,
     "grade_id": "area-default",
     "locked": true,
     "points": 1,
     "solution": false
    }
   },
   "outputs": [
    {
     "name": "stdout",
     "output_type": "stream",
     "text": [
      "Success!\n"
     ]
    }
   ],
   "source": [
    "# it should pass this test---do NOT edit this cell\n",
    "# test default case\n",
    "from numpy import isclose\n",
    "assert isclose(area_polygon(7), 3.6339124440015893)\n",
    "print('Success!')"
   ]
  },
  {
   "cell_type": "code",
   "execution_count": 19,
   "metadata": {
    "collapsed": false,
    "nbgrader": {
     "grade": true,
     "grade_id": "area-spec",
     "locked": true,
     "points": 1,
     "solution": false
    }
   },
   "outputs": [
    {
     "name": "stdout",
     "output_type": "stream",
     "text": [
      "Success!\n"
     ]
    }
   ],
   "source": [
    "# it should pass this test---do NOT edit this cell\n",
    "# test specified case\n",
    "from numpy import isclose\n",
    "assert isclose(area_polygon(9, s=2.0), 24.727296775091602)\n",
    "print('Success!')"
   ]
  },
  {
   "cell_type": "code",
   "execution_count": 20,
   "metadata": {
    "collapsed": false,
    "nbgrader": {
     "grade": true,
     "grade_id": "area-degen",
     "locked": true,
     "points": 1,
     "solution": false
    }
   },
   "outputs": [
    {
     "name": "stdout",
     "output_type": "stream",
     "text": [
      "Success!\n"
     ]
    }
   ],
   "source": [
    "# it should pass this test---do NOT edit this cell\n",
    "# test degenerate case\n",
    "from numpy import isclose\n",
    "assert isclose(area_polygon(2), 0.0)\n",
    "print('Success!')"
   ]
  },
  {
   "cell_type": "markdown",
   "metadata": {},
   "source": [
    "<div class=\"alert alert-info\">\n",
    "The use of the apothem derives from ancient geometry, which was built on the <a href=\"https://en.wikipedia.org/wiki/Chord_(geometry)#crd\">*chord*</a> of the circle rather than on the sine and cosine relations.\n",
    "</div>"
   ]
  },
  {
   "cell_type": "markdown",
   "metadata": {},
   "source": [
    "### Application:  Heat Transfer Correlation"
   ]
  },
  {
   "cell_type": "markdown",
   "metadata": {},
   "source": [
    "A random opening of a textbook on heat and mass transfer suggests as an example the piecewise function describing convective heat transfer away from a hot plate<sup>[[Incropera2002, p. 557](#Incropera2002)]</sup>:\n",
    "\n",
    "$$\n",
    "h = \n",
    "\\left\\{\n",
    "\\begin{array}{lr}\n",
    "0.54 Lk Ra^{1/4} & 10^4 \\leq Ra \\leq 10^7 \\\\\n",
    "0.15 Lk Ra^{1/3} & 10^7 \\leq Ra \\leq 10^{11}\n",
    "\\end{array}\n",
    "\\right.\n",
    "$$\n",
    "\n",
    "where $h$ is the convective heat transfer coefficient, $L$ is the length of the plate, etc.  (Heat transfer is full of a lot of wonky correlations and compound definitions like this.)\n",
    "\n",
    "You could write each of the right-hand-side comparisons as follows:\n",
    "\n",
    "| $\\text{Mathematics}$                | `Python`                     |\n",
    "|-------------------------------------|------------------------------|\n",
    "| $10^4 \\leq Ra \\leq 10^7$ | `1e4 <= Ra and Ra <= 1e7`  |\n",
    "| $10^7 < Ra \\leq 10^{11}$ | `1e7 < Ra and Ra <= 1e11` |\n",
    "\n",
    "-   Write a function `heat_transfer` which accepts a number `Ra` and returns the heat transfer coefficient `h` as calculated from the above formula.  You should test whether the input values are between `1e4` and `1e11`; if they are outside this range, `heat_transfer` should `return None`.  Use a comparison (an `if` statement) to test which expression to use."
   ]
  },
  {
   "cell_type": "code",
   "execution_count": 82,
   "metadata": {
    "collapsed": false,
    "nbgrader": {
     "grade": false,
     "grade_id": "heat",
     "locked": false,
     "solution": true
    }
   },
   "outputs": [],
   "source": [
    "# define your function here\n",
    "def heat_transfer(Ra):\n",
    "    L = 1.0\n",
    "    k = 1.0\n",
    "    if 1e4 <= Ra and Ra <= 1e7:\n",
    "        return 0.54*L*k*Ra**0.25\n",
    "    elif 1e7 < Ra and Ra <= 1e11:\n",
    "        return 0.15*L*k*Ra**(1/3)\n",
    "    else:\n",
    "        return None\n",
    "    #pass # you can always delete a `pass` statement, since it does nothing"
   ]
  },
  {
   "cell_type": "code",
   "execution_count": 83,
   "metadata": {
    "collapsed": false,
    "nbgrader": {
     "grade": true,
     "grade_id": "heat-range",
     "locked": true,
     "points": 1,
     "solution": false
    }
   },
   "outputs": [
    {
     "name": "stdout",
     "output_type": "stream",
     "text": [
      "Success!\n"
     ]
    }
   ],
   "source": [
    "# it should pass this test---do NOT edit this cell\n",
    "# test for value out of range\n",
    "assert heat_transfer(1e1) == None\n",
    "print('Success!')"
   ]
  },
  {
   "cell_type": "code",
   "execution_count": 84,
   "metadata": {
    "collapsed": false,
    "nbgrader": {
     "grade": true,
     "grade_id": "heat-bottom",
     "locked": true,
     "points": 1,
     "solution": false
    }
   },
   "outputs": [
    {
     "name": "stdout",
     "output_type": "stream",
     "text": [
      "Success!\n"
     ]
    }
   ],
   "source": [
    "# it should pass this test---do NOT edit this cell\n",
    "# test for specified case\n",
    "from numpy import isclose\n",
    "assert isclose(heat_transfer(1e5), 9.602708814210184)\n",
    "print('Success!')"
   ]
  },
  {
   "cell_type": "code",
   "execution_count": 89,
   "metadata": {
    "collapsed": false
   },
   "outputs": [
    {
     "name": "stdout",
     "output_type": "stream",
     "text": [
      "Success!\n"
     ]
    }
   ],
   "source": [
    "# it should pass this test---do NOT edit this cell\n",
    "# test for specified case\n",
    "from numpy import isclose\n",
    "assert isclose(heat_transfer(1e8), 69.62383250419165)\n",
    "print('Success!')"
   ]
  },
  {
   "cell_type": "code",
   "execution_count": 92,
   "metadata": {
    "collapsed": false,
    "nbgrader": {
     "grade": true,
     "grade_id": "heat-top",
     "locked": true,
     "points": 1,
     "solution": false
    }
   },
   "outputs": [
    {
     "name": "stdout",
     "output_type": "stream",
     "text": [
      "None\n",
      "None\n"
     ]
    }
   ],
   "source": [
    "print(heat_transfer(1e2))\n",
    "print(heat_transfer(1e13))"
   ]
  }
 ],
 "metadata": {
  "kernelspec": {
   "display_name": "Python [Root]",
   "language": "python",
   "name": "Python [Root]"
  },
  "language_info": {
   "codemirror_mode": {
    "name": "ipython",
    "version": 3
   },
   "file_extension": ".py",
   "mimetype": "text/x-python",
   "name": "python",
   "nbconvert_exporter": "python",
   "pygments_lexer": "ipython3",
   "version": "3.5.2"
  }
 },
 "nbformat": 4,
 "nbformat_minor": 0
}
