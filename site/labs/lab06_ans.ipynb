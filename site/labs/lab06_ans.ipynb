{
 "cells": [
  {
   "cell_type": "markdown",
   "metadata": {},
   "source": [
    "## `lab06`—Data Analysis"
   ]
  },
  {
   "cell_type": "markdown",
   "metadata": {},
   "source": [
    "**Objectives**\n",
    "\n",
    "-   Use lists and list features to process data from a file.\n",
    "-   Apply the standard pipeline of data analysis:  data cleaning and preparation, data processing, and output."
   ]
  },
  {
   "cell_type": "markdown",
   "metadata": {},
   "source": [
    "![](https://upload.wikimedia.org/wikipedia/en/9/9c/MilesDavisKindofBlue.jpg)\n",
    "\n",
    "For this lab project, we are going to work with a list of blues musicians in various traditions.  You have the following files in your `lab06/data` directory:\n",
    "    \n",
    "    blues.txt\n",
    "    swamppop.txt\n",
    "    zydeco.txt\n",
    "\n",
    "Open the file `blues.txt` in a text editor and examine its format.\n",
    "    \n",
    "    # Delta Blues\n",
    "    Cecil Augusta\n",
    "    Mose Allison\n",
    "    Tommy Bankhead\n",
    "    ...\n",
    "    Elder Roma Wilson\n",
    "    \n",
    "    # Chicago Blues\n",
    "    Alberta Adams\n",
    "    Luther Allison\n",
    "    ...\n",
    "\n",
    "We are going to read the contents of this file and run it through the standard pipeline of data analysis:  data cleaning and preparation, data processing, and output."
   ]
  },
  {
   "cell_type": "markdown",
   "metadata": {},
   "source": [
    "### Data Cleaning and Preparation"
   ]
  },
  {
   "cell_type": "markdown",
   "metadata": {},
   "source": [
    "A file simply contains an ordered collection of characters and digits.  Any logical interpretation is created by the user as he or she uses the data.  Thus we first need to ensure that incoming data are in a suitable format and structure for further analysis.\n",
    "\n",
    "What does a suitable format look like?  If you were organizing a library of these musicians' works, you could sort by surname or by musical style.  There are several formats which could make sense, such as a collection of *database records* containing *fields* such as \"artist name\" and \"musical style\".  We will opt here for a spreadsheet-like organization:  three \"columns\" of data:  \"surname\", \"first name\", and \"style\".  Each entry will be a tuple inside of a list.\n",
    "\n",
    "**Data Logical Format:**\n",
    "\n",
    "    artist surname  artist first name   musical style\n",
    "    Augusta         Cecil               Delta Blues\n",
    "    Alexander       Alger \"Texas\"       Country Blues\n",
    "\n",
    "**Data Machine Representation:**\n",
    "\n",
    "    # musicians is a list of tuples\n",
    "    musicians[0] = ('Augusta', 'Cecil', 'Delta Blues')\n",
    "    musicians[1] = ('Alexander', 'Alger \"Texas\"', 'Country Blues')\n",
    "    ...\n",
    "\n",
    "Thus a single record should have one entry from each of these fields.  The data file we import from, however, is not in this format.  Thus when importing the data we have to:\n",
    "\n",
    "1.  track which musical style we are currently importing; and\n",
    "2.  *tokenize* the name into first-name and surname components; and\n",
    "3.  add the tuple of these three items to a list."
   ]
  },
  {
   "cell_type": "markdown",
   "metadata": {},
   "source": [
    "Let's see how this works with a single record as a string.  If you have a line of text as a string,"
   ]
  },
  {
   "cell_type": "code",
   "execution_count": 1,
   "metadata": {
    "collapsed": false
   },
   "outputs": [
    {
     "name": "stdout",
     "output_type": "stream",
     "text": [
      "Jimmy Clanton\n"
     ]
    }
   ],
   "source": [
    "example = 'Jimmy Clanton'\n",
    "print(example)"
   ]
  },
  {
   "cell_type": "markdown",
   "metadata": {},
   "source": [
    "and you'd like to turn it into a tuple `record = (surname, first_name)`, how would you do it?\n",
    "\n",
    "First, you'd probably want to split it into pieces so there is a separate `first_name` and `surname` to assign:"
   ]
  },
  {
   "cell_type": "code",
   "execution_count": 2,
   "metadata": {
    "collapsed": false
   },
   "outputs": [
    {
     "name": "stdout",
     "output_type": "stream",
     "text": [
      "['Jimmy', 'Clanton']\n"
     ]
    }
   ],
   "source": [
    "names = example.split(' ')\n",
    "print(names)"
   ]
  },
  {
   "cell_type": "markdown",
   "metadata": {},
   "source": [
    "Now you have a `list` called `names` which you can use to assign the separate variables in your tuple either in two steps:"
   ]
  },
  {
   "cell_type": "code",
   "execution_count": 4,
   "metadata": {
    "collapsed": false
   },
   "outputs": [
    {
     "name": "stdout",
     "output_type": "stream",
     "text": [
      "('Clanton', 'Jimmy')\n"
     ]
    }
   ],
   "source": [
    "# step 1:  get the surname and first name separately\n",
    "surname = names[1]\n",
    "first_name = names[0]\n",
    "\n",
    "# step 2:  populate the record tuple\n",
    "record = (surname, first_name)\n",
    "print(record)"
   ]
  },
  {
   "cell_type": "markdown",
   "metadata": {},
   "source": [
    "or equivalently in a single step:"
   ]
  },
  {
   "cell_type": "code",
   "execution_count": 5,
   "metadata": {
    "collapsed": false
   },
   "outputs": [
    {
     "name": "stdout",
     "output_type": "stream",
     "text": [
      "('Clanton', 'Jimmy')\n"
     ]
    }
   ],
   "source": [
    "record = (names[1], names[0])\n",
    "print(record)"
   ]
  },
  {
   "cell_type": "markdown",
   "metadata": {},
   "source": [
    "Since we're just using a simple tuple of strings, that's all you need to worry about to create a record.\n",
    "\n",
    "This gets a little trickier with multiple first names, though:"
   ]
  },
  {
   "cell_type": "code",
   "execution_count": 12,
   "metadata": {
    "collapsed": true
   },
   "outputs": [],
   "source": [
    "example = 'John \"Henry\" Barbee'"
   ]
  },
  {
   "cell_type": "markdown",
   "metadata": {},
   "source": [
    "In this case, I suggest the following method.  First, split the name into its pieces like this:"
   ]
  },
  {
   "cell_type": "code",
   "execution_count": 13,
   "metadata": {
    "collapsed": false
   },
   "outputs": [
    {
     "name": "stdout",
     "output_type": "stream",
     "text": [
      "['John', '\"Henry\"', 'Barbee']\n"
     ]
    }
   ],
   "source": [
    "names = example.split(' ')\n",
    "print(names)"
   ]
  },
  {
   "cell_type": "markdown",
   "metadata": {},
   "source": [
    "Next, pull the surname out as a single name.  (We have already removed Jrs. and Srs. from these data, so there's nothing exceptional left.)"
   ]
  },
  {
   "cell_type": "code",
   "execution_count": 14,
   "metadata": {
    "collapsed": false
   },
   "outputs": [
    {
     "name": "stdout",
     "output_type": "stream",
     "text": [
      "Barbee\n"
     ]
    }
   ],
   "source": [
    "surname = names[-1]\n",
    "print(surname)"
   ]
  },
  {
   "cell_type": "markdown",
   "metadata": {},
   "source": [
    "Finally, join the other names back together using the handy `join` method:"
   ]
  },
  {
   "cell_type": "code",
   "execution_count": 15,
   "metadata": {
    "collapsed": false
   },
   "outputs": [
    {
     "name": "stdout",
     "output_type": "stream",
     "text": [
      "John \"Henry\"\n"
     ]
    }
   ],
   "source": [
    "first_name = ' '.join(names[:-1])  # note how this joins a list of strings by a blank space---it's an odd way of writing this\n",
    "print(first_name)"
   ]
  },
  {
   "cell_type": "code",
   "execution_count": 16,
   "metadata": {
    "collapsed": false
   },
   "outputs": [
    {
     "name": "stdout",
     "output_type": "stream",
     "text": [
      "('Barbee', 'John \"Henry\"')\n"
     ]
    }
   ],
   "source": [
    "record = (surname, first_name)\n",
    "print(record)"
   ]
  },
  {
   "cell_type": "markdown",
   "metadata": {},
   "source": [
    "<div class=\"alert alert-info\">\n",
    "Note that we are using tuples for the records.  Recall that tuples are like `list`s, but can't be changed (*immutable*).  Since we won't need to change a record once it's created, it makes sense in this case.\n",
    "</div>"
   ]
  },
  {
   "cell_type": "markdown",
   "metadata": {},
   "source": [
    "Let's now store a list of records.  Practice this process on the following entries:"
   ]
  },
  {
   "cell_type": "code",
   "execution_count": 17,
   "metadata": {
    "collapsed": true,
    "nbgrader": {
     "grade": false,
     "grade_id": "records-pre",
     "locked": true,
     "solution": false
    }
   },
   "outputs": [],
   "source": [
    "# Setup code for your exercise---do NOT edit this cell\n",
    "records = [] # an empty list\n",
    "entries = ['Ivory Joe Hunter', 'Etta James', 'Little Willie Littlefield', 'Robert Lowery', 'J. J. Malone', 'Percy Mayfield', 'Jimmy McCracklin']"
   ]
  },
  {
   "cell_type": "code",
   "execution_count": 18,
   "metadata": {
    "collapsed": false,
    "nbgrader": {
     "grade": false,
     "grade_id": "records",
     "locked": false,
     "solution": true
    }
   },
   "outputs": [],
   "source": [
    "# Cycle through each musician name and add it to records in format.\n",
    "for entry in entries:\n",
    "    # compose your code here\n",
    "    # get the name elements out of entry\n",
    "    # create a new record\n",
    "    names = entry.split()\n",
    "    surname = names[-1]\n",
    "    first_name = ' '.join(names[:-1])\n",
    "    # append the record to the list records\n",
    "    records.append( (surname, first_name) )"
   ]
  },
  {
   "cell_type": "code",
   "execution_count": 19,
   "metadata": {
    "collapsed": false,
    "nbgrader": {
     "grade": true,
     "grade_id": "records-test",
     "locked": true,
     "points": 1,
     "solution": false
    }
   },
   "outputs": [
    {
     "name": "stdout",
     "output_type": "stream",
     "text": [
      "Success!\n"
     ]
    }
   ],
   "source": [
    "# it should pass this test---do NOT edit this cell\n",
    "assert records[0]  == ('Hunter', 'Ivory Joe')\n",
    "assert records[-1] == ('McCracklin', 'Jimmy')\n",
    "print('Success!')"
   ]
  },
  {
   "cell_type": "markdown",
   "metadata": {},
   "source": [
    "Make sure you understand why there are two sets of parentheses on the last line (`records.append`), and ask a classmate or TA to explain if you do not."
   ]
  },
  {
   "cell_type": "markdown",
   "metadata": {},
   "source": [
    "Now we will turn the above process into a general script to load and process the data."
   ]
  },
  {
   "cell_type": "markdown",
   "metadata": {},
   "source": [
    "-   Compose a function `process` which accepts a string `filename`.  Then the function `process` should `return` a list of records contained in the file."
   ]
  },
  {
   "cell_type": "code",
   "execution_count": 2,
   "metadata": {
    "collapsed": false,
    "nbgrader": {
     "grade": false,
     "grade_id": "process",
     "locked": false,
     "solution": true
    }
   },
   "outputs": [],
   "source": [
    "# define your function here\n",
    "def process(filename):\n",
    "    # Create a blank list called `entries` and an empty string called `current_style`.\n",
    "    entries = []\n",
    "    current_style = ''\n",
    "    # Open the file `filename`, read the data, and close it.\n",
    "    dataFile = open(filename, 'r')\n",
    "    \n",
    "    data = dataFile.read().splitlines()\n",
    "    #print(data)\n",
    "    for line in data:\n",
    "        line.strip()\n",
    "        if line == '':\n",
    "            continue\n",
    "            \n",
    "        if line[0] == '#':\n",
    "            current_style = line[1:]\n",
    "        else:\n",
    "            names = line.split()\n",
    "            surname = names[-1]\n",
    "            first_name = ' '.join(names[:-1])\n",
    "            # append the record to the list records\n",
    "            entries.append( (surname, first_name, current_style) )\n",
    "        \n",
    "    # Loop through each line of the file and do the following:\n",
    "        # Strip the whitespace off of the ends of the line using the `strip` method.\n",
    "        \n",
    "        # If the line is blank, `continue` execution.\n",
    "        # (The `continue` statement makes Python just go back to the `for` loop again with the next value---\n",
    "        # no more code is executed for the current value.)\n",
    "        \n",
    "        # If a line starts with `#`, it represents the musical style to be assigned until the next line with `#`.\n",
    "        # In this case, remove the `'#'` from the beginning of the string and assign the musical style to `current_style`.\n",
    "        # The loop should then `continue`.\n",
    "        \n",
    "        # Otherwise, a line contains a blues performer.  In this case, process the record much as you did above,\n",
    "        # except that you also need to add a musical style to the tuple as the third element.\n",
    "        \n",
    "        # These data should be appended to the list `entries` as a single entry in the form of a tuple,\n",
    "        #    (surname, first_name, current_style)\n",
    "    \n",
    "    dataFile.close()\n",
    "    # Finally, `return` the list `entries`.\n",
    "    return entries\n",
    "    #pass # you can always delete a `pass` statement, since it does nothing"
   ]
  },
  {
   "cell_type": "code",
   "execution_count": 24,
   "metadata": {
    "collapsed": false
   },
   "outputs": [
    {
     "name": "stdout",
     "output_type": "stream",
     "text": [
      "[('Chavis', 'Boozoo', 'Zydeco'), ('Adcock', 'C. C.', 'Zydeco'), ('Ardoin', 'Chris', 'Zydeco'), ('Billington', 'Scott', 'Zydeco'), ('Broussard', 'Dudley', 'Zydeco'), ('Carrier', 'Chubby', 'Zydeco'), ('Carrier', 'Roy', 'Zydeco'), ('Chenier', 'C. J.', 'Zydeco'), ('Carrier', 'Chubby', 'Zydeco'), ('Delafose', 'Geno', 'Zydeco'), ('Fontenot', 'Canray', 'Zydeco'), ('Frank', 'Keith', 'Zydeco'), ('Ida', 'Queen', 'Zydeco'), ('Jocque', 'Beau', 'Zydeco'), ('Salmon', 'Leftover', 'Zydeco'), ('Sidney', \"Rockin'\", 'Zydeco'), ('Simien', 'Terrance', 'Zydeco'), ('Thierry', 'Andre', 'Zydeco'), ('Watson', 'Cedric', 'Zydeco'), ('Zydeco', 'Buckwheat', 'Zydeco'), ('Williams', 'Nathan', 'Zydeco'), ('Leday', 'Guyland', 'Zydeco'), ('Nate', \"Lil'\", 'Zydeco'), ('Chavis', 'Leon', 'Zydeco'), ('Mojo', \"Mo'\", 'Zydeco'), ('Wayne', \"Kenne'\", 'Zydeco'), ('Dopsy', \"Rockin'\", 'Zydeco'), ('Ardoin', 'Amede', 'Zydeco'), ('Chenier', 'Clifton', 'Zydeco')]\n"
     ]
    }
   ],
   "source": [
    "# test your code here.  You may edit this cell, and you may use the files 'blues.txt', 'swamppop.txt', and 'zydeco.txt',\n",
    "# all of which are located in the 'data/' directory.\n",
    "res = process('./data/zydeco.txt')\n",
    "\n",
    "print(res)"
   ]
  },
  {
   "cell_type": "code",
   "execution_count": 25,
   "metadata": {
    "collapsed": false,
    "nbgrader": {
     "grade": true,
     "grade_id": "process-test1",
     "locked": true,
     "points": 1,
     "solution": false
    }
   },
   "outputs": [
    {
     "name": "stdout",
     "output_type": "stream",
     "text": [
      "Success!\n"
     ]
    }
   ],
   "source": [
    "# it should pass this test---do NOT edit this cell\n",
    "# test basic single-genre case\n",
    "zydeco = process('./data/zydeco.txt')\n",
    "assert zydeco[0]  == ('Chavis', 'Boozoo', 'Zydeco')\n",
    "assert zydeco[-3] == ('Dopsy', \"Rockin'\", 'Zydeco')\n",
    "print('Success!')"
   ]
  },
  {
   "cell_type": "code",
   "execution_count": null,
   "metadata": {
    "collapsed": false,
    "nbgrader": {
     "grade": true,
     "grade_id": "process-test2",
     "locked": true,
     "points": 1,
     "solution": false
    }
   },
   "outputs": [],
   "source": [
    "# it should pass this test---do NOT edit this cell\n",
    "# test case with multiple genres\n",
    "blues = process('./data/blues.txt')\n",
    "assert blues[0]  == ('Augusta', 'Cecil', 'Delta Blues')\n",
    "assert blues[-1] == ('Rose', 'Bayless', 'Piano Blues')\n",
    "print('Success!')\n",
    "print(blues)"
   ]
  },
  {
   "cell_type": "markdown",
   "metadata": {},
   "source": [
    "Typically, you would also need to test for duplicates.  In this case, we've already removed duplicate entries that were present.  (This may occur because the many entries will have different musical styles associated with them—many musicians performed in several styles within the genre of blues.)"
   ]
  },
  {
   "cell_type": "markdown",
   "metadata": {},
   "source": [
    "###  Data Processing"
   ]
  },
  {
   "cell_type": "markdown",
   "metadata": {},
   "source": [
    "You should now have a function which loads a formated text file and converts that file into a collection of records which you can now use to ask and answer questions about the properties of the data set."
   ]
  },
  {
   "cell_type": "code",
   "execution_count": 30,
   "metadata": {
    "collapsed": false
   },
   "outputs": [],
   "source": [
    "blues = process('./data/blues.txt')"
   ]
  },
  {
   "cell_type": "markdown",
   "metadata": {},
   "source": [
    "#### Sorting"
   ]
  },
  {
   "cell_type": "markdown",
   "metadata": {},
   "source": [
    "For instance, sort by surname and list the first ten entries."
   ]
  },
  {
   "cell_type": "code",
   "execution_count": 18,
   "metadata": {
    "collapsed": false
   },
   "outputs": [
    {
     "data": {
      "text/plain": [
       "[('Abshire', 'Nathan', 'Swamp Blues'),\n",
       " ('Adams', 'Alberta', 'Chicago Blues'),\n",
       " ('Alexander', 'Alger \"Texas\"', 'Country Blues'),\n",
       " ('Alexander', 'Dave', 'West Coast Blues'),\n",
       " ('Alexander', 'Linsey', 'Chicago Blues'),\n",
       " ('Allison', 'Luther', 'Chicago Blues'),\n",
       " ('Allison', 'Mose', 'Delta Blues'),\n",
       " ('Ammons', 'Albert', 'Piano Blues'),\n",
       " ('Anderson', 'Pink', 'Piedmont Blues'),\n",
       " ('Armstrong', 'Howard \"Louie Bluie\"', 'Country Blues')]"
      ]
     },
     "execution_count": 18,
     "metadata": {},
     "output_type": "execute_result"
    }
   ],
   "source": [
    "blues.sort()  # note that sort sorts in place, rather than returning a result to you---this will trip you up if you are not careful!\n",
    "blues[:10]"
   ]
  },
  {
   "cell_type": "markdown",
   "metadata": {},
   "source": [
    "Tuples will automatically be sorted by the first element, then the second, then the third; this makes sorting by surname easy.  Sorting by the other fields, such as first name or style, is a bit more involved.  You have to provide a `key` to `sort` so it knows what to sort by.  The easiest way is to write a function which `return`s the second element (or the first name, in this case):"
   ]
  },
  {
   "cell_type": "code",
   "execution_count": null,
   "metadata": {
    "collapsed": false
   },
   "outputs": [],
   "source": [
    "def second_element(a_list):\n",
    "    return a_list[1]\n",
    "blues = sorted(blues, key=second_element)\n",
    "blues  # note that `\"Baby Face\" Leroy` sorts by `\"` not `B`\n",
    "\n",
    "item = blues[1]\n",
    "print(item)\n",
    "print(blues[:50])"
   ]
  },
  {
   "cell_type": "markdown",
   "metadata": {},
   "source": [
    "-   How many musical styles are there, and how many musicians in each style?\n",
    "    \n",
    "    To answer this question, we'll use a `dict`ionary.  A `dict` is like a `list`, except that a list is indexed by `int`s and a `dict` is indexed by many different data types.\n",
    "    \n",
    "    A `list` that contains strings, for example, can be indexed directly by the position of each string in the `list`:\n",
    "    \n",
    "    ![](./img/list-pic.png)"
   ]
  },
  {
   "cell_type": "code",
   "execution_count": 33,
   "metadata": {
    "collapsed": false
   },
   "outputs": [
    {
     "name": "stdout",
     "output_type": "stream",
     "text": [
      "['alpha', 'beta', 'gamma', 'delta', 'omega']\n"
     ]
    }
   ],
   "source": [
    "list_example = ['alpha', 'beta', 'gamma', 'delta', 'omega']\n",
    "print(list_example)"
   ]
  },
  {
   "cell_type": "markdown",
   "metadata": {},
   "source": [
    "A `dict`, in contrast, can use strings or floating-point values or tuples (and many other things) to index.  Consider a `dict` that uses English color names to identify HTML color codes:\n",
    "\n",
    "![](./img/dict-pic.png)"
   ]
  },
  {
   "cell_type": "code",
   "execution_count": 34,
   "metadata": {
    "collapsed": false
   },
   "outputs": [
    {
     "name": "stdout",
     "output_type": "stream",
     "text": [
      "{'red': '#FF0000', 'green': '#00FF00', 'yellow': '#FFFF00', 'black': '#000000', 'blue': '#0000FF'}\n"
     ]
    }
   ],
   "source": [
    "dict_example = {'red': '#FF0000', 'green': '#00FF00', 'yellow': '#FFFF00', 'blue': '#0000FF', 'black': '#000000'}\n",
    "print(dict_example)"
   ]
  },
  {
   "cell_type": "code",
   "execution_count": 35,
   "metadata": {
    "collapsed": false
   },
   "outputs": [
    {
     "data": {
      "text/plain": [
       "'#FFFF00'"
      ]
     },
     "execution_count": 35,
     "metadata": {},
     "output_type": "execute_result"
    }
   ],
   "source": [
    "dict_example['yellow']"
   ]
  },
  {
   "cell_type": "markdown",
   "metadata": {},
   "source": [
    "You can add new entries to the `dict` very easily:"
   ]
  },
  {
   "cell_type": "code",
   "execution_count": 36,
   "metadata": {
    "collapsed": true
   },
   "outputs": [],
   "source": [
    "dict_example['grey'] = '#888888'"
   ]
  },
  {
   "cell_type": "markdown",
   "metadata": {},
   "source": [
    "So to count the number of musicians by style, we can use a `dict` to organize our counting.\n",
    "\n",
    "1.  Loop over the records.\n",
    "2.  For each record, get the musical style field.\n",
    "3.  If the style is in the `dict`, add one to the count.\n",
    "4.  If the style is *not* in the `dict`, add it (and give it a count of `1`).\n",
    "\n",
    "This is how you see which keys (indices) are in the `dict`:"
   ]
  },
  {
   "cell_type": "code",
   "execution_count": 37,
   "metadata": {
    "collapsed": false
   },
   "outputs": [
    {
     "data": {
      "text/plain": [
       "['yellow', 'green', 'black', 'grey', 'red', 'blue']"
      ]
     },
     "execution_count": 37,
     "metadata": {},
     "output_type": "execute_result"
    }
   ],
   "source": [
    "list(dict_example.keys())"
   ]
  },
  {
   "cell_type": "markdown",
   "metadata": {},
   "source": [
    "This is how you see if the `dict` has a particular key or not:"
   ]
  },
  {
   "cell_type": "code",
   "execution_count": 38,
   "metadata": {
    "collapsed": false
   },
   "outputs": [
    {
     "data": {
      "text/plain": [
       "True"
      ]
     },
     "execution_count": 38,
     "metadata": {},
     "output_type": "execute_result"
    }
   ],
   "source": [
    "'yellow' in dict_example.keys()"
   ]
  },
  {
   "cell_type": "code",
   "execution_count": 39,
   "metadata": {
    "collapsed": false
   },
   "outputs": [
    {
     "data": {
      "text/plain": [
       "False"
      ]
     },
     "execution_count": 39,
     "metadata": {},
     "output_type": "execute_result"
    }
   ],
   "source": [
    "'teal' in dict_example.keys()"
   ]
  },
  {
   "cell_type": "markdown",
   "metadata": {},
   "source": [
    "-   Now that we've gotten this far with `dict`ionaries, let's revisit the original question:  how many artists are in each musical style?  Compose a function `count_styles` below which accepts a `list` of entries `records`.  `count_styles` should `return` a `dict` containing the musical styles represented and their respective count."
   ]
  },
  {
   "cell_type": "code",
   "execution_count": 3,
   "metadata": {
    "collapsed": false,
    "nbgrader": {
     "grade": false,
     "grade_id": "count_styles",
     "locked": false,
     "solution": true
    }
   },
   "outputs": [],
   "source": [
    "# define your function here\n",
    "def count_styles(records):\n",
    "    styles = {}  # a blank dictionary\n",
    "    \n",
    "    for item in records:\n",
    "        stl = item[-1]\n",
    "        if stl in styles.keys():\n",
    "            styles[stl] += 1\n",
    "        else:\n",
    "            styles[stl] = 1\n",
    "    # Loop over the records.\n",
    "        # For each record, get the musical style field.\n",
    "        # If the style is in the dict, add one to the count.\n",
    "        # i.e., styles['old style'] += 1\n",
    "        \n",
    "        # If the style is not in the dict, add it (and give it a count of 1).\n",
    "        # i.e., styles['new style'] = 1\n",
    "     \n",
    "    return styles\n",
    "    # Return the resulting dict of styles\n",
    "    #pass # you can always delete a `pass` statement, since it does nothing"
   ]
  },
  {
   "cell_type": "code",
   "execution_count": 56,
   "metadata": {
    "collapsed": false
   },
   "outputs": [
    {
     "name": "stdout",
     "output_type": "stream",
     "text": [
      "{'Delta Blues': 54, 'Piano Blues': 31, 'Chicago Blues': 148, 'Swamp Blues': 20, 'West Coast Blues': 42, 'Piedmont Blues': 35, 'Gospel Blues': 19, 'Country Blues': 51}\n"
     ]
    }
   ],
   "source": [
    "# test your code here.  You may edit this cell, and you may use the files 'blues.txt', 'swamppop.txt', and 'zydeco.txt',\n",
    "# all of which are located in the 'data/' directory.\n",
    "res = count_styles(blues)\n",
    "print(res)"
   ]
  },
  {
   "cell_type": "code",
   "execution_count": 57,
   "metadata": {
    "collapsed": false,
    "nbgrader": {
     "grade": true,
     "grade_id": "count_styles-test",
     "locked": true,
     "points": 1,
     "solution": false
    }
   },
   "outputs": [
    {
     "name": "stdout",
     "output_type": "stream",
     "text": [
      "Success!\n"
     ]
    },
    {
     "data": {
      "text/plain": [
       "{'Zydeco': 29}"
      ]
     },
     "execution_count": 57,
     "metadata": {},
     "output_type": "execute_result"
    }
   ],
   "source": [
    "# it should pass this test---do NOT edit this cell\n",
    "zydeco = process('./data/zydeco.txt')\n",
    "zydeco_styles = count_styles(zydeco)\n",
    "assert zydeco_styles['Zydeco'] == 29\n",
    "print('Success!')\n",
    "zydeco_styles"
   ]
  },
  {
   "cell_type": "code",
   "execution_count": 58,
   "metadata": {
    "collapsed": false,
    "nbgrader": {
     "grade": true,
     "grade_id": "count_styles-test-blues",
     "locked": true,
     "points": 1,
     "solution": false
    }
   },
   "outputs": [
    {
     "name": "stdout",
     "output_type": "stream",
     "text": [
      "Success!\n"
     ]
    },
    {
     "data": {
      "text/plain": [
       "{'Chicago Blues': 148,\n",
       " 'Country Blues': 51,\n",
       " 'Delta Blues': 54,\n",
       " 'Gospel Blues': 19,\n",
       " 'Piano Blues': 31,\n",
       " 'Piedmont Blues': 35,\n",
       " 'Swamp Blues': 20,\n",
       " 'West Coast Blues': 42}"
      ]
     },
     "execution_count": 58,
     "metadata": {},
     "output_type": "execute_result"
    }
   ],
   "source": [
    "# it should pass this test---do NOT edit this cell\n",
    "blues = process('./data/blues.txt')\n",
    "blues_styles = count_styles(blues)\n",
    "assert blues_styles['Gospel Blues'] == 19\n",
    "print('Success!')\n",
    "blues_styles"
   ]
  },
  {
   "cell_type": "markdown",
   "metadata": {},
   "source": [
    "So that tells you *how many times each thing occurs*.  What if you want to know *how many kinds of things there are*?\n",
    "\n",
    "We need to make our list contain only unique elements—that is, remove multiple copies from it.  This is called *uniqifying* the list.\n",
    "\n",
    "To uniqify your list, you can use the following code:"
   ]
  },
  {
   "cell_type": "code",
   "execution_count": 4,
   "metadata": {
    "collapsed": false
   },
   "outputs": [],
   "source": [
    "# a short function to remove repeat elements of a list\n",
    "def uniqify(input_list):\n",
    "    # make an empty dictionary\n",
    "    keys = {}\n",
    "    for e in input_list:\n",
    "        # add a key for each item in the list---duplicate keys will be overwritten\n",
    "        keys[e] = 1\n",
    "    return list(keys.keys())  # return a list of all unique keys"
   ]
  },
  {
   "cell_type": "markdown",
   "metadata": {},
   "source": [
    "As an example, test this function on a simple list:"
   ]
  },
  {
   "cell_type": "code",
   "execution_count": 60,
   "metadata": {
    "collapsed": false
   },
   "outputs": [
    {
     "data": {
      "text/plain": [
       "[1, 2, 3, 4, 5, 7]"
      ]
     },
     "execution_count": 60,
     "metadata": {},
     "output_type": "execute_result"
    }
   ],
   "source": [
    "my_list = [1,2,2,4,3,2,5,7,1,2]\n",
    "uniqify(my_list)"
   ]
  },
  {
   "cell_type": "code",
   "execution_count": 61,
   "metadata": {
    "collapsed": false
   },
   "outputs": [
    {
     "data": {
      "text/plain": [
       "['Abshire',\n",
       " 'Adams',\n",
       " 'Alexander',\n",
       " 'Allison',\n",
       " 'Ammons',\n",
       " 'Anderson',\n",
       " 'Armstrong',\n",
       " 'Arnold',\n",
       " 'Augusta',\n",
       " 'B.',\n",
       " 'Babe',\n",
       " 'Bailey',\n",
       " 'Baker',\n",
       " 'Ball',\n",
       " 'Band',\n",
       " 'Bankhead',\n",
       " 'Banks',\n",
       " 'Barbee',\n",
       " 'Barnes',\n",
       " 'Bates',\n",
       " 'Baty',\n",
       " 'Becker',\n",
       " 'Belfour',\n",
       " 'Bell',\n",
       " 'Belly',\n",
       " 'Benoit',\n",
       " 'Benton',\n",
       " 'Billy',\n",
       " 'Blackwell',\n",
       " 'Blake',\n",
       " 'Bloomfield',\n",
       " 'Blue',\n",
       " 'Bob',\n",
       " 'Bogan',\n",
       " 'Bonds',\n",
       " 'Bonner',\n",
       " 'Booker',\n",
       " 'Boyd',\n",
       " 'Bracey',\n",
       " 'Bradley',\n",
       " 'Branch',\n",
       " 'Brim',\n",
       " 'Brooks',\n",
       " 'Broonzy',\n",
       " 'Brown',\n",
       " 'Brozman',\n",
       " 'Buford',\n",
       " 'Burnside',\n",
       " 'Burton',\n",
       " 'Butler',\n",
       " 'Butterfield',\n",
       " 'Campbell',\n",
       " 'Carr',\n",
       " 'Carroll',\n",
       " 'Carter',\n",
       " 'Caston',\n",
       " 'Cephas',\n",
       " 'Charles',\n",
       " 'Charlie',\n",
       " 'Chuck',\n",
       " 'Clark',\n",
       " 'Clarke',\n",
       " 'Clayton',\n",
       " 'Clearwater',\n",
       " 'Coleman',\n",
       " 'Collette',\n",
       " 'Collins',\n",
       " 'Cotten',\n",
       " 'Cotton',\n",
       " 'Council',\n",
       " 'Cox',\n",
       " 'Crayton',\n",
       " 'Crudup',\n",
       " 'Crutchfield',\n",
       " 'Davenport',\n",
       " 'Davis',\n",
       " 'Dawkins',\n",
       " 'DeSanto',\n",
       " 'Diddley',\n",
       " 'Dixon',\n",
       " 'Dizz',\n",
       " 'Domino',\n",
       " 'Dorsey',\n",
       " 'Doyle',\n",
       " 'Drummer',\n",
       " 'Duncan',\n",
       " 'Dupree',\n",
       " 'Edwards',\n",
       " 'Estes',\n",
       " 'Flynn',\n",
       " 'Foster',\n",
       " 'Freund',\n",
       " 'Fuller',\n",
       " 'Fulson',\n",
       " 'Gable',\n",
       " 'Gant',\n",
       " 'Garland',\n",
       " 'Garner',\n",
       " 'Gibson',\n",
       " 'Gillum',\n",
       " 'Glenn',\n",
       " 'Goose',\n",
       " 'Grant',\n",
       " 'Gravenites',\n",
       " 'Graves',\n",
       " 'Gray',\n",
       " 'Guy',\n",
       " 'Hall',\n",
       " 'Harpo',\n",
       " 'Harris',\n",
       " 'Hart',\n",
       " 'Hawkins',\n",
       " 'Heartsman',\n",
       " 'Heat',\n",
       " 'Hemphill',\n",
       " 'Henderson',\n",
       " 'Hill',\n",
       " 'Hinds',\n",
       " 'Hogan',\n",
       " 'Holeman',\n",
       " 'Hooker',\n",
       " 'Hopkins',\n",
       " 'Horton',\n",
       " 'House',\n",
       " 'Hovington',\n",
       " 'Howell',\n",
       " 'Hunter',\n",
       " 'Hurt',\n",
       " 'Hutto',\n",
       " 'Jackson',\n",
       " 'James',\n",
       " 'Jefferson',\n",
       " 'John',\n",
       " 'Johnson',\n",
       " 'Johnston',\n",
       " 'Jones',\n",
       " 'Jordan',\n",
       " 'Kaiser',\n",
       " 'Kalb',\n",
       " 'Kight',\n",
       " 'Kimbrough',\n",
       " 'King',\n",
       " 'Kinsey',\n",
       " 'Koda',\n",
       " 'Laury',\n",
       " 'Lawhorn',\n",
       " 'Lay',\n",
       " 'Leake',\n",
       " 'Lee',\n",
       " 'Lenoir',\n",
       " 'Lester',\n",
       " 'Lewis',\n",
       " 'Lincoln',\n",
       " 'Linkchain',\n",
       " 'Littlefield',\n",
       " 'Littlejohn',\n",
       " 'Llorens',\n",
       " 'Lockwood',\n",
       " 'Longhair',\n",
       " 'Love',\n",
       " 'Lowery',\n",
       " 'Mabon',\n",
       " 'Malone',\n",
       " 'Mance',\n",
       " 'Mandeville',\n",
       " 'Mansfield',\n",
       " 'Mapp',\n",
       " 'Martin',\n",
       " 'Maxwell',\n",
       " 'Mayfield',\n",
       " 'McCain',\n",
       " 'McClennan',\n",
       " 'McCoy',\n",
       " 'McCracklin',\n",
       " 'McDowell',\n",
       " 'McGhee',\n",
       " 'McKinley',\n",
       " 'McNeely',\n",
       " 'McShann',\n",
       " 'McTell',\n",
       " 'Merriweather',\n",
       " 'Milburn',\n",
       " 'Miller',\n",
       " 'Milton',\n",
       " 'Minnie',\n",
       " 'Montgomery',\n",
       " 'Moore',\n",
       " 'Morgan',\n",
       " 'Morris',\n",
       " 'Moss',\n",
       " 'Mullican',\n",
       " 'Murphy',\n",
       " 'Musselwhite',\n",
       " 'Neal',\n",
       " 'Nelson',\n",
       " 'Nighthawk',\n",
       " 'Nixon',\n",
       " 'Odom',\n",
       " 'Otis',\n",
       " 'Owens',\n",
       " 'Parr',\n",
       " 'Patton',\n",
       " 'Payne',\n",
       " 'Payton',\n",
       " 'Perkins',\n",
       " 'Phillips',\n",
       " 'Piazza',\n",
       " 'Pickens',\n",
       " 'Pryor',\n",
       " 'Pullum',\n",
       " 'Rachell',\n",
       " 'Red',\n",
       " 'Reed',\n",
       " 'Rhodes',\n",
       " 'Rice',\n",
       " 'Robinson',\n",
       " 'Rogers',\n",
       " 'Roland',\n",
       " 'Rose',\n",
       " 'Ross',\n",
       " 'Roulette',\n",
       " 'Rush',\n",
       " 'Sadler',\n",
       " 'Sam',\n",
       " 'Sammon',\n",
       " 'Sane',\n",
       " 'Saydak',\n",
       " 'Scruggs',\n",
       " 'Seals',\n",
       " 'Seward',\n",
       " 'Shaw',\n",
       " 'Sheiks',\n",
       " 'Shines',\n",
       " 'Short',\n",
       " 'Sidney',\n",
       " 'Simmons',\n",
       " 'Sims',\n",
       " 'Slim',\n",
       " 'Small',\n",
       " 'Smith',\n",
       " 'Smothers',\n",
       " 'Spann',\n",
       " 'Specter',\n",
       " 'Spires',\n",
       " 'Spivey',\n",
       " 'Spruell',\n",
       " 'Stackhouse',\n",
       " 'Stidham',\n",
       " 'Stokes',\n",
       " 'Stroger',\n",
       " 'Sumlin',\n",
       " 'Sundown',\n",
       " 'Sykes',\n",
       " 'Taggart',\n",
       " 'Tate',\n",
       " 'Taylor',\n",
       " 'Temple',\n",
       " 'Terry',\n",
       " 'Tharpe',\n",
       " 'Thomas',\n",
       " 'Thornton',\n",
       " 'Townsend',\n",
       " 'Tucker',\n",
       " 'Turner',\n",
       " 'Vinson',\n",
       " 'Walker',\n",
       " 'Wallace',\n",
       " 'Walter',\n",
       " 'Waters',\n",
       " 'Watson',\n",
       " 'Wayne',\n",
       " 'Weaver',\n",
       " 'Webb',\n",
       " 'Webster',\n",
       " 'Wellington',\n",
       " 'Wells',\n",
       " 'Wheatstraw',\n",
       " 'Wheeler',\n",
       " 'White',\n",
       " 'Wiggins',\n",
       " 'Wiley',\n",
       " 'Williams',\n",
       " 'Williamson',\n",
       " 'Willis',\n",
       " 'Wilson',\n",
       " 'Wolf',\n",
       " 'Woods',\n",
       " 'Wrencher',\n",
       " 'Yancey',\n",
       " 'Young',\n",
       " 'Zingg']"
      ]
     },
     "execution_count": 61,
     "metadata": {},
     "output_type": "execute_result"
    }
   ],
   "source": [
    "surnames = []\n",
    "for musician in blues:\n",
    "   surnames.append(musician[0])\n",
    "\n",
    "unique_surnames = uniqify(surnames)\n",
    "unique_surnames.sort()\n",
    "unique_surnames"
   ]
  },
  {
   "cell_type": "markdown",
   "metadata": {},
   "source": [
    "-   Now, use this ability to `uniqify` a list to determine how many different surnames there are.\n",
    "    \n",
    "    Compose a function `unique_surname_list` which accepts a `list` `records` containing the tuple entries.  `unique_surname_list` will `return` a `list` of unique surnames."
   ]
  },
  {
   "cell_type": "code",
   "execution_count": 5,
   "metadata": {
    "collapsed": true,
    "nbgrader": {
     "grade": false,
     "grade_id": "surname_list",
     "locked": false,
     "solution": true
    }
   },
   "outputs": [],
   "source": [
    "# define your function here\n",
    "def unique_surname_list(records):\n",
    "    # your code here\n",
    "    surnames = []\n",
    "    for musician in records:\n",
    "       surnames.append(musician[0])\n",
    "\n",
    "    unique_surnames = uniqify(surnames)\n",
    "    unique_surnames.sort()\n",
    "    return unique_surnames\n",
    "    # Return the resulting list of surnames\n",
    "    #pass # you can always delete a `pass` statement, since it does nothing"
   ]
  },
  {
   "cell_type": "code",
   "execution_count": 64,
   "metadata": {
    "collapsed": false
   },
   "outputs": [
    {
     "name": "stdout",
     "output_type": "stream",
     "text": [
      "['Abshire', 'Adams', 'Alexander', 'Allison', 'Ammons', 'Anderson', 'Armstrong', 'Arnold', 'Augusta', 'B.', 'Babe', 'Bailey', 'Baker', 'Ball', 'Band', 'Bankhead', 'Banks', 'Barbee', 'Barnes', 'Bates', 'Baty', 'Becker', 'Belfour', 'Bell', 'Belly', 'Benoit', 'Benton', 'Billy', 'Blackwell', 'Blake', 'Bloomfield', 'Blue', 'Bob', 'Bogan', 'Bonds', 'Bonner', 'Booker', 'Boyd', 'Bracey', 'Bradley', 'Branch', 'Brim', 'Brooks', 'Broonzy', 'Brown', 'Brozman', 'Buford', 'Burnside', 'Burton', 'Butler', 'Butterfield', 'Campbell', 'Carr', 'Carroll', 'Carter', 'Caston', 'Cephas', 'Charles', 'Charlie', 'Chuck', 'Clark', 'Clarke', 'Clayton', 'Clearwater', 'Coleman', 'Collette', 'Collins', 'Cotten', 'Cotton', 'Council', 'Cox', 'Crayton', 'Crudup', 'Crutchfield', 'Davenport', 'Davis', 'Dawkins', 'DeSanto', 'Diddley', 'Dixon', 'Dizz', 'Domino', 'Dorsey', 'Doyle', 'Drummer', 'Duncan', 'Dupree', 'Edwards', 'Estes', 'Flynn', 'Foster', 'Freund', 'Fuller', 'Fulson', 'Gable', 'Gant', 'Garland', 'Garner', 'Gibson', 'Gillum', 'Glenn', 'Goose', 'Grant', 'Gravenites', 'Graves', 'Gray', 'Guy', 'Hall', 'Harpo', 'Harris', 'Hart', 'Hawkins', 'Heartsman', 'Heat', 'Hemphill', 'Henderson', 'Hill', 'Hinds', 'Hogan', 'Holeman', 'Hooker', 'Hopkins', 'Horton', 'House', 'Hovington', 'Howell', 'Hunter', 'Hurt', 'Hutto', 'Jackson', 'James', 'Jefferson', 'John', 'Johnson', 'Johnston', 'Jones', 'Jordan', 'Kaiser', 'Kalb', 'Kight', 'Kimbrough', 'King', 'Kinsey', 'Koda', 'Laury', 'Lawhorn', 'Lay', 'Leake', 'Lee', 'Lenoir', 'Lester', 'Lewis', 'Lincoln', 'Linkchain', 'Littlefield', 'Littlejohn', 'Llorens', 'Lockwood', 'Longhair', 'Love', 'Lowery', 'Mabon', 'Malone', 'Mance', 'Mandeville', 'Mansfield', 'Mapp', 'Martin', 'Maxwell', 'Mayfield', 'McCain', 'McClennan', 'McCoy', 'McCracklin', 'McDowell', 'McGhee', 'McKinley', 'McNeely', 'McShann', 'McTell', 'Merriweather', 'Milburn', 'Miller', 'Milton', 'Minnie', 'Montgomery', 'Moore', 'Morgan', 'Morris', 'Moss', 'Mullican', 'Murphy', 'Musselwhite', 'Neal', 'Nelson', 'Nighthawk', 'Nixon', 'Odom', 'Otis', 'Owens', 'Parr', 'Patton', 'Payne', 'Payton', 'Perkins', 'Phillips', 'Piazza', 'Pickens', 'Pryor', 'Pullum', 'Rachell', 'Red', 'Reed', 'Rhodes', 'Rice', 'Robinson', 'Rogers', 'Roland', 'Rose', 'Ross', 'Roulette', 'Rush', 'Sadler', 'Sam', 'Sammon', 'Sane', 'Saydak', 'Scruggs', 'Seals', 'Seward', 'Shaw', 'Sheiks', 'Shines', 'Short', 'Sidney', 'Simmons', 'Sims', 'Slim', 'Small', 'Smith', 'Smothers', 'Spann', 'Specter', 'Spires', 'Spivey', 'Spruell', 'Stackhouse', 'Stidham', 'Stokes', 'Stroger', 'Sumlin', 'Sundown', 'Sykes', 'Taggart', 'Tate', 'Taylor', 'Temple', 'Terry', 'Tharpe', 'Thomas', 'Thornton', 'Townsend', 'Tucker', 'Turner', 'Vinson', 'Walker', 'Wallace', 'Walter', 'Waters', 'Watson', 'Wayne', 'Weaver', 'Webb', 'Webster', 'Wellington', 'Wells', 'Wheatstraw', 'Wheeler', 'White', 'Wiggins', 'Wiley', 'Williams', 'Williamson', 'Willis', 'Wilson', 'Wolf', 'Woods', 'Wrencher', 'Yancey', 'Young', 'Zingg']\n"
     ]
    }
   ],
   "source": [
    "# test your code here.  You may edit this cell, and you may use the files 'blues.txt', 'swamppop.txt', and 'zydeco.txt',\n",
    "# all of which are located in the 'data/' directory.\n",
    "surnames = unique_surname_list(blues)\n",
    "print(surnames)"
   ]
  },
  {
   "cell_type": "code",
   "execution_count": 65,
   "metadata": {
    "collapsed": false,
    "nbgrader": {
     "grade": true,
     "grade_id": "surname_list-test",
     "locked": true,
     "points": 1,
     "solution": false
    }
   },
   "outputs": [
    {
     "name": "stdout",
     "output_type": "stream",
     "text": [
      "Success!\n"
     ]
    }
   ],
   "source": [
    "# it should pass this test---do NOT edit this cell\n",
    "zydeco = process('./data/zydeco.txt')\n",
    "zydeco_surnames = unique_surname_list(zydeco)\n",
    "assert len(zydeco_surnames) == 24\n",
    "print('Success!')"
   ]
  },
  {
   "cell_type": "markdown",
   "metadata": {},
   "source": [
    "#### Tokenizing"
   ]
  },
  {
   "cell_type": "markdown",
   "metadata": {},
   "source": [
    "To *tokenize* is to split a string into pieces (or *tokens*) by some rule.  For instance, you've done this with `split` before:"
   ]
  },
  {
   "cell_type": "code",
   "execution_count": 66,
   "metadata": {
    "collapsed": false
   },
   "outputs": [
    {
     "data": {
      "text/plain": [
       "['The', 'Well', 'at', 'the', \"World's\", 'End']"
      ]
     },
     "execution_count": 66,
     "metadata": {},
     "output_type": "execute_result"
    }
   ],
   "source": [
    "\"The Well at the World's End\".split(' ')"
   ]
  },
  {
   "cell_type": "markdown",
   "metadata": {},
   "source": [
    "We can extract some statistical information about the naming of blues artists by tokenizing all components of their first names and then counting how many times each token (or bit) occurs.  For instance, `Blind Lemon Jefferson` became `('Jefferson', 'Blind Lemon', 'Gospel Blues')`; we now wish to tokenize `'Blind Lemon'` into `'Blind'` and `'Lemon'` (since `'Blind'` is a common moniker among Delta Blues performers and their musical descendants)."
   ]
  },
  {
   "cell_type": "markdown",
   "metadata": {},
   "source": [
    "-   How many times does the name element `'Blind'` occur in the file `./data/blues.txt`?\n",
    "    \n",
    "    To find this, you will need to:\n",
    "    \n",
    "    1.  Tokenize all name bits.\n",
    "    2.  Count the number of times each name bit occurs.  This is very similar to the counting of musical styles previously.\n",
    "\n",
    "First, let's get all of the names (first and last) together in one `list`."
   ]
  },
  {
   "cell_type": "code",
   "execution_count": 69,
   "metadata": {
    "collapsed": false
   },
   "outputs": [
    {
     "name": "stdout",
     "output_type": "stream",
     "text": [
      "['Cecil', 'Augusta', 'Mose', 'Allison', 'Tommy', 'Bankhead', 'John Henry', 'Barbee', 'Kid', 'Bailey', 'Robert', 'Belfour', 'Charley', 'Booker', 'Ishman', 'Bracey', 'Willie', 'Brown', 'R. L.', 'Burnside', 'Sam', 'Carr', 'Bo', 'Carter', 'James', 'Cotton', 'Arthur \"Big Boy\"', 'Crudup', 'Delta Blind', 'Billy', 'David Honeyboy', 'Edwards', 'Jessie Mae', 'Hemphill', 'King Solomon', 'Hill', 'John Lee', 'Hooker', 'Son', 'House']\n"
     ]
    }
   ],
   "source": [
    "blues = process('./data/blues.txt')\n",
    "names = []\n",
    "for musician in blues:\n",
    "    names.append(musician[1])\n",
    "    names.append(musician[0])\n",
    "    \n",
    "#print('Arthur \"Big Boy\"'.split())\n",
    "print(names[:40])\n"
   ]
  },
  {
   "cell_type": "markdown",
   "metadata": {},
   "source": [
    "Next, tokenize each name and add the components to a master `list` of name bits.  Since you are adding a list of strings in each case to the list, you may wish to use the `extend` method instead of the `append` method."
   ]
  },
  {
   "cell_type": "code",
   "execution_count": null,
   "metadata": {
    "collapsed": false
   },
   "outputs": [],
   "source": [
    "name_bits = []\n",
    "# loop over names\n",
    "# tokenize each name into name tokens\n",
    "# DO NOT FORGET THE FIRST NAME AND THE SURNAME ENTRIES\n",
    "# add the name tokens to names\n",
    "\n",
    "\n",
    "for name in names:\n",
    "    name_bits.extend(name.split())\n",
    "    #t1 = name.split('\"')\n",
    "    #for t2 in t1:\n",
    "    #    if t2 != '':\n",
    "    #        tokens = t2.strip().split()\n",
    "    #        name_bits.extend(tokens)\n",
    "\n",
    "#name_bits = name_bits[:50]\n",
    "print(name_bits)"
   ]
  },
  {
   "cell_type": "markdown",
   "metadata": {},
   "source": [
    "Finally, create a list of the count of each name bit as you did with `count_styles`."
   ]
  },
  {
   "cell_type": "code",
   "execution_count": null,
   "metadata": {
    "collapsed": false
   },
   "outputs": [],
   "source": [
    "name_counts = {}  # a blank dictionary\n",
    "\n",
    "for name_bit in name_bits:\n",
    "    if name_bit in name_counts.keys():\n",
    "        name_counts[name_bit] += 1\n",
    "    else:\n",
    "        name_counts[name_bit] = 1\n",
    "\n",
    "print(name_counts)"
   ]
  },
  {
   "cell_type": "code",
   "execution_count": 95,
   "metadata": {
    "collapsed": false
   },
   "outputs": [
    {
     "name": "stdout",
     "output_type": "stream",
     "text": [
      "Johnny 14\n",
      "John 13\n",
      "Little 11\n",
      "Willie 10\n",
      "Big 9\n",
      "Johnson 9\n",
      "Blind 9\n",
      "Joe 9\n",
      "Smith 9\n",
      "Robert 7\n",
      "Eddie 7\n",
      "Slim 7\n",
      "James 7\n",
      "Charlie 7\n",
      "Jimmy 7\n",
      "Thomas 7\n",
      "J. 6\n",
      "C. 5\n",
      "Red 5\n",
      "B. 5\n",
      "Sam 5\n",
      "Jones 5\n",
      "Brown 5\n",
      "Sonny 4\n",
      "Memphis 4\n",
      "George 4\n",
      "Henry 4\n",
      "Bob 4\n",
      "Taylor 4\n",
      "Otis 4\n",
      "Jackson 4\n",
      "Freddie 4\n",
      "L. 4\n",
      "Boy 4\n",
      "Mississippi 4\n",
      "\"Big 4\n",
      "Charles 4\n",
      "Luther 4\n",
      "Brooks 4\n",
      "Junior 4\n",
      "Charley 4\n",
      "Lee 4\n",
      "Buddy 4\n",
      "Lewis 4\n",
      "Arthur 3\n",
      "Moore 3\n",
      "Patton 3\n",
      "Roy 3\n",
      "Floyd 3\n",
      "Fuller 3\n",
      "Son 3\n",
      "King 3\n",
      "Williams 3\n",
      "Young 3\n",
      "Boy\" 3\n",
      "White 3\n",
      "Walter 3\n",
      "Billy 3\n",
      "Tommy 3\n",
      "Edwards 3\n",
      "Bo 3\n",
      "Walker 3\n",
      "Alexander 3\n",
      "Bill 3\n",
      "Bell 3\n",
      "Baker 2\n",
      "Buster 2\n",
      "Guy 2\n",
      "Frank 2\n",
      "Vinson 2\n",
      "Booker 2\n",
      "Albert 2\n",
      "Martin 2\n",
      "Lester 2\n",
      "Etta 2\n",
      "Phillips 2\n",
      "Barbecue 2\n",
      "Allison 2\n",
      "Band 2\n",
      "Carr 2\n",
      "Foster 2\n",
      "Kimbrough 2\n",
      "Bracey 2\n",
      "Tony 2\n",
      "Smothers 2\n",
      "Rockin' 2\n",
      "Lightnin' 2\n",
      "Sims 2\n",
      "Coleman 2\n",
      "Melvin 2\n",
      "Neal 2\n",
      "Bailey 2\n",
      "Cecil 2\n",
      "Lafayette 2\n",
      "Hooker 2\n",
      "Leroy 2\n",
      "Roosevelt 2\n",
      "Papa 2\n",
      "Davenport 2\n",
      "Peg 2\n",
      "Reed 2\n",
      "Jay 2\n",
      "Jerry 2\n",
      "Tucker 2\n",
      "Mose 2\n",
      "Wilson 2\n",
      "T. 2\n",
      "Sugar 2\n",
      "Nelson 2\n",
      "Chuck 2\n",
      "Kinsey 2\n",
      "Dave 2\n",
      "\"The 2\n",
      "Moss 2\n",
      "Robinson 2\n",
      "Leg 2\n",
      "Lefty 2\n",
      "Terry 2\n",
      "D. 2\n",
      "\"Guitar\" 2\n",
      "Boogie 2\n",
      "Nick 2\n",
      "Harris 2\n",
      "Lonnie 2\n",
      "Phil 2\n",
      "Glenn 2\n",
      "Watson 2\n",
      "Wolf 2\n",
      "Jack 2\n",
      "Pinetop 2\n",
      "Kenny 2\n",
      "Banks 2\n",
      "Davis 2\n",
      "Ed 2\n",
      "A. 2\n",
      "William 2\n",
      "Sister 2\n",
      "Dixon 2\n",
      "Danny 2\n",
      "Chico 1\n",
      "Tabby 1\n",
      "Henderson 1\n",
      "Doyle 1\n",
      "Arbee 1\n",
      "Weaver 1\n",
      "Hart 1\n",
      "Koda 1\n",
      "E. 1\n",
      "Muddy 1\n",
      "Jessie 1\n",
      "Estes 1\n",
      "Lenoir 1\n",
      "Dr. 1\n",
      "Sleepy 1\n",
      "Lowell 1\n",
      "Malone 1\n",
      "Aron 1\n",
      "Temple 1\n",
      "Boyd 1\n",
      "Elvie 1\n",
      "Seals 1\n",
      "T-Bone 1\n",
      "Cephas 1\n",
      "Harmonica 1\n",
      "Lonesome 1\n",
      "Nighthawk 1\n",
      "Hawkins 1\n",
      "Wee 1\n",
      "Mapp 1\n",
      "Garner 1\n",
      "Leonard 1\n",
      "Rosetta 1\n",
      "Smokey\" 1\n",
      "Dawkins 1\n",
      "Lil' 1\n",
      "\"Son\" 1\n",
      "Nathan 1\n",
      "Diddley 1\n",
      "Bonner 1\n",
      "Kalb 1\n",
      "Chief\" 1\n",
      "Fats 1\n",
      "Snooky 1\n",
      "Liz 1\n",
      "Taggart 1\n",
      "Gant 1\n",
      "Champion 1\n",
      "Dan 1\n",
      "Heat 1\n",
      "Piazza 1\n",
      "Duke 1\n",
      "Ross 1\n",
      "Ramblin' 1\n",
      "Archie 1\n",
      "Willis 1\n",
      "Shines 1\n",
      "Syl 1\n",
      "Michael 1\n",
      "Campbell 1\n",
      "Sumlin 1\n",
      "McCain 1\n",
      "Gertrude 1\n",
      "McNeely 1\n",
      "Raful 1\n",
      "Howlin 1\n",
      "Montgomery 1\n",
      "Scruggs 1\n",
      "Ball 1\n",
      "Clarence 1\n",
      "Brother 1\n",
      "Son\" 1\n",
      "Carl 1\n",
      "Sidney 1\n",
      "Flynn 1\n",
      "Council 1\n",
      "DeFord 1\n",
      "Rose 1\n",
      "Stackhouse 1\n",
      "Thee 1\n",
      "Doctor 1\n",
      "Sykes 1\n",
      "Webb 1\n",
      "Hinds 1\n",
      "Tampa 1\n",
      "Short 1\n",
      "Larry 1\n",
      "Coot 1\n",
      "Branch 1\n",
      "Bessie 1\n",
      "Bukka 1\n",
      "Gravenites 1\n",
      "Domino 1\n",
      "Cotten 1\n",
      "McTell 1\n",
      "Milburn 1\n",
      "L.V. 1\n",
      "Milton 1\n",
      "Johnston 1\n",
      "Collins 1\n",
      "Mayfield 1\n",
      "Jug 1\n",
      "House 1\n",
      "Belfour 1\n",
      "Moon 1\n",
      "Holle 1\n",
      "\"Man\" 1\n",
      "Rush 1\n",
      "Delta 1\n",
      "Luke 1\n",
      "Hip 1\n",
      "Haskell 1\n",
      "Bradley 1\n",
      "Josh 1\n",
      "Juke 1\n",
      "Furry 1\n",
      "Harpo 1\n",
      "Tab 1\n",
      "Linkchain 1\n",
      "Sane 1\n",
      "Carter 1\n",
      "Reverend 1\n",
      "\"Boogie\" 1\n",
      "Lead 1\n",
      "\"Cow 1\n",
      "Mance 1\n",
      "Cow\" 1\n",
      "Jordan 1\n",
      "Williamson 1\n",
      "Perkins 1\n",
      "Professor 1\n",
      "Graves 1\n",
      "Sara 1\n",
      "Goose 1\n",
      "Dee 1\n",
      "Tharpe 1\n",
      "Ken 1\n",
      "Butterfield 1\n",
      "Minnie 1\n",
      "Hemphill 1\n",
      "Paul 1\n",
      "Bankhead 1\n",
      "Richard 1\n",
      "McShann 1\n",
      "Skip 1\n",
      "Koko 1\n",
      "Hall 1\n",
      "\"Baby 1\n",
      "Benton 1\n",
      "Ronnie 1\n",
      "Elmore 1\n",
      "\"Texas\" 1\n",
      "Blake 1\n",
      "Maxwell 1\n",
      "Leake 1\n",
      "Wheeler 1\n",
      "Elder 1\n",
      "Llorens 1\n",
      "Bloomfield 1\n",
      "Gabriel 1\n",
      "Crayton 1\n",
      "McKinley 1\n",
      "Bonds 1\n",
      "Spruell 1\n",
      "Mabon 1\n",
      "Thornton 1\n",
      "Nixon 1\n",
      "Bogan 1\n",
      "Lucille 1\n",
      "Sundown 1\n",
      "Spivey 1\n",
      "Burton 1\n",
      "Stokes 1\n",
      "Rhodes 1\n",
      "Benoit 1\n",
      "Drink 1\n",
      "Rachell 1\n",
      "Lawhorn 1\n",
      "Eugene 1\n",
      "Gray 1\n",
      "Baby 1\n",
      "Webster 1\n",
      "Laura 1\n",
      "Jaybird 1\n",
      "Merriweather 1\n",
      "Maceo 1\n",
      "Meade 1\n",
      "Lowery 1\n",
      "Ramon 1\n",
      "Mama 1\n",
      "Eddy 1\n",
      "Hound 1\n",
      "Jesse 1\n",
      "Crudup 1\n",
      "Ida 1\n",
      "Gibson 1\n",
      "Lottie 1\n",
      "Parr 1\n",
      "Silvan 1\n",
      "Carey 1\n",
      "Hunter 1\n",
      "Murphy 1\n",
      "Woods 1\n",
      "Babe 1\n",
      "Marty 1\n",
      "Laury 1\n",
      "Bonnie 1\n",
      "Small 1\n",
      "Pullum 1\n",
      "Guitar 1\n",
      "Lloyd 1\n",
      "Alberta 1\n",
      "Barrelhouse 1\n",
      "Morris 1\n",
      "Cylinder 1\n",
      "Blues 1\n",
      "Saydak 1\n",
      "Mike 1\n",
      "McCoy 1\n",
      "Collette 1\n",
      "Stidham 1\n",
      "Dog\" 1\n",
      "Lazy 1\n",
      "V. 1\n",
      "Lion\" 1\n",
      "Studebaker 1\n",
      "Love 1\n",
      "Chicago 1\n",
      "Hopkins 1\n",
      "Jazz 1\n",
      "Shaw 1\n",
      "Cox 1\n",
      "Washington 1\n",
      "G. 1\n",
      "Stroger 1\n",
      "Waters 1\n",
      "Hurt 1\n",
      "Barbee 1\n",
      "Fred 1\n",
      "Louis 1\n",
      "Willy 1\n",
      "Kaiser 1\n",
      "Alec 1\n",
      "Sammon 1\n",
      "Armstrong 1\n",
      "Garland 1\n",
      "David 1\n",
      "Child\" 1\n",
      "Kight 1\n",
      "Peppermint 1\n",
      "Zora 1\n",
      "Ishman 1\n",
      "Karen 1\n",
      "Hubert 1\n",
      "Houston 1\n",
      "Barnes 1\n",
      "Wheatstraw 1\n",
      "Caston 1\n",
      "Gary 1\n",
      "Alger 1\n",
      "Sadler 1\n",
      "McDowell 1\n",
      "Clarke 1\n",
      "Hogan 1\n",
      "Noah 1\n",
      "Seward 1\n",
      "Pryor 1\n",
      "Wells 1\n",
      "Gable 1\n",
      "Dizz 1\n",
      "Byther 1\n",
      "Smoky 1\n",
      "Daddy 1\n",
      "Miller 1\n",
      "Sunnyland 1\n",
      "Brownie 1\n",
      "Vera 1\n",
      "Merrill 1\n",
      "Simmons 1\n",
      "Yank 1\n",
      "Clearwater 1\n",
      "Bonny 1\n",
      "Burnside 1\n",
      "Matt 1\n",
      "Shakey 1\n",
      "\"Mojo\" 1\n",
      "Lacy 1\n",
      "Longhair 1\n",
      "Linsey 1\n",
      "Ishmon 1\n",
      "Dog 1\n",
      "Owens 1\n",
      "Cotton 1\n",
      "\"Harmonica\" 1\n",
      "Magic 1\n",
      "Ray 1\n",
      "Irene 1\n",
      "Pink 1\n",
      "\"Snake 1\n",
      "Mansfield 1\n",
      "Adams 1\n",
      "Wesley 1\n",
      "Wayne 1\n",
      "Bluie\" 1\n",
      "Percy 1\n",
      "Odom 1\n",
      "\"Big\" 1\n",
      "Six 1\n",
      "Dion 1\n",
      "Spann 1\n",
      "Mighty 1\n",
      "Odie 1\n",
      "Lay 1\n",
      "Littlejohn 1\n",
      "Wiggins 1\n",
      "Bee 1\n",
      "Climax 1\n",
      "Spires 1\n",
      "McCracklin 1\n",
      "Hutto 1\n",
      "Lincoln 1\n",
      "Junior\" 1\n",
      "Payton 1\n",
      "Blue 1\n",
      "Louisiana 1\n",
      "R. 1\n",
      "Bates 1\n",
      "Howlin' 1\n",
      "\"Lil' 1\n",
      "Rice 1\n",
      "Baty 1\n",
      "\"Whispering\" 1\n",
      "Morgan 1\n",
      "Ammons 1\n",
      "Arnold 1\n",
      "Valerie 1\n",
      "Kid 1\n",
      "DeSanto 1\n",
      "Peetie 1\n",
      "Bumble 1\n",
      "Mae 1\n",
      "Howell 1\n",
      "McGhee 1\n",
      "Frankie 1\n",
      "\"Wild 1\n",
      "Fulson 1\n",
      "\"Louie 1\n",
      "Roulette 1\n",
      "Wrencher 1\n",
      "Donald 1\n",
      "Carroll 1\n",
      "Scrapper 1\n",
      "Carolina 1\n",
      "Dupree 1\n",
      "Elizabeth 1\n",
      "Specter 1\n",
      "Becker 1\n",
      "Crutchfield 1\n",
      "Holeman 1\n",
      "Moose\" 1\n",
      "Steve 1\n",
      "Weavil 1\n",
      "Sammy 1\n",
      "Mandeville 1\n",
      "Yancey 1\n",
      "Turner 1\n",
      "Grant 1\n",
      "Mack 1\n",
      "Blackwell 1\n",
      "Brim 1\n",
      "Buford 1\n",
      "Moody 1\n",
      "Rod 1\n",
      "Tate 1\n",
      "Wiley 1\n",
      "Roma 1\n",
      "Dorsey 1\n",
      "Pickens 1\n",
      "Boss\" 1\n",
      "Lockwood 1\n",
      "Bayless 1\n",
      "Drummer 1\n",
      "\"Yard 1\n",
      "Horton 1\n",
      "Brozman 1\n",
      "Wellington 1\n",
      "Sippie 1\n",
      "Cortelia 1\n",
      "Sheiks 1\n",
      "Augusta 1\n",
      "Washboard 1\n",
      "Jake 1\n",
      "Moses 1\n",
      "Honeyboy 1\n",
      "Lurrie 1\n",
      "Townsend 1\n",
      "Golden 1\n",
      "\"Lux\" 1\n",
      "Andrew 1\n",
      "Face\" 1\n",
      "Marcia 1\n",
      "Pee 1\n",
      "Duncan 1\n",
      "Mullican 1\n",
      "Payne 1\n",
      "Musselwhite 1\n",
      "Abshire 1\n",
      "Wallace 1\n",
      "Zingg 1\n",
      "Hattie 1\n",
      "Howard 1\n",
      "Curley 1\n",
      "Hovington 1\n",
      "Brewer 1\n",
      "Ralph 1\n",
      "Katie 1\n",
      "Homesick 1\n",
      "Clayton 1\n",
      "Victoria 1\n",
      "Silas 1\n",
      "Barkin' 1\n",
      "Hammie 1\n",
      "Lemon 1\n",
      "Gillum 1\n",
      "Anderson 1\n",
      "Smokey 1\n",
      "Belly 1\n",
      "Tutu 1\n",
      "Pie 1\n",
      "Roland 1\n",
      "Solomon 1\n",
      "Good 1\n",
      "Broonzy 1\n",
      "Geeshie 1\n",
      "Rogers 1\n",
      "Jefferson 1\n",
      "Clark 1\n",
      "Earl 1\n",
      "Piano 1\n",
      "Ivory 1\n",
      "Speckled 1\n",
      "Amos 1\n",
      "Freund 1\n",
      "Cub 1\n",
      "McClennan 1\n",
      "Darrell 1\n",
      "Kokomo 1\n",
      "Butler 1\n",
      "Fenton 1\n",
      "Littlefield 1\n",
      "\"Blues 1\n",
      "Woogie 1\n",
      "Hill 1\n",
      "Heartsman 1\n",
      "\"Guitar 1\n"
     ]
    }
   ],
   "source": [
    "# Sort the list and output it from most frequently occurring name bits to least.\n",
    "def value(k):\n",
    "    return name_counts[k]\n",
    "name_count_list = sorted(name_counts, key=value)[::-1]\n",
    "\n",
    "for name in name_count_list:\n",
    "    print(name, name_counts[name])"
   ]
  },
  {
   "cell_type": "markdown",
   "metadata": {},
   "source": [
    "It's now trivial for you to answer the original question of how many `'Blind'`s there are in the `blues.txt` file:"
   ]
  },
  {
   "cell_type": "code",
   "execution_count": 96,
   "metadata": {
    "collapsed": false
   },
   "outputs": [
    {
     "name": "stdout",
     "output_type": "stream",
     "text": [
      "9\n"
     ]
    }
   ],
   "source": [
    "print(name_counts['Blind'])"
   ]
  },
  {
   "cell_type": "code",
   "execution_count": 97,
   "metadata": {
    "collapsed": true
   },
   "outputs": [],
   "source": [
    "# clear earlier data so we don't mask the behavior of the function `count_names` below\n",
    "names = None\n",
    "name_bits = None\n",
    "name_count_list = None\n",
    "name_counts = None\n",
    "\n"
   ]
  },
  {
   "cell_type": "markdown",
   "metadata": {},
   "source": [
    "Go ahead and write this into a function `count_names`, which accepts a `list` `records` containing the tuple entries.  `count_names` will `return` a `dict` containing the number of times each name bit occurs."
   ]
  },
  {
   "cell_type": "code",
   "execution_count": 104,
   "metadata": {
    "collapsed": true,
    "nbgrader": {
     "grade": false,
     "grade_id": "count_names",
     "locked": false,
     "solution": true
    }
   },
   "outputs": [],
   "source": [
    "# define your function here\n",
    "def count_names(records):\n",
    "    name_counts_ret = {}  # a blank dictionary\n",
    "    \n",
    "    name_bits = []\n",
    "    # loop over names in records\n",
    "        # tokenize each name into name tokens---DO NOT FORGET THE FIRST NAME AND THE SURNAME ENTRIES\n",
    "        # add the name tokens to names\n",
    "    for musician in records:\n",
    "        #names.append(musician[1])\n",
    "        #names.append(musician[0])\n",
    "        name_bits.extend(musician[1].split())\n",
    "        name_bits.extend(musician[0].split())\n",
    "    #name_bits = []\n",
    "    #for name in names:\n",
    "    #    name_bits.extend(name.split())\n",
    "        #t1 = name.split('\"')\n",
    "        #for t2 in t1:\n",
    "        #    if t2 != '':\n",
    "        #        tokens = t2.strip().split()\n",
    "        #        name_bits.extend(tokens)\n",
    "\n",
    "    # create a dict of the count of each name bit as you did with count_styles.\n",
    "    name_counts = {}  # a blank dictionary\n",
    "    for name_bit in name_bits:\n",
    "        if name_bit in name_counts.keys():\n",
    "            name_counts[name_bit] += 1\n",
    "        else:\n",
    "            name_counts[name_bit] = 1\n",
    "    \n",
    "    # sort the list from most frequently occurring name bits to least\n",
    "    def value(k):\n",
    "        return name_counts[k]\n",
    "    name_count_list = sorted(name_counts, key=value)[::-1]\n",
    "    \n",
    "    for name in name_count_list:\n",
    "        name_counts_ret[name] = name_co7unts[name]\n",
    "    # return the resulting dict counting name bits.\n",
    "    \n",
    "    return name_counts_ret\n",
    "    #pass # you can always delete a `pass` statement, since it does nothing"
   ]
  },
  {
   "cell_type": "code",
   "execution_count": 103,
   "metadata": {
    "collapsed": false,
    "scrolled": true
   },
   "outputs": [
    {
     "data": {
      "text/plain": [
       "594"
      ]
     },
     "execution_count": 103,
     "metadata": {},
     "output_type": "execute_result"
    }
   ],
   "source": [
    "# test your code here.  You may edit this cell, and you may use the files 'blues.txt', 'swamppop.txt', and 'zydeco.txt',\n",
    "# all of which are located in the 'data/' directory.\n",
    "blues = process('./data/blues.txt')\n",
    "blues_names = count_names(blues)\n",
    "len(blues_names.keys())"
   ]
  },
  {
   "cell_type": "code",
   "execution_count": 100,
   "metadata": {
    "collapsed": false,
    "nbgrader": {
     "grade": true,
     "grade_id": "count_names-test",
     "locked": true,
     "points": 1,
     "solution": false
    }
   },
   "outputs": [
    {
     "name": "stdout",
     "output_type": "stream",
     "text": [
      "Success!\n"
     ]
    }
   ],
   "source": [
    "# it should pass this test---do NOT edit this cell\n",
    "# test number of name elements found\n",
    "blues = process('./data/blues.txt')\n",
    "blues_names = count_names(blues)\n",
    "assert len(list(blues_names.keys())) == 594\n",
    "print('Success!')"
   ]
  },
  {
   "cell_type": "code",
   "execution_count": 101,
   "metadata": {
    "collapsed": false,
    "nbgrader": {
     "grade": true,
     "grade_id": "count_names-test2",
     "locked": true,
     "points": 1,
     "solution": false
    }
   },
   "outputs": [
    {
     "name": "stdout",
     "output_type": "stream",
     "text": [
      "Success!\n"
     ]
    }
   ],
   "source": [
    "# it should pass this test---do NOT edit this cell\n",
    "# test success in counting name elements\n",
    "blues = process('./data/blues.txt')\n",
    "blues_names = count_names(blues)\n",
    "assert blues_names['Wheatstraw'] == 1\n",
    "assert blues_names['Johnny'] == 14\n",
    "print('Success!')"
   ]
  }
 ],
 "metadata": {
  "anaconda-cloud": {},
  "kernelspec": {
   "display_name": "Python [Root]",
   "language": "python",
   "name": "Python [Root]"
  },
  "language_info": {
   "codemirror_mode": {
    "name": "ipython",
    "version": 3
   },
   "file_extension": ".py",
   "mimetype": "text/x-python",
   "name": "python",
   "nbconvert_exporter": "python",
   "pygments_lexer": "ipython3",
   "version": "3.5.2"
  }
 },
 "nbformat": 4,
 "nbformat_minor": 0
}
