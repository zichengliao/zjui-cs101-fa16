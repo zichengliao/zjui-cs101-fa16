{
 "cells": [
  {
   "cell_type": "code",
   "execution_count": 5,
   "metadata": {
    "collapsed": false
   },
   "outputs": [
    {
     "name": "stdout",
     "output_type": "stream",
     "text": [
      "juice\n",
      "finger\n",
      "fearful\n",
      "box\n",
      "quaint\n",
      "pear\n",
      "hate\n",
      "tongue\n",
      "tremble\n",
      "jump\n",
      "quill\n",
      "white\n",
      "stimulating\n",
      "permissible\n",
      "seemly\n",
      "naive\n",
      "joyous\n",
      "observant\n",
      "secretary\n",
      "abrasive\n",
      "learn\n",
      "spring\n",
      "sigh\n",
      "seashore\n",
      "frighten\n",
      "slave\n",
      "destruction\n",
      "rake\n",
      "event\n",
      "friction\n",
      "fertile\n",
      "women\n",
      "jazzy\n",
      "verse\n",
      "kick\n",
      "flap\n",
      "writing\n",
      "action\n",
      "compete\n",
      "increase\n",
      "complete\n",
      "cautious\n",
      "wretched\n",
      "purpose\n",
      "heap\n",
      "bounce\n",
      "blue-eyed\n",
      "match\n",
      "vein\n",
      "historical\n",
      "bizarre\n",
      "voiceless\n",
      "squash\n",
      "slip\n",
      "well-groomed\n",
      "animated\n",
      "insect\n",
      "busy\n",
      "geese\n",
      "dream\n",
      "leather\n",
      "voice\n",
      "helpful\n",
      "ill\n",
      "teaching\n",
      "distinct\n",
      "wet\n",
      "whispering\n",
      "wash\n",
      "skirt\n",
      "ordinary\n",
      "dance\n",
      "judicious\n",
      "undress\n",
      "breezy\n",
      "wine\n",
      "sneeze\n",
      "selective\n",
      "party\n",
      "handle\n",
      "exuberant\n",
      "glove\n",
      "nutty\n",
      "tan\n",
      "roll\n",
      "changeable\n",
      "print\n",
      "mind\n",
      "blood\n",
      "time\n",
      "walk\n",
      "form\n",
      "actor\n",
      "crow\n",
      "recondite\n",
      "pointless\n",
      "attempt\n",
      "science\n",
      "wonderful\n",
      "boring\n",
      "\n"
     ]
    }
   ],
   "source": [
    "myfile = open( 'words.txt' )\n",
    "mydata = myfile.read()\n",
    "myfile.close()\n",
    "print( mydata )"
   ]
  },
  {
   "cell_type": "code",
   "execution_count": 6,
   "metadata": {
    "collapsed": false
   },
   "outputs": [
    {
     "name": "stdout",
     "output_type": "stream",
     "text": [
      "\n"
     ]
    }
   ],
   "source": [
    "myfile = open( 'words.txt' )\n",
    "mydata = myfile.read()\n",
    "mydata = myfile.read()\n",
    "myfile.close()\n",
    "print( mydata )"
   ]
  },
  {
   "cell_type": "code",
   "execution_count": 7,
   "metadata": {
    "collapsed": false,
    "scrolled": false
   },
   "outputs": [
    {
     "name": "stdout",
     "output_type": "stream",
     "text": [
      "juice\n",
      "\n",
      "finger\n",
      "\n",
      "fearful\n",
      "\n",
      "box\n",
      "\n",
      "quaint\n",
      "\n",
      "pear\n",
      "\n",
      "hate\n",
      "\n",
      "tongue\n",
      "\n",
      "tremble\n",
      "\n",
      "jump\n",
      "\n",
      "quill\n",
      "\n",
      "white\n",
      "\n",
      "stimulating\n",
      "\n",
      "permissible\n",
      "\n",
      "seemly\n",
      "\n",
      "naive\n",
      "\n",
      "joyous\n",
      "\n",
      "observant\n",
      "\n",
      "secretary\n",
      "\n",
      "abrasive\n",
      "\n",
      "learn\n",
      "\n",
      "spring\n",
      "\n",
      "sigh\n",
      "\n",
      "seashore\n",
      "\n",
      "frighten\n",
      "\n",
      "slave\n",
      "\n",
      "destruction\n",
      "\n",
      "rake\n",
      "\n",
      "event\n",
      "\n",
      "friction\n",
      "\n",
      "fertile\n",
      "\n",
      "women\n",
      "\n",
      "jazzy\n",
      "\n",
      "verse\n",
      "\n",
      "kick\n",
      "\n",
      "flap\n",
      "\n",
      "writing\n",
      "\n",
      "action\n",
      "\n",
      "compete\n",
      "\n",
      "increase\n",
      "\n",
      "complete\n",
      "\n",
      "cautious\n",
      "\n",
      "wretched\n",
      "\n",
      "purpose\n",
      "\n",
      "heap\n",
      "\n",
      "bounce\n",
      "\n",
      "blue-eyed\n",
      "\n",
      "match\n",
      "\n",
      "vein\n",
      "\n",
      "historical\n",
      "\n",
      "bizarre\n",
      "\n",
      "voiceless\n",
      "\n",
      "squash\n",
      "\n",
      "slip\n",
      "\n",
      "well-groomed\n",
      "\n",
      "animated\n",
      "\n",
      "insect\n",
      "\n",
      "busy\n",
      "\n",
      "geese\n",
      "\n",
      "dream\n",
      "\n",
      "leather\n",
      "\n",
      "voice\n",
      "\n",
      "helpful\n",
      "\n",
      "ill\n",
      "\n",
      "teaching\n",
      "\n",
      "distinct\n",
      "\n",
      "wet\n",
      "\n",
      "whispering\n",
      "\n",
      "wash\n",
      "\n",
      "skirt\n",
      "\n",
      "ordinary\n",
      "\n",
      "dance\n",
      "\n",
      "judicious\n",
      "\n",
      "undress\n",
      "\n",
      "breezy\n",
      "\n",
      "wine\n",
      "\n",
      "sneeze\n",
      "\n",
      "selective\n",
      "\n",
      "party\n",
      "\n",
      "handle\n",
      "\n",
      "exuberant\n",
      "\n",
      "glove\n",
      "\n",
      "nutty\n",
      "\n",
      "tan\n",
      "\n",
      "roll\n",
      "\n",
      "changeable\n",
      "\n",
      "print\n",
      "\n",
      "mind\n",
      "\n",
      "blood\n",
      "\n",
      "time\n",
      "\n",
      "walk\n",
      "\n",
      "form\n",
      "\n",
      "actor\n",
      "\n",
      "crow\n",
      "\n",
      "recondite\n",
      "\n",
      "pointless\n",
      "\n",
      "attempt\n",
      "\n",
      "science\n",
      "\n",
      "wonderful\n",
      "\n",
      "boring\n",
      "\n"
     ]
    }
   ],
   "source": [
    "myfile = open( 'words.txt' )\n",
    "mydata = myfile.readlines()\n",
    "myfile.close()\n",
    "for line in mydata:\n",
    "    print( line )"
   ]
  },
  {
   "cell_type": "code",
   "execution_count": 8,
   "metadata": {
    "collapsed": true
   },
   "outputs": [],
   "source": [
    "myfile = open( 'words.txt' )\n",
    "mydata = myfile.readlines()\n",
    "mydata = myfile.readlines()\n",
    "myfile.close()\n",
    "for line in mydata:\n",
    "    print( line )"
   ]
  },
  {
   "cell_type": "code",
   "execution_count": 11,
   "metadata": {
    "collapsed": false
   },
   "outputs": [
    {
     "name": "stdout",
     "output_type": "stream",
     "text": [
      "['juice\\n', 'finger\\n', 'fearful\\n', 'box\\n', 'quaint\\n', 'pear\\n', 'hate\\n', 'tongue\\n', 'tremble\\n', 'jump\\n', 'quill\\n', 'white\\n', 'stimulating\\n', 'permissible\\n', 'seemly\\n', 'naive\\n', 'joyous\\n', 'observant\\n', 'secretary\\n', 'abrasive\\n', 'learn\\n', 'spring\\n', 'sigh\\n', 'seashore\\n', 'frighten\\n', 'slave\\n', 'destruction\\n', 'rake\\n', 'event\\n', 'friction\\n', 'fertile\\n', 'women\\n', 'jazzy\\n', 'verse\\n', 'kick\\n', 'flap\\n', 'writing\\n', 'action\\n', 'compete\\n', 'increase\\n', 'complete\\n', 'cautious\\n', 'wretched\\n', 'purpose\\n', 'heap\\n', 'bounce\\n', 'blue-eyed\\n', 'match\\n', 'vein\\n', 'historical\\n', 'bizarre\\n', 'voiceless\\n', 'squash\\n', 'slip\\n', 'well-groomed\\n', 'animated\\n', 'insect\\n', 'busy\\n', 'geese\\n', 'dream\\n', 'leather\\n', 'voice\\n', 'helpful\\n', 'ill\\n', 'teaching\\n', 'distinct\\n', 'wet\\n', 'whispering\\n', 'wash\\n', 'skirt\\n', 'ordinary\\n', 'dance\\n', 'judicious\\n', 'undress\\n', 'breezy\\n', 'wine\\n', 'sneeze\\n', 'selective\\n', 'party\\n', 'handle\\n', 'exuberant\\n', 'glove\\n', 'nutty\\n', 'tan\\n', 'roll\\n', 'changeable\\n', 'print\\n', 'mind\\n', 'blood\\n', 'time\\n', 'walk\\n', 'form\\n', 'actor\\n', 'crow\\n', 'recondite\\n', 'pointless\\n', 'attempt\\n', 'science\\n', 'wonderful\\n', 'boring\\n']\n"
     ]
    }
   ],
   "source": [
    "myfile = open( 'words.txt' )\n",
    "mydata = myfile.readlines()\n",
    "myfile.close()\n",
    "print(mydata)"
   ]
  },
  {
   "cell_type": "code",
   "execution_count": 10,
   "metadata": {
    "collapsed": false
   },
   "outputs": [
    {
     "name": "stdout",
     "output_type": "stream",
     "text": [
      "[]\n"
     ]
    }
   ],
   "source": [
    "myfile = open( 'words.txt' )\n",
    "mydata = myfile.readlines()\n",
    "mydata = myfile.readlines()\n",
    "myfile.close()\n",
    "print(mydata)"
   ]
  },
  {
   "cell_type": "code",
   "execution_count": 13,
   "metadata": {
    "collapsed": false
   },
   "outputs": [
    {
     "name": "stdout",
     "output_type": "stream",
     "text": [
      "juice\n",
      "\n",
      "finger\n",
      "\n"
     ]
    }
   ],
   "source": [
    "myfile = open( 'words.txt' )\n",
    "mydata = myfile.readline()\n",
    "print(mydata)\n",
    "mydata = myfile.readline()\n",
    "print(mydata)\n",
    "myfile.close()\n"
   ]
  },
  {
   "cell_type": "code",
   "execution_count": 14,
   "metadata": {
    "collapsed": false
   },
   "outputs": [
    {
     "name": "stdout",
     "output_type": "stream",
     "text": [
      "['finger\\n', 'fearful\\n', 'box\\n', 'quaint\\n', 'pear\\n', 'hate\\n', 'tongue\\n', 'tremble\\n', 'jump\\n', 'quill\\n', 'white\\n', 'stimulating\\n', 'permissible\\n', 'seemly\\n', 'naive\\n', 'joyous\\n', 'observant\\n', 'secretary\\n', 'abrasive\\n', 'learn\\n', 'spring\\n', 'sigh\\n', 'seashore\\n', 'frighten\\n', 'slave\\n', 'destruction\\n', 'rake\\n', 'event\\n', 'friction\\n', 'fertile\\n', 'women\\n', 'jazzy\\n', 'verse\\n', 'kick\\n', 'flap\\n', 'writing\\n', 'action\\n', 'compete\\n', 'increase\\n', 'complete\\n', 'cautious\\n', 'wretched\\n', 'purpose\\n', 'heap\\n', 'bounce\\n', 'blue-eyed\\n', 'match\\n', 'vein\\n', 'historical\\n', 'bizarre\\n', 'voiceless\\n', 'squash\\n', 'slip\\n', 'well-groomed\\n', 'animated\\n', 'insect\\n', 'busy\\n', 'geese\\n', 'dream\\n', 'leather\\n', 'voice\\n', 'helpful\\n', 'ill\\n', 'teaching\\n', 'distinct\\n', 'wet\\n', 'whispering\\n', 'wash\\n', 'skirt\\n', 'ordinary\\n', 'dance\\n', 'judicious\\n', 'undress\\n', 'breezy\\n', 'wine\\n', 'sneeze\\n', 'selective\\n', 'party\\n', 'handle\\n', 'exuberant\\n', 'glove\\n', 'nutty\\n', 'tan\\n', 'roll\\n', 'changeable\\n', 'print\\n', 'mind\\n', 'blood\\n', 'time\\n', 'walk\\n', 'form\\n', 'actor\\n', 'crow\\n', 'recondite\\n', 'pointless\\n', 'attempt\\n', 'science\\n', 'wonderful\\n', 'boring\\n']\n"
     ]
    }
   ],
   "source": [
    "myfile = open( 'words.txt' )\n",
    "mydata = myfile.readline()\n",
    "mydata = myfile.readlines()\n",
    "myfile.close()\n",
    "print(mydata)"
   ]
  },
  {
   "cell_type": "code",
   "execution_count": 15,
   "metadata": {
    "collapsed": false
   },
   "outputs": [
    {
     "name": "stdout",
     "output_type": "stream",
     "text": [
      "-0.9510565162951534\n"
     ]
    }
   ],
   "source": [
    "import math\n",
    "print(math.sin( 5.4 * math.pi ))"
   ]
  },
  {
   "cell_type": "code",
   "execution_count": 16,
   "metadata": {
    "collapsed": false
   },
   "outputs": [
    {
     "name": "stdout",
     "output_type": "stream",
     "text": [
      "-0.9510565162951534\n"
     ]
    }
   ],
   "source": [
    "from math import sin, pi\n",
    "print(sin( 5.4 * pi ))"
   ]
  },
  {
   "cell_type": "code",
   "execution_count": 18,
   "metadata": {
    "collapsed": false
   },
   "outputs": [
    {
     "name": "stdout",
     "output_type": "stream",
     "text": [
      "False\n",
      "True\n"
     ]
    }
   ],
   "source": [
    "d = { 'one':1, 'two':2, 'three':3 }\n",
    "print('five' in d)\n",
    "print('one' in d)"
   ]
  },
  {
   "cell_type": "code",
   "execution_count": null,
   "metadata": {
    "collapsed": true
   },
   "outputs": [],
   "source": []
  }
 ],
 "metadata": {
  "kernelspec": {
   "display_name": "Python [Root]",
   "language": "python",
   "name": "Python [Root]"
  },
  "language_info": {
   "codemirror_mode": {
    "name": "ipython",
    "version": 3
   },
   "file_extension": ".py",
   "mimetype": "text/x-python",
   "name": "python",
   "nbconvert_exporter": "python",
   "pygments_lexer": "ipython3",
   "version": "3.5.1"
  }
 },
 "nbformat": 4,
 "nbformat_minor": 0
}
