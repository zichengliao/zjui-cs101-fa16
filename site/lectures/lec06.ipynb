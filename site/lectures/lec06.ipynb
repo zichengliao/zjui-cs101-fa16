{
 "cells": [
  {
   "cell_type": "code",
   "execution_count": 5,
   "metadata": {
    "collapsed": false,
    "scrolled": false
   },
   "outputs": [
    {
     "name": "stdout",
     "output_type": "stream",
     "text": [
      "Bom dia!\n",
      "Bonjour!\n",
      "Ni hao!\n",
      "Hello!\n",
      "Shalom!\n",
      "Guten tag!\n",
      "Konichiwa!\n",
      "As-salamu alaykum!\n",
      "Bom dia!\n",
      "Bonjour!\n",
      "Ni hao!\n",
      "Hello!\n",
      "Shalom!\n",
      "Guten tag!\n",
      "Konichiwa!\n",
      "As-salamu alaykum!\n",
      "Bom dia!\n",
      "Bonjour!\n",
      "Ni hao!\n",
      "Hello!\n",
      "Shalom!\n",
      "Guten tag!\n",
      "Konichiwa!\n",
      "As-salamu alaykum!\n",
      "Bom dia!\n",
      "Bonjour!\n",
      "Ni hao!\n",
      "Hello!\n",
      "Shalom!\n",
      "Guten tag!\n",
      "Konichiwa!\n",
      "As-salamu alaykum!\n",
      "Bom dia!\n",
      "Bonjour!\n",
      "Ni hao!\n",
      "Hello!\n",
      "Shalom!\n",
      "Guten tag!\n",
      "Konichiwa!\n",
      "As-salamu alaykum!\n",
      "Bom dia!\n",
      "Bonjour!\n",
      "Ni hao!\n",
      "Hello!\n",
      "Shalom!\n",
      "Guten tag!\n",
      "Konichiwa!\n",
      "As-salamu alaykum!\n",
      "Bom dia!\n",
      "Bonjour!\n",
      "Ni hao!\n",
      "Hello!\n",
      "Shalom!\n",
      "Guten tag!\n",
      "Konichiwa!\n",
      "As-salamu alaykum!\n",
      "Bom dia!\n",
      "Bonjour!\n",
      "Ni hao!\n",
      "Hello!\n",
      "Shalom!\n",
      "Guten tag!\n",
      "Konichiwa!\n",
      "As-salamu alaykum!\n",
      "Bom dia!\n",
      "Bonjour!\n",
      "Ni hao!\n",
      "Hello!\n",
      "Shalom!\n",
      "Guten tag!\n",
      "Konichiwa!\n",
      "As-salamu alaykum!\n",
      "Bom dia!\n",
      "Bonjour!\n",
      "Ni hao!\n",
      "Hello!\n",
      "Shalom!\n",
      "Guten tag!\n",
      "Konichiwa!\n",
      "As-salamu alaykum!\n"
     ]
    },
    {
     "data": {
      "text/plain": [
       "'done'"
      ]
     },
     "execution_count": 5,
     "metadata": {},
     "output_type": "execute_result"
    }
   ],
   "source": [
    "def greetings():\n",
    "   print(\"Bom dia!\")\n",
    "   print(\"Bonjour!\")\n",
    "   print(\"Ni hao!\")\n",
    "   print(\"Hello!\")\n",
    "   print(\"Shalom!\")\n",
    "   print(\"Guten tag!\")\n",
    "   print(\"Konichiwa!\")\n",
    "   print(\"As-salamu alaykum!\")\n",
    "   return \"done\"\n",
    "greetings()\n",
    "greetings()\n",
    "greetings()\n",
    "greetings()\n",
    "greetings()\n",
    "greetings()\n",
    "greetings()\n",
    "greetings()\n",
    "greetings()\n",
    "greetings()"
   ]
  },
  {
   "cell_type": "code",
   "execution_count": 4,
   "metadata": {
    "collapsed": false
   },
   "outputs": [
    {
     "data": {
      "text/plain": [
       "5"
      ]
     },
     "execution_count": 4,
     "metadata": {},
     "output_type": "execute_result"
    }
   ],
   "source": [
    "2+3"
   ]
  },
  {
   "cell_type": "code",
   "execution_count": 6,
   "metadata": {
    "collapsed": false
   },
   "outputs": [
    {
     "name": "stdout",
     "output_type": "stream",
     "text": [
      "5\n"
     ]
    }
   ],
   "source": [
    "a = 5\n",
    "def fun():\n",
    "  a = 3\n",
    "  b = 4\n",
    "  a = a + b\n",
    "fun()\n",
    "print(a)"
   ]
  },
  {
   "cell_type": "code",
   "execution_count": 8,
   "metadata": {
    "collapsed": false
   },
   "outputs": [
    {
     "data": {
      "text/plain": [
       "0"
      ]
     },
     "execution_count": 8,
     "metadata": {},
     "output_type": "execute_result"
    }
   ],
   "source": [
    "def zero():\n",
    "  return 0\n",
    "  print('aaa')\n",
    "zero()"
   ]
  },
  {
   "cell_type": "code",
   "execution_count": 9,
   "metadata": {
    "collapsed": false
   },
   "outputs": [
    {
     "name": "stdout",
     "output_type": "stream",
     "text": [
      "5\n"
     ]
    }
   ],
   "source": [
    "a = 5\n",
    "def fun(a):\n",
    "  b = 4\n",
    "  c = a + b\n",
    "fun(11)\n",
    "print(a)"
   ]
  },
  {
   "cell_type": "code",
   "execution_count": 10,
   "metadata": {
    "collapsed": false
   },
   "outputs": [
    {
     "data": {
      "text/plain": [
       "'Abb Cdd'"
      ]
     },
     "execution_count": 10,
     "metadata": {},
     "output_type": "execute_result"
    }
   ],
   "source": [
    "\"aBB cDD\".title()"
   ]
  },
  {
   "cell_type": "code",
   "execution_count": 11,
   "metadata": {
    "collapsed": false,
    "scrolled": true
   },
   "outputs": [
    {
     "name": "stdout",
     "output_type": "stream",
     "text": [
      "None\n"
     ]
    }
   ],
   "source": [
    "def fun(a,b):\n",
    "   c = ((a + ' ') * len(b)).title()\n",
    "x = fun( \"ab\", \"caa\" )\n",
    "print(x)"
   ]
  },
  {
   "cell_type": "code",
   "execution_count": null,
   "metadata": {
    "collapsed": true
   },
   "outputs": [],
   "source": []
  }
 ],
 "metadata": {
  "anaconda-cloud": {},
  "kernelspec": {
   "display_name": "Python [Root]",
   "language": "python",
   "name": "Python [Root]"
  },
  "language_info": {
   "codemirror_mode": {
    "name": "ipython",
    "version": 3
   },
   "file_extension": ".py",
   "mimetype": "text/x-python",
   "name": "python",
   "nbconvert_exporter": "python",
   "pygments_lexer": "ipython3",
   "version": "3.5.1"
  }
 },
 "nbformat": 4,
 "nbformat_minor": 0
}
