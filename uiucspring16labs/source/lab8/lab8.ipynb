{
 "cells": [
  {
   "cell_type": "markdown",
   "metadata": {},
   "source": [
    "## `lab8`—“The Secret Weapon that Won the War”"
   ]
  },
  {
   "cell_type": "markdown",
   "metadata": {},
   "source": [
    "❖ Objectives\n",
    "\n",
    "-   Understand basic concepts of remapping sets.\n",
    "-   Build a transformation pipeline of simple elements."
   ]
  },
  {
   "cell_type": "markdown",
   "metadata": {},
   "source": [
    "<div class=\"alert alert-warning\">\n",
    "**Pair Programming**\n",
    "<br />\n",
    "Since this lab is fairly involved, we encourage you to work in pairs *at a single machine*.  You and your partner will consult, and should occasionally trade off so that the time at the keyboard is roughly equal.  At the end, when you report collaborators, please report the names and NetIDs of all partners in this lab exercise.  (In exceptional cases, such as the room layout, trios are permitted.)\n",
    "</div>\n",
    "\n",
    "In today's lab, we will explore some fundamentals of cryptography.  We will also look at using our language letter frequency tools from before to suggest possible ways to crack codes, and implement a simplified version of the World War II-era Nazi Enigma machine (most recently featured in the film *The Imitation Game* about Alan Turing)."
   ]
  },
  {
   "cell_type": "markdown",
   "metadata": {},
   "source": [
    "### The Caesar Cipher, Revisited"
   ]
  },
  {
   "cell_type": "markdown",
   "metadata": {},
   "source": [
    "In [Lecture 12](https://relate.cs.illinois.edu/course/sp16cs101/f/pdfs/Lecture12.pdf), you were introduced to the idea of a *Caesar cipher*, in which each letter of the alphabet is mapped forward to obscure a message.  Let's recreate that code and then extend it to use an arbitrary offset for the encoding.\n",
    "\n",
    "![](./img/caesar-base.png)"
   ]
  },
  {
   "cell_type": "markdown",
   "metadata": {},
   "source": [
    "As you recall, there was a straightforward way to implement such a cipher:"
   ]
  },
  {
   "cell_type": "code",
   "execution_count": null,
   "metadata": {
    "collapsed": false
   },
   "outputs": [],
   "source": [
    "# Set up encoding dictionary\n",
    "alphabet1 = 'ABCDEFGHIJKLMNOPQRSTUVWXYZ'\n",
    "alphabet2 = 'BCDEFGHIJKLMNOPQRSTUVWXYZA'\n",
    "e={}\n",
    "for i in range(len(alphabet1)):\n",
    "    e[alphabet1[i]] = alphabet2[i]\n",
    "\n",
    "# Set up message to be encoded\n",
    "message = \"HELLO\"\n",
    "message = message.upper()\n",
    "\n",
    "# Encode message\n",
    "encoded=''\n",
    "for c in message:\n",
    "    if c in alphabet1:\n",
    "        encoded += e[c]\n",
    "    else:\n",
    "        encoded += c\n",
    "\n",
    "print('%s encoded is %s'%(message, encoded))"
   ]
  },
  {
   "cell_type": "markdown",
   "metadata": {},
   "source": [
    "-   Compose a function `encode_caesar` which implements the identical functionality:  it should accept a variable `message`, transform it according to the Caesar cipher above, and `return` a variable `encoded`."
   ]
  },
  {
   "cell_type": "code",
   "execution_count": null,
   "metadata": {
    "collapsed": true,
    "nbgrader": {
     "grade": false,
     "grade_id": "basic-caesar",
     "locked": false,
     "solution": true
    }
   },
   "outputs": [],
   "source": [
    "# define your function here\n",
    "def encode_caesar(message):\n",
    "    # Set up the encoding dictionary\n",
    "    ## YOU WRITE THIS BLOCK (USE THE ABOVE CODE IF YOU NEED HELP)\n",
    "    \n",
    "    # Encode the message (converted to upper case)\n",
    "    ## YOU WRITE THIS BLOCK (USE THE ABOVE CODE IF YOU NEED HELP)\n",
    "    \n",
    "    # Finally, return the encoded message.\n",
    "    return encoded"
   ]
  },
  {
   "cell_type": "code",
   "execution_count": null,
   "metadata": {
    "collapsed": true
   },
   "outputs": [],
   "source": [
    "# test your code here.  You may edit this cell, and you may use any sample text, but the following is provided for convenience.\n",
    "text = \"\"\"The Adventures of Sherlock Holmes, by Arthur Conan Doyle\"\"\"\n",
    "encode_caesar(text)"
   ]
  },
  {
   "cell_type": "code",
   "execution_count": null,
   "metadata": {
    "collapsed": false,
    "nbgrader": {
     "grade": true,
     "grade_id": "basic-caesar-test",
     "locked": true,
     "points": 1,
     "solution": false
    }
   },
   "outputs": [],
   "source": [
    "# it should pass this test---do NOT edit this cell\n",
    "test_text = \"\"\"When I glance over my notes and records of the Sherlock Holmes cases between the years '82 and '90, I am faced by so many\n",
    "which present strange and interesting features that it is no easy matter to know which to choose and which to leave.\"\"\"\n",
    "code_text = \"\"\"XIFO J HMBODF PWFS NZ OPUFT BOE SFDPSET PG UIF TIFSMPDL IPMNFT DBTFT CFUXFFO UIF ZFBST '82 BOE '90, J BN GBDFE CZ TP NBOZ\n",
    "XIJDI QSFTFOU TUSBOHF BOE JOUFSFTUJOH GFBUVSFT UIBU JU JT OP FBTZ NBUUFS UP LOPX XIJDI UP DIPPTF BOE XIJDI UP MFBWF.\"\"\"\n",
    "result_text = encode_caesar(test_text)\n",
    "assert result_text == code_text\n",
    "print('Success!')"
   ]
  },
  {
   "cell_type": "markdown",
   "metadata": {},
   "source": [
    "This one-letter shift is easy enough to crack even in your head.  What if we generalized it to use an `offset` (between 0 and 25, where 0 yields the same result as the original message)?  Then we could encode and decode using the same function (by offsetting forward $n$ letters, and then offsetting forward $26-n$ letters)."
   ]
  },
  {
   "cell_type": "markdown",
   "metadata": {},
   "source": [
    "First, to simplify all of our later work, let's define a key default variable for the alphabet:"
   ]
  },
  {
   "cell_type": "code",
   "execution_count": null,
   "metadata": {
    "collapsed": false
   },
   "outputs": [],
   "source": [
    "from string import ascii_uppercase as alphabet\n",
    "print(alphabet)"
   ]
  },
  {
   "cell_type": "markdown",
   "metadata": {},
   "source": [
    "To generalize our process, we need to have a general way of moving $n$ characters forward in the alphabet (and wrapping around if we count too far).\n",
    "\n",
    "We need two tools:\n",
    "-   A way to convert a character to a number (the location in the alphabet):  `alphabet.index(letter)`\n",
    "-   A way to wrap around if `index+offset` is greater than the length of the alphabet (26 letters, so index 25):  the modulus or remainder operator, `%`, is well-suited for this."
   ]
  },
  {
   "cell_type": "code",
   "execution_count": null,
   "metadata": {
    "collapsed": false
   },
   "outputs": [],
   "source": [
    "letter = 'A'  # letter to encode\n",
    "offset = 5    # offset\n",
    "index = alphabet.index(letter)\n",
    "\n",
    "print(alphabet[index+offset])"
   ]
  },
  {
   "cell_type": "code",
   "execution_count": null,
   "metadata": {
    "collapsed": false
   },
   "outputs": [],
   "source": [
    "letter = 'Y'  # letter to encode\n",
    "offset = 5    # offset\n",
    "index = alphabet.index(letter)\n",
    "\n",
    "print(alphabet[(index+offset)%26])"
   ]
  },
  {
   "cell_type": "markdown",
   "metadata": {},
   "source": [
    "-   Compose a function 'mapper' which accepts a single-character string letter and an offset and `returns` the letter index mapped forward by the offset.  The periodic nature of the alphabet should be accounted for—that is, `'Z'` offset by `2` should `return` `'B'`.  The default value of `offset` should be `1`."
   ]
  },
  {
   "cell_type": "code",
   "execution_count": null,
   "metadata": {
    "collapsed": false,
    "nbgrader": {
     "grade": false,
     "grade_id": "mapper",
     "locked": false,
     "solution": true
    }
   },
   "outputs": [],
   "source": [
    "# define your function here\n",
    "def mapper(letter, offset=1):\n",
    "    ## YOU WRITE THIS BLOCK (USE THE ABOVE CODE IF YOU NEED HELP)\n",
    "    pass"
   ]
  },
  {
   "cell_type": "code",
   "execution_count": null,
   "metadata": {
    "collapsed": true
   },
   "outputs": [],
   "source": [
    "# test your code here.  You may edit this cell, and you may use any sample text, but the following is provided for convenience.\n",
    "letter = \"Q\"\n",
    "n = 4\n",
    "mapper(letter, n)"
   ]
  },
  {
   "cell_type": "code",
   "execution_count": null,
   "metadata": {
    "collapsed": true,
    "nbgrader": {
     "grade": true,
     "grade_id": "mapper-test",
     "locked": true,
     "points": 1,
     "solution": false
    }
   },
   "outputs": [],
   "source": [
    "# it should pass this test---do NOT edit this cell\n",
    "assert mapper('A') == 'B'\n",
    "assert mapper('A', 24) == 'Y'\n",
    "print('Success!')"
   ]
  },
  {
   "cell_type": "markdown",
   "metadata": {},
   "source": [
    "With `mapper`, it is straightforward to write a general function to apply a Caesar cipher across any number of letters.\n",
    "\n",
    "You may accomplish this one of two ways:\n",
    "-   Use `mapper` directly on each letter.  (This is more efficient for short messages.)\n",
    "-   Use `mapper` to prepare a dictionary mapping each letter, and then use the `dict` to map each letter as it is encoded.  (This is more efficient for longer messages.)\n",
    "\n",
    "Either is acceptable in your answer to the next exercise.\n",
    "\n",
    "-   Compose a function `caesar_cipher` which accepts a string `message` and an integer `offset`.  It should `return` `message` with each letter mapped by `offset` to another letter in the alphabet.  `offset` should default to `1` in the case that the user does not supply it."
   ]
  },
  {
   "cell_type": "code",
   "execution_count": null,
   "metadata": {
    "collapsed": true,
    "nbgrader": {
     "grade": false,
     "grade_id": "caesar",
     "locked": false,
     "solution": true
    }
   },
   "outputs": [],
   "source": [
    "# define your function here\n",
    "def caesar_cipher('''add input parameters here'''):\n",
    "    # Set up the encoding dictionary if desired (or use mapper directly below)\n",
    "    ## YOU WRITE THIS BLOCK (USE THE ABOVE CODE IF YOU NEED HELP)\n",
    "    \n",
    "    # Encode the message (converted to upper case)\n",
    "    ## YOU WRITE THIS BLOCK (USE THE ABOVE CODE IF YOU NEED HELP)\n",
    "    \n",
    "    # Finally, return the encoded message.\n",
    "    return encoded"
   ]
  },
  {
   "cell_type": "code",
   "execution_count": null,
   "metadata": {
    "collapsed": true
   },
   "outputs": [],
   "source": [
    "# test your code here.  You may edit this cell, and you may use any sample text, but the following is provided for convenience.\n",
    "text = \"\"\"The Sign of Fear, by Arthur Conan Doyle\"\"\"\n",
    "caesar_cipher(text)"
   ]
  },
  {
   "cell_type": "code",
   "execution_count": null,
   "metadata": {
    "collapsed": true,
    "nbgrader": {
     "grade": true,
     "grade_id": "caesar-test1",
     "locked": true,
     "points": 1,
     "solution": false
    }
   },
   "outputs": [],
   "source": [
    "# it should pass this test---do NOT edit this cell\n",
    "# test case with specified offset\n",
    "test_text = \"\"\"A man should keep his little brain-attic stocked with all the furniture that he is likely to use, and the\n",
    "rest he can put away in the lumber-room of his library, where he can get it if he wants it.\"\"\"\n",
    "code_text = \"\"\"F RFS XMTZQI PJJU MNX QNYYQJ GWFNS-FYYNH XYTHPJI BNYM FQQ YMJ KZWSNYZWJ YMFY MJ NX QNPJQD YT ZXJ, FSI YMJ\n",
    "WJXY MJ HFS UZY FBFD NS YMJ QZRGJW-WTTR TK MNX QNGWFWD, BMJWJ MJ HFS LJY NY NK MJ BFSYX NY.\"\"\"\n",
    "result_text = caesar_cipher(test_text, 5)\n",
    "assert result_text == code_text\n",
    "print('Success!')"
   ]
  },
  {
   "cell_type": "code",
   "execution_count": null,
   "metadata": {
    "collapsed": true,
    "nbgrader": {
     "grade": true,
     "grade_id": "caesar-test2",
     "locked": true,
     "points": 1,
     "solution": false
    }
   },
   "outputs": [],
   "source": [
    "# it should pass this test---do NOT edit this cell\n",
    "# test default case\n",
    "test_text = \"\"\"You know my methods, Watson.\"\"\"\n",
    "code_text = \"\"\"ZPV LOPX NZ NFUIPET, XBUTPO.\"\"\"\n",
    "result_text = caesar_cipher(test_text)\n",
    "assert result_text == code_text\n",
    "print('Success!')"
   ]
  },
  {
   "cell_type": "markdown",
   "metadata": {},
   "source": [
    "`rot13` is a common encoding used online to simply hide the answers to questions—the digital equivalent of printing the answer upside down in the corner.\n",
    "\n",
    "You can easily write a code to `rot13` a text now:"
   ]
  },
  {
   "cell_type": "code",
   "execution_count": null,
   "metadata": {
    "collapsed": true
   },
   "outputs": [],
   "source": [
    "def rot13(message):\n",
    "    return caesar_cipher(message, offset=13)"
   ]
  },
  {
   "cell_type": "markdown",
   "metadata": {},
   "source": [
    "Conveniently, a `rot13`-ed message is its own inverse:"
   ]
  },
  {
   "cell_type": "code",
   "execution_count": null,
   "metadata": {
    "collapsed": true
   },
   "outputs": [],
   "source": [
    "message = \"elementary\"\n",
    "print(message)\n",
    "print(rot13(message))\n",
    "print(rot13(rot13(message)))"
   ]
  },
  {
   "cell_type": "markdown",
   "metadata": {},
   "source": [
    "### Code Cracking"
   ]
  },
  {
   "cell_type": "markdown",
   "metadata": {},
   "source": [
    "The Caesar cipher is particularly weak, and only worked in an ancient world with low literacy and no prior cryptographic experience.  If you analyze the frequency of the letters, for instance, and guess that the most frequent letter in a long encoded text corresponds to E, the second most frequent to A, etc., then you can soon break Caesar ciphers even if you do not know the offset ahead of time.\n",
    "\n",
    "We'll use our functions from last week, `lab7`, to aid in this.  Recall the function `calc_freq`, which returned a `dict` containing the relative frequency of letters in a sample of text."
   ]
  },
  {
   "cell_type": "code",
   "execution_count": null,
   "metadata": {
    "collapsed": true
   },
   "outputs": [],
   "source": [
    "# define your function here\n",
    "from string import whitespace, punctuation, digits\n",
    "from string import ascii_uppercase as alphabet\n",
    "\n",
    "def calc_freq(text):\n",
    "    # Create an empty frequency dictionary letter_freq.\n",
    "    letter_freq = {}\n",
    "    \n",
    "    # Make text upper-case.\n",
    "    text = text.upper()\n",
    "    \n",
    "    # Loop over each letter of the alphabet:\n",
    "    for letter in alphabet:\n",
    "        letter_freq[letter] = text.count(letter)\n",
    "    \n",
    "    # Make a copy of text without non-alphabet characters.\n",
    "    from string import whitespace, punctuation, digits\n",
    "    for character in whitespace+punctuation+digits:\n",
    "        text = text.replace(character, '')\n",
    "    \n",
    "    # Normalize the frequencies and put the results back into letter_freq.\n",
    "    for key in letter_freq.keys():\n",
    "        letter_freq[key] = letter_freq[key] / len(text)\n",
    "    \n",
    "    # Finally, return the dict letter_freq.\n",
    "    return letter_freq"
   ]
  },
  {
   "cell_type": "markdown",
   "metadata": {},
   "source": [
    "Recall the default letter frequency of English-language text.  (The following code block will plot that for you; you need make no changes to it.)"
   ]
  },
  {
   "cell_type": "code",
   "execution_count": null,
   "metadata": {
    "collapsed": false
   },
   "outputs": [],
   "source": [
    "# plotting boilerplate---you'll learn about this in class\n",
    "import matplotlib as mpl               # import MatPlotLib\n",
    "import matplotlib.pyplot as plt        # import PyPlot\n",
    "%matplotlib inline\n",
    "mpl.rcParams['figure.figsize'] = 15,3  # set the aspect ratio and size of the figure\n",
    "\n",
    "# We'll use this function to plot the letters and frequencies for the next while.\n",
    "# You don't need to interpret it yet, but you can examine it as much as you like.\n",
    "def plot_freq(xs, ys, title=None):\n",
    "    fig = plt.figure()\n",
    "    ax = fig.add_subplot(111)\n",
    "    \n",
    "    N = len(xs)\n",
    "\n",
    "    ## necessary variables\n",
    "    import numpy as np    # the Numerical Python package---you'll see this soon in lecture\n",
    "    index = np.arange(N)  # x locations for bars\n",
    "    width = 0.75          # bar width\n",
    "\n",
    "    ## the bars\n",
    "    rects1 = ax.bar(index, ys, width, color='blue')\n",
    "\n",
    "    # axes and labels\n",
    "    ax.set_title(title)\n",
    "    ax.set_ylabel('Proportion')\n",
    "\n",
    "    ax.set_xlim(-width,len(index)+width)\n",
    "    ax.set_ylim(0,.20)\n",
    "    xTickMarks = xs\n",
    "    ax.set_xticks(index+width/2)\n",
    "    xtickNames = ax.set_xticklabels(xTickMarks)\n",
    "    plt.setp(xtickNames, fontsize=10)\n",
    "    \n",
    "    plt.show()"
   ]
  },
  {
   "cell_type": "markdown",
   "metadata": {},
   "source": [
    "We'll also need the ability to sort a dictionary of key-value pairs into two lists (of the keys and of the values), sorted by the values, in order to plot in order of value.  We can use this, for instance, to sort the standard English letter frequencies by order of frequency."
   ]
  },
  {
   "cell_type": "code",
   "execution_count": null,
   "metadata": {
    "collapsed": false
   },
   "outputs": [],
   "source": [
    "# Convert a dictionary to two lists sorted by the value of the second.\n",
    "import operator\n",
    "def dict2sort(in_dict):\n",
    "    keys = sorted(in_dict, key=in_dict.get)[::-1]\n",
    "    values = []\n",
    "    for key in keys:\n",
    "        values.append(in_dict[key])\n",
    "    return keys, values"
   ]
  },
  {
   "cell_type": "code",
   "execution_count": null,
   "metadata": {
    "collapsed": false
   },
   "outputs": [],
   "source": [
    "# Get standard English frequencies, sorted by order of frequency.\n",
    "english_dict = {'A':0.0834,'B':0.0154,'C':0.0273,'D':0.0414,'E':0.126,'F':0.0203,'G':0.0192,'H':0.0611,'I':0.0671,'J':0.0023,'K':0.0087,\n",
    "                'L':0.0424,'M':0.0253,'N':0.068,'O':0.077,'P':0.0166,'Q':0.0009,'R':0.0568,'S':0.0611,'T':0.0937,'U':0.0285,'V':0.0106,\n",
    "                'W':0.0234,'X':0.002,'Y':0.0204,'Z':0.0006}\n",
    "letters, freqs = dict2sort(english_dict)\n",
    "plot_freq(letters, freqs, title='Expected Letter Frequency of English-Language Text')"
   ]
  },
  {
   "cell_type": "markdown",
   "metadata": {},
   "source": [
    "Consider the following encoded text.  If we simply analyze the relative frequency of each letter, we will find that we can make informed guesses about the letters in the hopes of cracking the text."
   ]
  },
  {
   "cell_type": "code",
   "execution_count": null,
   "metadata": {
    "collapsed": false
   },
   "outputs": [],
   "source": [
    "code = \"\"\"FTQ MOFGMX EOUQZOQ AR XASUO UE OAZHQDEMZF MF BDQEQZF AZXK IUFT FTUZSE QUFTQD OQDFMUZ, UYBAEEUNXQ, AD QZFUDQXK PAGNFRGX---\n",
    "ZAZQ AR ITUOT (RADFGZMFQXK) IQ TMHQ FA DQMEAZ AZ.  FTQDQRADQ FTQ FDGQ XASUO RAD FTUE IADXP UE FTQ OMXOGXGE AR BDANMNUXUFUQE, ITUOT\n",
    "FMWQE MOOAGZF AR FTQ YMSZUFGPQ AR FTQ BDANMNUXUFK ITUOT UE, AD AGSTF FA NQ, UZ M DQMEAZMNXQ YMZ'E YUZP.  (VMYQE OXQDW YMJIQXX)\"\"\"\n",
    "\n",
    "code_dict = calc_freq(code)\n",
    "code_letters, code_freqs = dict2sort(code_dict)\n",
    "plot_freq(letters, freqs, title='Expected Letter Frequency of English-Language Text')\n",
    "plot_freq(code_letters, code_freqs, title='Letter Frequency in Code Text')"
   ]
  },
  {
   "cell_type": "markdown",
   "metadata": {},
   "source": [
    "Of course, the correspondence isn't perfect, but we can make some reasonable guesses from this comparison.  Let's try just swapping things one-to-one across (that is, replace `'Q'` with `'e'`, `'F'` with `'t'`, etc.).  (The lower-case letters help us avoid collisions.)"
   ]
  },
  {
   "cell_type": "code",
   "execution_count": null,
   "metadata": {
    "collapsed": false
   },
   "outputs": [],
   "source": [
    "guess = code\n",
    "\n",
    "for c,d in zip(code_letters, letters):\n",
    "    print(c,'->',d)\n",
    "    guess = guess.replace(c, d.lower())\n",
    "print(guess)"
   ]
  },
  {
   "cell_type": "markdown",
   "metadata": {},
   "source": [
    "While this still looks like gibberish, note that the first word, in particular, is both a word and makes sense in context.  We can hypothesize that `'F'`→`'T'`, `'T'`→`'H'`, and `'Q'`→`'E'`, at least, are good guesses.\n",
    "\n",
    "This is a process that a real decoder could use when faced with a substitution cipher like those we've created above.  What about the rest of the letters?  Well, I notice that the second sentence starts with `'thesecase'`, which isn't a word, but `'therefore'` is.  So let's try `'D'`→`'R'`, `'R'`→`'F'`, and `'A'`→`'O'` as well:"
   ]
  },
  {
   "cell_type": "code",
   "execution_count": null,
   "metadata": {
    "collapsed": false
   },
   "outputs": [],
   "source": [
    "guess = code\n",
    "\n",
    "decode_pairs = [('F','T'), ('T','H'), ('Q','E'), ('D','R'), ('R','F'), ('A','O')]\n",
    "\n",
    "for c,d in decode_pairs:\n",
    "    print(c,'->',d)\n",
    "    guess = guess.replace(c, d.lower())\n",
    "print(guess)"
   ]
  },
  {
   "cell_type": "markdown",
   "metadata": {},
   "source": [
    "Progress?  If you have the word `'trGe'`, then what is `'G'` likely to be?  What about `'eUther'` for `'U'`?  We already know how to get `'of'`, so what is `'oZ'` for `'Z'`?"
   ]
  },
  {
   "cell_type": "code",
   "execution_count": null,
   "metadata": {
    "collapsed": false
   },
   "outputs": [],
   "source": [
    "guess = code\n",
    "\n",
    "decode_pairs = [('F','T'), ('T','H'), ('Q','E'), ('D','R'), ('R','F'), ('A','O'), ('G','U'), ('U','I'), ('Z','N')]\n",
    "\n",
    "for c,d in decode_pairs:\n",
    "    print(c,'->',d)\n",
    "    guess = guess.replace(c, d.lower())\n",
    "print(guess)"
   ]
  },
  {
   "cell_type": "markdown",
   "metadata": {},
   "source": [
    "Okay, now you just have to see `'EOienOe'` as `'science'`, `'ouSht'` for `'ought'`, and `'fortunMteXK'` for `'fortunately`'."
   ]
  },
  {
   "cell_type": "code",
   "execution_count": null,
   "metadata": {
    "collapsed": false
   },
   "outputs": [],
   "source": [
    "guess = code\n",
    "\n",
    "decode_pairs = [('F','T'), ('T','H'), ('Q','E'), ('D','R'), ('R','F'), ('A','O'), ('G','U'), ('U','I'), ('Z','N'), ('E','S'), ('O','C'),\n",
    "                ('S','G'), ('M','A'), ('X','L'), ('K','Y')]\n",
    "\n",
    "for c,d in decode_pairs:\n",
    "    print(c,'->',d)\n",
    "    guess = guess.replace(c, d.lower())\n",
    "print(guess)"
   ]
  },
  {
   "cell_type": "markdown",
   "metadata": {},
   "source": [
    "The final answer can be achieved by either filling out the rest of this dictionary, or by noticing that this is a Caesar cipher from one alphabet to another offset alphabet, with no scrambling or randomization taking place."
   ]
  },
  {
   "cell_type": "code",
   "execution_count": null,
   "metadata": {
    "collapsed": false
   },
   "outputs": [],
   "source": [
    "print(\"\"\"The actual science of logic is conversant at present only with things either certain, impossible, or entirely doubtful---\n",
    "none of which (fortunately) we have to reason on.  Therefore the true logic for this world is the calculus of Probabilities, which\n",
    "takes account of the magnitude of the probability which is, or ought to be, in a reasonable man's mind.  (James Clerk Maxwell)\"\"\")"
   ]
  },
  {
   "cell_type": "markdown",
   "metadata": {},
   "source": [
    "-   What is the offset you need to provide in order to *decode* the string properly user `caesar_cipher`?"
   ]
  },
  {
   "cell_type": "code",
   "execution_count": null,
   "metadata": {
    "collapsed": true,
    "nbgrader": {
     "grade": true,
     "grade_id": "decode",
     "locked": false,
     "points": 1,
     "solution": true
    }
   },
   "outputs": [],
   "source": [
    "ans = # your answer here"
   ]
  },
  {
   "cell_type": "markdown",
   "metadata": {
    "collapsed": true
   },
   "source": [
    "Let's plot these sorted by letter frequency to clarify things:"
   ]
  },
  {
   "cell_type": "markdown",
   "metadata": {},
   "source": [
    "### Rotor Cipher Machines"
   ]
  },
  {
   "cell_type": "markdown",
   "metadata": {},
   "source": [
    "A straightforward extension of the basic substitution cipher (what we've referred to as the Caesar cipher) is the *polyalphabetic cipher*, in which each letter pressed on a mechanical keyboard would both be encoded and trigger a rotor to change position.  Since the rotor determines the alphabet (either the offset or a randomized substitution pattern), each letter press *changes the subsequent encoding alphabet*.  It's rather like changing the offset according to some rule every time you encoded a letter above.\n",
    "\n",
    "To clarify this, first think of a pair of rotors, or wheels.  The inner (red) wheel represents the base alphabet (of the message), and the outer (blue) wheel represents the letter each inner letter maps to (the encoding).  An offset of one produces the following diagram:\n",
    "\n",
    "![](./img/rotor-base.png)\n",
    "\n",
    "A rotor cipher simply chains multiple wheels together, so that a change in one wheel produces an encoded letter *but also changes the position of the encoding rotor* for the next letter.  For instance, before encoding the letter `'A'` from the inner wheel, the rotor configuration is at left.  After encoding `'A'` (to `'B'`), the wheel advances and gives us the *new* configuration at right, in which `'A'` now maps to `'C'`.\n",
    "\n",
    "![](./img/rotor-pair.png)\n",
    "\n",
    "In order to think about a rotor cipher, you will have to accept a message, and for each letter in that message you will need to:\n",
    "\n",
    "1.  Encode the letter.\n",
    "2.  Advance the offset of the rotor by 1.\n",
    "\n",
    "-   Compose a function `rotor_cipher` which accepts a string `message` and an integer `n`, the starting offset for the cipher.  `rotor_cipher` should `return` the message transformed by successively apply the rotor cipher across the alphabet."
   ]
  },
  {
   "cell_type": "code",
   "execution_count": null,
   "metadata": {
    "collapsed": false,
    "nbgrader": {
     "grade": false,
     "grade_id": "rotor",
     "locked": false,
     "solution": true
    }
   },
   "outputs": [],
   "source": [
    "# define your function here\n",
    "def rotor_cipher(message, n):\n",
    "    encoded = ''\n",
    "    \n",
    "    # Convert the message to upper-case.\n",
    "    \n",
    "    # Loop over each letter of the message.\n",
    "        # If the letter is in the alphabet, then:\n",
    "            # 1. encode the letter\n",
    "            # 2. advance the offset by 1 (modulo 26)\n",
    "        # Otherwise, just add the whitespace or punctuation or numeric character to the encoded string.\n",
    "    \n",
    "    # Finally, return the encoded message.\n",
    "    return encoded"
   ]
  },
  {
   "cell_type": "code",
   "execution_count": null,
   "metadata": {
    "collapsed": false
   },
   "outputs": [],
   "source": [
    "# test your code here.  You may edit this cell, and you may use any sample text, but the following is provided for convenience.\n",
    "# As an example, 'HELLO' maps to 'HFNOS' if it starts with an offset of 0:  H->H, E->F (1), L->N (2), L->O (3), O->S (4).\n",
    "text = 'HELLO'\n",
    "rotor_cipher(text,0)"
   ]
  },
  {
   "cell_type": "code",
   "execution_count": null,
   "metadata": {
    "collapsed": false,
    "nbgrader": {
     "grade": true,
     "grade_id": "rotor-test1",
     "locked": true,
     "points": 1,
     "solution": false
    }
   },
   "outputs": [],
   "source": [
    "# it should pass this test---do NOT edit this cell\n",
    "test_text = \"\"\"The observer who has thoroughly understood one link in a series of incidents should be able to accurately state all the other\n",
    "ones, both before and after.\"\"\"\n",
    "code_text = \"\"\"TIG RFXKYDNB HTB VPI KZHLJQDFKY VPGIWYAWXN ZZR ZXDB AG U NAOGDS PH LRHOKMWDD EUCJBU TX UWHB RN ADEXVFZLTH CEMGS PBC LAY JPECQ\n",
    "OOGV, FTZO JNPZDR OCT RXMYM.\"\"\"\n",
    "result_text = rotor_cipher(test_text,0)\n",
    "assert result_text == code_text\n",
    "print('Success!')"
   ]
  },
  {
   "cell_type": "code",
   "execution_count": null,
   "metadata": {
    "collapsed": false,
    "nbgrader": {
     "grade": true,
     "grade_id": "rotor-test2",
     "locked": true,
     "points": 1,
     "solution": false
    }
   },
   "outputs": [],
   "source": [
    "# it should pass this test---do NOT edit this cell\n",
    "test_text = \"\"\"You observed that her right glove was torn at the forefinger, but you did not apparently see that both glove and finger were\n",
    "stained with violet ink. She had written in a hurry and dipped her pen too deep.\"\"\"\n",
    "code_text = \"\"\"YPW RFXKYDNN ETNH WUI JBACP DJNVF YDW YUYV JD ETR TDHVXBHBAO, ZTT ZQX HNJ UWC KABNFTDKDR MZA QFZT CQWL LRVDN KYP SWCWVJ PYMA\n",
    "PRZIOGG ANZO DRYWQG WCA. JZX BVZ TPHTUGQ MS G OCABJ MAR SYGHXX CAO NDN UQR HJKW.\"\"\"\n",
    "result_text = rotor_cipher(test_text,0)\n",
    "assert result_text == code_text\n",
    "print('Success!')"
   ]
  },
  {
   "cell_type": "markdown",
   "metadata": {},
   "source": [
    "While encoding strings with a single rotor provides *some* security, it's actually easy enough to break this code with a computer since the key is only 26 characters long.  (And, in this case, in alphabetical order.)\n",
    "\n",
    "So the next logical improvement is to randomize the order of the letters in the alphabet.  We'll skip that improvement in favor of the next:  adding a second rotor.\n",
    "\n",
    "When this happens, the *first* rotor proceeds as we have seen before.  When it makes a complete cycle (26 characters have been encoded), then it trips the *second* rotor forward one.\n",
    "\n",
    "That is, for offsets `1,1`, originally `'A'` maps to the first rotor at `'B'` and then to the second rotor at `'C'` for a net transformation of `'A'` to `'C'`.\n",
    "\n",
    "![](./img/two-rotors1.png)\n",
    "\n",
    "After encoding `'A'`, the offsets are `2,1`:  the first rotor advances (and the second stays relatively offset at one from the first rotor) such that `'A'` maps to the first rotor at `'C'` and then to the second rotor at `'D'` for a net transformation of `'A'` to `'D'`.\n",
    "\n",
    "![](./img/two-rotors2.png)\n",
    "\n",
    "Once things cycle back around though (26 characters), the offsets are `0,2`:  `'A'` maps to the first rotor at `'A'` and then to the second rotor at `'C'` for a net transformation of `'A'` to `'C'`.\n",
    "\n",
    "![](./img/two-rotors3.png)\n",
    "\n",
    "With two rotors then, the key repeats every $26 \\times 26 = 676$ characters.\n",
    "\n",
    "-   Compose a function `two_rotors` which accepts a string `message` and two integers `m` and `n`, the offsets of the first and second rotors, respectively.  `two_rotors` should `return` the `message` transformed by the two-rotor cipher method as detailed above."
   ]
  },
  {
   "cell_type": "code",
   "execution_count": null,
   "metadata": {
    "collapsed": false,
    "nbgrader": {
     "grade": false,
     "grade_id": "two-rotors",
     "locked": false,
     "solution": true
    }
   },
   "outputs": [],
   "source": [
    "# define your function here\n",
    "def two_rotors(message, m, n):\n",
    "    encoded = ''\n",
    "    # Convert the message to upper-case.\n",
    "    \n",
    "    # Loop over each letter of the message.\n",
    "        # If the letter is in the alphabet, then:\n",
    "            # 1. encode the letter\n",
    "            # 2. advance the offset of the first rotor by 1 (modulo 26)\n",
    "                # if the offset is now zero (one full cycle of rotor 1), then advance rotor 2\n",
    "            # you may find it convenient to `print` the offsets, the letter, and the encoding to clarify things here\n",
    "        # Otherwise, just add the whitespace or punctuation or numeric character to the encoded string.\n",
    "    \n",
    "    # Finally, return the encoded message.\n",
    "    return encoded"
   ]
  },
  {
   "cell_type": "code",
   "execution_count": null,
   "metadata": {
    "collapsed": false
   },
   "outputs": [],
   "source": [
    "# test your code here.  You may edit this cell, and you may use any sample value, but the following is provided for convenience.\n",
    "text = \"\"\"Mr. Fowler being a persevering man, as a good seaman should be, blockaded the house, and having met you succeeded by certain\n",
    "arguments, metallic or otherwise, in convincing you that your interests were the same as his.\"\"\"\n",
    "two_rotors(text,1,1)"
   ]
  },
  {
   "cell_type": "code",
   "execution_count": null,
   "metadata": {
    "collapsed": false,
    "nbgrader": {
     "grade": true,
     "grade_id": "two-rotors-test",
     "locked": true,
     "points": 1,
     "solution": false
    }
   },
   "outputs": [],
   "source": [
    "# it should pass this test---do NOT edit this cell\n",
    "test_text = \"\"\"Mr. Fowler being a persevering man, as a good seaman should be, blockaded the house, and having met you succeeded by certain\n",
    "arguments, metallic or otherwise, in convincing you that your interests were the same as his.\"\"\"\n",
    "code_text = \"\"\"OU. JTCSMA LPUAU P FVJLYQAOGMG ODR, FY H OXYO EROBQE KAIPHA ZD, BMRGPGKMM DSQ UCJIV, SGX CWSGMG NGX DUB ADMNQRRTT SQ VYMPXGM\n",
    "ASIXRKUBB, WPFNZAYT GK IODBPVITG, LR IVVESYOVBV OFM MBVP VMTR JPWIWLACC HQES IXV KTGZ WP FHS.\"\"\"\n",
    "result_text = two_rotors(test_text,1,1)\n",
    "assert result_text == code_text\n",
    "print('Success!')"
   ]
  },
  {
   "cell_type": "markdown",
   "metadata": {},
   "source": [
    "### Encoding Security"
   ]
  },
  {
   "cell_type": "markdown",
   "metadata": {},
   "source": [
    "We expect this approach to be far more robust against letter frequency attacks.  Let's briefly compare the frequency of the letters in an encoded block of text:"
   ]
  },
  {
   "cell_type": "code",
   "execution_count": null,
   "metadata": {
    "collapsed": false,
    "nbgrader": {
     "grade": false,
     "grade_id": "find_best_fit",
     "locked": false,
     "solution": false
    }
   },
   "outputs": [],
   "source": [
    "code = \"\"\"'LAY “XKJNTTBDOI” SATJNBD YON RV VXMXNFZDD CTLIKRF IB DSQ ETQC FNGWAOQ VHPUH ICVYMBCTAAG QJ S WYXEJYK ASG FEQIBTJLWQ OM\n",
    "UZFBNZ IBYMS. BNWLTANP CRP EHPYUUM IA PEGR PBRHV NY VACOYEVPAO KAY XKJNTTBDOI SATJNBD, UG WH QCEINP BOTAMNB IFYF BX NPRVBT QEV\n",
    "BIRBQSIHCWI HUTXDDLNYS UKEUMCKKQ NF BP LRYKNZJV GMEWPRCW HL V OCZL PT FSRVBBJLWQ IOGYRTEY, XKKOUUCEPJ VYMMSNMGSH, QEV LI AKOSH.\n",
    "UJH JZTKIVOYFNZ EHFTEYHO FLVPNYII GYM, QYHQISG, JYW LUHA FL DBEK GFYL, IWN T TNJT SYGLYI PEC BOOSYYGITN XFYOSGI WGK YSLIGBIU\n",
    "WVJGAUNXE MF WCLFDOCIC QFD LFCWY IBUKBZGF HTSYFBKPA. F FNPF UKTXATH DZ SVJT QE SVWJQKR NF UJH VKSICSZZF CU JYW VIHLRRZBMG QYRIMAC,\n",
    "QGAQIYFFL, UIZ PM EOSVK XT UVN KYAGVTH. KZBM REIJ HNDNXHJ G KNFPXBDBUEL HZ ODB RGEPTB SK LBVMEUBBH EW S KYVH SYQIBDOI JDWZNDERR XD\n",
    "KWKGN KC ANMQWWEGRL VDWNRFH. QTUHLYEKE SO NA GIKOUQCSZA, O CKDTXL DO ZMLPVVDFQK PN RDD PSRYDSE WVJ YC VRJVWIS JVEW LJ M ZPSYAGY.\n",
    "(VHXL SUSKQK, 1937)\\n'\"\"\"\n",
    "\n",
    "code_dict = calc_freq(code)\n",
    "code_letters, code_freqs = dict2sort(code_dict)\n",
    "plot_freq(letters, freqs, title='Expected Letter Frequency of English-Language Text')\n",
    "plot_freq(code_letters, code_freqs, title='Letter Frequency in Code Text')"
   ]
  },
  {
   "cell_type": "markdown",
   "metadata": {},
   "source": [
    "The occurrence of each letter is nearly uniform, leaving us no way to attempt to break this code by a frequency analysis!  Higher-order patterns must be identified and analyzed, which is precisely what the British Ultra project did before and during World War II.\n",
    "\n",
    "The [Nazi Enigma machine](https://en.wikipedia.org/wiki/Enigma_machine) was used extensively to send top-secret military communications to troops and operatives in the field.  Enigma had either three or four rotors and several other mapping devices within it, which effected a fiendishly complex mathematical transformation closely related to what you've done above.\n",
    "\n",
    "![](https://upload.wikimedia.org/wikipedia/commons/thumb/9/9f/Enigma_rotor_set.png/440px-Enigma_rotor_set.png)\n",
    "\n",
    "Famously, the code was cracked for the first time in 1939 by British mathematicians, including Alan Turing, one of the fathers of computer science.  The British kept this codebreaking secret and successfully used it to counter Nazi assaults during the war.  (A similar process took place against the [Imperial Japanese PURPLE machine](https://en.wikipedia.org/wiki/Purple_(cipher_machine)) by the American government.)\n",
    "\n",
    "Cryptography has grown vastly more sophisticated from these early efforts, but it is still rooted in the idea of a set of transformations applied either to letters directly or to the binary representations those characters have on the machine."
   ]
  },
  {
   "cell_type": "code",
   "execution_count": null,
   "metadata": {
    "collapsed": false
   },
   "outputs": [],
   "source": [
    "def two_rotors_decode(message, m, n):\n",
    "    encoded = ''\n",
    "    message = message.upper()\n",
    "    \n",
    "    for letter in message:\n",
    "        if letter in alphabet:\n",
    "            encoded += mapper(letter,n+m)\n",
    "            n = (n-1)%26  # the only differences to decode\n",
    "            if n%26 == 0:\n",
    "                m = (m-1)%26  # here as well\n",
    "        else:\n",
    "            encoded += letter\n",
    "    \n",
    "    # Finally, return the result.\n",
    "    return encoded\n",
    "\n",
    "print(two_rotors_decode(code,13,21))"
   ]
  }
 ],
 "metadata": {
  "celltoolbar": "Create Assignment",
  "kernelspec": {
   "display_name": "IPython (Python 3)",
   "language": "python",
   "name": "python3"
  },
  "language_info": {
   "codemirror_mode": {
    "name": "ipython",
    "version": 3
   },
   "file_extension": ".py",
   "mimetype": "text/x-python",
   "name": "python",
   "nbconvert_exporter": "python",
   "pygments_lexer": "ipython3",
   "version": "3.4.4"
  }
 },
 "nbformat": 4,
 "nbformat_minor": 0
}
