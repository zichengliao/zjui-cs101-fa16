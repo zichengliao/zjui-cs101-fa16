{
 "cells": [
  {
   "cell_type": "markdown",
   "metadata": {},
   "source": [
    "## `lab3`—Types, Functions, & Scope"
   ]
  },
  {
   "cell_type": "markdown",
   "metadata": {},
   "source": [
    "❖ Objectives\n",
    "\n",
    "-   Understand distinctions in Python's type system.\n",
    "-   Use indexing to access components of a data structure.\n",
    "-   Explain the use and composition of functions.\n",
    "-   Utilize the built-in library of Python functions effectively.\n",
    "-   Explain blocks and variable scope and understand how it impacts variable use."
   ]
  },
  {
   "cell_type": "markdown",
   "metadata": {},
   "source": [
    "### How numbers (and other values) work (Part 2 of ∞)"
   ]
  },
  {
   "cell_type": "markdown",
   "metadata": {},
   "source": [
    "#### Numbers"
   ]
  },
  {
   "cell_type": "markdown",
   "metadata": {},
   "source": [
    "In the previous lab, you encountered integers and floating-point numbers, the basic numeric data types of Python.  Let's look at these and more *data types*, which are simply *kinds of data* you can describe using Python.  You can determine the type of a number by using the intuitively-named type function:"
   ]
  },
  {
   "cell_type": "code",
   "execution_count": null,
   "metadata": {
    "collapsed": true
   },
   "outputs": [],
   "source": [
    "type(1)"
   ]
  },
  {
   "cell_type": "code",
   "execution_count": null,
   "metadata": {
    "collapsed": true
   },
   "outputs": [],
   "source": [
    "type(1.)    # Again, note that `1` is an `int` while `1.` is a `float`."
   ]
  },
  {
   "cell_type": "code",
   "execution_count": null,
   "metadata": {
    "collapsed": true
   },
   "outputs": [],
   "source": [
    "type(-1)"
   ]
  },
  {
   "cell_type": "code",
   "execution_count": null,
   "metadata": {
    "collapsed": true
   },
   "outputs": [],
   "source": [
    "type(0.)"
   ]
  },
  {
   "cell_type": "code",
   "execution_count": null,
   "metadata": {
    "collapsed": true
   },
   "outputs": [],
   "source": [
    "type(1.564e15)"
   ]
  },
  {
   "cell_type": "markdown",
   "metadata": {},
   "source": [
    "No surprises there.  *Promotion* is the phenomenon which occurs when (compatible) data types of different kinds are operated on together.  For instance, a `float` plus an `int` is a `float`:"
   ]
  },
  {
   "cell_type": "code",
   "execution_count": null,
   "metadata": {
    "collapsed": false
   },
   "outputs": [],
   "source": [
    "type(1e5+1)"
   ]
  },
  {
   "cell_type": "markdown",
   "metadata": {},
   "source": [
    "Sometimes functions change the type of a number, even if the result could be represented as the original type (`int`).  (This can occur when intermediate steps in a calculation use `float`s.)  Sometimes they don't."
   ]
  },
  {
   "cell_type": "code",
   "execution_count": null,
   "metadata": {
    "collapsed": false
   },
   "outputs": [],
   "source": [
    "from math import exp  # include a library function for the exponential\n",
    "print('exp(0) = ', exp(0))\n",
    "type(exp(0))"
   ]
  },
  {
   "cell_type": "code",
   "execution_count": null,
   "metadata": {
    "collapsed": false
   },
   "outputs": [],
   "source": [
    "type(abs(-1))"
   ]
  },
  {
   "cell_type": "code",
   "execution_count": null,
   "metadata": {
    "collapsed": false
   },
   "outputs": [],
   "source": [
    "type(abs(-1.))"
   ]
  },
  {
   "cell_type": "markdown",
   "metadata": {},
   "source": [
    "Python even supports a handful of special values, such as infinity ∞."
   ]
  },
  {
   "cell_type": "code",
   "execution_count": null,
   "metadata": {
    "collapsed": false
   },
   "outputs": [],
   "source": [
    "float('Inf')  #(It's a little cumbersome to use, though.)"
   ]
  },
  {
   "cell_type": "markdown",
   "metadata": {},
   "source": [
    "-   What is the type of the result of the following expression?\n",
    "        \n",
    "        int(exp(abs(-2)) + abs(-1.5)) // 4.5"
   ]
  },
  {
   "cell_type": "code",
   "execution_count": null,
   "metadata": {
    "collapsed": false,
    "nbgrader": {
     "grade": true,
     "grade_id": "expr1",
     "locked": false,
     "points": 1,
     "solution": true
    }
   },
   "outputs": [],
   "source": [
    "# add the type function for this expression and store the result in the variable T\n",
    "T = # your code here"
   ]
  },
  {
   "cell_type": "markdown",
   "metadata": {},
   "source": [
    "-   What is the type of the result of the following expression?\n",
    "        \n",
    "        abs(int(1.5e4))"
   ]
  },
  {
   "cell_type": "code",
   "execution_count": null,
   "metadata": {
    "collapsed": false,
    "nbgrader": {
     "grade": true,
     "grade_id": "expr2",
     "locked": false,
     "points": 1,
     "solution": true
    }
   },
   "outputs": [],
   "source": [
    "# add the type function for this expression and store the result in the variable S\n",
    "S = # your code here"
   ]
  },
  {
   "cell_type": "markdown",
   "metadata": {},
   "source": [
    "#### Strings & Indexing"
   ]
  },
  {
   "cell_type": "markdown",
   "metadata": {},
   "source": [
    "The fundamental text data type, the string, has already shown up in a few places:\n",
    "    \n",
    "    print(\"I saw this morning morning's minion\")\n",
    "\n",
    "In order to distinguish the human-readable message from the machine command `print`, we surrounded the string with some set of quotes.  *Indexing* refers to the selection of a single letter in a string (more generally, an element of a sequence).  We do this by placing a bracketed number after a string variable:"
   ]
  },
  {
   "cell_type": "code",
   "execution_count": null,
   "metadata": {
    "collapsed": false
   },
   "outputs": [],
   "source": [
    "message = \"Sixty zippers were quickly picked from the woven jute bag.\"\n",
    "print(message[3])"
   ]
  },
  {
   "cell_type": "markdown",
   "metadata": {},
   "source": [
    "Recall why `message[3]` returns not `'x'` but `'t'`.  Typically we would consider `'t'` to be the fourth element of the string, but many programming languages—including Python—instead start counting at zero. In this model, the string message is indexed as follows:\n",
    "\n",
    "| index  | 0 | 1 | 2 | 3 | 4 | 5 | 6 | 7 | 8 | ... | 54 | 55 | 56 | 57 |\n",
    "|--------|---|---|---|---|---|---|---|---|---|-----|----|----|----|----|\n",
    "| letter | S | i | x | t | y |   | z | i | p | ... | b  | a  | g  | .  |\n",
    "\n",
    "Aside from starting with zero, indexing is pretty straightforward."
   ]
  },
  {
   "cell_type": "markdown",
   "metadata": {
    "collapsed": false
   },
   "source": [
    "<div class=\"alert alert-info\">\n",
    "<p>\n",
    "Programming languages that count from zero are referred to as *zero-indexed*, while those that start from one are *one-indexed*.  The rationale for zero-indexing is that what is actually counted is the *offset* from the beginning of the string—thus `'i'` is *one* away from the beginning, `'x'` is *two* away, etc.  Languages that are “related” to [C](https://en.wikipedia.org/wiki/C_(programming_language) generally adopt this convention.\n",
    "</p><p>\n",
    "One argument for one-indexing is that humans (and mathematicians) count from one \"naturally\".  Languages related to [Fortran](https://en.wikipedia.org/wiki/Fortran) often use one-indexing.\n",
    "</p><p>\n",
    "If you'd like to overthink this, please refer to [this Q&A at Stack Overflow](https://programmers.stackexchange.com/questions/110804/why-are-zero-based-arrays-the-norm).\n",
    "</p>\n",
    "</div>"
   ]
  },
  {
   "cell_type": "code",
   "execution_count": null,
   "metadata": {
    "collapsed": false
   },
   "outputs": [],
   "source": [
    "message[25]"
   ]
  },
  {
   "cell_type": "code",
   "execution_count": null,
   "metadata": {
    "collapsed": false
   },
   "outputs": [],
   "source": [
    "message[1]"
   ]
  },
  {
   "cell_type": "code",
   "execution_count": null,
   "metadata": {
    "collapsed": false
   },
   "outputs": [],
   "source": [
    "message[60]"
   ]
  },
  {
   "cell_type": "markdown",
   "metadata": {
    "collapsed": false
   },
   "source": [
    "(In the last case, we tried to index past the end of the string—we can't do that!)\n",
    "\n",
    "Regular indexing is a fairly natural process for us:  it's just counting off with whole numbers.  What happens if you use a *negative* index?"
   ]
  },
  {
   "cell_type": "code",
   "execution_count": null,
   "metadata": {
    "collapsed": false
   },
   "outputs": [],
   "source": [
    "message[-1]"
   ]
  },
  {
   "cell_type": "markdown",
   "metadata": {},
   "source": [
    "Negative indexing *counts down* from the end of the string.  This is very convenient and saves you the trouble of figuring out the length of the string and then subtracting from that."
   ]
  },
  {
   "cell_type": "code",
   "execution_count": null,
   "metadata": {
    "collapsed": false
   },
   "outputs": [],
   "source": [
    "message[-2]"
   ]
  },
  {
   "cell_type": "markdown",
   "metadata": {
    "collapsed": false
   },
   "source": [
    "Some things probe the limits of sanity, though:"
   ]
  },
  {
   "cell_type": "code",
   "execution_count": null,
   "metadata": {
    "collapsed": false
   },
   "outputs": [],
   "source": [
    "message[8.5]"
   ]
  },
  {
   "cell_type": "markdown",
   "metadata": {},
   "source": [
    "What is the index of the following letters in this string?\n",
    "\n",
    "[`\"You're not fully clean till you're Zestfully clean.\"`](http://www.youtube.com/watch?v=rn4e3EikccM)"
   ]
  },
  {
   "cell_type": "markdown",
   "metadata": {
    "collapsed": false,
    "nbgrader": {
     "grade": false,
     "locked": false,
     "solution": false
    }
   },
   "source": [
    "- `'n'` (first one)"
   ]
  },
  {
   "cell_type": "code",
   "execution_count": null,
   "metadata": {
    "collapsed": false,
    "nbgrader": {
     "grade": true,
     "grade_id": "zest1",
     "locked": false,
     "points": 1,
     "solution": true
    }
   },
   "outputs": [],
   "source": [
    "# your answer here, as a variable ans\n",
    "ans = "
   ]
  },
  {
   "cell_type": "markdown",
   "metadata": {
    "collapsed": false
   },
   "source": [
    "- `'y'` (last one—use a negative index)"
   ]
  },
  {
   "cell_type": "code",
   "execution_count": null,
   "metadata": {
    "collapsed": false,
    "nbgrader": {
     "grade": true,
     "grade_id": "zest2",
     "locked": false,
     "points": 1,
     "solution": true
    }
   },
   "outputs": [],
   "source": [
    "# your answer here, as a variable ans\n",
    "ans = "
   ]
  },
  {
   "cell_type": "markdown",
   "metadata": {},
   "source": [
    "#### Slicing"
   ]
  },
  {
   "cell_type": "markdown",
   "metadata": {
    "collapsed": false
   },
   "source": [
    "Now we can generalize our notion of *indexing* to *slicing*.  Slicing means using a *range of indices* to take a *slice* of a string.  A range is written `string[left:right]`, where the `left` index is part of the string but the `right` index is not.  (We call this a *half-open* range.)"
   ]
  },
  {
   "cell_type": "code",
   "execution_count": null,
   "metadata": {
    "collapsed": false
   },
   "outputs": [],
   "source": [
    "pangram = 'Sphinx of black quartz: judge my vow.'"
   ]
  },
  {
   "cell_type": "code",
   "execution_count": null,
   "metadata": {
    "collapsed": false
   },
   "outputs": [],
   "source": [
    "pangram[0:5]"
   ]
  },
  {
   "cell_type": "code",
   "execution_count": null,
   "metadata": {
    "collapsed": false
   },
   "outputs": [],
   "source": [
    "pangram[6:13]"
   ]
  },
  {
   "cell_type": "code",
   "execution_count": null,
   "metadata": {
    "collapsed": false
   },
   "outputs": [],
   "source": [
    "pangram[0:0]  # Note that the right-hand index is not in the range, so this string is empty."
   ]
  },
  {
   "cell_type": "code",
   "execution_count": null,
   "metadata": {
    "collapsed": false
   },
   "outputs": [],
   "source": [
    "pangram[0:-1]"
   ]
  },
  {
   "cell_type": "code",
   "execution_count": null,
   "metadata": {
    "collapsed": false
   },
   "outputs": [],
   "source": [
    "pangram[5:]  # We don't have to specify both sides; if we don't, Python assumes we are going all the way to the end or coming all the way from the beginning."
   ]
  },
  {
   "cell_type": "code",
   "execution_count": null,
   "metadata": {
    "collapsed": false
   },
   "outputs": [],
   "source": [
    "pangram[:10]"
   ]
  },
  {
   "cell_type": "code",
   "execution_count": null,
   "metadata": {
    "collapsed": false
   },
   "outputs": [],
   "source": [
    "pangram[:]  # Thus this is just a copy of the entire original string."
   ]
  },
  {
   "cell_type": "code",
   "execution_count": null,
   "metadata": {
    "collapsed": false
   },
   "outputs": [],
   "source": [
    "pangram[4:-1:3]  # Take every THIRD character from the fourth space to the last (exclusive)."
   ]
  },
  {
   "cell_type": "markdown",
   "metadata": {},
   "source": [
    "Although strings *are* important and useful, you're still fairly limited in what you're able to do with them.  But many aspects of indexing will carry over to data types you'll meet later, like `list`s and `ndarray`s ($n$-dimensional arrays)—you will use these techniques to manipulate large arrays of numerical data as well."
   ]
  },
  {
   "cell_type": "markdown",
   "metadata": {},
   "source": [
    "-   How would you extract the letters `'ssupdla nioiaim'` from the following string?  Write the full expression (*i.e.*, `showoff[???]`) in the answer block below.\n",
    "        \n",
    "        showoff = 'sesquipedalian antinominalism'"
   ]
  },
  {
   "cell_type": "code",
   "execution_count": null,
   "metadata": {
    "collapsed": true
   },
   "outputs": [],
   "source": [
    "# definition\n",
    "showoff = 'sesquipedalian antinominalism'"
   ]
  },
  {
   "cell_type": "code",
   "execution_count": null,
   "metadata": {
    "collapsed": false,
    "nbgrader": {
     "grade": true,
     "grade_id": "slice",
     "locked": false,
     "points": 1,
     "solution": true
    }
   },
   "outputs": [],
   "source": [
    "# your answer here"
   ]
  },
  {
   "cell_type": "markdown",
   "metadata": {},
   "source": [
    "### How to reuse your code"
   ]
  },
  {
   "cell_type": "markdown",
   "metadata": {},
   "source": [
    "When you need to carry out a calculation many times (whether simple or complicated), you don't want to write out the formula over and over again.  Besides being inefficient, if you later need to expand the code or correct a bug, you'd have to look everywhere to make sure you changed every case.  It's far better to write the calculation *once*, as a function, and then call that function every time you need it.\n",
    "\n",
    "You've seen a handful of functions before:  `type`, `exp`, `abs`.  Let's see what's involved with writing your own."
   ]
  },
  {
   "cell_type": "markdown",
   "metadata": {
    "collapsed": false
   },
   "source": [
    "In mathematics, a function is simply a way of relating an input value (often $x$) to an output value (sometimes $y$ or $f(x)$).  For instance, a parabola may be expressed as\n",
    "\n",
    "$$y = f(x) = x^2$$\n",
    "\n",
    "and plotted as\n",
    "\n",
    "![](./img/parabola.png)\n",
    "\n",
    "Properly speaking, the resulting curve represents the collection of ordered pairs $(x,y)$.  To plot this, we select a discrete set of points in the domain $x$ and calculate the corresponding set of values $y$.\n",
    "\n",
    "| $x$  | -1.5 | -1.25  | -1    | -0.75 | -0.5  | -0.25 | 0  | .25    | 0.5  | 0.75   | 1 | 1.25  |  1.5  |\n",
    "|--------|------|--------|-------|-------|-------|-------|----|--------|------|--------|---|-------|-------|\n",
    "| $y$ | 2.25 | 1.5625 | 1.0 | 0.5625 | 0.25 | 0.0625 |  0 | 0.0625 | 0.25 | 0.5625 | 1 | 1.5625 | 2.25 |\n",
    "\n",
    "Of course, the advantage of using a computer is that each step is easier to type than to calculate by hand.  If you had to fill in this table, even using Python it would be tedious if you had to reset the variable `x` and retype the expression for `y` by hand every time.\n",
    "\n",
    "It is very likely that any equation you will wish to use in your studies and career will be more complicated than $y = x^{2}$.  In order to minimize the amount of time typing code, as well as the likelihood of making a mistake due to repetition, we can use functions to capture the operations involved:"
   ]
  },
  {
   "cell_type": "code",
   "execution_count": null,
   "metadata": {
    "collapsed": false
   },
   "outputs": [],
   "source": [
    "def sqr(x):\n",
    "    result = x * x\n",
    "    return result"
   ]
  },
  {
   "cell_type": "markdown",
   "metadata": {},
   "source": [
    "Now instead of typing `x**2` or `x*x` each time you need the formula, you can call the function `sqr(x)` instead.  (In this trivial case, that's actually *more* keystrokes, but the principle stands.)\n",
    "\n",
    "A more realistic candidate is the quadratic equation (as we saw implemented in lab2), or the equation for an arbitrary line, $y = mx + b$, where $m$ is the slope and $b$ is the intercept.  A function which formats a slope and intercept into a string representing a line may look like this:"
   ]
  },
  {
   "cell_type": "code",
   "execution_count": null,
   "metadata": {
    "collapsed": false
   },
   "outputs": [],
   "source": [
    "def line_eqn(m,b):\n",
    "    return 'y = %f x + %f'%(m,b)"
   ]
  },
  {
   "cell_type": "code",
   "execution_count": null,
   "metadata": {
    "collapsed": false
   },
   "outputs": [],
   "source": [
    "print(line_eqn(1.875,4))"
   ]
  },
  {
   "cell_type": "markdown",
   "metadata": {},
   "source": [
    "#### `math` Library Functions"
   ]
  },
  {
   "cell_type": "markdown",
   "metadata": {},
   "source": [
    "*Modules* are collections of functions which allow you to take advantage of the collective work of the scientific and engineering community when carrying out your calculations or building your models.  One of the strengths of Python is its enormous and rich library of modules, which provide both basic and involved operations far beyond the built-in operators.\n",
    "\n",
    "Let's consider the `math` library.  To use functions like `sin`, `cos`, `exp`, and `log`, you simply need to `import math`:"
   ]
  },
  {
   "cell_type": "code",
   "execution_count": null,
   "metadata": {
    "collapsed": true
   },
   "outputs": [],
   "source": [
    "import math"
   ]
  },
  {
   "cell_type": "markdown",
   "metadata": {},
   "source": [
    "You still need to specify *which* module contains the functions to use them, but otherwise it's quite straightforward:"
   ]
  },
  {
   "cell_type": "markdown",
   "metadata": {},
   "source": [
    "$$\n",
    "\\sin\\left(\\frac{\\pi}{4}\\right)\n",
    "$$"
   ]
  },
  {
   "cell_type": "code",
   "execution_count": null,
   "metadata": {
    "collapsed": false
   },
   "outputs": [],
   "source": [
    "math.sin(math.pi/4)"
   ]
  },
  {
   "cell_type": "markdown",
   "metadata": {},
   "source": [
    "$$\n",
    "\\left[\\text{ceil}\\left(4.5\\right)\\right] !\n",
    "$$"
   ]
  },
  {
   "cell_type": "code",
   "execution_count": null,
   "metadata": {
    "collapsed": false
   },
   "outputs": [],
   "source": [
    "math.factorial(math.ceil(4.5))"
   ]
  },
  {
   "cell_type": "markdown",
   "metadata": {},
   "source": [
    "-   Write an expression for the following formula:\n",
    "    \n",
    "    $$\n",
    "    \\frac{(m+n)!}{(m+1)(n-1)!}\n",
    "    $$\n",
    "    \n",
    "    (Note that the factorial refers only to the second term of the denominator, not the entire denominator.)"
   ]
  },
  {
   "cell_type": "code",
   "execution_count": null,
   "metadata": {
    "collapsed": true,
    "nbgrader": {
     "grade": false,
     "grade_id": "form-vars",
     "locked": true,
     "solution": false
    }
   },
   "outputs": [],
   "source": [
    "# these are representative values—don't change these\n",
    "m = 2\n",
    "n = 3"
   ]
  },
  {
   "cell_type": "code",
   "execution_count": null,
   "metadata": {
    "collapsed": false,
    "nbgrader": {
     "grade": false,
     "grade_id": "form",
     "locked": false,
     "solution": true
    }
   },
   "outputs": [],
   "source": [
    "# write your expression here\n",
    "expr = # your code here"
   ]
  },
  {
   "cell_type": "code",
   "execution_count": null,
   "metadata": {
    "collapsed": false,
    "nbgrader": {
     "grade": true,
     "grade_id": "form-test",
     "locked": true,
     "points": 1,
     "solution": false
    }
   },
   "outputs": [],
   "source": [
    "# this is a test it should pass\n",
    "from numpy import isclose\n",
    "assert isclose(expr, 20.0)"
   ]
  },
  {
   "cell_type": "markdown",
   "metadata": {},
   "source": [
    "Some modules are quite large, and you may not want to import everything into memory at once.  In that case, you can import a single function from a module as follows:"
   ]
  },
  {
   "cell_type": "code",
   "execution_count": null,
   "metadata": {
    "collapsed": false
   },
   "outputs": [],
   "source": [
    "from math import asin  # arcsine"
   ]
  },
  {
   "cell_type": "markdown",
   "metadata": {},
   "source": [
    "-   What line of Python code could you write to import `log10` from `math`?  (This is the logarithm base 10, $\\log_{10}(x)$.)"
   ]
  },
  {
   "cell_type": "code",
   "execution_count": null,
   "metadata": {
    "collapsed": false,
    "nbgrader": {
     "grade": false,
     "grade_id": "import",
     "locked": false,
     "solution": true
    }
   },
   "outputs": [],
   "source": [
    "# write your expression here"
   ]
  },
  {
   "cell_type": "code",
   "execution_count": null,
   "metadata": {
    "collapsed": false,
    "nbgrader": {
     "grade": true,
     "grade_id": "import-test",
     "locked": true,
     "points": 1,
     "solution": false
    }
   },
   "outputs": [],
   "source": [
    "# this is a test it should pass\n",
    "try:\n",
    "    log10(0.25)\n",
    "except NameError:\n",
    "    raise AssertionError('log10 not imported yet')"
   ]
  },
  {
   "cell_type": "markdown",
   "metadata": {},
   "source": [
    "### Application:  Cardinal Sine Function"
   ]
  },
  {
   "cell_type": "markdown",
   "metadata": {
    "collapsed": false
   },
   "source": [
    "The bread and butter of working effectively in Python is writing your own functions.\n",
    "\n",
    "Consider the *cardinal sine function*, $\\text{sinc}(x)$, which is used in signal processing by electrical engineers.\n",
    "\n",
    "$$\\text{sinc}(x) = \\frac{\\sin(x)}{x}$$\n",
    "\n",
    "![](https://upload.wikimedia.org/wikipedia/commons/thumb/5/59/Si_sinc.svg/700px-Si_sinc.svg.png)\n",
    "\n",
    "To compose a function which reproduces this behavior for an arbitrary number, we could simply define:"
   ]
  },
  {
   "cell_type": "code",
   "execution_count": null,
   "metadata": {
    "collapsed": false
   },
   "outputs": [],
   "source": [
    "from math import sin\n",
    "def sinc(x):\n",
    "    y = sin(x) / x\n",
    "    return y"
   ]
  },
  {
   "cell_type": "markdown",
   "metadata": {},
   "source": [
    "This short function simply creates a new variable `y` which contains the result of `sin(x)/x` evaluated for the actual value of `x`.  The `return` statement tells Python what the function gives back—in this case, the value of `y`."
   ]
  },
  {
   "cell_type": "code",
   "execution_count": null,
   "metadata": {
    "collapsed": false,
    "nbgrader": {
     "grade": false,
     "grade_id": "string1",
     "locked": false,
     "points": 0,
     "solution": false
    }
   },
   "outputs": [],
   "source": [
    "sinc(1.5)"
   ]
  },
  {
   "cell_type": "code",
   "execution_count": null,
   "metadata": {
    "collapsed": false
   },
   "outputs": [],
   "source": [
    "sinc(3.1415)"
   ]
  },
  {
   "cell_type": "markdown",
   "metadata": {},
   "source": [
    "Critically, *the name of the variable OUTSIDE of `sinc` is not related to the name of the variable INSIDE `sinc`*.  (We say that they inhabit different *scopes*.)  Consider this:"
   ]
  },
  {
   "cell_type": "code",
   "execution_count": null,
   "metadata": {
    "collapsed": false,
    "nbgrader": {
     "grade": false,
     "grade_id": "string2",
     "locked": false,
     "points": 1,
     "solution": false
    }
   },
   "outputs": [],
   "source": [
    "y = 5.0\n",
    "sinc(y)"
   ]
  },
  {
   "cell_type": "markdown",
   "metadata": {},
   "source": [
    "-   For what value of input `x` does `sinc` fail?  (You can find this by experiment or inspection.)"
   ]
  },
  {
   "cell_type": "code",
   "execution_count": null,
   "metadata": {
    "collapsed": true,
    "nbgrader": {
     "grade": true,
     "grade_id": "divbyzero",
     "locked": false,
     "points": 1,
     "solution": true
    }
   },
   "outputs": [],
   "source": [
    "# your answer here, in the form of a float (e.g., 1.0)"
   ]
  },
  {
   "cell_type": "markdown",
   "metadata": {},
   "source": [
    "<div class=\"alert alert-warning\">\n",
    "<p>\n",
    "The `y` in the scope outside of the function is equal to `5.0`, whereas inside of the function `sinc` the same *value* is referred to as `x`, and `y` means something else.\n",
    "</p><p>\n",
    "You can call variables any valid name you like, but it's generally good practice to name it something clear in context.  That is,\n",
    "    \n",
    "    <pre><code>def sinc(number_of_calabazas):\n",
    "        return sin(number_of_calabazas) / number_of_calabazas\n",
    "</code></pre>\n",
    "is a little too bohemian to represent good programming style.  **Responsible variable names reflect their use.**\n",
    "</p>\n",
    "</div>"
   ]
  },
  {
   "cell_type": "markdown",
   "metadata": {},
   "source": [
    "### Application:  Atmospheric Pressure"
   ]
  },
  {
   "cell_type": "markdown",
   "metadata": {},
   "source": [
    "A mercury barometer is frequently used to precisely measure the atmospheric pressure.  The height $h$ of a column of mercury adjusts to a point where its weight plus force due to the mercury vapor pressure $p_{\\text{vapor}}$ balances the force due to the external atmospheric pressure $p_{\\text{atm}}$.  Mathematically, we write,\n",
    "\n",
    "$$p_{\\text{atm}} = \\gamma h + p_{\\text{vapor}}$$\n",
    "\n",
    "where $\\gamma$ is the specific weight of mercury.  In SI units, $\\gamma = 133 \\times 10^{3} \\,\\text{N}\\cdot\\text{m}^{-3}$.  The vapor pressure of mercury is typically very small in relation to the other values, so we can safely neglect it ($\\left. p_{\\text{vapor}} \\right|_{T=25 ^{\\circ}\\text{C}} = 26.13 Pa$)<sup>[[NISTIR 6643](http://www.boulder.nist.gov/div838/SelectedPubs/NISTIR.6643.pdf)]</sup>.  A function which calculates the atmospheric pressure given the height of a column of mercury, then, is:"
   ]
  },
  {
   "cell_type": "code",
   "execution_count": null,
   "metadata": {
    "collapsed": true
   },
   "outputs": [],
   "source": [
    "def p_pa(h_Hg):\n",
    "    # Calculate and return the atmospheric pressure (in Pa) given the height\n",
    "    # of a column of mercury (in m).\n",
    "    gamma = 133e3       # N/m^-3\n",
    "    P = gamma * h_Hg    # Pa\n",
    "    return P"
   ]
  },
  {
   "cell_type": "code",
   "execution_count": null,
   "metadata": {
    "collapsed": false
   },
   "outputs": [],
   "source": [
    "p_pa(0.598)  # The atmospheric pressure in pascals for 598 mmHg."
   ]
  },
  {
   "cell_type": "code",
   "execution_count": null,
   "metadata": {
    "collapsed": false
   },
   "outputs": [],
   "source": [
    "p_pa(0.598) / 101325  # The atmospheric pressure in the units of standard atmosphere for 598 mmHg."
   ]
  },
  {
   "cell_type": "markdown",
   "metadata": {},
   "source": [
    "We will now introduce the `input` function, which lets you supply a message and ask the user for a value.  (This value then needs to be converted from a string to a `float`.)"
   ]
  },
  {
   "cell_type": "code",
   "execution_count": null,
   "metadata": {
    "collapsed": false
   },
   "outputs": [],
   "source": [
    "h_str = input('Give the height of the column of mercury in m:')\n",
    "h = float(h_str) # convert to a floating-point number\n",
    "print('The result is %f pascals.' % p_pa(h))"
   ]
  },
  {
   "cell_type": "markdown",
   "metadata": {},
   "source": [
    "-   Create a function `p_atm` which accepts the height of a column of mercury and returns the atmospheric pressure in standard atmospheres (demonstrated a couple of cells above this).  (This is equal to the pressure in pascals divided by $101\\,325\\,\\text{Pa}/\\text{atm}$.  You may accomplish this by either calling `p_pa` and dividing by 101325 or by doing the calculation directly.)"
   ]
  },
  {
   "cell_type": "code",
   "execution_count": null,
   "metadata": {
    "collapsed": false,
    "nbgrader": {
     "grade": false,
     "grade_id": "mercury",
     "locked": false,
     "solution": true
    }
   },
   "outputs": [],
   "source": [
    "# define your function here---you can copy and paste from above, or write your own from scratch"
   ]
  },
  {
   "cell_type": "code",
   "execution_count": null,
   "metadata": {
    "collapsed": false,
    "nbgrader": {
     "grade": true,
     "grade_id": "mercury-test",
     "locked": true,
     "points": 1,
     "solution": false
    }
   },
   "outputs": [],
   "source": [
    "# it should pass this test\n",
    "from numpy import isclose\n",
    "assert isclose(p_atm(1.00), 1.3126079447322971)"
   ]
  },
  {
   "cell_type": "markdown",
   "metadata": {
    "collapsed": true
   },
   "source": [
    "### Application:  The U.S.D.O.T. Bridge Formula"
   ]
  },
  {
   "cell_type": "markdown",
   "metadata": {
    "collapsed": false
   },
   "source": [
    "The United States Department of Transportation, as part of its stewardship of the U.S. interstate highway system, maintains code standards for bridge construction.  As a metric for preserving shipping infrastructure, the DOT uses the bridge formula<sup>[[DOT2014](http://ops.fhwa.dot.gov/freight/sw/brdgcalc/calc_page.htm)]</sup> to limit the legal weight-to-length ratio for freight-laden vehicles crossing a bridge.  In simplified form, the bridge formula is\n",
    "\n",
    "$$W = 500 \\left( \\frac{LN}{N-1} + 12N + 36 \\right)$$\n",
    "\n",
    "where\n",
    "\n",
    "-   $W$ is the overall gross weight on any group of consecutive axles;\n",
    "-   $L$ is the distance in feet between the outer axles of any group of consecutive axles; and\n",
    "-   $N$ is the number of axles in the group under consideration.\n",
    "\n",
    "This prevents short trucks with heavy loads from damaging bridges.\n",
    "\n",
    "![](http://ops.fhwa.dot.gov/Freight/publications/brdg_frm_wghts/images/fig1.gif)\n",
    "\n",
    "You will implement this formula as a function and use it to answer the following questions."
   ]
  },
  {
   "cell_type": "markdown",
   "metadata": {},
   "source": [
    "-   Complete the function `bridge_formula` by adding lines of code to accomplish both tasks indicated."
   ]
  },
  {
   "cell_type": "code",
   "execution_count": null,
   "metadata": {
    "collapsed": false,
    "nbgrader": {
     "grade": false,
     "grade_id": "dot",
     "locked": false,
     "solution": true
    }
   },
   "outputs": [],
   "source": [
    "def bridge_formula(L, N):\n",
    "    '''\n",
    "    Calculate bridge weight in accordance with federal law.\n",
    "\n",
    "    Args:\n",
    "        L:  distance between groups of consecutive axles, ft\n",
    "        N:  number of axles in group under consideration\n",
    "    Returns:\n",
    "        W:  overall gross weight on any group of consecutive axles, lb\n",
    "    '''\n",
    "\n",
    "    # Calculate the bridge formula's weight W using L and N.\n",
    "    # ... your code here ...\n",
    "\n",
    "    # Return the resulting weight W.\n",
    "    # ... your code here ..."
   ]
  },
  {
   "cell_type": "markdown",
   "metadata": {},
   "source": [
    "As a test of your function, the following values are correct:  $L = 51$, $N = 5$, $W = 79,500$.  (This describes a $51'$, 5-axle semi which is legally allowed to carry $79,500 \\,\\text{lb}$, including freight and truck weight—in practice, U.S.D.O.T. rounds to $80,000$ but we won't worry about that layer of complexity here.)"
   ]
  },
  {
   "cell_type": "code",
   "execution_count": null,
   "metadata": {
    "collapsed": false,
    "nbgrader": {
     "grade": true,
     "grade_id": "dot-test1",
     "locked": true,
     "points": 1,
     "solution": false
    }
   },
   "outputs": [],
   "source": [
    "# your code should pass this test\n",
    "assert bridge_formula(51, 5) == 79875"
   ]
  },
  {
   "cell_type": "code",
   "execution_count": null,
   "metadata": {
    "collapsed": false,
    "nbgrader": {
     "grade": true,
     "grade_id": "dot-test2",
     "locked": true,
     "points": 1,
     "solution": false
    }
   },
   "outputs": [],
   "source": [
    "# your code should pass this test\n",
    "assert bridge_formula(20,3) == 51000"
   ]
  },
  {
   "cell_type": "markdown",
   "metadata": {},
   "source": [
    "<div class=\"alert alert-info\">\n",
    "The interstate highway system was first established in the wake of World War I as a defense measure against ground invasion by a foreign power<sup>[[Wikipedia](https://en.wikipedia.org/wiki/Interstate_Highway_System#History)]</sup>.\n",
    "</div>"
   ]
  },
  {
   "cell_type": "markdown",
   "metadata": {},
   "source": [
    "### How to divide your code logically"
   ]
  },
  {
   "cell_type": "markdown",
   "metadata": {},
   "source": [
    "#### Blocks"
   ]
  },
  {
   "cell_type": "markdown",
   "metadata": {
    "collapsed": true
   },
   "source": [
    "A *block* in Python refers to a section of code that is sequentially executed as a unit.  Blocks are differentiated by indenting the lines of code all together.  (And Python is *very* strict about the *number* of spaces being consistent.)  For instance, consider this program to calculate the pressure of an ideal gas given the temperature and volume (of given number of molecules):\n",
    "\n",
    "$$\n",
    "P \\propto \\frac{T}{V} = \\frac{RT}{V}\n",
    "\\text{.}\n",
    "$$"
   ]
  },
  {
   "cell_type": "code",
   "execution_count": null,
   "metadata": {
    "collapsed": false
   },
   "outputs": [],
   "source": [
    "def pressure_IG(T, V):\n",
    "    # T should be in deg C and V in cubic meters\n",
    "    R = 8.314 # ideal gas constant, joules / deg C\n",
    "    P = R * T / V\n",
    "    return P\n",
    "\n",
    "temperature = 100.0 # deg C\n",
    "volume = 0.01 # cubic meters\n",
    "pressure = pressure_IG(temperature, volume)\n",
    "\n",
    "print('The pressure of', volume, 'cubic meters of gas at', temperature, 'deg C is', pressure, 'pascals')"
   ]
  },
  {
   "cell_type": "markdown",
   "metadata": {},
   "source": [
    "This program has two blocks.  The first is the outermost layer, the lines of code in the first column which will be executed sequentially.  Line by line, here is what the program does.  (Note that throughout, `print` should be using parentheses.)\n",
    "\n",
    "First, Python notices that you have created a function `pressure_IG` that accepts two *arguments*, or independent variables.\n",
    "\n",
    "![](./img/block-1.png)\n",
    "\n",
    "The code within that function, however, is skipped over until later, and Python proceeds within *the same block* to the next line, defining a variable `temperature`.  (The comment line is ignored.)\n",
    "\n",
    "![](./img/block-2.png)\n",
    "\n",
    "Again, Python proceeds to interpret the next line as defining a variable `volume`.\n",
    "\n",
    "![](./img/block-3.png)\n",
    "\n",
    "Next, Python attempts to define a variable `pressure`.  But to do so, it finds that it needs to look at the block of code referred to by the function `pressure_IG`.  So Python carries the values of `temperature` and `volume` over and places them in `T` and `V`,\n",
    "\n",
    "![](./img/block-4.png)\n",
    "\n",
    "Given `T` and `V` already, Python now enters the block of the function definition for `pressure_IG` and executes the code there.  First `R` is defined...\n",
    "\n",
    "![](./img/block-5.png)\n",
    "\n",
    "...and then the ideal gas pressure `P` is calculated.\n",
    "\n",
    "![](./img/block-6.png)\n",
    "\n",
    "`pressure_IG` `return`s `P`...\n",
    "\n",
    "![](./img/block-7.png)\n",
    "\n",
    "...which value is then used to define `pressure` in the main block and output the final result. \n",
    "\n",
    "![](./img/block-8.png)\n",
    "\n",
    "Blocks are differentiated by their indentation.  Often, blocks end with a specific command, like `return`.  However, this is not imperative.  For instance, some functions simply carry out a task and then end:"
   ]
  },
  {
   "cell_type": "code",
   "execution_count": null,
   "metadata": {
    "collapsed": false
   },
   "outputs": [],
   "source": [
    "def warn(msg):\n",
    "    print('WARNING:  ', msg)\n",
    "\n",
    "warn('Keyboard not responding. Press any key to continue.')"
   ]
  },
  {
   "cell_type": "markdown",
   "metadata": {},
   "source": [
    "#### Scope"
   ]
  },
  {
   "cell_type": "markdown",
   "metadata": {},
   "source": [
    "We hinted earlier at the slightly strange situations that can arise.  Consider the script:"
   ]
  },
  {
   "cell_type": "code",
   "execution_count": null,
   "metadata": {
    "collapsed": false
   },
   "outputs": [],
   "source": [
    "def sqr(x):\n",
    "    return x ** 2\n",
    "\n",
    "x = 5\n",
    "y = 3\n",
    "print(sqr(y))"
   ]
  },
  {
   "cell_type": "markdown",
   "metadata": {},
   "source": [
    "Here we see *two* variables `x`—one defined inside of the function `sqr` and the other in the main block of code.  We will use the concept of *variable scope* to understand what each `x` means and where.\n",
    "\n",
    "Basically, if we have a single block of code, then any reference to a variable or name (such as `x`) is interpreted by Python to mean the `x` within that block.\n",
    "\n",
    "We can do strange things with blocks:  since a variable defined inside of a block \"overrides\" other variables with the same name defined outside of the block, the following code is valid in Python, if confusing:\n",
    "\n",
    "    x = 5\n",
    "\n",
    "    def do_calc():\n",
    "        x = 4           # <-- this is a different `x`!\n",
    "        print(x)\n",
    "    \n",
    "    print(x)            # <-- this refers to the first `x` (with value 5)"
   ]
  },
  {
   "cell_type": "markdown",
   "metadata": {},
   "source": [
    "What is the value of each `x` at the marked places in the code below?  (*I.e.*, after the line indicated has been executed.)\n",
    "\n",
    "    x = 4\n",
    "    x *= 2          # 1.\n",
    "    \n",
    "    def do_calc(x):\n",
    "        print(x)    # 2.\n",
    "        return x ** 2\n",
    "    \n",
    "    y = x + 2\n",
    "    x = do_calc(y)  # 3."
   ]
  },
  {
   "cell_type": "code",
   "execution_count": null,
   "metadata": {
    "collapsed": true,
    "nbgrader": {
     "grade": true,
     "grade_id": "scope1",
     "locked": false,
     "points": 1,
     "solution": true
    }
   },
   "outputs": [],
   "source": [
    "# answer 1 here; either \"x = ###\" or \"###\" is acceptable\n"
   ]
  },
  {
   "cell_type": "code",
   "execution_count": null,
   "metadata": {
    "collapsed": false,
    "nbgrader": {
     "grade": true,
     "grade_id": "scope2",
     "locked": false,
     "points": 1,
     "solution": true
    }
   },
   "outputs": [],
   "source": [
    "# answer 2 here; either \"x = ###\" or \"###\" is acceptable\n"
   ]
  },
  {
   "cell_type": "code",
   "execution_count": null,
   "metadata": {
    "collapsed": false,
    "nbgrader": {
     "grade": true,
     "grade_id": "scope3",
     "locked": false,
     "points": 1,
     "solution": true
    }
   },
   "outputs": [],
   "source": [
    "# answer 3 here; either \"x = ###\" or \"###\" is acceptable\n"
   ]
  },
  {
   "cell_type": "markdown",
   "metadata": {},
   "source": [
    "Again, this freedom means that you need to choose variable names responsibly:  `n_entries` is always better than `n`!"
   ]
  },
  {
   "cell_type": "markdown",
   "metadata": {
    "collapsed": false,
    "nbgrader": {
     "grade": false,
     "grade_id": "string-test",
     "locked": false,
     "points": 2,
     "solution": false
    }
   },
   "source": [
    "### How to manipulate strings"
   ]
  },
  {
   "cell_type": "markdown",
   "metadata": {},
   "source": [
    "One of the elegant notions of programming is that programming helps generalize the idea of function beyond just manipulating numbers.  What about other data types—in particular, the other data type we've examined thus far, the string?  Python does have a lot of basic string manipulation functions."
   ]
  },
  {
   "cell_type": "code",
   "execution_count": null,
   "metadata": {
    "collapsed": true
   },
   "outputs": [],
   "source": [
    "myStr = 'Mr. Jock, TV quiz PhD, bags few lynx.  '"
   ]
  },
  {
   "cell_type": "code",
   "execution_count": null,
   "metadata": {
    "collapsed": true
   },
   "outputs": [],
   "source": [
    "len(myStr)              # counts number of characters in myStr"
   ]
  },
  {
   "cell_type": "code",
   "execution_count": null,
   "metadata": {
    "collapsed": true
   },
   "outputs": [],
   "source": [
    "myStr.count('x')        # counts number of occurrences of 'x' in myStr"
   ]
  },
  {
   "cell_type": "code",
   "execution_count": null,
   "metadata": {
    "collapsed": true
   },
   "outputs": [],
   "source": [
    "myStr.find('x')         # returns position of character 'x'"
   ]
  },
  {
   "cell_type": "code",
   "execution_count": null,
   "metadata": {
    "collapsed": true
   },
   "outputs": [],
   "source": [
    "myStr.lower()           # returns myStr as lower-case letters"
   ]
  },
  {
   "cell_type": "code",
   "execution_count": null,
   "metadata": {
    "collapsed": true
   },
   "outputs": [],
   "source": [
    "myStr.upper()           # returns myStr as upper-case letters"
   ]
  },
  {
   "cell_type": "code",
   "execution_count": null,
   "metadata": {
    "collapsed": true
   },
   "outputs": [],
   "source": [
    "myStr.title()           # returns myStr as title-case letters"
   ]
  },
  {
   "cell_type": "code",
   "execution_count": null,
   "metadata": {
    "collapsed": false
   },
   "outputs": [],
   "source": [
    "myStr.replace('a', 'b') # replaces all occurrences of a with b in myStr"
   ]
  },
  {
   "cell_type": "code",
   "execution_count": null,
   "metadata": {
    "collapsed": false
   },
   "outputs": [],
   "source": [
    "myStr.strip()           # removes leading/trailing white space from myStr"
   ]
  },
  {
   "cell_type": "markdown",
   "metadata": {},
   "source": [
    "Note that `myStr` itself never changes—functions like `upper` *return a copy* of `myStr` with the requested change made."
   ]
  },
  {
   "cell_type": "markdown",
   "metadata": {},
   "source": [
    "String methods are also *composable*—that is, you can put them together to carry out more complex operations:"
   ]
  },
  {
   "cell_type": "code",
   "execution_count": null,
   "metadata": {
    "collapsed": false
   },
   "outputs": [],
   "source": [
    "myStr.strip().replace(' ', '-')"
   ]
  },
  {
   "cell_type": "code",
   "execution_count": null,
   "metadata": {
    "collapsed": false
   },
   "outputs": [],
   "source": [
    "myStr.replace(' ', '-').strip()"
   ]
  },
  {
   "cell_type": "markdown",
   "metadata": {},
   "source": [
    "Now try these out:"
   ]
  },
  {
   "cell_type": "code",
   "execution_count": null,
   "metadata": {
    "collapsed": true
   },
   "outputs": [],
   "source": [
    "quip = '\"Sometimes I wonder whether the world is being run by smart people who are putting us on, or by imbeciles who really mean it.\" (Mark Twain)'"
   ]
  },
  {
   "cell_type": "markdown",
   "metadata": {},
   "source": [
    "-   How long is `quip`?"
   ]
  },
  {
   "cell_type": "code",
   "execution_count": null,
   "metadata": {
    "collapsed": true,
    "nbgrader": {
     "grade": true,
     "grade_id": "quip1",
     "locked": false,
     "points": 1,
     "solution": true
    }
   },
   "outputs": [],
   "source": [
    "# your answer here\n",
    "ans = "
   ]
  },
  {
   "cell_type": "markdown",
   "metadata": {},
   "source": [
    "-   How many times does `'b'` occur in this phrase?"
   ]
  },
  {
   "cell_type": "code",
   "execution_count": null,
   "metadata": {
    "collapsed": true,
    "nbgrader": {
     "grade": true,
     "grade_id": "quip2",
     "locked": false,
     "points": 1,
     "solution": true
    }
   },
   "outputs": [],
   "source": [
    "# your answer here\n",
    "ans = "
   ]
  },
  {
   "cell_type": "markdown",
   "metadata": {},
   "source": [
    "-   How many times does `' '` occur?"
   ]
  },
  {
   "cell_type": "code",
   "execution_count": null,
   "metadata": {
    "collapsed": true,
    "nbgrader": {
     "grade": true,
     "grade_id": "quip3",
     "locked": false,
     "points": 1,
     "solution": true
    }
   },
   "outputs": [],
   "source": [
    "# your answer here\n",
    "ans = "
   ]
  },
  {
   "cell_type": "markdown",
   "metadata": {},
   "source": [
    "-   Replace all instances of `' '` with `'a'`.  Now how many times does `'a'` occur?  (You can do this using an intermediate variable or by composing the operations as above.)"
   ]
  },
  {
   "cell_type": "code",
   "execution_count": null,
   "metadata": {
    "collapsed": true,
    "nbgrader": {
     "grade": true,
     "grade_id": "quip4",
     "locked": false,
     "points": 1,
     "solution": true
    }
   },
   "outputs": [],
   "source": [
    "# your answer here\n",
    "ans = "
   ]
  },
  {
   "cell_type": "markdown",
   "metadata": {},
   "source": [
    "Finally, let's close out this section with a teaser for the `list`, which we still haven't discussed in detail yet.  Try these:"
   ]
  },
  {
   "cell_type": "code",
   "execution_count": null,
   "metadata": {
    "collapsed": false
   },
   "outputs": [],
   "source": [
    "quip.split(' ')"
   ]
  },
  {
   "cell_type": "code",
   "execution_count": null,
   "metadata": {
    "collapsed": false
   },
   "outputs": [],
   "source": [
    "myStr.split(',')"
   ]
  },
  {
   "cell_type": "markdown",
   "metadata": {},
   "source": [
    "These break the string along the fault lines specified, or the *delimiters* `' '` and `','`, and return the result as a collection of strings known as a list."
   ]
  },
  {
   "cell_type": "markdown",
   "metadata": {},
   "source": [
    "-   Convert the string `' Time present and time past / Are both perhaps present in time future '` into the string `'Tim3_Pr3S3Nt_And_Tim3_Past_/_Ar3_Both_P3Rhaps_Pr3S3Nt_In_Tim3_Futur3'` using only the above functions.  You should only require four functions, but may take more if necessary.  The final result should be stored in the variable `ans`."
   ]
  },
  {
   "cell_type": "code",
   "execution_count": null,
   "metadata": {
    "collapsed": true,
    "nbgrader": {
     "grade": false,
     "grade_id": "xform",
     "locked": false,
     "solution": true
    }
   },
   "outputs": [],
   "source": [
    "# your code here\n",
    "start = ' Time present and time past / Are both perhaps present in time future '\n",
    "ans = "
   ]
  },
  {
   "cell_type": "code",
   "execution_count": null,
   "metadata": {
    "collapsed": true,
    "nbgrader": {
     "grade": true,
     "grade_id": "xform-test",
     "locked": true,
     "points": 1,
     "solution": false
    }
   },
   "outputs": [],
   "source": [
    "# this is a test which your code should pass\n",
    "assert ans == 'Tim3_Pr3S3Nt_And_Tim3_Past_/_Ar3_Both_P3Rhaps_Pr3S3Nt_In_Tim3_Futur3'"
   ]
  }
 ],
 "metadata": {
  "kernelspec": {
   "display_name": "IPython (Python 3)",
   "language": "python",
   "name": "python3"
  },
  "language_info": {
   "codemirror_mode": {
    "name": "ipython",
    "version": 3
   },
   "file_extension": ".py",
   "mimetype": "text/x-python",
   "name": "python",
   "nbconvert_exporter": "python",
   "pygments_lexer": "ipython3",
   "version": "3.4.3"
  }
 },
 "nbformat": 4,
 "nbformat_minor": 0
}
