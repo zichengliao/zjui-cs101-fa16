{
 "cells": [
  {
   "cell_type": "markdown",
   "metadata": {},
   "source": [
    "## `lab10`—Celestial Mechanics"
   ]
  },
  {
   "cell_type": "markdown",
   "metadata": {},
   "source": [
    "❖ Objectives\n",
    "\n",
    "-   Use $n$-dimensional arrays to manage state data.\n",
    "-   Create a scientific model with a main loop.\n",
    "-   Visualize results as plots."
   ]
  },
  {
   "cell_type": "code",
   "execution_count": null,
   "metadata": {
    "collapsed": true
   },
   "outputs": [],
   "source": [
    "# If you have to restart your kernel, come back to this cell to reload the basic modules.\n",
    "import numpy as np\n",
    "import matplotlib as mpl\n",
    "import matplotlib.pyplot as plt\n",
    "%matplotlib inline"
   ]
  },
  {
   "cell_type": "markdown",
   "metadata": {},
   "source": [
    "The signal accomplishment of twentieth-century engineering is arguably the moon shot.  The required combination of finely-tuned instrumentation, enormous rockets for powered flight, and human daring is a monument of accomplishment.  One of the primary systems of the Apollo program was navigation—the calculation and realization of orbital mechanics and celestial maneuvering.  Today, you will model orbital mechanics in a multibody solar system.\n",
    "\n",
    "A *body*, in this case, can refer to a planet, a star, a natural or artificial satellite, a rocket, a manned capsule, an asteroid, etc.  When we calculate the path of any body, all that matters are the *masses* and the *forces*.  We therefore have made two simplifying assumptions:\n",
    "\n",
    "1.  The mass of a body is focussed at its center as a point mass in two dimensions.  (The main risk of this assumption is that we risk calculating one body entering the radius of another; we trust for this lab that distances are large.)\n",
    "2.  Extremely heavy bodies may be treated as stationary.  (That is, the earth and a satellite mutually orbit their center of mass—but this point is trivially close to the earth's center of mass if the satellite is light.)\n",
    "\n",
    "![](./img/bodies.png)"
   ]
  },
  {
   "cell_type": "markdown",
   "metadata": {},
   "source": [
    "##  State"
   ]
  },
  {
   "cell_type": "markdown",
   "metadata": {},
   "source": [
    "For each body, we need to keep track of two state variables:  mass $m$ and position $\\vec{r} = (x, y)$.  We will store each body as a dictionary with entries for mass and position:\n",
    "\n",
    "    body:\n",
    "        'm' → float\n",
    "        'x' → np.ndarray(dtype=float64)\n",
    "        'y' → np.ndarray(dtype=float64)\n",
    "        'vx' → np.ndarray(dtype=float64)\n",
    "        'vy' → np.ndarray(dtype=float64)\n",
    "\n",
    "Let's see how this works for a single body acted on by a uniform force.  (This is equivalent to the glass falling off of a table, only sideways and with no floor.  It's a different perspective on the homework problem.)"
   ]
  },
  {
   "cell_type": "markdown",
   "metadata": {
    "collapsed": true,
    "nbgrader": {
     "grade": false,
     "grade_id": "pig",
     "locked": false,
     "solution": false
    }
   },
   "source": [
    "##  The Solar Sail:  A One-Body Problem"
   ]
  },
  {
   "cell_type": "markdown",
   "metadata": {},
   "source": [
    "<img src=\"https://upload.wikimedia.org/wikipedia/commons/a/af/IKAROS_solar_sail.jpg\" width=\"33%\"/>\n",
    "\n",
    "<blockquote>\n",
    "“Provide ships or sails adapted to the heavenly breezes, and there will be some who will brave even that void.”  (Johannes Kepler to Galileo Galilei, 1610)\n",
    "</blockquote>\n",
    "\n",
    "First, we need a way to model and track the motion of a single body acting under a force.  Consider, for instance, a solar sail being propelled by a the force of a uniform solar wind<sup>[[Wikipedia](https://en.wikipedia.org/wiki/Solar_sail)]</sup>.  Such a solar sail will experience a force on it of, say, 5 newtons for every 640,000 m<sup>2</sup> of area.  The acceleration the sail body experiences may be calculated according to Newton's second law:\n",
    "\n",
    "$$F = ma$$\n",
    "\n",
    "or, given the mass of the ultraefficient lattice sailer,\n",
    "$$\n",
    "m = 0.07\\,\\text{g}\\cdot\\text{m}^{-2} \\times 6.4\\cdot 10^{5} \\,\\text{m}^{2} = 4.48\\cdot 10^{4} \\,\\text{g} = 44.8 \\,\\text{kg} \\text{,}\n",
    "$$\n",
    "we find the acceleration to be\n",
    "$$\n",
    "a = F/m = (5 \\,\\text{N}) / (44.8 \\,\\text{kg}) = 0.1116\\,\\text{m}\\cdot\\text{s}^{-2} \\text{.}\n",
    "$$\n",
    "(in reality, the conversion of light force to acceleration is not 100% efficient, but we will not include that effect in our calculation.)"
   ]
  },
  {
   "cell_type": "markdown",
   "metadata": {},
   "source": [
    "-   Compose a function `accel` which accepts as parameters a variable `force` and a variable `mass`.  `accel` should `return` the acceleration resulting from force and mass according to Newton's second law."
   ]
  },
  {
   "cell_type": "code",
   "execution_count": null,
   "metadata": {
    "collapsed": true,
    "nbgrader": {
     "grade": false,
     "grade_id": "accel",
     "locked": false,
     "solution": true
    }
   },
   "outputs": [],
   "source": [
    "# define your function here"
   ]
  },
  {
   "cell_type": "markdown",
   "metadata": {},
   "source": [
    "We explicitly require the function `accel` to pass the following unit tests:\n",
    "\n",
    "| $F$ | $m$ | $a$ | Comment                     |\n",
    "|-----|-----|-----|-----------------------------|\n",
    "| 10  | 100 | 0.1 | Test of basic functionality |\n",
    "| `np.linspace(0,10,11)` | 10 | `np.array([0.0, 0.1, 0.2, 0.3, 0.4, 0.5, 0.6, 0.7, 0.8, 0.9, 1.0])` | Test for NumPy compatibility |"
   ]
  },
  {
   "cell_type": "code",
   "execution_count": null,
   "metadata": {
    "collapsed": false,
    "nbgrader": {
     "grade": true,
     "grade_id": "accel-test1",
     "locked": true,
     "points": 1,
     "solution": false
    }
   },
   "outputs": [],
   "source": [
    "# it should pass this test---do NOT edit this cell\n",
    "from numpy import isclose\n",
    "\n",
    "test_force = 10\n",
    "test_mass  = 100\n",
    "test_accel = 0.1\n",
    "\n",
    "assert isclose(accel(test_force, test_mass), test_accel)\n",
    "print('Success!')"
   ]
  },
  {
   "cell_type": "code",
   "execution_count": null,
   "metadata": {
    "collapsed": false,
    "nbgrader": {
     "grade": true,
     "grade_id": "accel-test2",
     "locked": true,
     "points": 1,
     "solution": false
    }
   },
   "outputs": [],
   "source": [
    "# it should pass this test---do NOT edit this cell\n",
    "import numpy as np\n",
    "from numpy.testing import assert_allclose\n",
    "\n",
    "test_force = np.linspace(0,10,11)\n",
    "test_mass  = 10\n",
    "test_accel = np.array([0.0, 0.1, 0.2, 0.3, 0.4, 0.5, 0.6, 0.7, 0.8, 0.9, 1.0])\n",
    "\n",
    "test_results = accel(test_force, test_mass)\n",
    "assert_allclose(test_accel, test_results)\n",
    "print('Success!')"
   ]
  },
  {
   "cell_type": "markdown",
   "metadata": {},
   "source": [
    "Given the equation of motion, we can now build a model for the motion of the solar sail.\n",
    "\n",
    "The *state variables* we need to track are:\n",
    "\n",
    "-   solar sail mass `m`—this is a single value\n",
    "-   solar sail position `x,y`—these are arrays which will start at zero, but will be filled with the position of the sail at each time increment\n",
    "-   solar sail velocity `vx,vy`—these are arrays which will start at zero, but will be filled with the velocity of the sail at each time increment\n",
    "-   time increments `t`—this will be an array of the time increment at each step of the simulation"
   ]
  },
  {
   "cell_type": "markdown",
   "metadata": {},
   "source": [
    "-   Create a dictionary named `sail` with the following key–value pairs.\n",
    "\n",
    "| key    | value         |\n",
    "|--------|---------------|\n",
    "| `'m'`  | `44.8            # kg`  |\n",
    "| `'x'`  | `np.zeros(1001)  # m`   |\n",
    "| `'y'`  | `np.zeros(1001)  # m`   |\n",
    "| `'vx'` | `np.zeros(1001)  # m/s` |\n",
    "| `'vy'` | `np.zeros(1001)  # m/s` |"
   ]
  },
  {
   "cell_type": "code",
   "execution_count": null,
   "metadata": {
    "collapsed": true,
    "nbgrader": {
     "grade": false,
     "grade_id": "saildict",
     "locked": false,
     "solution": true
    }
   },
   "outputs": [],
   "source": [
    "# create `sail` here"
   ]
  },
  {
   "cell_type": "code",
   "execution_count": null,
   "metadata": {
    "collapsed": false,
    "nbgrader": {
     "grade": true,
     "grade_id": "saildict-test",
     "locked": true,
     "points": 1,
     "solution": false
    }
   },
   "outputs": [],
   "source": [
    "# it should pass this test---do NOT edit this cell\n",
    "from numpy import isclose\n",
    "assert isclose(sail['m'], 44.8)\n",
    "assert 'x' in sail.keys()\n",
    "assert 'y' in sail.keys()\n",
    "assert 'vx' in sail.keys()\n",
    "assert 'vy' in sail.keys()\n",
    "print('Success!')"
   ]
  },
  {
   "cell_type": "markdown",
   "metadata": {},
   "source": [
    "If we wish to calculate the position of the solar sail in this model as a function of time, we can simply loop through the model state.  For each time increment, we will solve the equation of motion (Newton's second law) for the sail at each step.\n",
    "\n",
    "An outline of this process is:\n",
    "\n",
    "    # Create solar sail body (position, velocity, mass)  DONE\n",
    "    # Create array of time increments.\n",
    "    # Integrate equations of motion forward (in a loop).\n",
    "        # Calculate force on body.\n",
    "        # Update position.\n",
    "        # Update velocity.\n",
    "        # Output the results.\n",
    "    # Output final results."
   ]
  },
  {
   "cell_type": "markdown",
   "metadata": {},
   "source": [
    "-   Define an array of time increments `t`.  This should be a NumPy array ranging from 0.0 to 10.0 $\\text{s}$ with gaps between values of `1e-2`.  You may accomplish this using either `np.arange` or `np.linspace`, but be sure both the left- and right-hand bounds are included in the final array `t`."
   ]
  },
  {
   "cell_type": "code",
   "execution_count": null,
   "metadata": {
    "collapsed": true,
    "nbgrader": {
     "grade": false,
     "grade_id": "t",
     "locked": false,
     "solution": true
    }
   },
   "outputs": [],
   "source": [
    "# define `t` here"
   ]
  },
  {
   "cell_type": "code",
   "execution_count": null,
   "metadata": {
    "collapsed": false,
    "nbgrader": {
     "grade": true,
     "grade_id": "t-test",
     "locked": true,
     "points": 1,
     "solution": false
    }
   },
   "outputs": [],
   "source": [
    "# it should pass this test---do NOT edit this cell\n",
    "from numpy import isclose\n",
    "assert isclose(t[0], 0.0) and isclose(t[-1], 10.0) and len(t) == 1001\n",
    "print('Success!')"
   ]
  },
  {
   "cell_type": "markdown",
   "metadata": {},
   "source": [
    "Our main loop had four components within it:\n",
    "\n",
    "    # Integrate equations of motion forward (in a loop).\n",
    "        # Calculate force on body.\n",
    "        # Update position.\n",
    "        # Update velocity.\n",
    "        # Output the results.\n",
    "\n",
    "It's worth expanding on these a bit.  In the following, the subscript $i$ refers to the time increment, or the index in `t`."
   ]
  },
  {
   "cell_type": "markdown",
   "metadata": {},
   "source": [
    "**Force**.  In this case, our force is constant, $F_{i} = F = +5 \\,\\text{N}$ along the x-axis.\n",
    "\n",
    "-   Compose a function `force` which accepts a parameter `t` and `return`s `(5.0, 0.0)` as an `array`."
   ]
  },
  {
   "cell_type": "code",
   "execution_count": null,
   "metadata": {
    "collapsed": true,
    "nbgrader": {
     "grade": false,
     "grade_id": "force",
     "locked": false,
     "solution": true
    }
   },
   "outputs": [],
   "source": [
    "# define `force` here"
   ]
  },
  {
   "cell_type": "code",
   "execution_count": null,
   "metadata": {
    "collapsed": false,
    "nbgrader": {
     "grade": true,
     "grade_id": "force-test",
     "locked": true,
     "points": 1,
     "solution": false
    }
   },
   "outputs": [],
   "source": [
    "# it should pass this test---do NOT edit this cell\n",
    "test_force = force(0.0)\n",
    "assert type(test_force) == np.ndarray\n",
    "from numpy import isclose\n",
    "assert isclose(test_force[0], 5.0)\n",
    "assert isclose(test_force[1], 0.0)\n",
    "print('Success!')"
   ]
  },
  {
   "cell_type": "markdown",
   "metadata": {},
   "source": [
    "**Position**.  The position will be calculated numerically as\n",
    "$$\n",
    "x_{i} = x_{i-1} + v_{x,i-1} \\Delta t + \\frac{F_x}{2 m} \\Delta t^{2}  \\\\\n",
    "y_{i} = y_{i-1} + v_{y,i-1} \\Delta t + \\frac{F_y}{2 m} \\Delta t^{2} \\text{.}\n",
    "$$\n",
    "\n",
    "-   Compose a function `posn` which accepts as parameters numbers `xold`, `yold`, `vxold`, `vyold`, `fx`, `fy`, `m`, and `dt`, where these are respectively the positions and velocities of time increment `i`, the force components $F_x$ and $F_y$, the mass $m$, and the difference between successive time increments $\\Delta t$.  (That is, `xold` = $x_{i-1}$, `vxold` = $v_{x,i-1}$, and so forth.)\n",
    "    \n",
    "    `posn` should `return` a tuple containing the updated position `xnew, ynew` calculated according to the foregoing formula."
   ]
  },
  {
   "cell_type": "code",
   "execution_count": null,
   "metadata": {
    "collapsed": true,
    "nbgrader": {
     "grade": false,
     "grade_id": "posn",
     "locked": false,
     "solution": true
    }
   },
   "outputs": [],
   "source": [
    "# define `posn` here"
   ]
  },
  {
   "cell_type": "code",
   "execution_count": null,
   "metadata": {
    "collapsed": false,
    "nbgrader": {
     "grade": true,
     "grade_id": "posn-test1",
     "locked": true,
     "points": 1,
     "solution": false
    }
   },
   "outputs": [],
   "source": [
    "# it should pass this test---do NOT edit this cell\n",
    "test_posn = posn(0,0,0,0,1,1,1,1e-2)\n",
    "assert len(test_posn) == 2\n",
    "from numpy import isclose\n",
    "assert isclose(test_posn[0], 5e-5)\n",
    "assert isclose(test_posn[1], 5e-5)\n",
    "print('Success!')"
   ]
  },
  {
   "cell_type": "code",
   "execution_count": null,
   "metadata": {
    "collapsed": false,
    "nbgrader": {
     "grade": true,
     "grade_id": "posn-test2",
     "locked": true,
     "points": 1,
     "solution": false
    }
   },
   "outputs": [],
   "source": [
    "# it should pass this test---do NOT edit this cell\n",
    "test_posn = posn(0,0,1,0,10,1,1,1e-2)\n",
    "from numpy import isclose\n",
    "assert isclose(test_posn[0], 0.0105)\n",
    "assert isclose(test_posn[1], 5e-5)\n",
    "print('Success!')"
   ]
  },
  {
   "cell_type": "markdown",
   "metadata": {},
   "source": [
    "**Velocity**.  The velocity will be calculated numerically as\n",
    "$$\n",
    "v_{x,i} = v_{x,i-1} + \\frac{F_{x,i} + F_{x,i-1}}{2 m} \\Delta t  \\\\\n",
    "v_{y,i} = v_{y,i-1} + \\frac{F_{y,i} + F_{y,i-1}}{2 m} \\Delta t \\text{.}\n",
    "$$\n",
    "\n",
    "-   Compose a function `vel` which accepts as parameters numbers `vxold`, `vyold`, `fxold`, `fyold`, `fxnew`, `fynew`, `m`, and `dt`, where these are respectively the velocities of time increment `i`, the force components $F_x$ and $F_y$ (updated and old), the mass $m$, and the difference between successive time increments $\\Delta t$.  (That is, `vxold` = $v_{x,i-1}$ and so forth.)\n",
    "    \n",
    "    `vel` should `return` a tuple containing the updated velocity `vxnew, vynew` calculated according to the foregoing formula."
   ]
  },
  {
   "cell_type": "code",
   "execution_count": null,
   "metadata": {
    "collapsed": true,
    "nbgrader": {
     "grade": false,
     "grade_id": "vel",
     "locked": false,
     "solution": true
    }
   },
   "outputs": [],
   "source": [
    "# define `vel` here"
   ]
  },
  {
   "cell_type": "code",
   "execution_count": null,
   "metadata": {
    "collapsed": false,
    "nbgrader": {
     "grade": true,
     "grade_id": "vel-test1",
     "locked": true,
     "points": 1,
     "solution": false
    }
   },
   "outputs": [],
   "source": [
    "# it should pass this test---do NOT edit this cell\n",
    "test_vel = vel(0,0,5,0,5,0,1,1e-2)\n",
    "assert len(test_vel) == 2\n",
    "from numpy import isclose\n",
    "assert isclose(test_vel[0], 5e-2)\n",
    "assert isclose(test_vel[1], 0.0)\n",
    "print('Success!')"
   ]
  },
  {
   "cell_type": "code",
   "execution_count": null,
   "metadata": {
    "collapsed": false,
    "nbgrader": {
     "grade": true,
     "grade_id": "vel-test2",
     "locked": true,
     "points": 1,
     "solution": false
    }
   },
   "outputs": [],
   "source": [
    "# it should pass this test---do NOT edit this cell\n",
    "test_vel = vel(0,0,5,0,-1,10,10,1e-3)\n",
    "assert len(test_vel) == 2\n",
    "from numpy import isclose\n",
    "assert isclose(test_vel[0], 2e-4)\n",
    "assert isclose(test_vel[1], 5e-4)\n",
    "print('Success!')"
   ]
  },
  {
   "cell_type": "markdown",
   "metadata": {},
   "source": [
    "**Output**.  This will consist of two pieces:  the arrays of positions and velocities in `sail`, and plots we will generate from those values."
   ]
  },
  {
   "cell_type": "markdown",
   "metadata": {},
   "source": [
    "-   Examine the main loop of the model below.  This will integrate the equations of motion forward, applying the force to the body and seeing what the changes in position and velocity are as a result of the force.\n",
    "    \n",
    "    We will consider the values in the first place in the position and velocity arrays to be the *initial condition*, so we can skip calculating them and instead use them during the second loop."
   ]
  },
  {
   "cell_type": "code",
   "execution_count": null,
   "metadata": {
    "collapsed": false,
    "nbgrader": {
     "grade": false,
     "grade_id": "plt-all1",
     "locked": false,
     "points": 1,
     "solution": false
    }
   },
   "outputs": [],
   "source": [
    "dt = t[1] - t[0]  # time increment size, s\n",
    "nt = len(t)       # number of time steps\n",
    "\n",
    "for i in range(nt):\n",
    "    if i == 0 or i == 1:\n",
    "        continue    # if first time step, we already have initial condition\n",
    "    \n",
    "    # Calculate force on body.\n",
    "    F = force(t[i]) # force, N\n",
    "    fx = F[0]   # force in the x-direction, N\n",
    "    fy = F[1]   # force in the y-direction, N\n",
    "    \n",
    "    # Update position from velocity and force.\n",
    "    xold  = sail['x'][i-1]  # old position along the x-axis, m\n",
    "    yold  = sail['y'][i-1]  # old position along the y-axis, m\n",
    "    vxold = sail['vx'][i-1] # old velocity in the x-direction, m/s\n",
    "    vyold = sail['vy'][i-1] # old velocity in the y-direction, m/s\n",
    "    m     = sail['m']       # mass, kg\n",
    "    \n",
    "    x, y = posn(xold, yold, vxold, vyold, fx, fy, m, dt)\n",
    "    \n",
    "    sail['x'][i] = x        # new position along the x-axis, m\n",
    "    sail['y'][i] = y        # new position along the y-axis, m\n",
    "    \n",
    "    # Update velocity from force.\n",
    "    fxold = fx  # force in the x-direction doesn't change in this example, N\n",
    "    fyold = fy  # force in the y-direction doesn't change in this example, N\n",
    "    fxnew = fx  #\n",
    "    fynew = fy  #\n",
    "    \n",
    "    vx, vy = posn(vxold, vyold, fxold, fyold, fxnew, fynew, m, dt)\n",
    "    \n",
    "    sail['vx'][i] = vx      # new velocity along the x-axis, m\n",
    "    sail['vy'][i] = vy      # new velocity along the y-axis, m\n",
    "    \n",
    "    # Output the results of this loop.\n",
    "    print('time step %i completed; x-posn = %f'%(i,x))"
   ]
  },
  {
   "cell_type": "markdown",
   "metadata": {},
   "source": [
    "-   Convert the foregoing block of code into a function `loop1` which accepts as parameter a time increment size `dt` and a function `force`.  `loop1` should `return` an array of times `t` and a sail body `body`."
   ]
  },
  {
   "cell_type": "code",
   "execution_count": null,
   "metadata": {
    "collapsed": false,
    "nbgrader": {
     "grade": false,
     "grade_id": "loop",
     "locked": false,
     "solution": true
    }
   },
   "outputs": [],
   "source": [
    "def loop1(dt, force):\n",
    "    # Create array of time increments.\n",
    "    times = # you can use the code you wrote above here; MAKE SURE TO USE dt TO CALCULATE THESE\n",
    "    nt = len(times)       # number of time steps\n",
    "    \n",
    "    # Create solar sail body (position, velocity, mass)\n",
    "    body = # you can use the code you wrote above here BUT USE nt FOR THE ARRAY SIZE, NOT 1001\n",
    "    \n",
    "    # Integrate equations of motion forward (in a loop).\n",
    "    for i in range(nt):\n",
    "        if i == 0:\n",
    "            continue    # if first time step, we already have initial condition\n",
    "        \n",
    "        # you can copy from above and modify the code to work in this loop.\n",
    "        # Calculate force on body.  MAKE SURE TO USE times AND NOT t\n",
    "        # Update position.\n",
    "        # Update velocity.\n",
    "        # Output the results.  SKIP THIS SINCE IT WILL FILL UP YOUR SCREEN"
   ]
  },
  {
   "cell_type": "code",
   "execution_count": null,
   "metadata": {
    "collapsed": false,
    "nbgrader": {
     "grade": true,
     "grade_id": "loop-test",
     "locked": true,
     "points": 1,
     "solution": false
    }
   },
   "outputs": [],
   "source": [
    "# loop1 test\n",
    "t, sail = loop1(1e-2,force)"
   ]
  },
  {
   "cell_type": "markdown",
   "metadata": {},
   "source": [
    "-   Plot the $x$- and $y$-position of the sail as a function of time increments `t`.  Note that the $y$-position remains zero throughout since no vertical forces are applied to the solar sail."
   ]
  },
  {
   "cell_type": "code",
   "execution_count": null,
   "metadata": {
    "collapsed": false
   },
   "outputs": [],
   "source": [
    "plt.plot(t, sail['x'], t, sail['y'])"
   ]
  },
  {
   "cell_type": "code",
   "execution_count": null,
   "metadata": {
    "collapsed": true,
    "nbgrader": {
     "grade": true,
     "grade_id": "sailx1",
     "locked": false,
     "points": 1,
     "solution": true
    }
   },
   "outputs": [],
   "source": [
    "import matplotlib.pyplot as plt\n",
    "%matplotlib inline\n",
    "\n",
    "# YOU WRITE THE plt.plot STATEMENT\n",
    "plt.show()"
   ]
  },
  {
   "cell_type": "markdown",
   "metadata": {},
   "source": [
    "-   Plot the $x$- and $y$-velocity of the sail as a function of time increments `t`.  As before, the $y$-component remains zero."
   ]
  },
  {
   "cell_type": "code",
   "execution_count": null,
   "metadata": {
    "collapsed": true,
    "nbgrader": {
     "grade": true,
     "grade_id": "sailv2",
     "locked": false,
     "points": 1,
     "solution": true
    }
   },
   "outputs": [],
   "source": [
    "import matplotlib.pyplot as plt\n",
    "%matplotlib inline\n",
    "\n",
    "# YOU WRITE THE plt.plot STATEMENT\n",
    "plt.show()"
   ]
  },
  {
   "cell_type": "markdown",
   "metadata": {},
   "source": [
    "That's a pretty basic scenario, but what if we tilt the solar wind so that it blows athwart the sail *and* it increases gently over time?\n",
    "\n",
    "-   Compose a *new* function `force2` which accepts a time `t`. `force2` should `return` the force components\n",
    "    \n",
    "    $$\n",
    "    F = \\left(5t , 0.01 t^{2}\\right)\n",
    "    $$\n",
    "    \n",
    "    as an `array`."
   ]
  },
  {
   "cell_type": "code",
   "execution_count": null,
   "metadata": {
    "collapsed": true,
    "nbgrader": {
     "grade": false,
     "grade_id": "force2",
     "locked": false,
     "points": 1,
     "solution": true
    }
   },
   "outputs": [],
   "source": [
    "# define `force2` here"
   ]
  },
  {
   "cell_type": "code",
   "execution_count": null,
   "metadata": {
    "collapsed": false,
    "nbgrader": {
     "grade": true,
     "grade_id": "force2-test",
     "locked": true,
     "points": 1,
     "solution": false
    }
   },
   "outputs": [],
   "source": [
    "# it should pass this test---do NOT edit this cell\n",
    "test_force = force2(5)\n",
    "assert type(test_force) == np.ndarray\n",
    "from numpy import isclose\n",
    "assert isclose(test_force[0], 25.0)\n",
    "assert isclose(test_force[1], 0.25)\n",
    "print('Success!')"
   ]
  },
  {
   "cell_type": "code",
   "execution_count": null,
   "metadata": {
    "collapsed": false,
    "nbgrader": {
     "grade": false,
     "grade_id": "plt-all1",
     "locked": false,
     "points": 1,
     "solution": false
    }
   },
   "outputs": [],
   "source": [
    "t, sail = loop1(1e-3, force2)"
   ]
  },
  {
   "cell_type": "markdown",
   "metadata": {},
   "source": [
    "-   Plot the $x$- and $y$-position of the sail as a function of time increments `t`.  Note that the $y$-position now varies from zero."
   ]
  },
  {
   "cell_type": "code",
   "execution_count": null,
   "metadata": {
    "collapsed": true,
    "nbgrader": {
     "grade": true,
     "grade_id": "sailx2",
     "locked": false,
     "points": 1,
     "solution": true
    }
   },
   "outputs": [],
   "source": [
    "# YOU WRITE THE plt.plot STATEMENT\n",
    "plt.show()"
   ]
  },
  {
   "cell_type": "markdown",
   "metadata": {},
   "source": [
    "-   Plot the $y$-position of the sail against the $x$-position of the sail.  This reproduces the path of the sail over time under the influence of the varying \"solar wind\" force.  (It's worth mentioning that the equation for `force2` we use here has no relation to the force of the actual solar wind; it's just illustrative.)"
   ]
  },
  {
   "cell_type": "code",
   "execution_count": null,
   "metadata": {
    "collapsed": true,
    "nbgrader": {
     "grade": true,
     "grade_id": "sailxy",
     "locked": false,
     "points": 1,
     "solution": true
    }
   },
   "outputs": [],
   "source": [
    "# YOU WRITE THE plt.plot STATEMENT\n",
    "plt.show()"
   ]
  },
  {
   "cell_type": "markdown",
   "metadata": {},
   "source": [
    "##  Numerical Error & Convergence"
   ]
  },
  {
   "cell_type": "markdown",
   "metadata": {},
   "source": [
    "Before we continue with more complex mechanics, let's take a brief look at numerical error.\n",
    "\n",
    "If we plot the following curves on the same plot with differently-colored lines for each, we can see how the line slightly moves for each value."
   ]
  },
  {
   "cell_type": "code",
   "execution_count": null,
   "metadata": {
    "collapsed": false
   },
   "outputs": [],
   "source": [
    "(times1, sail1) = loop1(2e0, force2)\n",
    "(times2, sail2) = loop1(1e0, force2)\n",
    "(times3, sail3) = loop1(5e-1, force2)\n",
    "(times4, sail4) = loop1(1e-1, force2)"
   ]
  },
  {
   "cell_type": "code",
   "execution_count": null,
   "metadata": {
    "collapsed": false
   },
   "outputs": [],
   "source": [
    "plt.plot(sail1['x'], sail1['y'], 'r',\n",
    "         sail2['x'], sail2['y'], 'g',\n",
    "         sail3['x'], sail3['y'], 'b',\n",
    "         sail4['x'], sail4['y'], 'c')\n",
    "plt.show()"
   ]
  },
  {
   "cell_type": "markdown",
   "metadata": {},
   "source": [
    "Although it may be hard to see the finest elements (`sail4`), the trend is towards a single highly accurate solution. This is called convergence, and is characteristic of a good numerical model. Clearly, if we wish to calculate the motion of a body like a satellite around a planet, we would do well to use a sufficiently small time step in our numerical algorithm."
   ]
  },
  {
   "cell_type": "markdown",
   "metadata": {},
   "source": [
    "##  An Orbiting Satellite:  The Two-Body Problem"
   ]
  },
  {
   "cell_type": "markdown",
   "metadata": {},
   "source": [
    "Next, we would like to simulate the orbit of a natural satellite around a planet.  We will call our bodies `planet` and `moon`.  The primary differences are that we have to loop over *two* bodies now, and we have to calculate a force due to gravity rather than just a simple force equation.\n",
    "\n",
    "![](./img/moon.png)"
   ]
  },
  {
   "cell_type": "markdown",
   "metadata": {},
   "source": [
    "The force due to gravity may be written:\n",
    "$$\n",
    "F = \\frac{G m_\\text{planet} m_\\text{moon}}{r^2} \\text{.}\n",
    "$$\n",
    "\n",
    "We provide a function `f_g` which accepts a planetary mass `m1`, a planetary position `x1`, `y1`, a lunar mass `m2`, and a lunar position `x2`, `y2`.  `f_g` `return`s the force due to gravity between those two bodies."
   ]
  },
  {
   "cell_type": "code",
   "execution_count": null,
   "metadata": {
    "collapsed": false,
    "nbgrader": {
     "grade": false,
     "grade_id": "f_g",
     "locked": false,
     "solution": false
    }
   },
   "outputs": [],
   "source": [
    "def f_g(m1, x1, y1, m2, x2, y2):\n",
    "    r1 = np.array((x1,y1))\n",
    "    r2 = np.array((x2,y2))\n",
    "    d  = np.sqrt(np.sum((r2 - r1)**2))\n",
    "    G  = 1.0  # the real value is 6.6726e-11 but that takes too long to solve\n",
    "    \n",
    "    F = -G * m1 * m2 / d**2 * (r2-r1)/d\n",
    "    return F #F*(x2-x1), F*(y2-y1)"
   ]
  },
  {
   "cell_type": "code",
   "execution_count": null,
   "metadata": {
    "collapsed": false
   },
   "outputs": [],
   "source": [
    "f_g(5.98e3, 0, 0, 6.38e-5, 10, 10)"
   ]
  },
  {
   "cell_type": "markdown",
   "metadata": {},
   "source": [
    "We provide the following script which allows us to relate the motions of these bodies to each other:"
   ]
  },
  {
   "cell_type": "markdown",
   "metadata": {},
   "source": [
    "First, we establish the time increment array.  We'll use good variable names to construct this:"
   ]
  },
  {
   "cell_type": "code",
   "execution_count": null,
   "metadata": {
    "collapsed": false
   },
   "outputs": [],
   "source": [
    "# Create array of time indices.\n",
    "t_start = 0.0                      # initial time\n",
    "t_end = 1000                       # final time\n",
    "dt = 1e-1                          # time step size\n",
    "t = np.arange(t_start, t_end, dt)  # array of time steps\n",
    "nt = len(t)                        # number of time steps"
   ]
  },
  {
   "cell_type": "markdown",
   "metadata": {},
   "source": [
    "Next, we create the bodies.  Specifying them grows more involved, since we have to specify $x$, $y$, $v_x$, $v_y$, and $m$ for each.  We also have to specify an initial condition:  the planet will be stationary, the moon will move at $24 \\,\\text{m}/\\text{s}$ starting at $(+80,0)$."
   ]
  },
  {
   "cell_type": "code",
   "execution_count": null,
   "metadata": {
    "collapsed": true
   },
   "outputs": [],
   "source": [
    "# Create bodies for earth and moon.\n",
    "planet = {'m':  1000,            # mass\n",
    "          'x':  np.zeros( nt ),  # position along x-axis, m\n",
    "          'y':  np.zeros( nt ),  # position along y-axis, m\n",
    "          'vx': np.zeros( nt ),  # velocity along x-axis, m/s\n",
    "          'vy': np.zeros( nt )   # velocity along y-axis, m/s\n",
    "         }  # position history of planet\n",
    "planet['x'][0]  = 0.0  # initial position along x-axis, m\n",
    "planet['y'][0]  = 0.0  # initial position along y-axis, m\n",
    "planet['vx'][0] = 0.0  # initial velocity along x-axis, m/s\n",
    "planet['vy'][0] = 0.0  # initial velocity along y-axis, m/s\n",
    "\n",
    "moon   = {'m':  1e-3,            # mass\n",
    "          'x':  np.zeros( nt ),  # position along x-axis, m\n",
    "          'y':  np.zeros( nt ),  # position along y-axis, m\n",
    "          'vx': np.zeros( nt ),  # velocity along x-axis, m/s\n",
    "          'vy': np.zeros( nt )   # velocity along y-axis, m/s\n",
    "         }  # position history of planet\n",
    "moon_vel = 24          # initial velocity of moon\n",
    "moon['x'][0]  = 80.0   # initial position along x-axis, m\n",
    "moon['y'][0]  =   0.0  # initial position along y-axis, m\n",
    "moon['vx'][0] =   0.0  # initial velocity along x-axis, m/s\n",
    "moon['vy'][0] = moon_vel*dt/2  # initial velocity along y-axis, m/s"
   ]
  },
  {
   "cell_type": "markdown",
   "metadata": {},
   "source": [
    "Finally, we have the main loop which integrates the equations of motion.  Since we already wrote some functions to calculate the position and velocity subject to a force, we'll reuse those as well."
   ]
  },
  {
   "cell_type": "code",
   "execution_count": null,
   "metadata": {
    "collapsed": false
   },
   "outputs": [],
   "source": [
    "# Integrate equations of motion forward.\n",
    "fx = 0\n",
    "fy = 0\n",
    "for i in range(nt):\n",
    "    if i == 0:  # the initial condition can be skipped\n",
    "        fx,fy = f_g(moon['m'], moon['x'][i], moon['y'][i], planet['m'], planet['x'][i], planet['y'][i])\n",
    "        continue\n",
    "    \n",
    "    # Calculate forces on earth and moon\n",
    "    fxold = fx  # old force in the x-direction, N\n",
    "    fyold = fy  # old force in the y-direction, N\n",
    "    fx,fy = f_g(planet['m'], planet['x'][i-1], planet['y'][i-1], moon['m'], moon['x'][i-1], moon['y'][i-1])\n",
    "    \n",
    "    # Update position of moon from velocity and force (earth is stationary since heavy)\n",
    "    x, y = posn(moon['x'][i-1], moon['y'][i-1], moon['vx'][i-1], moon['vy'][i-1], fx, fy, moon['m'], dt)\n",
    "    \n",
    "    moon['x'][i] = x        # new position along the x-axis, m\n",
    "    moon['y'][i] = y        # new position along the y-axis, m\n",
    "    \n",
    "    # Update velocity of moon from force.\n",
    "    vx, vy = vel(moon['vx'][i-1], moon['vy'][i-1], fxold, fyold, fx, fy, moon['m'], dt)\n",
    "    \n",
    "    moon['vx'][i] = vx      # new velocity along the x-axis, m\n",
    "    moon['vy'][i] = vy      # new velocity along the y-axis, m\n",
    "    \n",
    "    # Output the results of this loop.\n",
    "    print('time step %i completed; time %f; x-posn = %f'%(i,t[i],x))"
   ]
  },
  {
   "cell_type": "markdown",
   "metadata": {},
   "source": [
    "Visually, this generates a slightly decaying orbit:"
   ]
  },
  {
   "cell_type": "code",
   "execution_count": null,
   "metadata": {
    "collapsed": false
   },
   "outputs": [],
   "source": [
    "import matplotlib.pyplot as plt\n",
    "import matplotlib as mpl\n",
    "%matplotlib inline\n",
    "mpl.rcParams['figure.figsize'] = 5,5  # controls the figure size\n",
    "plt.plot(moon['x'],   moon['y'],   'b-',  # mark the path of the moon\n",
    "         planet['x'], planet['y'], 'ro',  # mark the position of the planet\n",
    "         moon['x'][0],moon['y'][0],'bo')  # mark the initial position of the moon\n",
    "lim = moon['x'][0] * 1.5\n",
    "plt.xlim((-lim,lim))  # change the x-limits of the plot to make the whole orbit visible\n",
    "plt.ylim((-lim,lim))  # change the y-limits of the plot to make the whole orbit visible\n",
    "\n",
    "plt.show()"
   ]
  },
  {
   "cell_type": "markdown",
   "metadata": {},
   "source": [
    "-   Convert the foregoing blocks of code into a function `loop2` which accepts parameters `dt`, `t_end`, and `velocity`, respectively the time increment, the maximum time, and the initial velocity.  `loop2` should `return` a tuple containing `times`, `moon`, and `planet`."
   ]
  },
  {
   "cell_type": "code",
   "execution_count": null,
   "metadata": {
    "collapsed": true,
    "nbgrader": {
     "grade": false,
     "grade_id": "loop2",
     "locked": false,
     "solution": true
    }
   },
   "outputs": [],
   "source": [
    "def loop2(dt, t_end, velocity):\n",
    "    # Create array of time indices.\n",
    "    \n",
    "    # Create bodies for earth and moon.\n",
    "    \n",
    "    # Integrate equations of motion forward.\n",
    "    \n",
    "    return times, moon, planet"
   ]
  },
  {
   "cell_type": "code",
   "execution_count": null,
   "metadata": {
    "collapsed": false
   },
   "outputs": [],
   "source": [
    "# As you test this function, you can use this cell.\n",
    "# You should stick to dt around 0.1 (1e-1) and t_end < 1000 or your code may take too long to run.\n",
    "test_t, test_m, test_p = loop2(1e-1, 100, 24)\n",
    "\n",
    "plt.plot(test_m['x'],   test_m['y'],   'b-',  # mark the path of the moon\n",
    "         test_p['x'],   test_p['y'],   'ro',  # mark the position of the planet\n",
    "         test_m['x'][0],test_m['y'][0],'bo')  # mark the initial position of the moon\n",
    "lim = moon['x'][0] * 1.5\n",
    "plt.xlim((-lim,lim))  # change the x-limits of the plot to make the whole orbit visible\n",
    "plt.ylim((-lim,lim))  # change the y-limits of the plot to make the whole orbit visible\n",
    "\n",
    "plt.show()"
   ]
  },
  {
   "cell_type": "code",
   "execution_count": null,
   "metadata": {
    "collapsed": false,
    "nbgrader": {
     "grade": true,
     "grade_id": "loop2-test",
     "locked": true,
     "points": 1,
     "solution": false
    }
   },
   "outputs": [],
   "source": [
    "# it should pass this test---do NOT edit this cell\n",
    "from numpy import isclose\n",
    "t,m,p = loop2(1e-1, 100, 10)\n",
    "assert len(t) == 1000\n",
    "assert isclose(m['vx'][14],-0.20329873009101182,rtol=1e-3)\n",
    "print('Success!')"
   ]
  },
  {
   "cell_type": "markdown",
   "metadata": {},
   "source": [
    "<div class=\"alert alert-info\">\n",
    "There is no more coding required of you after this point—the rest of the lab is informational.\n",
    "</div>\n",
    "\n",
    "If you play with the parameters, you can find a number of different scenarios, ranging from decaying orbits to escape velocities to gravitational slingshots (which are used to propel satellites into deep space):\n",
    "\n",
    "<table>\n",
    "<tr>\n",
    "<td>\n",
    "<img src=\"./img/moon-1e-1-24.png\" width=\"100%\">\n",
    "</td>\n",
    "<td>\n",
    "<img src=\"./img/moon-1e-1-27.png\" width=\"100%\">\n",
    "</td>\n",
    "</tr>\n",
    "<tr>\n",
    "<td>\n",
    "<img src=\"./img/moon-1e-1-31.png\" width=\"100%\">\n",
    "</td>\n",
    "<td>\n",
    "<img src=\"./img/moon-1e-1-24n.png\" width=\"100%\">\n",
    "</td>\n",
    "</tr>\n",
    "</table>\n",
    "\n",
    "(The weird shot out at from the collision in the upper left image is a result of a division by zero as the distance between bodies goes to zero.  In reality, of course, the objects would collide.)"
   ]
  },
  {
   "cell_type": "markdown",
   "metadata": {},
   "source": [
    "##  The $n$-Body Problem"
   ]
  },
  {
   "cell_type": "markdown",
   "metadata": {},
   "source": [
    "When we move into the realm of many-body calculations, it soon becomes cumbersome to maintain separate variable names for each variable.\n",
    "\n",
    "As any significant calculation will involves multiple bodies, we would maintain a list of bodies called `bodies` which contains the dictionaries with each body's properties.\n",
    "\n",
    "We provide a code which accomplishes this for three bodies below.  (There is no more coding in this lab, so don't worry about time now.)  Note that the data structure is getting pretty complicated:  a `list` of bodies, each a `dict` containing `array`s."
   ]
  },
  {
   "cell_type": "code",
   "execution_count": null,
   "metadata": {
    "collapsed": true
   },
   "outputs": [],
   "source": [
    "# Create array of time indices.\n",
    "t_start = 0.0                           # initial time\n",
    "t_end = 50                              # final time\n",
    "dt = 1e-2                               # time step size\n",
    "times = np.arange(t_start, t_end, dt)   # array of time steps\n",
    "nt = len(times)                         # number of time steps"
   ]
  },
  {
   "cell_type": "code",
   "execution_count": null,
   "metadata": {
    "collapsed": false
   },
   "outputs": [],
   "source": [
    "# Create three orbiting bodies.\n",
    "bodies = []\n",
    "\n",
    "planet = {'m':  1000,            # mass\n",
    "          'x':  np.zeros( nt ),  # position along x-axis, m\n",
    "          'y':  np.zeros( nt ),  # position along y-axis, m\n",
    "          'vx': np.zeros( nt ),  # velocity along x-axis, m/s\n",
    "          'vy': np.zeros( nt )   # velocity along y-axis, m/s\n",
    "         }  # position history of planet\n",
    "planet['x'][0]  = 0.0  # initial position along x-axis, m\n",
    "planet['y'][0]  = 0.0  # initial position along y-axis, m\n",
    "planet['vx'][0] = 0.0  # initial velocity along x-axis, m/s\n",
    "planet['vy'][0] = 0.0  # initial velocity along y-axis, m/s\n",
    "bodies.append(planet)\n",
    "\n",
    "moon   = {'m':  1e-2,            # mass\n",
    "          'x':  np.zeros( nt ),  # position along x-axis, m\n",
    "          'y':  np.zeros( nt ),  # position along y-axis, m\n",
    "          'vx': np.zeros( nt ),  # velocity along x-axis, m/s\n",
    "          'vy': np.zeros( nt )   # velocity along y-axis, m/s\n",
    "         }  # position history of planet\n",
    "moon_vel = 120         # initial velocity of moon\n",
    "moon['x'][0]  =   0.0  # initial position along x-axis, m\n",
    "moon['y'][0]  = 100.0  # initial position along y-axis, m\n",
    "moon['vx'][0] = moon_vel*dt  # initial velocity along x-axis, m/s\n",
    "moon['vy'][0] =   0.0  # initial velocity along y-axis, m/s\n",
    "bodies.append(moon)\n",
    "\n",
    "caps   = {'m':  1e-3,            # mass\n",
    "          'x':  np.zeros( nt ),  # position along x-axis, m\n",
    "          'y':  np.zeros( nt ),  # position along y-axis, m\n",
    "          'vx': np.zeros( nt ),  # velocity along x-axis, m/s\n",
    "          'vy': np.zeros( nt )   # velocity along y-axis, m/s\n",
    "         }  # position history of planet\n",
    "caps_vel = 1000.0                      # initial velocity of moon\n",
    "caps['x'][0] = -10.0    # initial position\n",
    "caps['y'][0] = 0.0      # initial velocity\n",
    "caps['vx'][0] = 0.0  # initial velocity along x-axis, m/s\n",
    "caps['vy'][0] = caps_vel*dt   # initial velocity along y-axis, m/s\n",
    "bodies.append(caps)"
   ]
  },
  {
   "cell_type": "code",
   "execution_count": null,
   "metadata": {
    "collapsed": false
   },
   "outputs": [],
   "source": [
    "# Integrate equations of motion forward.\n",
    "for i in range(nt):\n",
    "    if i == 0:\n",
    "        continue    # if first time step, we already have initial condition\n",
    "    \n",
    "    # Calculate forces on bodies.\n",
    "    fxold = fx  # old force in the x-direction, N\n",
    "    fyold = fy  # old force in the y-direction, N\n",
    "    fx = np.zeros( len(bodies) )\n",
    "    fy = np.zeros( len(bodies) )\n",
    "    for body_j in range(len(bodies)):\n",
    "        for body_k in range(body_j+1, len(bodies)):\n",
    "            this_fx, this_fy = f_g(bodies[body_j]['m'], bodies[body_j]['x'][i-1], bodies[body_j]['y'][i-1],\n",
    "                                   bodies[body_k]['m'], bodies[body_k]['x'][i-1], bodies[body_k]['y'][i-1])\n",
    "            fx[body_j] -= this_fx\n",
    "            fy[body_j] -= this_fy\n",
    "            fx[body_k] += this_fx\n",
    "            fy[body_k] += this_fy\n",
    "    \n",
    "    # Update position of satellites (earth is stationary)\n",
    "    for body_j in range(len(bodies)):\n",
    "        x, y = posn(bodies[body_j]['x'][i-1],  bodies[body_j]['y'][i-1],\n",
    "                    bodies[body_j]['vx'][i-1], bodies[body_j]['vy'][i-1],\n",
    "                    fx[body_j], fy[body_j],    bodies[body_j]['m'], dt)\n",
    "        bodies[body_j]['x'][i] = x\n",
    "        bodies[body_j]['y'][i] = y\n",
    "    \n",
    "    # Update velocity of satellites from force.\n",
    "    for body_j in range(len(bodies)):\n",
    "        vx, vy = vel(bodies[body_j]['vx'][i-1], bodies[body_j]['vy'][i-1],\n",
    "                     fxold[body_j], fyold[body_j],\n",
    "                     fx[body_j], fy[body_j],\n",
    "                     moon['m'], dt)\n",
    "        bodies[body_j]['vx'][i] = vx\n",
    "        bodies[body_j]['vy'][i] = vy\n",
    "    \n",
    "    # Output the results of this loop.\n",
    "    if (i % 100 == 0):\n",
    "        print('time step %i completed; time %f; x-posn = %f'%(i,times[i],bodies[1]['x'][i]))"
   ]
  },
  {
   "cell_type": "code",
   "execution_count": null,
   "metadata": {
    "collapsed": false
   },
   "outputs": [],
   "source": [
    "planet = bodies[0]\n",
    "moon   = bodies[1]\n",
    "caps   = bodies[2]\n",
    "\n",
    "import matplotlib.pyplot as plt\n",
    "plt.plot(moon['x'],     moon['y'],     'b-',\n",
    "         moon['x'][0],  moon['y'][0],  'bo',\n",
    "         planet['x'][0], planet['y'][0], 'ro',\n",
    "         caps['x'],     caps['y'],     'c-',\n",
    "         caps['x'][0],  caps['y'][0],  'co')\n",
    "plt.xlim((-120,120))\n",
    "plt.ylim((-120,120))\n",
    "plt.show()"
   ]
  },
  {
   "cell_type": "markdown",
   "metadata": {},
   "source": [
    "Although in the interest of time we will not generalize this problem further, you should be able to take the three-body problem and generalize it to simulate as many bodies (satellites, planets, rockets) as you like.\n",
    "\n",
    "Since there is no analytical solution to the $n$-body problem, and it is well-characterized by Newton's laws, the $n$-body problem has long stood as a challenge of numerical accuracy<sup>[[UMN](https://web.archive.org/web/20010220232131/http://www.geom.umn.edu/~megraw/CR3BP_html/cr3bp.html)]</sup>.\n",
    "\n",
    "In practice, astronomers and space scientists do not often start from Newton's equation of motion (the second law) to calculate the position of planets and other celestial bodies.  This is because this approach neglects the relative importance of different scale factors (a numerical problem).  More often, they assume that the orbits are Keplerian and then calculate small perturbative corrections to them."
   ]
  }
 ],
 "metadata": {
  "kernelspec": {
   "display_name": "IPython (Python 3)",
   "language": "python",
   "name": "python3"
  },
  "language_info": {
   "codemirror_mode": {
    "name": "ipython",
    "version": 3
   },
   "file_extension": ".py",
   "mimetype": "text/x-python",
   "name": "python",
   "nbconvert_exporter": "python",
   "pygments_lexer": "ipython3",
   "version": "3.4.4"
  }
 },
 "nbformat": 4,
 "nbformat_minor": 0
}
