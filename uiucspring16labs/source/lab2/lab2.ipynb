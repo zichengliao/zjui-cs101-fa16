{
 "cells": [
  {
   "cell_type": "markdown",
   "metadata": {},
   "source": [
    "## `lab2`—Expressions & Data"
   ]
  },
  {
   "cell_type": "markdown",
   "metadata": {},
   "source": [
    "❖ Objectives\n",
    "\n",
    "- Explain the difference between and uses of literals and variables.\n",
    "- Write expressions to calculate quantities."
   ]
  },
  {
   "cell_type": "markdown",
   "metadata": {},
   "source": [
    "### How numbers work (Part 1 of ∞)"
   ]
  },
  {
   "cell_type": "markdown",
   "metadata": {},
   "source": [
    "You should be used by now to thinking of Python as a graphic calculator.  Let's unpack the basic numerical data types you've seen a bit, and see how they can be useful for different processes.  Python “knows” about two kinds of numbers:  integers and floating-point numbers."
   ]
  },
  {
   "cell_type": "markdown",
   "metadata": {},
   "source": [
    "#### Integers"
   ]
  },
  {
   "cell_type": "markdown",
   "metadata": {},
   "source": [
    "Integers are the set of whole numbers, positive and negative, which you have encountered previously in your algebra classes:\n",
    "\n",
    "$$\n",
    "..., -5, -4, -3, -2, -1, 0, +1, +2, +3, +4, +5, ...\n",
    "$$\n",
    "\n",
    "Anything you type as a whole number *without* a decimal point is assumed to be an integer (`int`):"
   ]
  },
  {
   "cell_type": "code",
   "execution_count": null,
   "metadata": {
    "collapsed": false
   },
   "outputs": [],
   "source": [
    "2"
   ]
  },
  {
   "cell_type": "code",
   "execution_count": null,
   "metadata": {
    "collapsed": false
   },
   "outputs": [],
   "source": [
    "128"
   ]
  },
  {
   "cell_type": "code",
   "execution_count": null,
   "metadata": {
    "collapsed": false
   },
   "outputs": [],
   "source": [
    "8675309"
   ]
  },
  {
   "cell_type": "code",
   "execution_count": null,
   "metadata": {
    "collapsed": false
   },
   "outputs": [],
   "source": [
    "79228162514264337593543950336"
   ]
  },
  {
   "cell_type": "code",
   "execution_count": null,
   "metadata": {
    "collapsed": false
   },
   "outputs": [],
   "source": [
    "-4294967296"
   ]
  },
  {
   "cell_type": "markdown",
   "metadata": {},
   "source": [
    "#### Floating-Point Numbers"
   ]
  },
  {
   "cell_type": "markdown",
   "metadata": {},
   "source": [
    "The natural extension of integers that you were given in algebra class is the set of *rational numbers*, or numbers that can be written as a proportion or fraction:\n",
    "\n",
    "$$\n",
    "\\frac{1}{2}\n",
    "\\hspace{1in}\n",
    "\\frac{1}{3}\n",
    "\\hspace{1in}\n",
    "\\frac{4}{5}\n",
    "\\hspace{1in}\n",
    "\\frac{1\\,000}{1\\,001}\n",
    "\\hspace{1in}\n",
    "\\frac{8}{5}\n",
    "$$\n",
    "\n",
    "If you think about it, decimal numbers like you've seen on calculators are rational numbers:\n",
    "\n",
    "$$\n",
    "\\frac{1}{4} = 0.25 = \\frac{25}{100}\n",
    "\\hspace{1in}\n",
    "\\frac{1}{3} = 0.\\bar{3} \\approx 0.333333 = \\frac{333\\,333}{1\\,000\\,000}\n",
    "$$"
   ]
  },
  {
   "cell_type": "code",
   "execution_count": null,
   "metadata": {
    "collapsed": false
   },
   "outputs": [],
   "source": [
    "1/4"
   ]
  },
  {
   "cell_type": "code",
   "execution_count": null,
   "metadata": {
    "collapsed": false
   },
   "outputs": [],
   "source": [
    "0.25"
   ]
  },
  {
   "cell_type": "code",
   "execution_count": null,
   "metadata": {
    "collapsed": false
   },
   "outputs": [],
   "source": [
    "1/3"
   ]
  },
  {
   "cell_type": "code",
   "execution_count": null,
   "metadata": {
    "collapsed": false
   },
   "outputs": [],
   "source": [
    "333333/1000000"
   ]
  },
  {
   "cell_type": "markdown",
   "metadata": {},
   "source": [
    "Floating-point numbers (`float`) are rational numbers written with respect to powers of ten—basically, they are the decimal numbers you've used on calculators before:\n",
    "\n",
    "$$\n",
    "0.11 = \\frac{11}{100}\n",
    "\\hspace{1in}\n",
    "1.275 = \\frac{1\\,275}{1\\,000}\n",
    "\\hspace{1in}\n",
    "1.414 = \\frac{1\\,414}{1\\,000}\n",
    "$$"
   ]
  },
  {
   "cell_type": "code",
   "execution_count": null,
   "metadata": {
    "collapsed": false
   },
   "outputs": [],
   "source": [
    "11/100"
   ]
  },
  {
   "cell_type": "code",
   "execution_count": null,
   "metadata": {
    "collapsed": false
   },
   "outputs": [],
   "source": [
    "1275/1000"
   ]
  },
  {
   "cell_type": "code",
   "execution_count": null,
   "metadata": {
    "collapsed": false
   },
   "outputs": [],
   "source": [
    "1414/1000"
   ]
  },
  {
   "cell_type": "code",
   "execution_count": null,
   "metadata": {
    "collapsed": false
   },
   "outputs": [],
   "source": [
    "1.414"
   ]
  },
  {
   "cell_type": "markdown",
   "metadata": {},
   "source": [
    "Finally, there are the *real numbers*, which include irrational numbers like $e$ and $\\pi$, which cannot be written in a finite form.  Computers can use these numbers, but often just shorten them to a rational representation:\n",
    "\n",
    "$$\n",
    "\\pi \\approx 3.1415926 = \\frac{31\\,415\\,926}{10\\,000\\,000}\n",
    "\\hspace{1in}\n",
    "\\sqrt{2} \\approx 1.414 = \\frac{1\\,414}{1\\,000}\n",
    "$$"
   ]
  },
  {
   "cell_type": "code",
   "execution_count": null,
   "metadata": {
    "collapsed": false
   },
   "outputs": [],
   "source": [
    "31415926/10000000"
   ]
  },
  {
   "cell_type": "code",
   "execution_count": null,
   "metadata": {
    "collapsed": false
   },
   "outputs": [],
   "source": [
    "2 ** 0.5"
   ]
  },
  {
   "cell_type": "markdown",
   "metadata": {},
   "source": [
    "We often write floating-point numbers with scientific or exponential notation (*i.e.*, $10^{4}$ is abbreviated `e4`).  Any number written this way is automatically a `float`.\n",
    "\n",
    "$$\n",
    "5.5 \\times 10^{-10}\n",
    "\\hspace{1in}\n",
    "1.564 \\times 10^{3}\n",
    "\\hspace{1in}\n",
    "1 \\times 10^{5}\n",
    "$$"
   ]
  },
  {
   "cell_type": "code",
   "execution_count": null,
   "metadata": {
    "collapsed": false
   },
   "outputs": [],
   "source": [
    "5.5e-10"
   ]
  },
  {
   "cell_type": "code",
   "execution_count": null,
   "metadata": {
    "collapsed": false
   },
   "outputs": [],
   "source": [
    "1.564e3 "
   ]
  },
  {
   "cell_type": "code",
   "execution_count": null,
   "metadata": {
    "collapsed": false
   },
   "outputs": [],
   "source": [
    "1e5"
   ]
  },
  {
   "cell_type": "markdown",
   "metadata": {},
   "source": [
    "#### Why have two kinds of numbers?"
   ]
  },
  {
   "cell_type": "markdown",
   "metadata": {},
   "source": [
    "Why carry around two kinds of numbers?  At one level, it simply makes sense: there are physical and mathematical quantities that are incapable of fractional counting.  (There is no such thing as half of an electron.)  Integers are well-adapted to these cases.\n",
    "\n",
    "Other values, of course, are continuous: you can have minute fractions of difference of temperature, or of luminosity, or other quantities. Thus the use of both whole-number (`int`) and part-number (`float`) categories is well-adapted to the natural measurements we already make in our observation of the natural world."
   ]
  },
  {
   "cell_type": "markdown",
   "metadata": {},
   "source": [
    "### How to write text"
   ]
  },
  {
   "cell_type": "markdown",
   "metadata": {},
   "source": [
    "Numbers are never enough—you use them to get the math right, but when it comes time to communicating the results to the outside world, you need text.  In programming terms, we refer to a block of text as a *string* (from a string of characters).  Some messages are hard-coded, like error messages; others will be generated as necessary by the program.\n",
    "\n",
    "Since we communicate with the Python intepreter using text commands, we also need a way to distinguish between instructions to the machine (code) and messages written as text (strings).  In other words, we need Python to distinguish between"
   ]
  },
  {
   "cell_type": "code",
   "execution_count": null,
   "metadata": {
    "collapsed": false
   },
   "outputs": [],
   "source": [
    "print(hello world)"
   ]
  },
  {
   "cell_type": "markdown",
   "metadata": {},
   "source": [
    "and"
   ]
  },
  {
   "cell_type": "code",
   "execution_count": null,
   "metadata": {
    "collapsed": false
   },
   "outputs": [],
   "source": [
    "print('hello world')"
   ]
  },
  {
   "cell_type": "markdown",
   "metadata": {},
   "source": [
    "The string holds the words within quotes as a single unit.  We typically write strings by surrounding our text in single quotes `''` or double quotes `\"\"`:"
   ]
  },
  {
   "cell_type": "code",
   "execution_count": null,
   "metadata": {
    "collapsed": false
   },
   "outputs": [],
   "source": [
    "'All that glitters is not gold.'"
   ]
  },
  {
   "cell_type": "code",
   "execution_count": null,
   "metadata": {
    "collapsed": false
   },
   "outputs": [],
   "source": [
    "'Who knows what evil lurks in the hearts of men?  The Shadow knows.'"
   ]
  },
  {
   "cell_type": "code",
   "execution_count": null,
   "metadata": {
    "collapsed": false
   },
   "outputs": [],
   "source": [
    "'I'm afraid I can't do that.'"
   ]
  },
  {
   "cell_type": "markdown",
   "metadata": {},
   "source": [
    "That last one has a problem, doesn't it? We wrote a string by marking the ends with single quotes ', but then used a single quote inside of the string. This is why Python lets you use either single or double quotes:"
   ]
  },
  {
   "cell_type": "code",
   "execution_count": null,
   "metadata": {
    "collapsed": false
   },
   "outputs": [],
   "source": [
    "\"I'm afraid I can't do that.\""
   ]
  },
  {
   "cell_type": "code",
   "execution_count": null,
   "metadata": {
    "collapsed": false
   },
   "outputs": [],
   "source": [
    "'They Call the Wind \"Maria\"'"
   ]
  },
  {
   "cell_type": "markdown",
   "metadata": {},
   "source": [
    "Write the following phrases as strings.  (You can copy and paste the text itself in the string.)"
   ]
  },
  {
   "cell_type": "markdown",
   "metadata": {},
   "source": [
    "- George Orwell's novel 1984"
   ]
  },
  {
   "cell_type": "code",
   "execution_count": null,
   "metadata": {
    "collapsed": true,
    "nbgrader": {
     "grade": true,
     "grade_id": "string1",
     "locked": false,
     "points": 1,
     "solution": true
    }
   },
   "outputs": [],
   "source": []
  },
  {
   "cell_type": "markdown",
   "metadata": {},
   "source": [
    "- This is a straight double quote, \", while these are curly double quotes: “, ”."
   ]
  },
  {
   "cell_type": "code",
   "execution_count": null,
   "metadata": {
    "collapsed": false,
    "nbgrader": {
     "grade": true,
     "grade_id": "string2",
     "locked": false,
     "points": 1,
     "solution": true
    }
   },
   "outputs": [],
   "source": []
  },
  {
   "cell_type": "markdown",
   "metadata": {},
   "source": [
    "If things get really hairy, you can also use triple-quotes to mark a string:"
   ]
  },
  {
   "cell_type": "code",
   "execution_count": null,
   "metadata": {
    "collapsed": false
   },
   "outputs": [],
   "source": [
    "'''She then turned and asked the librarian, \"Do you have a copy of Diderot's and d'Alembert's Encyclopedie?\"'''"
   ]
  },
  {
   "cell_type": "markdown",
   "metadata": {},
   "source": [
    "<div class=\"alert alert-info\">\n",
    "Notice that the string consists of *single quotes* wrapping a sentence containing *double quotes*, which then contain more *single quotes*.  The inner single quotes have a backslash in front of them—this is called an *escape character*, which is a fancy way of saying that the backslash tells Python to treat the single quote as a 'quote' rather than as marking the beginning or end of a string.\n",
    "</div>"
   ]
  },
  {
   "cell_type": "markdown",
   "metadata": {},
   "source": [
    "### How to store a value for future use"
   ]
  },
  {
   "cell_type": "markdown",
   "metadata": {},
   "source": [
    "In physics and engineering, we often worked with labeled unknowns, called *variables*.  This lets us refer to physical or mathematical values without knowing the value ahead of time.  For instance, the ideal gas law represents the relationship between pressure $P$, temperature $T$, and volume $V$, written as\n",
    "\n",
    "$$\n",
    "PV \\propto T \\text{.}\n",
    "$$\n",
    "\n",
    "We can express the relationship between these physical quantities without referring to specific values.\n",
    "\n",
    "For a computer, variables work much the same way—you can use them to write expressions and formulas, and you can use them to store the results of past calculations.  You create a variable using the assignment operator `=` and reuse it using the same name in subsequent expressions:"
   ]
  },
  {
   "cell_type": "code",
   "execution_count": null,
   "metadata": {
    "collapsed": true
   },
   "outputs": [],
   "source": [
    "x = 5"
   ]
  },
  {
   "cell_type": "code",
   "execution_count": null,
   "metadata": {
    "collapsed": false
   },
   "outputs": [],
   "source": [
    "x"
   ]
  },
  {
   "cell_type": "code",
   "execution_count": null,
   "metadata": {
    "collapsed": false
   },
   "outputs": [],
   "source": [
    "x**2"
   ]
  },
  {
   "cell_type": "code",
   "execution_count": null,
   "metadata": {
    "collapsed": false
   },
   "outputs": [],
   "source": [
    "x%2"
   ]
  },
  {
   "cell_type": "code",
   "execution_count": null,
   "metadata": {
    "collapsed": false
   },
   "outputs": [],
   "source": [
    "x**x"
   ]
  },
  {
   "cell_type": "code",
   "execution_count": null,
   "metadata": {
    "collapsed": false
   },
   "outputs": [],
   "source": [
    "x/x"
   ]
  },
  {
   "cell_type": "markdown",
   "metadata": {},
   "source": [
    "You can update the value of a variable by simply \"overwriting\" it:"
   ]
  },
  {
   "cell_type": "code",
   "execution_count": null,
   "metadata": {
    "collapsed": true
   },
   "outputs": [],
   "source": [
    "x = 4.5"
   ]
  },
  {
   "cell_type": "code",
   "execution_count": null,
   "metadata": {
    "collapsed": false
   },
   "outputs": [],
   "source": [
    "x"
   ]
  },
  {
   "cell_type": "code",
   "execution_count": null,
   "metadata": {
    "collapsed": false
   },
   "outputs": [],
   "source": [
    "x**2"
   ]
  },
  {
   "cell_type": "markdown",
   "metadata": {},
   "source": [
    "In fact, you can even use a variable's *former* value to give it a *new* value:"
   ]
  },
  {
   "cell_type": "code",
   "execution_count": null,
   "metadata": {
    "collapsed": true
   },
   "outputs": [],
   "source": [
    "x = 2*x"
   ]
  },
  {
   "cell_type": "markdown",
   "metadata": {},
   "source": [
    "If you missed it in the second lecture, you should stop and think about that for a moment, because it's very important.  If you were to write down the mathematical statement\n",
    "\n",
    "$$\n",
    "x = 2x \\text{,}\n",
    "$$\n",
    "\n",
    "there is *no solution*—$x$ divides out of both sides and you are left with the absurdity $1=2$.  You should *not think* of the assignment operator as reading \"equals\".  That is, `x = 2x` should be read by you as \"`x` is made equal to the value of 2 times `x`\".\n",
    "\n",
    "<div class=\"alert alert-warning\">\n",
    "The *assignment* operator is a single equals sign, `=`, read \"is made equal to\".\n",
    "<br/>\n",
    "The *equality* operator is a double equals sign, `==`, read \"equals\".\n",
    "</div>"
   ]
  },
  {
   "cell_type": "markdown",
   "metadata": {},
   "source": [
    "You can have as many variables as you like:"
   ]
  },
  {
   "cell_type": "code",
   "execution_count": null,
   "metadata": {
    "collapsed": true
   },
   "outputs": [],
   "source": [
    "a = 7\n",
    "b = -1"
   ]
  },
  {
   "cell_type": "code",
   "execution_count": null,
   "metadata": {
    "collapsed": false
   },
   "outputs": [],
   "source": [
    "a*b"
   ]
  },
  {
   "cell_type": "code",
   "execution_count": null,
   "metadata": {
    "collapsed": false
   },
   "outputs": [],
   "source": [
    "a + 4*b"
   ]
  },
  {
   "cell_type": "markdown",
   "metadata": {},
   "source": [
    "Write down the following expressions *in code*:"
   ]
  },
  {
   "cell_type": "markdown",
   "metadata": {},
   "source": [
    "- $-a^{b}$"
   ]
  },
  {
   "cell_type": "code",
   "execution_count": null,
   "metadata": {
    "collapsed": true,
    "nbgrader": {
     "grade": true,
     "grade_id": "var1",
     "locked": false,
     "points": 1,
     "solution": true
    }
   },
   "outputs": [],
   "source": []
  },
  {
   "cell_type": "markdown",
   "metadata": {},
   "source": [
    "- $\\frac{a}{b} + ab$"
   ]
  },
  {
   "cell_type": "code",
   "execution_count": null,
   "metadata": {
    "collapsed": true,
    "nbgrader": {
     "grade": true,
     "grade_id": "var2",
     "locked": false,
     "points": 1,
     "solution": true
    }
   },
   "outputs": [],
   "source": []
  },
  {
   "cell_type": "markdown",
   "metadata": {},
   "source": [
    "While we're at it, let's introduce a new data type:"
   ]
  },
  {
   "cell_type": "code",
   "execution_count": null,
   "metadata": {
    "collapsed": false
   },
   "outputs": [],
   "source": [
    "complex(a,b)"
   ]
  },
  {
   "cell_type": "markdown",
   "metadata": {},
   "source": [
    "That's a complex number, of course—and you can see that Python uses the [engineer's $j$](https://en.wikipedia.org/wiki/Imaginary_unit) instead of the mathematician's $i$."
   ]
  },
  {
   "cell_type": "markdown",
   "metadata": {},
   "source": [
    "And as you saw in the lecture, you can use much more involved variable names, which is a great idea if you don't want to lose track of what you're doing."
   ]
  },
  {
   "cell_type": "code",
   "execution_count": null,
   "metadata": {
    "collapsed": true
   },
   "outputs": [],
   "source": [
    "trees_observed = 4\n",
    "max_torque = 5.0\n",
    "middleInitial = 'L'\n",
    "finalSum = 107\n",
    "way_to_Tipperary = 'east-north-east'\n",
    "warning_msg = \"I am Jack's medulla oblongata.\""
   ]
  },
  {
   "cell_type": "markdown",
   "metadata": {},
   "source": [
    "A few possible names do not, in fact, work:"
   ]
  },
  {
   "cell_type": "code",
   "execution_count": null,
   "metadata": {
    "collapsed": false
   },
   "outputs": [],
   "source": [
    "1st = 16.5"
   ]
  },
  {
   "cell_type": "code",
   "execution_count": null,
   "metadata": {
    "collapsed": false
   },
   "outputs": [],
   "source": [
    "$ = 2"
   ]
  },
  {
   "cell_type": "markdown",
   "metadata": {},
   "source": [
    "The error that occurs in both of these cases, `SyntaxError`, generally means that you've mistyped something or tried to express something impossible by the rules of Pythonic syntax. Basically, as long as you use only letters, numbers, and the underscore `_` in your variable names, you'll be fine."
   ]
  },
  {
   "cell_type": "markdown",
   "metadata": {},
   "source": [
    "- Why doesn't `user-name = 'catherine'` work as a variable name?  (Think about the form of the variable name.)"
   ]
  },
  {
   "cell_type": "code",
   "execution_count": null,
   "metadata": {
    "collapsed": false
   },
   "outputs": [],
   "source": [
    "user-name = 'catherine'"
   ]
  },
  {
   "cell_type": "code",
   "execution_count": null,
   "metadata": {
    "collapsed": false,
    "nbgrader": {
     "grade": true,
     "grade_id": "var3",
     "locked": false,
     "points": 1,
     "solution": true
    }
   },
   "outputs": [],
   "source": [
    "# your answer here"
   ]
  },
  {
   "cell_type": "markdown",
   "metadata": {},
   "source": [
    "### How variables make your life easier"
   ]
  },
  {
   "cell_type": "markdown",
   "metadata": {},
   "source": [
    "Imagine writing a long script which depends on the value of a heat flux operator with the value $7.9 \\,\\text{watts}\\cdot\\text{meter}^{-2}\\cdot\\text{kelvin}$.  You dutifully write the statements to calculate the heat transfer through the wall with a difference of $\\Delta T = 1.2 \\,\\text{kelvin}$ using the value `7.9`:\n",
    "    \n",
    "    print(\"The heat transfer is \", 7.9 * 1.2, \" W/m**2.\")\n",
    "\n",
    "You've probably already seen the problem here—what happens when the problem changes slightly and you need to use a different heat flux operator value?  This is where variables shine:\n",
    "\n",
    "$$\n",
    "q = h \\Delta T\n",
    "$$\n",
    "\n",
    "If you set things up properly, you will only have to define a value for $h$ and $\\Delta T$ once, at the beginning of your script, and it will be the same throughout the program.  Otherwise, you might have had to search and replace every single instance—and hope you didn't miss one!\n",
    "    \n",
    "    h = 7.9     # heat transfer coef, W/m^2/deg C\n",
    "    DT = 1.2    # difference in temperature between fluid and surface, deg C\n",
    "    q = h * DT  # heat flux or amount of heat transferred, W/m^2\n",
    "\n",
    "This second version is both more readable and more flexible, since later on you may wish to use `h` and `q` again in a different expression.\n",
    "\n",
    "<div class=\"alert alert-info\">\n",
    "Note as well that since physical quantities always have physical dimensions, you should always document these with the value (or include a note to the effect that all values are [SI](https://en.wikipedia.org/wiki/International_System_of_Units), [CGS](https://en.wikipedia.org/wiki/Centimetre%E2%80%93gram%E2%80%93second_system_of_units), [FPS](https://en.wikipedia.org/wiki/Foot%E2%80%93pound%E2%80%93second_system), etc.).\n",
    "<pre><code>max_torque = 5.0  #N*m</code></pre>\n",
    "A brief explanation may be helpful as well:\n",
    "<pre><code>dx = 1e-2  #mesh discretization, m</code></pre>\n",
    "Form this habit now and it will serve you well as you begin writing code, scripts, and longer programs.\n",
    "</div>"
   ]
  },
  {
   "cell_type": "markdown",
   "metadata": {},
   "source": [
    "### How to use operators"
   ]
  },
  {
   "cell_type": "markdown",
   "metadata": {},
   "source": [
    "You've seen basic expressions in the lab and in the homework.  Let's build some more complicated expressions now to serve us in real model-building later."
   ]
  },
  {
   "cell_type": "markdown",
   "metadata": {},
   "source": [
    "-   Write an expression describing the quadratic formula,\n",
    "    $$\n",
    "    x = -b + \\frac{\\sqrt{b^2-4ac}}{2a} \\text{.}\n",
    "    $$\n",
    "    \n",
    "    Use the following variable values in your solution:"
   ]
  },
  {
   "cell_type": "code",
   "execution_count": null,
   "metadata": {
    "collapsed": true
   },
   "outputs": [],
   "source": [
    "a = 1\n",
    "b = 2\n",
    "c = 1"
   ]
  },
  {
   "cell_type": "code",
   "execution_count": null,
   "metadata": {
    "collapsed": true,
    "nbgrader": {
     "grade": false,
     "grade_id": "quad",
     "locked": false,
     "solution": true
    }
   },
   "outputs": [],
   "source": [
    "# write a formula for x here"
   ]
  },
  {
   "cell_type": "code",
   "execution_count": null,
   "metadata": {
    "collapsed": false,
    "nbgrader": {
     "grade": true,
     "grade_id": "quad-test",
     "locked": true,
     "points": 2,
     "solution": false
    }
   },
   "outputs": [],
   "source": [
    "# it should pass this test\n",
    "assert x == -2.0"
   ]
  },
  {
   "cell_type": "markdown",
   "metadata": {},
   "source": [
    "-   Write an expression describing the conversion of a [degree/minute/second](https://en.wikipedia.org/wiki/Degree_(angle)#Subdivisions) latitude value $d°m′s″$ into an equivalent decimal latitude value $\\ell$,\n",
    "    $$\n",
    "    \\ell = d + \\frac{m}{60} + \\frac{s}{3600} \\text{.}\n",
    "    $$"
   ]
  },
  {
   "cell_type": "code",
   "execution_count": null,
   "metadata": {
    "collapsed": true
   },
   "outputs": [],
   "source": [
    "d = 22\n",
    "m = 30\n",
    "s = 120"
   ]
  },
  {
   "cell_type": "code",
   "execution_count": null,
   "metadata": {
    "collapsed": true,
    "nbgrader": {
     "grade": false,
     "grade_id": "dms",
     "locked": false,
     "solution": true
    }
   },
   "outputs": [],
   "source": [
    "# write a formula for l here"
   ]
  },
  {
   "cell_type": "code",
   "execution_count": null,
   "metadata": {
    "collapsed": false,
    "nbgrader": {
     "grade": true,
     "grade_id": "dms-test",
     "locked": true,
     "points": 2,
     "solution": false
    }
   },
   "outputs": [],
   "source": [
    "# it should pass this test\n",
    "from numpy import isclose\n",
    "assert isclose(l, 22.53333)"
   ]
  },
  {
   "cell_type": "markdown",
   "metadata": {},
   "source": [
    "-   Write an expression describing the period of a pendulum for small amplitudes,\n",
    "    $$\n",
    "    T = 2\\pi \\sqrt\\frac{L}{g} \\text{.}\n",
    "    $$"
   ]
  },
  {
   "cell_type": "code",
   "execution_count": null,
   "metadata": {
    "collapsed": true
   },
   "outputs": [],
   "source": [
    "from math import pi\n",
    "L = 0.72  # cm\n",
    "g = 9.8   # acceleration due to gravity."
   ]
  },
  {
   "cell_type": "code",
   "execution_count": null,
   "metadata": {
    "collapsed": true,
    "nbgrader": {
     "grade": false,
     "grade_id": "pend",
     "locked": false,
     "solution": true
    }
   },
   "outputs": [],
   "source": [
    "# write a formula for T here, using pi (and not an approximation)"
   ]
  },
  {
   "cell_type": "code",
   "execution_count": null,
   "metadata": {
    "collapsed": false,
    "nbgrader": {
     "grade": true,
     "grade_id": "pend-test",
     "locked": true,
     "points": 2,
     "solution": false
    }
   },
   "outputs": [],
   "source": [
    "# it should pass this test\n",
    "from numpy import isclose\n",
    "assert isclose(T, 1.70307)"
   ]
  },
  {
   "cell_type": "markdown",
   "metadata": {},
   "source": [
    "A very common pattern is to need to add a value to a variable, and then to store the result of that addition as a new variable. Consider:\n",
    "    \n",
    "    sum = 0\n",
    "    sum = sum + 5  # the value of sum is now 5\n",
    "    sum = sum + 4  # the value of sum is now 5 + 3 = 8\n",
    "    sum = sum + 3  # the value of sum is now 8 + 8 = 16\n",
    "\n",
    "Since this type of statement occurs a lot, Python has a shorthand way of writing the statement:\n",
    "    \n",
    "    sum += 5"
   ]
  },
  {
   "cell_type": "markdown",
   "metadata": {},
   "source": [
    "-   Using the `+=` and `-=` operators, add the following sequence of charges to the `charge` variable:\n",
    "    $$\n",
    "    +1, -2, -1, +2, +3\n",
    "    $$"
   ]
  },
  {
   "cell_type": "code",
   "execution_count": null,
   "metadata": {
    "collapsed": true
   },
   "outputs": [],
   "source": [
    "charge = +2  # ion charge"
   ]
  },
  {
   "cell_type": "code",
   "execution_count": null,
   "metadata": {
    "collapsed": true,
    "nbgrader": {
     "grade": true,
     "grade_id": "charge",
     "locked": false,
     "points": 2,
     "solution": true
    }
   },
   "outputs": [],
   "source": [
    "# write your series of +=, -= statements here"
   ]
  },
  {
   "cell_type": "markdown",
   "metadata": {},
   "source": [
    "In your homework, you have encountered many basic expressions and operators.  With numbers, operators work much as they do on a calculator—with strings, the results are sometimes surprising.\n",
    "\n",
    "| *Operator* | *Meaning for Number*      | *Example* | *Meaning for String*  | *Example*     |\n",
    "|------------|---------------------------|-----------|-----------------------|---------------|\n",
    "| `+`        | addition                  | 1+2       | concatenation         | 'a'+'b'       |\n",
    "| `-`        | subtraction (or negation) | 1.3-.4    |                       |               |\n",
    "| `*`        | multiplication            | 2*5       | repetition (with int) | 'hello'*4     |\n",
    "| `/`        | division                  | 6/2       |                       |               |\n",
    "| `**`       | exponentiation            |           |                       |               |\n",
    "| `%`        | modulus (remainder)       |           | replacement           | '%d apples'%3 |\n",
    "| `//`       | floor division            | 7//2      |                       |               |"
   ]
  },
  {
   "cell_type": "code",
   "execution_count": null,
   "metadata": {
    "collapsed": true
   },
   "outputs": [],
   "source": [
    "sign = 'capricorn'\n",
    "numeral = 'one'"
   ]
  },
  {
   "cell_type": "code",
   "execution_count": null,
   "metadata": {
    "collapsed": false
   },
   "outputs": [],
   "source": [
    "sign + numeral"
   ]
  },
  {
   "cell_type": "code",
   "execution_count": null,
   "metadata": {
    "collapsed": false
   },
   "outputs": [],
   "source": [
    "sign + ' ' + numeral"
   ]
  },
  {
   "cell_type": "code",
   "execution_count": null,
   "metadata": {
    "collapsed": false
   },
   "outputs": [],
   "source": [
    "sign * 4"
   ]
  },
  {
   "cell_type": "code",
   "execution_count": null,
   "metadata": {
    "collapsed": false
   },
   "outputs": [],
   "source": [
    "(sign + ' ' + numeral) * 3"
   ]
  },
  {
   "cell_type": "markdown",
   "metadata": {},
   "source": [
    "-   Write an expression which generates the following string `text` using only the variables `a` and `b`, defined below.  Use the string operators as given in the table above.  You may wish to do this in several steps (*i.e.*, generate `'ab'` first, then use it to build the string up).  There is more than one correct way to solve this puzzle.\n",
    "        \n",
    "        'ababababbbbaaabbb'"
   ]
  },
  {
   "cell_type": "code",
   "execution_count": null,
   "metadata": {
    "collapsed": true
   },
   "outputs": [],
   "source": [
    "a = 'a'\n",
    "b = 'b'"
   ]
  },
  {
   "cell_type": "code",
   "execution_count": null,
   "metadata": {
    "collapsed": false,
    "nbgrader": {
     "grade": false,
     "grade_id": "string",
     "locked": false,
     "solution": true
    }
   },
   "outputs": [],
   "source": [
    "# write your expression to generate string here"
   ]
  },
  {
   "cell_type": "code",
   "execution_count": null,
   "metadata": {
    "collapsed": false,
    "nbgrader": {
     "grade": true,
     "grade_id": "string-test",
     "locked": true,
     "points": 2,
     "solution": false
    }
   },
   "outputs": [],
   "source": [
    "assert string == 'ababababbbbaaabbb'"
   ]
  }
 ],
 "metadata": {
  "kernelspec": {
   "display_name": "IPython (Python 3)",
   "language": "python",
   "name": "python3"
  },
  "language_info": {
   "codemirror_mode": {
    "name": "ipython",
    "version": 3
   },
   "file_extension": ".py",
   "mimetype": "text/x-python",
   "name": "python",
   "nbconvert_exporter": "python",
   "pygments_lexer": "ipython3",
   "version": "3.4.3"
  }
 },
 "nbformat": 4,
 "nbformat_minor": 0
}
