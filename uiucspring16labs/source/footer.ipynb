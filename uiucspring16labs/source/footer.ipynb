{
 "cells": [
  {
   "cell_type": "markdown",
   "metadata": {},
   "source": [
    "# Before you submit..."
   ]
  },
  {
   "cell_type": "markdown",
   "metadata": {},
   "source": [
    "Before you submit this exercise, make sure that everything runs as expected.  You can either use the *Validate* button on the *Assignments* tab or type `nbgrader validate labX` at the command line.\n",
    "\n",
    "Make sure that you have filled in any code block which says \"YOUR CODE HERE\" or \"YOUR ANSWER HERE\".\n",
    "\n",
    "List your sources and any collaborators below:"
   ]
  },
  {
   "cell_type": "code",
   "execution_count": null,
   "metadata": {
    "collapsed": true
   },
   "outputs": [],
   "source": [
    "SOURCES = \"\"\"List any outside sources or references here.\"\"\"\n",
    "\n",
    "COLLABORATORS =\"\"\"List any peers who assisted you with this exercise here.\"\"\""
   ]
  },
  {
   "cell_type": "markdown",
   "metadata": {},
   "source": [
    "This laboratory exercise was written by Neal Davis for Computer Science 101 at the University of Illinois.\n",
    "\n",
    "©2015–16 University of Illinois"
   ]
  }
 ],
 "metadata": {
  "kernelspec": {
   "display_name": "Python 3",
   "language": "python",
   "name": "python3"
  },
  "language_info": {
   "codemirror_mode": {
    "name": "ipython",
    "version": 3
   },
   "file_extension": ".py",
   "mimetype": "text/x-python",
   "name": "python",
   "nbconvert_exporter": "python",
   "pygments_lexer": "ipython3",
   "version": "3.4.1"
  }
 },
 "nbformat": 4,
 "nbformat_minor": 0
}
