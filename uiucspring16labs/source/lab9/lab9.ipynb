{
 "cells": [
  {
   "cell_type": "markdown",
   "metadata": {},
   "source": [
    "## `lab9`—Modeling Fluid Behavior"
   ]
  },
  {
   "cell_type": "markdown",
   "metadata": {},
   "source": [
    "❖ Objectives\n",
    "\n",
    "-   Use $n$-dimensional arrays to manage state data.\n",
    "-   Plot data.\n",
    "-   Create a model of scientific data."
   ]
  },
  {
   "cell_type": "markdown",
   "metadata": {},
   "source": [
    "In today's lab, you will implement various three fluid modeling laws.  You will then use these data to compare their results with real data and assess the relative accuracy of the various models."
   ]
  },
  {
   "cell_type": "markdown",
   "metadata": {},
   "source": [
    "##  Ideal Gas Law"
   ]
  },
  {
   "cell_type": "markdown",
   "metadata": {},
   "source": [
    "In the physical description of liquids and gases, it often becomes necessary to use a relationship between the pressure on a volume of fluid and its temperature.  The simplest of these relationships is the *ideal gas law*,\n",
    "\n",
    "$$PV = RT$$\n",
    "\n",
    "(for a specified number of molecules of the gas).\n",
    "\n",
    "The ideal gas law describes gases very well near atmospheric conditions and at lower pressures, but deviates from the true behavior of gases under other circumstances.  Since accurate descriptions of fluid flow, chemical reactivity, and oil field dynamics (among other things) depend on describing the state of a liquid, corrections are required."
   ]
  },
  {
   "cell_type": "markdown",
   "metadata": {},
   "source": [
    "1.  Write the ideal gas law as a function `pig` which accepts parameters `V` in cubic meters and `T` in degrees Kelvin (absolute temperature) and returns the corresponding `P`ressure in pascals.  $R = 8.314 \\,\\textrm{joule}\\cdot\\textrm{K}$, a proportionality constant."
   ]
  },
  {
   "cell_type": "code",
   "execution_count": null,
   "metadata": {
    "collapsed": true,
    "nbgrader": {
     "grade": false,
     "grade_id": "pig",
     "locked": false,
     "solution": true
    }
   },
   "outputs": [],
   "source": [
    "# define your function here\n",
    "def pig(V, T):\n",
    "    \"\"\"\n",
    "    Return the ideal-gas pressure for a specified volume and temperature.\n",
    "    \n",
    "    Keyword arguments:\n",
    "    V -- volume, in cubic meters\n",
    "    T -- temperature, in Kelvin\n",
    "    \"\"\"\n",
    "    \n",
    "    ## YOU WRITE THIS BLOCK\n",
    "    \n",
    "    # Finally, return the ideal-gas pressure.\n",
    "    return P"
   ]
  },
  {
   "cell_type": "markdown",
   "metadata": {},
   "source": [
    "You may test your function against the following values:\n",
    "    \n",
    "| $P$/Pa | $V$/m$^3$ | $T$/K |\n",
    "|--------|-----------|-------|\n",
    "| 83140  | 0.01      | 100   |\n",
    "| 166280 | 0.01      | 200   |"
   ]
  },
  {
   "cell_type": "code",
   "execution_count": null,
   "metadata": {
    "collapsed": true
   },
   "outputs": [],
   "source": [
    "# test your code here\n",
    "pig(0.01, 273)"
   ]
  },
  {
   "cell_type": "code",
   "execution_count": null,
   "metadata": {
    "collapsed": true,
    "nbgrader": {
     "grade": true,
     "grade_id": "pig-test1",
     "locked": true,
     "points": 1,
     "solution": false
    }
   },
   "outputs": [],
   "source": [
    "# it should pass this test---do NOT edit this cell\n",
    "from numpy import isclose\n",
    "assert isclose(pig(0.01, 100), 83140)\n",
    "print('Success!')"
   ]
  },
  {
   "cell_type": "code",
   "execution_count": null,
   "metadata": {
    "collapsed": true,
    "nbgrader": {
     "grade": true,
     "grade_id": "pig-test2",
     "locked": true,
     "points": 1,
     "solution": false
    }
   },
   "outputs": [],
   "source": [
    "# it should pass this test---do NOT edit this cell\n",
    "from numpy import isclose\n",
    "assert isclose(pig(0.01, 200), 166280)\n",
    "print('Success!')"
   ]
  },
  {
   "cell_type": "markdown",
   "metadata": {},
   "source": [
    "##  Cubic Equations of State"
   ]
  },
  {
   "cell_type": "markdown",
   "metadata": {},
   "source": [
    "The true behavior of gases is extremely complex, but several equations have been introduced to model the gas characteristics approximately.  Among these so-called *equations of state* are the van der Waals equation of state<sup>[[Wikipedia](https://en.wikipedia.org/wiki/Equation_of_state#Van_der_Waals_equation_of_state)]</sup>,\n",
    "\n",
    "$$\n",
    "\\begin{align*}\n",
    "P_{\\text{vdW}} & = \\frac{RT}{V-b} - \\frac{a}{V^2} \\\\\n",
    "\\end{align*}\n",
    "$$\n",
    "\n",
    "and the Redlich–Kwong equation of state<sup>[[PhysicsWiki](http://physwiki.ucdavis.edu/Condensed_Matter/Equations_of_state/Redlich-Kwong_equation_of_state)]</sup>,\n",
    "\n",
    "$$\n",
    "\\begin{align*}\n",
    "P_{\\text{RK}} & = \\frac{RT}{V-b} - \\frac{a}{\\sqrt{T}V(V+b)} \\text{.} \\\\\n",
    "\\end{align*}\n",
    "$$\n",
    "\n",
    "(Constants $a$ and $b$ are specific to the gas being modeled:  that is, argon has a certain $a_\\text{Ar}$, $b_\\text{Ar}$; oxygen has a certain $a_{\\text{O}_2}$, $b_{\\text{O}_2}$, and so forth.  These typically use constants from the specific fluid known as the *critical temperature* $T_c$, *critical pressure* $P_c$, and *critical volume* $V_c$."
   ]
  },
  {
   "cell_type": "markdown",
   "metadata": {},
   "source": [
    "1.  Write the van der Waals equation of state as a function `pvdw` which accepts parameters `V`, `T`, `Tc`, and `Pc`, and returns the corresponding `P`ressure.\n",
    "    \n",
    "$$\n",
    "P_{\\text{vdW}} = \\frac{RT}{V-b} - \\frac{a}{V^2}\n",
    "\\hspace{2cm}\n",
    "a = \\frac{27}{64} \\frac{\\left(R T_c \\right)^{2}}{P_c}\n",
    "\\hspace{2cm}\n",
    "b = \\frac{R T_c}{8 P_c}\n",
    "\\text{.}\n",
    "$$"
   ]
  },
  {
   "cell_type": "code",
   "execution_count": null,
   "metadata": {
    "collapsed": true,
    "nbgrader": {
     "grade": false,
     "grade_id": "pvdw",
     "locked": false,
     "solution": true
    }
   },
   "outputs": [],
   "source": [
    "# define your function here\n",
    "def pvdw('''add parameters here'''):\n",
    "    \"\"\"\n",
    "    Return the van der Waals pressure for a specified volume and temperature.\n",
    "    \n",
    "    Keyword arguments:\n",
    "    V -- volume, in cubic meters\n",
    "    T -- temperature, in Kelvin\n",
    "    Tc -- critical temperature, in Kelvin\n",
    "    Pc -- critical pressure, in Kelvin\n",
    "    \"\"\"\n",
    "    \n",
    "    # Define parameters a and b.\n",
    "    ## YOU WRITE THIS BLOCK\n",
    "    \n",
    "    # Calculate the vdw pressure.\n",
    "    ## YOU WRITE THIS BLOCK\n",
    "    \n",
    "    # Finally, return the vdw pressure.\n",
    "    return P"
   ]
  },
  {
   "cell_type": "markdown",
   "metadata": {},
   "source": [
    "You may test your function against the following values:\n",
    "    \n",
    "| $P$ | $V$ | $T$ | $T_c$ | $P_c$ |\n",
    "|-----|-----|-----|-------|-------|\n",
    "| 40057.7 | 0.056634 | 273.15 | 190.6 | 4599000 |\n",
    "| 47403.4 | 0.056634 | 323.15 | 190.6 | 4599000 |"
   ]
  },
  {
   "cell_type": "code",
   "execution_count": null,
   "metadata": {
    "collapsed": true
   },
   "outputs": [],
   "source": [
    "# test your code here\n",
    "pvdw(0.01, 273, Tc=190.6, Pc=4599000)"
   ]
  },
  {
   "cell_type": "code",
   "execution_count": null,
   "metadata": {
    "collapsed": true,
    "nbgrader": {
     "grade": true,
     "grade_id": "pvdw-test1",
     "locked": true,
     "points": 1,
     "solution": false
    }
   },
   "outputs": [],
   "source": [
    "# it should pass this test---do NOT edit this cell\n",
    "from numpy import isclose\n",
    "assert isclose(pvdw(0.056634, 273.15, Tc=190.6, Pc=4599000), 40057.7)\n",
    "print('Success!')"
   ]
  },
  {
   "cell_type": "code",
   "execution_count": null,
   "metadata": {
    "collapsed": true,
    "nbgrader": {
     "grade": true,
     "grade_id": "pvdw-test2",
     "locked": true,
     "points": 1,
     "solution": false
    }
   },
   "outputs": [],
   "source": [
    "# it should pass this test---do NOT edit this cell\n",
    "from numpy import isclose\n",
    "assert isclose(pvdw(0.056634, 323.15, Tc=190.6, Pc=4599000), 47403.4)\n",
    "print('Success!')"
   ]
  },
  {
   "cell_type": "markdown",
   "metadata": {},
   "source": [
    "1.  Write the Redlich–Kwong equation of state as a function `prk` which accepts parameters `V`, `T`, `Tc`, and `Pc`, and returns the corresponding `P`ressure.  You should `import` `sqrt` from `numpy` (not from `math`) or use the `**0.5` notation.\n",
    "\n",
    "$$\n",
    "P_{\\text{RK}} = \\frac{RT}{V-b} - \\frac{a}{\\sqrt{T}V(V+b)}\n",
    "\\hspace{2cm}\n",
    "a = 0.42748 \\frac{R^{2} T_c^{2.5}}{P_c}\n",
    "\\hspace{2cm}\n",
    "b = 0.08662 \\frac{R T_c}{P_c}\n",
    "\\text{.}\n",
    "$$"
   ]
  },
  {
   "cell_type": "code",
   "execution_count": null,
   "metadata": {
    "collapsed": true,
    "nbgrader": {
     "grade": false,
     "grade_id": "prk",
     "locked": false,
     "solution": true
    }
   },
   "outputs": [],
   "source": [
    "# define your function here\n",
    "def prk('''add parameters here'''):\n",
    "    \"\"\"\n",
    "    Return the Redlich-Kwong pressure for a specified volume and temperature.\n",
    "    \n",
    "    Keyword arguments:\n",
    "    V -- volume, in cubic meters\n",
    "    T -- temperature, in Kelvin\n",
    "    Tc -- critical temperature, in Kelvin\n",
    "    Pc -- critical pressure, in Kelvin\n",
    "    \"\"\"\n",
    "    \n",
    "    # Define parameters a and b.  Note that a and b are different for prk and pvdw.\n",
    "    ## YOU WRITE THIS BLOCK\n",
    "    \n",
    "    # Calculate the rk pressure.\n",
    "    ## YOU WRITE THIS BLOCK\n",
    "    \n",
    "    # Finally, return the rk pressure.\n",
    "    return P"
   ]
  },
  {
   "cell_type": "markdown",
   "metadata": {},
   "source": [
    "You may test your function against the following values:\n",
    "    \n",
    "| $P$ | $V$ | $T$ | $T_c$ | $P_c$ |\n",
    "|-----|-----|-----|-------|-------|\n",
    "| 40059.4 | 0.056634 | 273.15 | 190.6 | 4599000 |\n",
    "| 47408.3 | 0.056634 | 323.15 | 190.6 | 4599000 |"
   ]
  },
  {
   "cell_type": "code",
   "execution_count": null,
   "metadata": {
    "collapsed": true
   },
   "outputs": [],
   "source": [
    "# test your code here\n",
    "prk(0.01, 273, Tc=190.6, Pc=4599000)"
   ]
  },
  {
   "cell_type": "code",
   "execution_count": null,
   "metadata": {
    "collapsed": true,
    "nbgrader": {
     "grade": true,
     "grade_id": "prk-test1",
     "locked": true,
     "points": 1,
     "solution": false
    }
   },
   "outputs": [],
   "source": [
    "# it should pass this test---do NOT edit this cell\n",
    "from numpy import isclose\n",
    "assert isclose(prk(0.056634, 273.15, Tc=190.6, Pc=4599000), 40059.4)\n",
    "print('Success!')"
   ]
  },
  {
   "cell_type": "code",
   "execution_count": null,
   "metadata": {
    "collapsed": true,
    "nbgrader": {
     "grade": true,
     "grade_id": "prk-test2",
     "locked": true,
     "points": 1,
     "solution": false
    }
   },
   "outputs": [],
   "source": [
    "# it should pass this test---do NOT edit this cell\n",
    "from numpy import isclose\n",
    "assert isclose(prk(0.056634, 323.15, Tc=190.6, Pc=4599000), 47408.3)\n",
    "print('Success!')"
   ]
  },
  {
   "cell_type": "markdown",
   "metadata": {},
   "source": [
    "##  Modeling Data"
   ]
  },
  {
   "cell_type": "markdown",
   "metadata": {},
   "source": [
    "As you can see, there are subtle variations between these equations of state even at fairly low temperature and pressure.  Let's see what these do for various fluids.  Since we are working with various fluids with different properties, let's set up a dictionary to store the fluid parameters, in particular the critical temperature and pressure.\n",
    "\n",
    "Specifically, use a `dict` of `dict`s.  The outer `dict` has keys from the `Gas` column of the following table.  Each key has the value of another `dict`, this second `dict` containing keys `'Tc'` and `'Pc'` which contain the critical temperature and critical pressure, respectively.\n",
    "\n",
    "|  Gas  | $T_c$ |  $P_c$  |\n",
    "|-------|-------|---------|\n",
    "| `H2`    | 33.19 | 1313000 |\n",
    "| `O2`    | 154.6 | 5043000 |\n",
    "| `N2`    | 126.2 | 3400000 |\n",
    "| `CO2`   | 304.2 | 7383000 |\n",
    "| `Ar`    | 150.9 | 4894000 |\n",
    "| `C4H10` | 408.1 | 3648000 |\n",
    "\n",
    "To make this a repeatable process, write it as a function.\n",
    "\n",
    "-   Compose a function `gasdata` which accepts no parameters and `return`s a `dict` of `dict`s as described in the preceding paragraphs of this section."
   ]
  },
  {
   "cell_type": "code",
   "execution_count": null,
   "metadata": {
    "collapsed": true,
    "nbgrader": {
     "grade": false,
     "grade_id": "gasdata",
     "locked": false,
     "solution": true
    }
   },
   "outputs": [],
   "source": [
    "# define your function here\n",
    "def gasdata():\n",
    "    \"\"\"\n",
    "    Return the van der Waals pressure for a specified volume and temperature.\n",
    "    \n",
    "    Keyword arguments:\n",
    "    V -- volume, in cubic meters\n",
    "    T -- temperature, in Kelvin\n",
    "    Tc -- critical temperature, in Kelvin\n",
    "    Pc -- critical pressure, in Kelvin\n",
    "    \"\"\"\n",
    "    \n",
    "    # Create the dictionary.\n",
    "    gas_dict = {}\n",
    "    gas_dict['H2'] = {'Tc': 33.19, 'Pc': 1313000}\n",
    "    ## YOU WRITE THE REST OF THIS BLOCK\n",
    "    \n",
    "    # Finally, return the data dictionary.\n",
    "    return gas_dict"
   ]
  },
  {
   "cell_type": "code",
   "execution_count": null,
   "metadata": {
    "collapsed": false
   },
   "outputs": [],
   "source": [
    "# test your code here\n",
    "fluids = gasdata()\n",
    "fluids['H2']  # try the others as well to test"
   ]
  },
  {
   "cell_type": "code",
   "execution_count": null,
   "metadata": {
    "collapsed": false,
    "nbgrader": {
     "grade": true,
     "grade_id": "gasdata-test",
     "locked": true,
     "points": 1,
     "solution": false
    }
   },
   "outputs": [],
   "source": [
    "# it should pass this test---do NOT edit this cell\n",
    "try:\n",
    "    fluid_test = gasdata()\n",
    "    fluid_test['H2']['Tc']\n",
    "    fluid_test['O2']['Pc']\n",
    "    fluid_test['N2']['Tc']\n",
    "    fluid_test['CO2']['Pc']\n",
    "    fluid_test['Ar']['Tc']\n",
    "except KeyError:\n",
    "    raise AssertionError\n",
    "print('Success!')"
   ]
  },
  {
   "cell_type": "markdown",
   "metadata": {},
   "source": [
    "Now we can make our code more legible (always desirable):"
   ]
  },
  {
   "cell_type": "code",
   "execution_count": null,
   "metadata": {
    "collapsed": false
   },
   "outputs": [],
   "source": [
    "fluids = gasdata()\n",
    "\n",
    "temp = 100 + 273.15  # 100 degC in K\n",
    "vol  = 0.01  # m**3\n",
    "pressure = prk(vol, temp, Tc=fluids['H2']['Tc'], Pc=fluids['H2']['Pc'])  # Pa\n",
    "print(pressure)"
   ]
  },
  {
   "cell_type": "markdown",
   "metadata": {},
   "source": [
    "Armed with\n",
    "\n",
    "-   several models of gas behavior (the equations of state)\n",
    "-   a database of fluid parameters\n",
    "\n",
    "we can make and test predictions.\n",
    "\n",
    "For ease-of-use, we will use NumPy arrays to store our data values.  (This allows us to perform *array operations*, that is, to multiply all elements in an array by a single value at the same time.)\n",
    "\n",
    "Since the NumPy lecture will happen during this week, let's take a quick look at how arrays work in Python."
   ]
  },
  {
   "cell_type": "code",
   "execution_count": null,
   "metadata": {
    "collapsed": true
   },
   "outputs": [],
   "source": [
    "import numpy as np  # import the numpy library; for convenience, we rename it as something a bit easier to type\n",
    "np.set_printoptions(precision=5)  # sets floating-point number display to use only 5 digits after decimal point"
   ]
  },
  {
   "cell_type": "markdown",
   "metadata": {},
   "source": [
    "A NumPy array is a collection of numeric data that acts together as a unit.  (Think of a spreadsheet column, for instance.)\n",
    "\n",
    "![](./img/ndarray.png)\n",
    "\n",
    "The nice thing is that the array behaves much more intuitively than `list`s sometimes do:"
   ]
  },
  {
   "cell_type": "code",
   "execution_count": 39,
   "metadata": {
    "collapsed": false
   },
   "outputs": [
    {
     "name": "stdout",
     "output_type": "stream",
     "text": [
      "list * 3: [1, 2, 3, 4, 1, 2, 3, 4, 1, 2, 3, 4]\n",
      "arrayt * 3: [ 3  6  9 12]\n"
     ]
    }
   ],
   "source": [
    "my_list = [1, 2, 3, 4]\n",
    "print('list * 3:', my_list * 3)\n",
    "\n",
    "my_array = np.array(my_list)\n",
    "print('arrayt * 3:', my_array * 3)"
   ]
  },
  {
   "cell_type": "markdown",
   "metadata": {},
   "source": [
    "So arrays are like mathematical vectors, or spreadsheet columns, or however you'd like to think of them.  The point being, they can be manipulated as a unit which allows us to calculate many values at the same time (rather than singly in a `for` loop).\n",
    "\n",
    "Contrast:"
   ]
  },
  {
   "cell_type": "code",
   "execution_count": 40,
   "metadata": {
    "collapsed": false
   },
   "outputs": [
    {
     "name": "stdout",
     "output_type": "stream",
     "text": [
      "[2.0, 4.0, 6.0, 8.0]\n"
     ]
    }
   ],
   "source": [
    "new_list = []\n",
    "for value in my_list:\n",
    "    new_list.append(value * 2.0)\n",
    "print(new_list)"
   ]
  },
  {
   "cell_type": "markdown",
   "metadata": {},
   "source": [
    "with the much sleeker:"
   ]
  },
  {
   "cell_type": "code",
   "execution_count": 41,
   "metadata": {
    "collapsed": false
   },
   "outputs": [
    {
     "name": "stdout",
     "output_type": "stream",
     "text": [
      "[ 2.  4.  6.  8.]\n"
     ]
    }
   ],
   "source": [
    "new_array = my_array * 2.0\n",
    "print(new_array)"
   ]
  },
  {
   "cell_type": "markdown",
   "metadata": {},
   "source": [
    "NumPy has become ubiquitous in scientific computing with Python for good reason, and we'll use it a lot in modeling over the next few weeks."
   ]
  },
  {
   "cell_type": "markdown",
   "metadata": {},
   "source": [
    "##  Modeling Fluids"
   ]
  },
  {
   "cell_type": "markdown",
   "metadata": {},
   "source": [
    "One potential reason to use equations of state is to assess the storage pressure in gas cylinders at various temperatures, thus allowing safety officials to set guidelines.  A representative cylinder can hold 44 liters, or $0.044\\,\\text{m}^3$ (use this latter value).\n",
    "\n",
    "In order to test the pressure across a range of temperatures, you should create an array of temperature points"
   ]
  },
  {
   "cell_type": "code",
   "execution_count": null,
   "metadata": {
    "collapsed": false
   },
   "outputs": [],
   "source": [
    "temps = np.array((273.15,  298.15,  323.15,  348.15,  373.15,  398.15))"
   ]
  },
  {
   "cell_type": "markdown",
   "metadata": {},
   "source": [
    "and then store the results for pressure for each data point in an appropriate array variable.  For instance, for the Redlich–Kwong equation of state, the results could be calculate as"
   ]
  },
  {
   "cell_type": "code",
   "execution_count": null,
   "metadata": {
    "collapsed": false
   },
   "outputs": [],
   "source": [
    "fluids = gasdata()\n",
    "\n",
    "volume  = 0.044  # m**3\n",
    "pcyl_rk = prk(volume, temps, fluids['O2']['Tc'], fluids['O2']['Pc'])\n",
    "print(pcyl_rk)"
   ]
  },
  {
   "cell_type": "markdown",
   "metadata": {},
   "source": [
    "In addition to viewing the data in a tabular format, it is often far more intuitive to depict the relationship graphically."
   ]
  },
  {
   "cell_type": "code",
   "execution_count": null,
   "metadata": {
    "collapsed": true
   },
   "outputs": [],
   "source": [
    "# these are the modules and command you need to plot in Jupyter\n",
    "import matplotlib as mpl\n",
    "import matplotlib.pyplot as plt\n",
    "%matplotlib inline"
   ]
  },
  {
   "cell_type": "code",
   "execution_count": null,
   "metadata": {
    "collapsed": false
   },
   "outputs": [],
   "source": [
    "plt.plot(temps, pcyl_rk)  # define a basic plot, with x-values (temp) and y-values (pcyl_rk)\n",
    "plt.show()  # show the plot"
   ]
  },
  {
   "cell_type": "markdown",
   "metadata": {},
   "source": [
    "It will be convenient to measure the percent difference between two values,\n",
    "    \n",
    "$$\n",
    "\\%_\\text{error} = \\left|\\frac{s - t}{s}\\right| \\times 100\n",
    "$$\n",
    "    \n",
    "-   Compose a function `error` which accepts two `float`s `s` and `t` and returns the error as a percentage difference.  If you need to `import` any functions, use the `abs`olute value from `numpy`."
   ]
  },
  {
   "cell_type": "code",
   "execution_count": null,
   "metadata": {
    "collapsed": true,
    "nbgrader": {
     "grade": false,
     "grade_id": "error",
     "locked": false,
     "solution": true
    }
   },
   "outputs": [],
   "source": [
    "# define your function here\n",
    "def error(s, t):\n",
    "    \"\"\"\n",
    "    Return the percentage difference between two values.\n",
    "    \n",
    "    Keyword arguments:\n",
    "    s, t -- numeric values to compare, with reference to the former.\n",
    "    \"\"\"\n",
    "    \n",
    "    ## YOU WRITE THE REST OF THIS BLOCK\n",
    "    \n",
    "    # Finally, return the percentage difference (the 'error').\n",
    "    return err"
   ]
  },
  {
   "cell_type": "code",
   "execution_count": null,
   "metadata": {
    "collapsed": false,
    "nbgrader": {
     "grade": true,
     "grade_id": "error-test",
     "locked": true,
     "points": 1,
     "solution": false
    }
   },
   "outputs": [],
   "source": [
    "# it should pass this test---do NOT edit this cell\n",
    "from numpy import isclose\n",
    "assert isclose(error(4,5), 25)\n",
    "print('Success!')"
   ]
  },
  {
   "cell_type": "markdown",
   "metadata": {},
   "source": [
    "At the right-most data point in the last data calculation (temperature $398.15\\,\\text{K}$, volume $0.044\\,\\text{m}^3$), what is the percent difference between the ideal-gas law and Redlich–Kwong calculations, using $P_\\text{rk}$ as the standard?  (We are modeling oxygen `'O2'` right now.)\n",
    "\n",
    "Directly:"
   ]
  },
  {
   "cell_type": "code",
   "execution_count": null,
   "metadata": {
    "collapsed": false
   },
   "outputs": [],
   "source": [
    "Pig = pig(0.044, 398.15)\n",
    "Prk = prk(0.044, 398.15, Tc=fluids['O2']['Tc'], Pc=fluids['O2']['Pc'])\n",
    "print(error(Prk, Pig))"
   ]
  },
  {
   "cell_type": "markdown",
   "metadata": {},
   "source": [
    "Using the former array:"
   ]
  },
  {
   "cell_type": "code",
   "execution_count": null,
   "metadata": {
    "collapsed": true
   },
   "outputs": [],
   "source": [
    "fluids = gasdata()\n",
    "\n",
    "volume  = 0.044  # m**3\n",
    "temps = np.array((273.15,  298.15,  323.15,  348.15,  373.15,  398.15))\n",
    "\n",
    "pcyl_rk = prk(volume, temps, fluids['O2']['Tc'], fluids['O2']['Pc'])\n",
    "pcyl_ig = pig(volume, temps)\n",
    "print(error(pcyl_rk[-1], pcyl_ig[-1]))"
   ]
  },
  {
   "cell_type": "markdown",
   "metadata": {},
   "source": [
    "The behavior is straightforward, just like with a list.\n",
    "\n",
    "The real power occurs when you want to know more than just a single point:"
   ]
  },
  {
   "cell_type": "code",
   "execution_count": null,
   "metadata": {
    "collapsed": true
   },
   "outputs": [],
   "source": [
    "print(error(pcyl_rk, pcyl_ig))"
   ]
  },
  {
   "cell_type": "markdown",
   "metadata": {},
   "source": [
    "NumPy permits `error` to be applied over the entire range at one go.  You can plot it as well:"
   ]
  },
  {
   "cell_type": "code",
   "execution_count": null,
   "metadata": {
    "collapsed": true
   },
   "outputs": [],
   "source": [
    "errors = error(pcyl_rk, pcyl_ig)\n",
    "plt.plot(temps, errors)  # define a basic plot, with x-values (temp) and y-values (pcyl_rk)\n",
    "plt.show()  # show the plot"
   ]
  },
  {
   "cell_type": "markdown",
   "metadata": {},
   "source": [
    "Using the tools we've developed thus far, let's examine our use-case scenario of gases stored in a standard cylinder.  To refresh:"
   ]
  },
  {
   "cell_type": "code",
   "execution_count": null,
   "metadata": {
    "collapsed": true
   },
   "outputs": [],
   "source": [
    "fluids = gasdata()\n",
    "\n",
    "volume  = 0.044  # m**3\n",
    "temps = np.array((273.15,  298.15,  323.15,  348.15,  373.15,  398.15))\n",
    "\n",
    "pcyl_ig = pig(volume, temps)\n",
    "pcyl_rk = prk(volume, temps, Tc=fluids['O2']['Tc'], Pc=fluids['O2']['Pc'])"
   ]
  },
  {
   "cell_type": "markdown",
   "metadata": {},
   "source": [
    "You should also define the van der Waals pressure as `pcyl_vdw`."
   ]
  },
  {
   "cell_type": "code",
   "execution_count": null,
   "metadata": {
    "collapsed": true
   },
   "outputs": [],
   "source": [
    "# YOU DEFINE pcyl_vdw HERE"
   ]
  },
  {
   "cell_type": "markdown",
   "metadata": {},
   "source": [
    "-   Plot all three gas laws across the range of temperatures.  (You can modify the following code to do so.)"
   ]
  },
  {
   "cell_type": "code",
   "execution_count": null,
   "metadata": {
    "collapsed": false,
    "nbgrader": {
     "grade": true,
     "grade_id": "plt-all1",
     "locked": false,
     "points": 1,
     "solution": true
    }
   },
   "outputs": [],
   "source": [
    "plt.plot(temps, pcyl_ig,\n",
    "         temps, pcyl_rk)\n",
    "plt.show()"
   ]
  },
  {
   "cell_type": "markdown",
   "metadata": {},
   "source": [
    "-   Drop the volume by 90% to `0.0044` and calculate pressures at the same temperatures as above.  (Use the same variable names for `pcyl_ig`, etc.)  Plot the resulting error curves of `pcyl_ig` v. `pcyl_rk` and `pcyl_vdw` v. `pcyl_rk` across the range of temperature.  (There will be two curves in your plot.)"
   ]
  },
  {
   "cell_type": "code",
   "execution_count": null,
   "metadata": {
    "collapsed": true,
    "nbgrader": {
     "grade": true,
     "grade_id": "plt-error1",
     "locked": false,
     "points": 1,
     "solution": true
    }
   },
   "outputs": [],
   "source": [
    "# YOU RECALCULATE THE VARIABLES HERE\n",
    "\n",
    "# YOU WRITE THE plt.plot STATEMENT\n",
    "plt.show()"
   ]
  },
  {
   "cell_type": "markdown",
   "metadata": {},
   "source": [
    "Argon is considered to behave very closely to an ideal gas because it is a spherical one-atom molecule.\n",
    "\n",
    "Consider the pressure of argon in a small gas cylinder:"
   ]
  },
  {
   "cell_type": "code",
   "execution_count": null,
   "metadata": {
    "collapsed": true
   },
   "outputs": [],
   "source": [
    "fluids = gasdata()\n",
    "\n",
    "volume = 0.044 # m**3\n",
    "temps = np.array((273.15,  298.15,  323.15,  348.15,  373.15,  398.15))\n",
    "\n",
    "pcyl_ig  = pig( volume, temps)\n",
    "pcyl_rk  = prk( volume, temps, Tc=fluids['Ar']['Tc'], Pc=fluids['Ar']['Pc'])\n",
    "pcyl_vdw = pvdw(volume, temps, Tc=fluids['Ar']['Tc'], Pc=fluids['Ar']['Pc'])\n",
    "\n",
    "plt.plot(temps, pcyl_ig,  'g-',\n",
    "         temps, pcyl_rk,  'r-',\n",
    "         temps, pcyl_vdw, 'b-')\n",
    "plt.show()"
   ]
  },
  {
   "cell_type": "markdown",
   "metadata": {},
   "source": [
    "-   Plot the resulting error curves of `pcyl_ig` v. `pcyl_rk` and `pcyl_vdw` v. `pcyl_rk` across the range of temperature.  (There will be two curves in your plot.)"
   ]
  },
  {
   "cell_type": "code",
   "execution_count": null,
   "metadata": {
    "collapsed": true,
    "nbgrader": {
     "grade": true,
     "grade_id": "plt-argon1",
     "locked": false,
     "points": 1,
     "solution": true
    }
   },
   "outputs": [],
   "source": [
    "# YOU WRITE THE plt.plot STATEMENT AND ANY NECESSARY CODE\n",
    "plt.show()"
   ]
  },
  {
   "cell_type": "markdown",
   "metadata": {},
   "source": [
    "Argon's behavior doesn't deviate much from ideality across this range of temperatures."
   ]
  },
  {
   "cell_type": "markdown",
   "metadata": {},
   "source": [
    "In contrast, butane ($\\text{C}_4\\text{H}_{10}$, `C4H10`) is shaped like a Y and tends to behave very non-ideally.  It is a gas at room temperature and standard atmospheric pressure, but even in a tiny thin-shelled plastic lighter it is a liquid.  While we won't quantify the liquid–gas transition directly (which is a pretty involved calculation), we will see how far from ideality butane is."
   ]
  },
  {
   "cell_type": "code",
   "execution_count": null,
   "metadata": {
    "collapsed": true
   },
   "outputs": [],
   "source": [
    "fluids = gasdata()\n",
    "\n",
    "volume = 0.044 # m**3\n",
    "temps = np.array((273.15,  298.15,  323.15,  348.15,  373.15,  398.15))\n",
    "\n",
    "volume = 0.044 # m**3\n",
    "temps = np.array((273.15,  298.15,  323.15,  348.15,  373.15,  398.15))\n",
    "pcyl_ig  = pig( volume, temps)\n",
    "pcyl_rk  = prk( volume, temps, Tc=fluids['C4H10']['Tc'], Pc=fluids['C4H10']['Pc'])\n",
    "pcyl_vdw = pvdw(volume, temps, Tc=fluids['C4H10']['Tc'], Pc=fluids['C4H10']['Pc'])\n",
    "\n",
    "plt.plot(temps, pcyl_ig,  'g-',\n",
    "         temps, pcyl_rk,  'r-',\n",
    "         temps, pcyl_vdw, 'b-')\n",
    "plt.show()"
   ]
  },
  {
   "cell_type": "markdown",
   "metadata": {},
   "source": [
    "-   Plot the resulting error curves of `pcyl_ig` v. `pcyl_rk` and `pcyl_vdw` v. `pcyl_rk` across the range of temperature.  (There will be two curves in your plot.)"
   ]
  },
  {
   "cell_type": "code",
   "execution_count": null,
   "metadata": {
    "collapsed": true,
    "nbgrader": {
     "grade": true,
     "grade_id": "plt-butane1",
     "locked": false,
     "points": 1,
     "solution": true
    }
   },
   "outputs": [],
   "source": [
    "# YOU RECALCULATE THE VARIABLES HERE\n",
    "\n",
    "# YOU WRITE THE plt.plot STATEMENT\n",
    "plt.show()"
   ]
  },
  {
   "cell_type": "markdown",
   "metadata": {},
   "source": [
    "Compared to argon or even oxygen, butane is pretty far away from ideality (the green line)."
   ]
  },
  {
   "cell_type": "markdown",
   "metadata": {},
   "source": [
    "-   At the right-most data point (temperature $398.15\\,\\text{K}$), what is the percent difference between the ideal-gas law and Redlich–Kwong for butane, using $P_\\text{rk}$ as the standard?  This is about 100 times worse of a match than argon to ideality."
   ]
  },
  {
   "cell_type": "code",
   "execution_count": null,
   "metadata": {
    "collapsed": true,
    "nbgrader": {
     "grade": true,
     "grade_id": "error-butane1",
     "locked": false,
     "points": 1,
     "solution": true
    }
   },
   "outputs": [],
   "source": [
    "# WRITE ANY NECESSARY CODE HERE\n",
    "# STORE YOUR ANSWER IN THE VARIABLE `ans`"
   ]
  },
  {
   "cell_type": "markdown",
   "metadata": {},
   "source": [
    "Prior predictions were quite close to each other, within a few percent.  But for other cases they diverge dangerously (if one relies on the less-accurate equation).  Consider an amount of CO$_2$ gas compressed into the small volume of $0.000667\\,\\text{m}^3$ at a temperature of $248.15\\,\\text{K}$ ($-25\\,^{\\circ}\\text{C}$).\n",
    "\n",
    "-   What is the pressure according to the ideal-gas law?"
   ]
  },
  {
   "cell_type": "code",
   "execution_count": null,
   "metadata": {
    "collapsed": true,
    "nbgrader": {
     "grade": true,
     "grade_id": "error-co21",
     "locked": false,
     "points": 1,
     "solution": true
    }
   },
   "outputs": [],
   "source": [
    "# WRITE ANY NECESSARY CODE HERE\n",
    "# STORE YOUR ANSWER IN THE VARIABLE `ans`"
   ]
  },
  {
   "cell_type": "markdown",
   "metadata": {},
   "source": [
    "-   What is the pressure according to the Redlich-Kwong gas law?"
   ]
  },
  {
   "cell_type": "code",
   "execution_count": null,
   "metadata": {
    "collapsed": true,
    "nbgrader": {
     "grade": true,
     "grade_id": "error-co22",
     "locked": false,
     "points": 1,
     "solution": true
    }
   },
   "outputs": [],
   "source": [
    "# WRITE ANY NECESSARY CODE HERE\n",
    "# STORE YOUR ANSWER IN THE VARIABLE `ans`"
   ]
  },
  {
   "cell_type": "markdown",
   "metadata": {},
   "source": [
    "-   What is the pressure according to the van der Waals gas law?"
   ]
  },
  {
   "cell_type": "code",
   "execution_count": null,
   "metadata": {
    "collapsed": true,
    "nbgrader": {
     "grade": true,
     "grade_id": "error-co23",
     "locked": false,
     "points": 1,
     "solution": true
    }
   },
   "outputs": [],
   "source": [
    "# WRITE ANY NECESSARY CODE HERE\n",
    "# STORE YOUR ANSWER IN THE VARIABLE `ans`"
   ]
  },
  {
   "cell_type": "markdown",
   "metadata": {},
   "source": [
    "Clearly, at low temperatures and high pressures the laws start to break down, due to deviations from ideality and condensation.\n",
    "\n",
    "Let's go even more extreme:  take a volume of 10% of that, or `0.0000667`.  (At this absurdly small volume, one can expect very high pressures to be necessary to contain the fluid, and our results become unphysical at some point---but that point is not determinable from the equations themselves!)\n",
    "\n",
    "-   Plot the pressures of all three equations of state for CO$_{2}$ at across the temperature range $\\{100, 125, 150, 175, 200\\} \\,^{\\circ}\\text{C}$ for $V = 0.0000667 \\,\\text{m}^3$.  (Note that you will need to convert from degrees centigrade to Kelvin, $T[K] = T[^{\\circ}\\text{C}] + 273.15$.)"
   ]
  },
  {
   "cell_type": "code",
   "execution_count": null,
   "metadata": {
    "collapsed": true,
    "nbgrader": {
     "grade": true,
     "grade_id": "error-co2-comp",
     "locked": false,
     "points": 1,
     "solution": true
    }
   },
   "outputs": [],
   "source": [
    "# YOU RECALCULATE THE VARIABLES HERE\n",
    "\n",
    "# YOU WRITE THE plt.plot STATEMENT\n",
    "plt.show()"
   ]
  },
  {
   "cell_type": "markdown",
   "metadata": {
    "collapsed": true
   },
   "source": [
    "-   At $T = 500\\,\\text{K}$, $V = 0.0000667 \\,\\text{m}^3$ for CO$_{2}$, what is the percent difference between the ideal-gas law and Redlich–Kwong, using $P_\\text{rk}$ as the standard?"
   ]
  },
  {
   "cell_type": "code",
   "execution_count": null,
   "metadata": {
    "collapsed": true,
    "nbgrader": {
     "grade": true,
     "grade_id": "compress1",
     "locked": false,
     "points": 1,
     "solution": true
    }
   },
   "outputs": [],
   "source": [
    "# WRITE ANY NECESSARY CODE HERE\n",
    "# STORE YOUR ANSWER IN THE VARIABLE `ans`"
   ]
  },
  {
   "cell_type": "markdown",
   "metadata": {
    "collapsed": true
   },
   "source": [
    "-   Under the same conditions for CO$_{2}$, what is the percent difference between the van der Waals law and Redlich–Kwong, using $P_\\text{rk}$ as the standard?"
   ]
  },
  {
   "cell_type": "code",
   "execution_count": null,
   "metadata": {
    "collapsed": true,
    "nbgrader": {
     "grade": true,
     "grade_id": "compress2",
     "locked": false,
     "points": 1,
     "solution": true
    }
   },
   "outputs": [],
   "source": [
    "# WRITE ANY NECESSARY CODE HERE\n",
    "# STORE YOUR ANSWER IN THE VARIABLE `ans`"
   ]
  },
  {
   "cell_type": "markdown",
   "metadata": {},
   "source": [
    "-   Plot the pressures of all three equations of state for CO$_{2}$ across the temperature range $\\{100, 110, 120, ..., 390, 400\\} \\,^{\\circ}\\text{C}$ for $V = 0.0000667 \\,\\text{m}^3$.  Use `np.linspace` to construct the range."
   ]
  },
  {
   "cell_type": "code",
   "execution_count": null,
   "metadata": {
    "collapsed": false,
    "nbgrader": {
     "grade": true,
     "grade_id": "temps-all",
     "locked": false,
     "points": 1,
     "solution": true
    }
   },
   "outputs": [],
   "source": [
    "# range to use (for x-values)\n",
    "temps = np.linspace(100,400,31)  # `linspace` conveniently breaks a range in N pieces---in this case, 31 divisions from 100 to 400\n",
    "\n",
    "# YOU RECALCULATE THE VARIABLES HERE\n",
    "\n",
    "# YOU WRITE THE plt.plot STATEMENT\n",
    "plt.show()"
   ]
  },
  {
   "cell_type": "markdown",
   "metadata": {},
   "source": [
    "Equations of state find broad application, but it's clear that you as an engineer need to understand the differences between them, the ranges of applicability, and the risks of under- or overestimating the pressure–temperature relationship in order to carry out sound engineering."
   ]
  }
 ],
 "metadata": {
  "kernelspec": {
   "display_name": "IPython (Python 3)",
   "language": "python",
   "name": "python3"
  },
  "language_info": {
   "codemirror_mode": {
    "name": "ipython",
    "version": 3
   },
   "file_extension": ".py",
   "mimetype": "text/x-python",
   "name": "python",
   "nbconvert_exporter": "python",
   "pygments_lexer": "ipython3",
   "version": "3.4.4"
  }
 },
 "nbformat": 4,
 "nbformat_minor": 0
}
