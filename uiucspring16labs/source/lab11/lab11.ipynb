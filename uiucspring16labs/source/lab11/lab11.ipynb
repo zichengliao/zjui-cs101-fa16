{
 "cells": [
  {
   "cell_type": "markdown",
   "metadata": {},
   "source": [
    "## `lab11`—The Weather Forecast"
   ]
  },
  {
   "cell_type": "markdown",
   "metadata": {},
   "source": [
    "❖ Objectives\n",
    "\n",
    "-   Use unit tests to verify proper code behavior.\n",
    "-   Engage in pair programming exercises to build team programming skills."
   ]
  },
  {
   "cell_type": "markdown",
   "metadata": {},
   "source": [
    "<div class=\"alert alert-warning\">\n",
    "**Pair Programming**\n",
    "<br />\n",
    "This lab is built around *pair* programming—you need to work in pairs, although you need not be at a single machine unless you prefer to work that way.  At the end, when you report collaborators, please report the names and NetIDs of all partners in this lab exercise.  (In exceptional cases, such as the room layout, trios are permitted.)\n",
    "</div>\n",
    "\n",
    "The big picture:  we have a series of Python scripts which do the following:\n",
    "\n",
    "1.  `grab_stations` retrieves a list of National Weather Service stations and prints the station call sign and latitude/longitude.\n",
    "2.  `grab_forecast` accepts the foregoing data and retrieves the current temperature or a forecast, adding this as a column to a similar output.\n",
    "3.  `plot_forecast` plots the resulting temperatures against a map of the state of Illinois.\n",
    "\n",
    "You are going to determine how to compose scripts 1 and 2, and then work together as a time to implement the full toolchain.\n",
    "\n",
    "The lab will take place in three parts:\n",
    "\n",
    "1.  The TA will teach a brief lesson covering how the pieces of the toolchain work and what you need to implement.\n",
    "2.  You and the TA will write appropriate unit tests which your code will have to pass.  You may share code in class using [this Etherpad](https://public.etherpad-mozilla.org/p/Pa6X2Bzq0h), but please be careful in using it as a common resource.\n",
    "3.  The class will divide into two groups (pairs).  One partner will write the `grab_stations` script, while the other will write the `grab_forecast` script.\n",
    "2.  Once your code works, you and your partner will put your pieces together to make the end result work."
   ]
  },
  {
   "cell_type": "markdown",
   "metadata": {},
   "source": [
    "### Working on the Command Line"
   ]
  },
  {
   "cell_type": "markdown",
   "metadata": {},
   "source": [
    "We've worked in the Jupyter notebook almost exclusively for the labs, but this time we're going to run some code directly on the command line.  Open a Terminal window to work in, and make sure that you're in the right directory.  (You shouldn't type the `$`—it's there to remind you that the code is at the prompt rather than in Python.)\n",
    "    \n",
    "    $ cd ; cd cs101-sp16/lab11\n",
    "\n",
    "One of the current Python scripts can be executed by simply telling Python to run a file (instead of to start the interpreter):\n",
    "    \n",
    "    $ python3 grab_stations.pyc\n",
    "\n",
    "<div class=\"alert alert-info\">\n",
    "We're doing something a little funny here—note that `pyc` extension instead of `py`.  This is a *compiled* Python file, which means that Python has stored the script in a faster intermediate code that isn't human-readable anymore.  (These get replaced if you edit and run the script, so they're never a problem.)  Since you need to *write* the scripts but still need to *test* the toolchain, we provide these `pyc` files as a substitute for testing against.\n",
    "</div>\n",
    "\n",
    "To run the entire toolchain, the command line lets you take the *output* from one script and use it as the *input* to another.  Thus:\n",
    "    \n",
    "    $ python3 grab_stations.pyc | python3 grab_forecast.pyc | python3 plot_forecast.py\n",
    "\n",
    "This takes a moment to run and then displays a map of Illinois with the stations and today's forecast high temperatures visible."
   ]
  },
  {
   "cell_type": "markdown",
   "metadata": {},
   "source": [
    "If you are in charge of writing `grab_forecast.py`, then you can use `grab_stations.pyc` to test your code and make sure it works:\n",
    "    \n",
    "    $ python grab_stations.pyc | python grab_forecast.py"
   ]
  },
  {
   "cell_type": "markdown",
   "metadata": {},
   "source": [
    "### Accessing Web Data:  `requests`"
   ]
  },
  {
   "cell_type": "markdown",
   "metadata": {},
   "source": [
    "Programmers and scientists often need to access data which are not located directly on the hard drive, so `open` won't take care of it.  If the data are available on the web, we can use the `requests` library to access the server, grab the data, and then parse it as a single string (just like `read()` for a file).\n",
    "\n",
    "This example grabs a web page and outputs the HTML markup code underlying the page:"
   ]
  },
  {
   "cell_type": "code",
   "execution_count": null,
   "metadata": {
    "collapsed": false
   },
   "outputs": [],
   "source": [
    "import requests\n",
    "\n",
    "url = 'http://www.nws.noaa.gov/mdl/gfslamp/lavlamp.shtml'\n",
    "page = requests.get(url)\n",
    "\n",
    "print(page.text)"
   ]
  },
  {
   "cell_type": "markdown",
   "metadata": {},
   "source": [
    "This example grabs data from an online source:"
   ]
  },
  {
   "cell_type": "code",
   "execution_count": null,
   "metadata": {
    "collapsed": false,
    "nbgrader": {
     "grade": false,
     "grade_id": "basic-caesar",
     "locked": false,
     "solution": false
    }
   },
   "outputs": [],
   "source": [
    "url = 'https://raw.githubusercontent.com/davis68/cs101-example/master/exoplanets.csv'\n",
    "planets = requests.get(url)\n",
    "\n",
    "print(planets.text)"
   ]
  },
  {
   "cell_type": "markdown",
   "metadata": {},
   "source": [
    "Part of this lab will involve scraping data from a web page.  This means that you have to pull a large chunk of data (the web page as a string) and then fish around to find the exact datum you are looking for."
   ]
  },
  {
   "cell_type": "markdown",
   "metadata": {},
   "source": [
    "### Reading Input from the Command Line"
   ]
  },
  {
   "cell_type": "markdown",
   "metadata": {},
   "source": [
    "If you need to receive input from another program, a straightforward way to do this is by piping the commands together.  This way, the output of the first program becomes the input of the second.\n",
    "\n",
    "In today's case, you simply need to know how to turn the *standard input stream*, or `stdin` into a string you can parse."
   ]
  },
  {
   "cell_type": "code",
   "execution_count": null,
   "metadata": {
    "collapsed": false
   },
   "outputs": [],
   "source": [
    "# this won't show anything in Jupyter because there's no `stdin`, but here's what you would do:\n",
    "import sys\n",
    "for line in sys.stdin:\n",
    "    print(line)"
   ]
  },
  {
   "cell_type": "markdown",
   "metadata": {},
   "source": [
    "### Unit Tests"
   ]
  },
  {
   "cell_type": "markdown",
   "metadata": {},
   "source": [
    "Unit tests are simple claims about the way the code should behave.  Since they are essentially probes of how well your code works, we'll write some sensible tests first for the components of the scripts you will write.\n",
    "\n",
    "-   First, we will all work together to discuss what the two programs should do and how they should talk to each other.\n",
    "-   Next, we will all work together to write unit tests for validating correct behavior.\n",
    "-   Then we will split up into the pairs to write code that satisfies our unit tests.\n",
    "\n",
    "At this point you should divide into pairs (there should be at most ONE group of three).  One partner will be in charge of writing `grab_stations.py` and the other will be in charge of `grab_forecast.py`.  The following will assist you in this process.\n",
    "\n",
    "Unit tests should be written in the format:\n",
    "    \n",
    "    def test_function_name(input):    # where function_name is the name of the original function we're testing\n",
    "        test_result = function_name(whatever)\n",
    "        assert test_result == actual_result"
   ]
  },
  {
   "cell_type": "markdown",
   "metadata": {},
   "source": [
    "###  `grab_stations.py`"
   ]
  },
  {
   "cell_type": "markdown",
   "metadata": {},
   "source": [
    "If you are on this team, you'll need to open the skeleton code file `grab_stations.py`.  (That's where you should work for this exercise, and will be part of your submission.)  The program has the structure:\n",
    "\n",
    "    import requests\n",
    "\n",
    "    def grab_website_data():\n",
    "        '''Get raw data as HTML string from the NOAA website.'''\n",
    "        url = 'http://www.nws.noaa.gov/mdl/gfslamp/docs/stations_info.shtml'\n",
    "        pass  # YOUR CODE HERE\n",
    "\n",
    "    def extract_section(text):\n",
    "        '''Find Illinois data segment (in a PRE tag).\n",
    "        We know (from examination) that inside of the PRE block containing ' IL '\n",
    "        (with whitespace and case matching) we can find the IL station data.\n",
    "        This solution isn't robust, but it's good enough for practical cases.'''\n",
    "        il_start  = text.find(' IL ')\n",
    "        tag_start = text.rfind('PRE', il_start-200, il_start) # look backwards\n",
    "        tag_end   = text.find('PRE', il_start)\n",
    "        return text[tag_start+4:tag_end-2]\n",
    "\n",
    "    def parse_station_line(line):\n",
    "        '''Extract latitude and longitude of stations. We know the columns are fixed\n",
    "        (which is both inconvenient and convenient). In this case, we will simply\n",
    "        set the limits of the relevant columns by counting the number of columns\n",
    "        over we need to go.'''\n",
    "        pass  # YOUR CODE HERE\n",
    "\n",
    "\n",
    "    text = grab_website_data()\n",
    "    data = extract_section(text)\n",
    "    for line in data.splitlines():\n",
    "        try:\n",
    "            stn, lat, lon = parse_station_line(line)\n",
    "            print('%s\\t%f\\t%f'%(stn,lon,lat))\n",
    "        except:\n",
    "            print('Could not parse line\\n\\t%s'%line)\n",
    "\n",
    "To test:\n",
    "    \n",
    "    $ python3 grab_stations.py | python3 grab_forecast.pyc\n",
    "\n",
    "or\n",
    "    \n",
    "    $ python3 grab_stations.py | python3 grab_forecast.pyc | python3 plot_forecast.py"
   ]
  },
  {
   "cell_type": "markdown",
   "metadata": {},
   "source": [
    "### `grab_forecast.py`"
   ]
  },
  {
   "cell_type": "markdown",
   "metadata": {},
   "source": [
    "If you are on this team, you'll need to open the skeleton code file `grab_forecast.py`.  (That's where you should work for this exercise, and will be part of your submission.)  The program has the structure:\n",
    "\n",
    "    def grab_stdin(text=sys.stdin):\n",
    "        '''Get input stations from stdin.'''\n",
    "        stns = []\n",
    "        locx = []\n",
    "        locy = []\n",
    "        for line in text:\n",
    "            try:\n",
    "                pass  # YOUR CODE HERE\n",
    "            except:\n",
    "                print('Could not parse line \\n\\t\"%s\"'%line)\n",
    "        return stns, locx, locy\n",
    "\n",
    "    def grab_forecast_data():\n",
    "        '''Get raw data as HTML string from the NOAA website.'''\n",
    "        url = 'http://www.nws.noaa.gov/mdl/gfslamp/lavlamp.shtml'\n",
    "        pass  # YOUR CODE HERE\n",
    "\n",
    "    def get_station_temp(temp_data, stn):\n",
    "        '''We have a list of Illinois stations from the sites loaded previously.\n",
    "           We need to load the data for each of those sites and store these data \n",
    "           locally.  There are a lot of data included here, but we are only \n",
    "           interested in one:  the current temperature, located at the index\n",
    "           offset 169 and of length 2 (found by examination).\n",
    "        '''\n",
    "        tag_start = temp_data.find(stn)\n",
    "        if tag_start == -1:\n",
    "            T = float('NaN')\n",
    "            return\n",
    "        tag_end = tag_start + 1720 #each text block is 1720 characters long\n",
    "        T = float(temp_data[tag_start+169:tag_start+172])\n",
    "        return T\n",
    "    \n",
    "    stns, locx, locy = grab_stdin()\n",
    "    temp_data = grab_forecast_data()\n",
    "    for stn,lat,lon in zip(stns, locx, locy):\n",
    "        temp = get_station_temp(temp_data, stn)\n",
    "        print('%s\\t%f\\t%f\\t%f'%(stn,lon,lat,temp))\n",
    "\n",
    "To test:\n",
    "    \n",
    "    $ python3 grab_stations.pyc | python3 grab_forecast.py\n",
    "\n",
    "or\n",
    "    \n",
    "    $ python3 grab_stations.pyc | python3 grab_forecast.py | python3 plot_forecast.py"
   ]
  },
  {
   "cell_type": "markdown",
   "metadata": {},
   "source": [
    "### Putting It All Together"
   ]
  },
  {
   "cell_type": "markdown",
   "metadata": {},
   "source": [
    "Now you and your partner need to collaborate to make these codes work together.  There's not a really easy way to share the files directly with the tools available to you in CS 101, so we suggest that one of you email the script to the other so you can get them both in the same folder.  (This will, of course, overwrite the remaining skeleton code file in that folder.)\n",
    "    \n",
    "    $ python3 grab_stations.py | python3 grab_forecast.py | python3 plot_forecast.pyc\n",
    "\n",
    "If this doesn't work, debug and figure out where things went wrong, and fix them.  You've got this!"
   ]
  },
  {
   "cell_type": "markdown",
   "metadata": {},
   "source": [
    "### Stretch Goal"
   ]
  },
  {
   "cell_type": "markdown",
   "metadata": {},
   "source": [
    "If you make it this far, awesome!  Try this out if there is more than twenty minutes left:  randomly pair with a different person in the lab and swap code with them.  If you both wrote to the unit tests, then this should work fine—if not, try to decide if the flaw is with the unit tests (called *test coverage*) or with the way you wrote the code to adhere to those standards."
   ]
  },
  {
   "cell_type": "markdown",
   "metadata": {},
   "source": [
    "When reporting your work, please use the following format.  Mark which script you wrote with a star.\n",
    "    \n",
    "    *grab_stations.py:  netid1\n",
    "    grab_forecast.py:  netid2\n",
    "\n",
    "Both of you should submit your work normally (making sure that your files and folders are in the proper directory `lab11/`)."
   ]
  }
 ],
 "metadata": {
  "kernelspec": {
   "display_name": "IPython (Python 3)",
   "language": "python",
   "name": "python3"
  },
  "language_info": {
   "codemirror_mode": {
    "name": "ipython",
    "version": 3
   },
   "file_extension": ".py",
   "mimetype": "text/x-python",
   "name": "python",
   "nbconvert_exporter": "python",
   "pygments_lexer": "ipython3",
   "version": "3.4.4"
  }
 },
 "nbformat": 4,
 "nbformat_minor": 0
}
