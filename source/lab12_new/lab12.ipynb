{
 "cells": [
  {
   "cell_type": "markdown",
   "metadata": {},
   "source": [
    "## `lab12`—The Traveling Salesman"
   ]
  },
  {
   "cell_type": "markdown",
   "metadata": {},
   "source": [
    "❖ Objectives\n",
    "\n",
    "-   Explore optimization using a classic problem."
   ]
  },
  {
   "cell_type": "code",
   "execution_count": null,
   "metadata": {
    "collapsed": false
   },
   "outputs": [],
   "source": [
    "# Import basic libraries.\n",
    "import math\n",
    "import itertools\n",
    "import requests\n",
    "\n",
    "import numpy as np\n",
    "import matplotlib as mpl\n",
    "import matplotlib.pyplot as plt\n",
    "%matplotlib inline\n",
    "mpl.rcParams[ 'figure.figsize' ] = (15,2)"
   ]
  },
  {
   "cell_type": "markdown",
   "metadata": {},
   "source": [
    "##  Visiting Cities"
   ]
  },
  {
   "cell_type": "markdown",
   "metadata": {},
   "source": [
    "A classic optimization problem, the Traveling Salesman Problem (TSP) posits that a salesman would like to visit every city in a set.  The salesman would prefer to spend as little time on the road as possible, so he wants to optimize his route to be the shortest possible.\n",
    "\n",
    "For instance, for three cities, it is clear that one of these paths takes significantly less time than the others:\n",
    "\n",
    "![](./img/tsp-3.png)\n",
    "\n",
    "For more than a handful of cities, however, the number of possible paths explodes and the problem becomes computationally challenging. For the number of cities $n$, the amount of possible paths the salesman can take through the cities is equal to $n! = \\prod_{i=1}^{n} i$, making brute-force solutions for a lot of cities unmanagable for even the fastest computers.\n",
    "\n",
    "![](./img/tsp-many.png)\n",
    "\n",
    "Brute-force optimization thus works well for a smaller number of cities, but for a bigger set of cities we need heuristic optimization strategies. Run the cell below to show how many possible paths the computer needs to examine through brute force for different values of $n$ to find the optimal route:"
   ]
  },
  {
   "cell_type": "code",
   "execution_count": null,
   "metadata": {
    "collapsed": false
   },
   "outputs": [],
   "source": [
    "print(*(\"n = {:3g}: {:.4g} possible paths\".format(i, math.factorial(i)) \\\n",
    "        for i in itertools.chain(range(2, 21, 2), range(30, 60, 10), range(75, 101, 25))), sep=\",\\n\")"
   ]
  },
  {
   "cell_type": "markdown",
   "metadata": {},
   "source": [
    "The cities we wish to visit are available online as a JSON resource including city names and locations (thus distances). *JSON* is a standard Internet data format which Python can easily convert into a dictionary.  The `requests` library fortunately supports accessing this type, so we can use the `.json()` method (*not* attribute like `.text`) to retrieve the data from a URL.\n",
    "\n",
    "-   Compose a function `get_cities` which returns the dictionary from the `json()` method at the URL `go.cs.illinois.edu/cs101-tspdat1011` (just copy and paste it)."
   ]
  },
  {
   "cell_type": "code",
   "execution_count": null,
   "metadata": {
    "collapsed": true,
    "nbgrader": {
     "grade": false,
     "grade_id": "get_cities",
     "locked": false,
     "solution": true
    }
   },
   "outputs": [],
   "source": [
    "# Compose your function `get_cities` here."
   ]
  },
  {
   "cell_type": "code",
   "execution_count": null,
   "metadata": {
    "collapsed": true
   },
   "outputs": [],
   "source": [
    "# You may test your function here if desired."
   ]
  },
  {
   "cell_type": "code",
   "execution_count": null,
   "metadata": {
    "collapsed": false,
    "nbgrader": {
     "grade": true,
     "grade_id": "get_cities-test",
     "locked": true,
     "points": 1,
     "solution": false
    }
   },
   "outputs": [],
   "source": [
    "# your code should pass these tests---do NOT edit this cell\n",
    "test_city_locations = get_cities()\n",
    "\n",
    "print( *sorted( test_city_locations.keys() ),sep=', ' )\n",
    "\n",
    "assert len(test_city_locations) == 17, \"Number of cities is incorrect.\"\n",
    "assert 'El Dorado' in test_city_locations, \"Names of cities are incorrect.\"\n",
    "assert test_city_locations['El Dorado'] == [79, 97], \"Locations of cities are incorrect.\"\n",
    "print('Success!')"
   ]
  },
  {
   "cell_type": "markdown",
   "metadata": {},
   "source": [
    "In order to tell how long the path is it's possible to evaluate if we've found the best one, we need to come up with functions that can return the distance between two cities, as well as a function that will compute the distance of an entire path.\n",
    "\n",
    "-   Compose a function `city_distance` which, given a dictionary and two city names, computes the distance between them according to the standard euclidean distance metric, $\\sqrt{(x_1-x_0)^2 + (y_1-y_0)^2}$.  The dictionary is expected to be the output of `get_cities`, of course."
   ]
  },
  {
   "cell_type": "code",
   "execution_count": null,
   "metadata": {
    "collapsed": true,
    "nbgrader": {
     "grade": false,
     "grade_id": "city_distance",
     "locked": false,
     "solution": true
    }
   },
   "outputs": [],
   "source": [
    "# Compose your function `city_distance` here."
   ]
  },
  {
   "cell_type": "code",
   "execution_count": null,
   "metadata": {
    "collapsed": false,
    "nbgrader": {
     "grade": false,
     "grade_id": "params",
     "locked": false,
     "solution": false
    }
   },
   "outputs": [],
   "source": [
    "# You may test your function here if desired."
   ]
  },
  {
   "cell_type": "code",
   "execution_count": null,
   "metadata": {
    "collapsed": false,
    "nbgrader": {
     "grade": true,
     "grade_id": "city_distance-test",
     "locked": true,
     "points": 1,
     "solution": false
    }
   },
   "outputs": [],
   "source": [
    "# your code should pass these tests---do NOT edit this cell\n",
    "from numpy import isclose\n",
    "test_city_locations = get_cities()\n",
    "\n",
    "assert isclose(city_distance( test_city_locations,'Avalon','Gotham' ), 16.1245), \"Distance calculation is incorrect.\"\n",
    "assert isclose(city_distance( test_city_locations,'Gotham','Quahog' ), 74.2765), \"Distance calculation is incorrect.\"\n",
    "print('Success!')"
   ]
  },
  {
   "cell_type": "markdown",
   "metadata": {},
   "source": [
    "-   We require a function `path_distance` which accepts a dictionary and a list of city names.  `path_distance` should return the length of the total path.  The following candidate function has been provided by a colleague of yours known for shoddy coding.  You suspect that it may have bugs.  Find and correct any of them in the code below."
   ]
  },
  {
   "cell_type": "code",
   "execution_count": null,
   "metadata": {
    "collapsed": true,
    "nbgrader": {
     "grade": false,
     "grade_id": "path_distance",
     "locked": false,
     "solution": true
    }
   },
   "outputs": [],
   "source": [
    "def path_distance( city_dict,city_path ):\n",
    "    \n",
    "    # Copy the incoming path since we'll modify it.\n",
    "    path1 = city_path[ : ]\n",
    "    path2 = city_path[ : ]\n",
    "    \n",
    "    del path2[ 0 ]\n",
    "    del path1[ len(path2)-1 ]\n",
    "    \n",
    "    # Now we have two lists, path1 being the starting city of each step\n",
    "    # and path2 being the ending city of each step:\n",
    "    \n",
    "    # Loop over the city pairs and sum up the total distance traveled:\n",
    "    total_d = 0.0\n",
    "    for city1,city2 in zip( path1,path1 ):\n",
    "        d = city_distance( city_dict,city1,city2 )\n",
    "        total_d += d\n",
    "    \n",
    "    return d"
   ]
  },
  {
   "cell_type": "code",
   "execution_count": null,
   "metadata": {
    "collapsed": false,
    "nbgrader": {
     "grade": true,
     "grade_id": "path_distance-test",
     "locked": true,
     "points": 1,
     "solution": false
    }
   },
   "outputs": [],
   "source": [
    "# your code should pass these tests---do NOT edit this cell\n",
    "from numpy import isclose\n",
    "test_city_locations = get_cities()\n",
    "\n",
    "assert path_distance( test_city_locations,['Avalon', 'Gotham', 'Quahog'] ) == \\\n",
    "       city_distance( test_city_locations,'Avalon', 'Gotham' ) + \\\n",
    "       city_distance( test_city_locations,'Gotham', 'Quahog' ), \\\n",
    "    \"Path calculation is incorrect.\"\n",
    "print('Success!')"
   ]
  },
  {
   "cell_type": "markdown",
   "metadata": {},
   "source": [
    "##  Finding a Way"
   ]
  },
  {
   "cell_type": "markdown",
   "metadata": {},
   "source": [
    "Now that we have ways of evaluating candidate routes, let's take a look at algorithms.\n",
    "\n",
    "First, we have our old friend the brute-force search.\n",
    "\n",
    "-   Given a set of cities and locations (we have that from `get_cities`), find the shortest route between them using the brute-force algorithm.  You may use the `itertools.permutations` function to comprehensively review the cities, but any candidate path needs to include all of the cities once. Be aware that `itertools.permutations` gives tuples, not lists!\n",
    "    \n",
    "    Compose a function `brute_force_tsp` which implements the brute-force algorithm as just described.  `brute_force_tsp` accepts the standard dictionary containing cities as well as a list of cities which need to be visited and returns the globally optimal path (shortest distance traveled)."
   ]
  },
  {
   "cell_type": "code",
   "execution_count": null,
   "metadata": {
    "collapsed": false,
    "nbgrader": {
     "grade": false,
     "grade_id": "brute_force_tsp",
     "locked": false,
     "solution": true
    }
   },
   "outputs": [],
   "source": [
    "# Compose your function `brute_force_tsp` here."
   ]
  },
  {
   "cell_type": "code",
   "execution_count": null,
   "metadata": {
    "collapsed": false
   },
   "outputs": [],
   "source": [
    "# You may test your function here if desired."
   ]
  },
  {
   "cell_type": "code",
   "execution_count": null,
   "metadata": {
    "collapsed": false,
    "nbgrader": {
     "grade": true,
     "grade_id": "brute_force_tsp-test",
     "locked": true,
     "points": 1,
     "solution": false
    }
   },
   "outputs": [],
   "source": [
    "# your code should pass these tests---do NOT edit this cell\n",
    "from numpy import isclose\n",
    "test_city_locations = get_cities()\n",
    "\n",
    "given_cities = [ 'Avalon','Bedrock','El Dorado','Emerald City','Gotham','Hill Valley' ]\n",
    "path = brute_force_tsp( test_city_locations,given_cities )\n",
    "assert type(path) == type(list()), \"Path returned is not a list, but {}\".format(type(path))\n",
    "assert np.isclose( path_distance(test_city_locations,path ), 219.5677 ), \"Path calculated is not the shortest.\"\n",
    "print('Success!')"
   ]
  },
  {
   "cell_type": "markdown",
   "metadata": {},
   "source": [
    "Given a set much larger than the six cities in the test case, brute-force searching will take too long.  We will employ another algorithm, a heuristic optimization technique called *branch and bound*. Branch and bound works by examining the best solution found so far, and if it is possible to determine that the candidate solution cannot possibly beat the *bound*, or best solution we have already, we drop all the computation down that *branch*.\n",
    "\n",
    "To begin, we need to approximate a good solution to the TSP which we can set as our *initial bound*. One way to do that is using the nearest-neighbor heuristic:  start with the first city, and then build the path by always traveling to the closest unvisited city.\n",
    "\n",
    "Let's take a look at the difference between a nearest-neighbor guess and the optimal solution for a certain case.\n",
    "\n",
    "![](./img/tsp-greedy.png)\n",
    "\n",
    "You can see that the nearest-neighbor heuristic isn't optimal (it's analogous to a hill-climbing solution), but it doesn't do *too* poorly.  Examine the implementation below (it does a couple of new things that we haven't examined yet), and evaluate it to make sure that `nearest_neighbor_heuristic` can run."
   ]
  },
  {
   "cell_type": "code",
   "execution_count": null,
   "metadata": {
    "collapsed": true
   },
   "outputs": [],
   "source": [
    "def nearest_neighbor_heuristic(cities, must_visit):\n",
    "    nn_heuristic = must_visit[ :1 ]  # The heuristic path our function builds\n",
    "    nn_unvisited = must_visit[ 1: ]  # The cities yet to be added to our path\n",
    "    \n",
    "    # While there are cities that haven't been visited...\n",
    "    while nn_unvisited:\n",
    "        curr_city = nn_heuristic[-1] # Get the city that the salesman is in\n",
    "        \n",
    "        # Find the closest unvisited city\n",
    "        next_dist, next_i = min((city_distance(cities, curr_city, next_city), city_i)\n",
    "                 for city_i, next_city in enumerate(nn_unvisited))\n",
    "        \n",
    "        # Append that city to our path, and remove it from our unvisited\n",
    "        nn_heuristic.append(nn_unvisited.pop(next_i))\n",
    "        \n",
    "    return (path_distance(cities, nn_heuristic), nn_heuristic)"
   ]
  },
  {
   "cell_type": "markdown",
   "metadata": {},
   "source": [
    "With our initial bound added, we can begin coding the branch-and-bound. Your zealous colleague has once again composed a useful function `branch_bound_tsp` to assist in this process, but you suspect that there may be some issues with the function.  Examine `branch_bound_tsp` for bugs, correct any that you notice, and solve the TSP."
   ]
  },
  {
   "cell_type": "code",
   "execution_count": null,
   "metadata": {
    "collapsed": true,
    "nbgrader": {
     "grade": false,
     "grade_id": "branch_bound_tsp",
     "locked": false,
     "solution": true
    }
   },
   "outputs": [],
   "source": [
    "def branch_bound_tsp( cities,must_visit ):\n",
    "    # cities is \n",
    "    \n",
    "    # Set our best solution as the nearest-neighbor approximation\n",
    "    best_sol = nearest_neighbor_heuristic( cities,must_visit ) \n",
    "    \n",
    "    # Create a list of incomplete solutions - tuples of distances and paths, one starting in each city\n",
    "    sol_list = [ ]\n",
    "    for city in must_visit:\n",
    "        sol_list.append( ( 0,[ city ] ) )\n",
    "    \n",
    "    while sol_list:\n",
    "        # Get our best distance and path from our best solution\n",
    "        best_dist, best_path = best_sol\n",
    "        \n",
    "        # Get our current solution from our list of solutions\n",
    "        # (list.pop removes the last item from a list and returns it)\n",
    "        # (this line is okay)\n",
    "        curr_dist, curr_path = sol_list.pop() \n",
    "        \n",
    "        # Build a list of unvisited cities for our current path\n",
    "        curr_remaining = [ ]\n",
    "        for city in must_visit:\n",
    "            if city not in curr_path:\n",
    "                curr_remaining.append( city )\n",
    "        \n",
    "        # If there are no remaining cities, this path is complete.\n",
    "        # Compare it to our current best solution and see which is better:\n",
    "        if len( curr_remaining ) = 0:\n",
    "            best_sol = min( best_sol,( curr_dist,curr_path ) )\n",
    "        \n",
    "        # If our current distance is worse than the best solution, adding cities won't help.\n",
    "        # This solution doesn't work, so just skip to the next iteration of the loop.\n",
    "        if curr_dist >= best_dist:\n",
    "            continue\n",
    "        \n",
    "        # Otherwise, we may want to examine this path further. Add the next steps to the\n",
    "        # start of the list so we can examine them in later iterations of the for loop.\n",
    "        for i, city in enumerate( curr_remaining ):\n",
    "            next_dist = curr_dist + city_distance( cities,curr_path[ -1 ],city )\n",
    "            next_path = curr_path.append( city )\n",
    "            \n",
    "            # If the distance is lower than the best distance, append the solution to\n",
    "            # the start of the list.\n",
    "            if next_dist < best_dist:\n",
    "                sol_list.insert( 1,( next_dist,next_path ) )\n",
    "    \n",
    "    # Return the best path.\n",
    "    return best_sol[ 1 ]"
   ]
  },
  {
   "cell_type": "code",
   "execution_count": null,
   "metadata": {
    "collapsed": false
   },
   "outputs": [],
   "source": [
    "# You may test your function here if desired."
   ]
  },
  {
   "cell_type": "code",
   "execution_count": null,
   "metadata": {
    "collapsed": false,
    "nbgrader": {
     "grade": true,
     "grade_id": "branch_bound_tsp-test",
     "locked": true,
     "points": 1,
     "solution": false
    }
   },
   "outputs": [],
   "source": [
    "# your code should pass these tests---do NOT edit this cell\n",
    "from numpy import isclose\n",
    "from time import time\n",
    "test_city_locations = get_cities()\n",
    "given_cities = list(test_city_locations.keys())[:10]\n",
    "\n",
    "print(\"Running branch and bound (n = 10)...\")\n",
    "start_bb = time()\n",
    "branch_bound_path = branch_bound_tsp(test_city_locations, given_cities)\n",
    "end_bb = time()\n",
    "print(\"Branch and bound time: \", end_bb - start_bb, \"\\n\")\n",
    "\n",
    "print(\"Running brute force (n = 10)...\")\n",
    "start_brute = time()\n",
    "brute_force_path = brute_force_tsp(test_city_locations, given_cities)\n",
    "end_brute = time()\n",
    "print(\"Brute force time: \", end_brute - start_brute)\n",
    "\n",
    "assert end_brute-start_brute - 15 > end_bb-start_bb, \"Branch and bound is not substantially faster than brute force.\"\n",
    "assert path_distance( test_city_locations,brute_force_path ) == path_distance( test_city_locations,branch_bound_path ), \"Branch and bound path does not return the same distance as brute-force path.\"\n",
    "\n",
    "print('Success!')"
   ]
  },
  {
   "cell_type": "markdown",
   "metadata": {},
   "source": [
    "This is a group lab, so you should write down the names and NetIDs of your group in the cell below.  Then **save** before submitting."
   ]
  },
  {
   "cell_type": "code",
   "execution_count": null,
   "metadata": {
    "collapsed": true
   },
   "outputs": [],
   "source": [
    "'''\n",
    "write them here\n",
    "'''"
   ]
  }
 ],
 "metadata": {
  "anaconda-cloud": {},
  "kernelspec": {
   "display_name": "Python [Root]",
   "language": "python",
   "name": "Python [Root]"
  },
  "language_info": {
   "codemirror_mode": {
    "name": "ipython",
    "version": 3
   },
   "file_extension": ".py",
   "mimetype": "text/x-python",
   "name": "python",
   "nbconvert_exporter": "python",
   "pygments_lexer": "ipython3",
   "version": "3.5.2"
  }
 },
 "nbformat": 4,
 "nbformat_minor": 0
}
