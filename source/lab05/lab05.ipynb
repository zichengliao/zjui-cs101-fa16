{
 "cells": [
  {
   "cell_type": "markdown",
   "metadata": {},
   "source": [
    "## `lab5`—Loops and Function Logic"
   ]
  },
  {
   "cell_type": "markdown",
   "metadata": {},
   "source": [
    "❖ Objectives\n",
    "\n",
    "-   More complicated logic in a function\n",
    "-   Use loops to carry out repetitive tasks.\n",
    "-   Load and save data to and from disk."
   ]
  },
  {
   "cell_type": "markdown",
   "metadata": {},
   "source": [
    "### Data Permutation"
   ]
  },
  {
   "cell_type": "markdown",
   "metadata": {
    "collapsed": true,
    "nbgrader": {
     "grade": true,
     "grade_id": "string-extend",
     "locked": false,
     "points": 1,
     "solution": true
    }
   },
   "source": [
    "Let us do some more work with functions to get used to their applications.\n",
    "\n",
    "Imagine performing more complicated tasks like permuting a set of variables (which is useful in tensor algebra, for instance<sup>[[MathWorld](http://mathworld.wolfram.com/Tensor.html)]</sup>):\n",
    "\n",
    "<img src=\"./img/permute.png\" width=\"50%;\"/>"
   ]
  },
  {
   "cell_type": "markdown",
   "metadata": {},
   "source": [
    "-   Write a function `permute` which carries out this operation.  (It really doesn't need to be more complicated than the `swap` function above, just with more variables.)"
   ]
  },
  {
   "cell_type": "code",
   "execution_count": null,
   "metadata": {
    "collapsed": true
   },
   "outputs": [],
   "source": [
    "# define your function here\n",
    "def permute(i,j,k,l,m):\n",
    "    # insert your code here\n",
    "    tmp = m\n",
    "    m = l\n",
    "    l = k\n",
    "    k = j\n",
    "    j = i\n",
    "    i = tmp\n",
    "    return i,j,k,l,m    #do not change this line"
   ]
  },
  {
   "cell_type": "markdown",
   "metadata": {},
   "source": [
    "<div class=\"alert alert-warning\">\n",
    "The code stub above has a `pass` statement.  This is a placeholder which does nothing, and you should replace it with either a `return` statement or another block of appropriate code.  Notebooks that you submit should never leave `pass` statements in.\n",
    "</div>"
   ]
  },
  {
   "cell_type": "code",
   "execution_count": null,
   "metadata": {
    "collapsed": false
   },
   "outputs": [],
   "source": [
    "# it should pass this test---do NOT edit this cell\n",
    "i,j,k,l,m = 1,2,4,8,16\n",
    "assert (m,i,j,k,l) == permute(i,j,k,l,m)\n",
    "print('Success!')"
   ]
  },
  {
   "cell_type": "markdown",
   "metadata": {},
   "source": [
    "### Loops"
   ]
  },
  {
   "cell_type": "markdown",
   "metadata": {},
   "source": [
    "Although a few varieties of loops are supported in Python (`do`, `while`), the loop *par excellence* is `for`.  `for` loops show up in solving a wide variety of engineering problems, ranging from structural analysis to equations of motion for molecules or satellites.\n",
    "\n",
    "As you have seen in the lecture, `for` yields each element of an existing `list` of data in turn."
   ]
  },
  {
   "cell_type": "code",
   "execution_count": null,
   "metadata": {
    "collapsed": false
   },
   "outputs": [],
   "source": [
    "colors = ['teal', 'mauve', 'taupe', 'ecru']\n",
    "for color in colors:\n",
    "    print('a can of %s paint'%color)"
   ]
  },
  {
   "cell_type": "code",
   "execution_count": null,
   "metadata": {
    "collapsed": false
   },
   "outputs": [],
   "source": [
    "print('index\\trunning total')\n",
    "counter_sum = 0\n",
    "for counter in range(20):\n",
    "    counter_sum += counter\n",
    "    print('%5d %15d'%(counter, counter_sum))     # incidentally, note the use of a specified field width to right-align the numbers"
   ]
  },
  {
   "cell_type": "code",
   "execution_count": null,
   "metadata": {
    "collapsed": false
   },
   "outputs": [],
   "source": [
    "for letter in 'string':\n",
    "    print(letter)"
   ]
  },
  {
   "cell_type": "markdown",
   "metadata": {},
   "source": [
    "Note that counter continues to exist after the loop, containing its final assigned value of 19."
   ]
  },
  {
   "cell_type": "markdown",
   "metadata": {},
   "source": [
    "-   Write a function `fragment` which accepts a string `string`.  `fragment` should return the string converted into a list of letters.  That is,\n",
    "        \n",
    "        fragment('capsaicin') == ['c', 'a', 'p', 's', 'a', 'i', 'c', 'i', 'n']\n",
    "    \n",
    "    A `for` loop and the `list` `append` method may be useful in accomplishing this."
   ]
  },
  {
   "cell_type": "code",
   "execution_count": null,
   "metadata": {
    "collapsed": true,
    "nbgrader": {
     "grade": false,
     "grade_id": "fragment",
     "locked": false,
     "solution": true
    }
   },
   "outputs": [],
   "source": [
    "# define your function here\n",
    "def fragment('''(delete this string and replace it with the incoming variables)'''):\n",
    "    return_list = []\n",
    "    pass # you can always delete a `pass` statement, since it does nothing"
   ]
  },
  {
   "cell_type": "code",
   "execution_count": null,
   "metadata": {
    "collapsed": true,
    "nbgrader": {
     "grade": true,
     "grade_id": "fragment-test",
     "locked": true,
     "points": 1,
     "solution": false
    }
   },
   "outputs": [],
   "source": [
    "# it should pass this test---do NOT edit this cell\n",
    "# test for specified case\n",
    "assert fragment('salamander') == ['s', 'a', 'l', 'a', 'm', 'a', 'n', 'd', 'e', 'r']"
   ]
  },
  {
   "cell_type": "markdown",
   "metadata": {},
   "source": [
    "###  Application I:  Counting String Components"
   ]
  },
  {
   "cell_type": "markdown",
   "metadata": {},
   "source": [
    "A `for` loop printing out the alphabet could look like this (using a *string constant* `ascii_lowercase`<sup>[[`string`](https://docs.python.org/2/library/string.html#string-constants)]</sup>):"
   ]
  },
  {
   "cell_type": "code",
   "execution_count": null,
   "metadata": {
    "collapsed": false
   },
   "outputs": [],
   "source": [
    "from string import ascii_lowercase as alphabet  # a useful predefined string 'abcde...'\n",
    "print(alphabet)\n",
    "\n",
    "for letter in alphabet:\n",
    "    print('letter:\\t%s'%letter)"
   ]
  },
  {
   "cell_type": "markdown",
   "metadata": {},
   "source": [
    "-   Write a function `count_letters` which accepts a string `text`.  `count_letters` should contain a loop over the alphabet and count the number of times each letter appears in the string `text` using the string method `count`.  The string `text` should be converted to lower-case.  This function should `print` the results, *not* `return` them."
   ]
  },
  {
   "cell_type": "code",
   "execution_count": null,
   "metadata": {
    "collapsed": false
   },
   "outputs": [],
   "source": [
    "# a refresher on how to use string.count\n",
    "\"'Impossible' n'est pas français. (Napoléon Bonaparte)\".count('n')"
   ]
  },
  {
   "cell_type": "code",
   "execution_count": null,
   "metadata": {
    "collapsed": false
   },
   "outputs": [],
   "source": [
    "# another refresher---note that these are different!\n",
    "\"'Impossible' n'est pas français. (Napoléon Bonaparte)\".lower().count('n')"
   ]
  },
  {
   "cell_type": "code",
   "execution_count": null,
   "metadata": {
    "collapsed": true,
    "nbgrader": {
     "grade": false,
     "grade_id": "count",
     "locked": false,
     "solution": true
    }
   },
   "outputs": [],
   "source": [
    "# define your function here\n",
    "def count_letters('''(delete this string and replace it with the incoming variables)'''):\n",
    "    # write a loop statement here\n",
    "        # calculate the count here\n",
    "        print('letter:\\t%s @ %s'%(letter, count))"
   ]
  },
  {
   "cell_type": "code",
   "execution_count": null,
   "metadata": {
    "collapsed": true
   },
   "outputs": [],
   "source": [
    "# run test\n",
    "count_letters('To thy Happy Children of the Future: Those of the Past Send Greetings')"
   ]
  },
  {
   "cell_type": "markdown",
   "metadata": {},
   "source": [
    "Let's test `count_letters` on a couple of strings.  The `true_pangram` string is correct, and you should double-check your results closely.  Case matters!"
   ]
  },
  {
   "cell_type": "code",
   "execution_count": null,
   "metadata": {
    "collapsed": false,
    "nbgrader": {
     "grade": false,
     "grade_id": "area-default",
     "locked": false,
     "points": 1,
     "solution": false
    }
   },
   "outputs": [],
   "source": [
    "true_pangram = \"\"\"\n",
    "This pangram contains four a’s, one b, two c’s, one d, thirty e’s, six f’s, five g’s, seven h’s, eleven i’s, one j,\n",
    "one k, two l’s, two m’s, eighteen n’s, fifteen o’s, two p’s, one q, five r’s, twenty-seven s’s, eighteen t’s, two u’s,\n",
    "seven v’s, eight w’s, two x’s, three y’s, & one z.\n",
    "\"\"\".strip()\n",
    "\n",
    "# you can edit this cell to use count_letters"
   ]
  },
  {
   "cell_type": "code",
   "execution_count": null,
   "metadata": {
    "collapsed": false,
    "nbgrader": {
     "grade": false,
     "grade_id": "area-default",
     "locked": false,
     "points": 1,
     "solution": false
    }
   },
   "outputs": [],
   "source": [
    "false_pangram = \"\"\"\n",
    "This pangram contains four As, one B, two Cs, one D, thirty Es, five Fs, five Gs, seven Hs, eleven Is, one J,\n",
    "one K, two Ls, two Ms, eighteen Ns, fifteen Os, two Ps, one Q, five Rs, twenty-seven Ss, eighteen Ts, two Us,\n",
    "seven Vs, eight Ws, two Xs, three Ys, & one Z.\n",
    "\"\"\".strip()\n",
    "\n",
    "# you can edit this cell to use count_letters"
   ]
  },
  {
   "cell_type": "markdown",
   "metadata": {},
   "source": [
    "-   Which letters, if any, have different counts from the claimed values?  Answer as a `tuple` in alphabetical order:  for example, `a,b,o,x`."
   ]
  },
  {
   "cell_type": "code",
   "execution_count": null,
   "metadata": {
    "collapsed": false,
    "nbgrader": {
     "grade": true,
     "grade_id": "count-test",
     "locked": false,
     "points": 1,
     "solution": true
    }
   },
   "outputs": [],
   "source": []
  },
  {
   "cell_type": "markdown",
   "metadata": {},
   "source": [
    "### Application II:  Chemical Symbol Translator Revisited"
   ]
  },
  {
   "cell_type": "markdown",
   "metadata": {},
   "source": [
    "Below is a function what accepts as input a chemical element symbol and returns the corresponding name of the element.  You will now use this function for the application next."
   ]
  },
  {
   "cell_type": "code",
   "execution_count": null,
   "metadata": {
    "collapsed": true
   },
   "outputs": [],
   "source": [
    "def symbol2name(symbol):\n",
    "    if 'H' in symbol:\n",
    "        if 'He' in symbol:\n",
    "            return 'Helium'\n",
    "        else:\n",
    "            return 'Hydrogen'\n",
    "    elif 'B' in symbol:\n",
    "        if 'Be' in symbol:\n",
    "            return 'Beryllium'\n",
    "        else:\n",
    "            return 'Boron'\n",
    "    elif 'Li' in symbol:\n",
    "        return 'Lithium'\n",
    "    elif 'C' in symbol:\n",
    "        return 'Carbon'\n",
    "    elif 'N' in symbol:\n",
    "        if 'Ne' in symbol:\n",
    "            return None\n",
    "        else:\n",
    "            return 'Nitrogen'\n",
    "    elif 'O' in symbol:\n",
    "        return 'Oxygen'\n",
    "    else:\n",
    "        return None"
   ]
  },
  {
   "cell_type": "markdown",
   "metadata": {},
   "source": [
    "You will write a `while` loop around `symbol2name` which will do the following.  (No change is necessary to the function `symbol2name`.)\n",
    "\n",
    "1.  Check whether we should end (the `while` statement).  This is done by using a *flag*, in this case called `go_flag`.  A flag is a common way of signalling to a loop that the code is ready to proceed.  As long as the flag is `True`, the code runs; when the flag becomes `False`, the loop stops.\n",
    "\n",
    "2.  Ask the user for a symbol to check using `input`.  (Remember that a `In [*]:` at the left of the cell block often means Python is waiting for input.)\n",
    "\n",
    "3.  If the symbol input is `'x'`, then you should tell the program to end the loop the next time around.  Otherwise, you should have the program call `symbol2name` on the input string and output the result.\n",
    "\n",
    "An outline:"
   ]
  },
  {
   "cell_type": "code",
   "execution_count": null,
   "metadata": {
    "collapsed": false,
    "nbgrader": {
     "grade": true,
     "grade_id": "chemnames",
     "locked": false,
     "points": 1,
     "solution": true
    }
   },
   "outputs": [],
   "source": [
    "# compose your code here\n",
    "go_flag = True\n",
    "while go_flag:\n",
    "    # ask for input symbol\n",
    "    #(your code here)\n",
    "\n",
    "    # check input symbol for 'x'\n",
    "    if ('''your code here'''):\n",
    "        # change go_flag to the stop condition\n",
    "        #(your code here)\n",
    "    else:\n",
    "        # change symbol to name\n",
    "        #(your code here)"
   ]
  },
  {
   "cell_type": "markdown",
   "metadata": {},
   "source": [
    "### Getting Data In and Out of File"
   ]
  },
  {
   "cell_type": "markdown",
   "metadata": {},
   "source": [
    "A program that you write is like machine that takes one set of inputs and transforms them into a set of outputs, whether as text data, file manipulations, or raw binary data in memory.\n",
    "\n",
    "Effective use of input and output is often the only way to get data into your program or out again.  Formally, there are a couple of ways you can handle this:\n",
    "\n",
    "-   You can explicitly `open`, `read` from or `write` to, and finally `close` the file.  This is the classic model of working with files<sup>[[docs](https://docs.python.org/2/tutorial/inputoutput.html#reading-and-writing-files)]</sup> and transfers well across all computing languages.\n",
    "    \n",
    "    You first must `open` a file.  You should additionally specify the *mode* you are opening the file in—this tells Python what you intend to do with the file and its contents.  You will commonly only need to `'r'`ead a file (as input) or `'w'`rite a file (as output).\n"
   ]
  },
  {
   "cell_type": "code",
   "execution_count": null,
   "metadata": {
    "collapsed": false
   },
   "outputs": [],
   "source": [
    "dataFileName = './data/lists.txt'  # . means the current directory, then a directory called data/ contains the lists.txt file\n",
    "dataFile = open(dataFileName, 'r')\n",
    "print('Using file %s'%dataFileName)"
   ]
  },
  {
   "cell_type": "markdown",
   "metadata": {},
   "source": [
    "After `open`ing the file, you are free to read the contents using a number of methods.  `read` will give you the complete contents of the file as a string; you may also find some utility in using `readline`, which will be used later in this course."
   ]
  },
  {
   "cell_type": "code",
   "execution_count": null,
   "metadata": {
    "collapsed": false
   },
   "outputs": [],
   "source": [
    "data = dataFile.read().splitlines()\n",
    "print(data)"
   ]
  },
  {
   "cell_type": "markdown",
   "metadata": {},
   "source": [
    "When you are done, don't forget to `close` the file.  If you neglect this step, the file may lose data and you are wasting system memory by keeping it open."
   ]
  },
  {
   "cell_type": "code",
   "execution_count": null,
   "metadata": {
    "collapsed": false
   },
   "outputs": [],
   "source": [
    "dataFile.close()"
   ]
  },
  {
   "cell_type": "markdown",
   "metadata": {},
   "source": [
    "This cycle of opening a file, reading data from it, and closing it is one you will repeat every time you need data.  (Many times, however, these steps may be hidden by a function which reads the data for you.)\n",
    "\n",
    "There is an alternative way to do this as well, using a *context*.  In this case, you only have to specify the opening and reading/writeing actions, and if anything fails for any reason, Python will close the file for you automatically.  The equivalent to the foregoing code may be written concisely as:"
   ]
  },
  {
   "cell_type": "code",
   "execution_count": null,
   "metadata": {
    "collapsed": false
   },
   "outputs": [],
   "source": [
    "with open('./data/lists.txt', 'r') as dataFile:\n",
    "    print('Using file %s'%dataFileName)\n",
    "    data = dataFile.readlines()\n",
    "print(data)"
   ]
  },
  {
   "cell_type": "markdown",
   "metadata": {},
   "source": [
    "You may notice the `readlines` method above.  This is used to extract the information (the entire contents of the file) into a persistent variable so you can use it after you close the file."
   ]
  },
  {
   "cell_type": "code",
   "execution_count": null,
   "metadata": {
    "collapsed": false
   },
   "outputs": [],
   "source": [
    "for line in data:\n",
    "    print(line.strip())"
   ]
  },
  {
   "cell_type": "markdown",
   "metadata": {},
   "source": [
    "-   Write a block of code which loads the file `./data/skyscrapers.txt`.  This file contains the name of a skyscraper and its corresponding height in meters.  You should load the data in the file into a variable called `height_data`, `split` it by commas, and convert the second piece of each line into a floating-point number.  Add these numbers together and store the result in the variable `sum_heights`.\n",
    "\n",
    "<!--\n",
    "with open('./data/skyscrapers.txt') as datafile:\n",
    "    data = datafile.readlines()\n",
    "\n",
    "sum_heights = 0\n",
    "for line in data:\n",
    "    print(line.split(','))\n",
    "    sum_heights += float(line.split(',')[1])\n",
    "-->"
   ]
  },
  {
   "cell_type": "code",
   "execution_count": null,
   "metadata": {
    "collapsed": false,
    "nbgrader": {
     "grade": false,
     "grade_id": "file",
     "locked": false,
     "solution": true
    }
   },
   "outputs": [],
   "source": [
    "# compose your code here\n",
    "# load the file, get the data out, close the file\n",
    "# loop over each line in the file\n",
    "    # split the line by the comma into two pieces (use the split method)\n",
    "    # convert the second part of the line into a float\n",
    "    # sum the total of all heights\n",
    "# sum_heights should contain your result\n"
   ]
  },
  {
   "cell_type": "code",
   "execution_count": null,
   "metadata": {
    "collapsed": true,
    "nbgrader": {
     "grade": true,
     "grade_id": "file-test",
     "locked": true,
     "points": 1,
     "solution": false
    }
   },
   "outputs": [],
   "source": [
    "# it should pass this test---do NOT edit this cell\n",
    "from numpy import isclose\n",
    "assert isclose(sum_heights, 10204.3)"
   ]
  },
  {
   "cell_type": "markdown",
   "metadata": {},
   "source": [
    "### Application III:  DNA and RNA Sequencing"
   ]
  },
  {
   "cell_type": "markdown",
   "metadata": {},
   "source": [
    "![](./img/DNA_Translation_and_Codons.jpg)\n",
    "\n",
    "A DNA sequence is composed of adenine (`'A'`), guanine (`'G'`), cytosine (`'C'`), and thymine (`'T'`) nucleobases.  During the process of gene expression, RNA reads off each nucleobase with its opposite.  Thus an RNA sequence is a string containing uracil (`'U'`), cytosine (`'C'`), guanine (`'G'`), and adenine (`'A'`) bases<sup>[[Wikipedia](https://en.wikipedia.org/wiki/RNA#Types_of_RNA)]</sup>.  (Note that U pairs with A as RNA does not contain thymine.)\n",
    "\n",
    "| Symbol | Name     | Complementary Base |\n",
    "|--------|----------|--------------------|\n",
    "| A  | adenine  | T (DNA); U (RNA)   |\n",
    "| C  | cytosine | G                  |\n",
    "| G  | guanine  | C                  |\n",
    "| T  | thymine  | A                  |\n",
    "| U  | uracil   | A                  |\n",
    "\n",
    "This multi-part problem will lead you through processing DNA sequence data through transcription into RNA and then examining sequences."
   ]
  },
  {
   "cell_type": "markdown",
   "metadata": {},
   "source": [
    "#### Complementing DNA"
   ]
  },
  {
   "cell_type": "markdown",
   "metadata": {},
   "source": [
    "-   Write a function `dna2rna` which accepts a string `seq_dna` representing a template strand of DNA.  `dna2rna` should `return` a string `seq_rna` which should contain the DNA strand transcribed to its RNA complement.  That is, the input `'ACGT'` should return `'UGCA'`.  The function should not be case sensitive with respect to input, but should return an upper-case transcription.\n",
    "    \n",
    "    You may use any means to accomplish this, but you may find the [`replace` function](http://www.tutorialspoint.com/python/string_replace.htm) useful."
   ]
  },
  {
   "cell_type": "code",
   "execution_count": null,
   "metadata": {
    "collapsed": true,
    "nbgrader": {
     "grade": false,
     "grade_id": "dna2rna",
     "locked": false,
     "solution": true
    }
   },
   "outputs": [],
   "source": [
    "# define your function here\n",
    "def dna2rna('''(delete this string and replace it with the incoming variables)'''):\n",
    "    pass # you can always delete a `pass` statement, since it does nothing"
   ]
  },
  {
   "cell_type": "code",
   "execution_count": null,
   "metadata": {
    "collapsed": true,
    "nbgrader": {
     "grade": true,
     "grade_id": "dna2rna-test",
     "locked": true,
     "points": 1,
     "solution": false
    }
   },
   "outputs": [],
   "source": [
    "# it should pass this test---do NOT edit this cell\n",
    "# test for simple case\n",
    "assert dna2rna('CGAT') == 'GCUA'"
   ]
  },
  {
   "cell_type": "code",
   "execution_count": null,
   "metadata": {
    "collapsed": false,
    "nbgrader": {
     "grade": true,
     "grade_id": "dna2rna-test-case",
     "locked": true,
     "points": 1,
     "solution": false
    }
   },
   "outputs": [],
   "source": [
    "# it should pass this test---do NOT edit this cell\n",
    "# test for case insensitivity\n",
    "assert dna2rna('CgATaaTTgcGGAttCAGatcGAaacGcg') == 'GCUAUUAACGCCUAAGUCUAGCUUUGCGC'"
   ]
  },
  {
   "cell_type": "markdown",
   "metadata": {},
   "source": [
    "In the directory `./data/` there is a file called `dna_seq.dat` containing many lines of DNA sequences.\n",
    "\n",
    "-   Write a function `read_and_complement_dna` which accepts a filename as a string `dna_file`.  `read_and_complement_dna` then loads the data in the file, converts each line into its RNA complement using `dna2rna`, and `return`s the resulting string."
   ]
  },
  {
   "cell_type": "code",
   "execution_count": null,
   "metadata": {
    "collapsed": true,
    "nbgrader": {
     "grade": false,
     "grade_id": "dna_seq",
     "locked": false,
     "solution": true
    }
   },
   "outputs": [],
   "source": [
    "# define your function here\n",
    "def read_and_complement_dna('''(delete this string and replace it with the incoming variables)'''):\n",
    "    # load the file, get the data out, close the file\n",
    "    result_string = \"\"\n",
    "    # loop over each line in the file\n",
    "        # convert the string to its RNA complement\n",
    "        converted_string = # your code here\n",
    "        # append the string to the overall result string\n",
    "        result_string += converted_string\n",
    "    # return the result string\n",
    "    pass # you can always delete a `pass` statement, since it does nothing"
   ]
  },
  {
   "cell_type": "code",
   "execution_count": null,
   "metadata": {
    "collapsed": true,
    "nbgrader": {
     "grade": true,
     "grade_id": "dna_seq-test",
     "locked": true,
     "points": 2,
     "solution": false
    }
   },
   "outputs": [],
   "source": [
    "# it should pass this test---do NOT edit this cell\n",
    "# test for simple case\n",
    "assert read_and_complement_dna('./data/dna_seq.dat') == 'AUGCCGCAAUCUGUUCACGCACUCAUGUGU'"
   ]
  },
  {
   "cell_type": "markdown",
   "metadata": {},
   "source": [
    "#### Mapping RNA to Amino Acids (Codons)"
   ]
  },
  {
   "cell_type": "markdown",
   "metadata": {},
   "source": [
    "One of the major functions of RNA in the body is as “messenger RNA”, which contains groups of three-letter *codons* mapping to amino acids expressed in the cell.  Thus if we find `CUU CAG` in mRNA, we anticipate that the cell will create leucine and glutamine, written `LQ`.  The full table of codons follows.\n",
    "\n",
    "<table class=\"wikitable\">\n",
    "<h4>Standard genetic code<sup>[[Wikipedia](https://en.wikipedia.org/wiki/Genetic_code#RNA_codon_table)]</sup></h4>\n",
    "<tr>\n",
    "<th rowspan=\"2\">1st<br />\n",
    "base</th>\n",
    "<th colspan=\"8\">2nd base</th>\n",
    "<th rowspan=\"2\">3rd<br />\n",
    "base</th>\n",
    "</tr>\n",
    "<tr>\n",
    "<th colspan=\"2\">U</th>\n",
    "<th colspan=\"2\">C</th>\n",
    "<th colspan=\"2\">A</th>\n",
    "<th colspan=\"2\">G</th>\n",
    "</tr>\n",
    "<tr>\n",
    "<th rowspan=\"4\">U</th>\n",
    "<td>UUU</td>\n",
    "<td rowspan=\"2\" style=\"background-color:#ffe75f\">(Phe/F) <a href=\"/wiki/Phenylalanine\" title=\"Phenylalanine\">Phenylalanine</a></td>\n",
    "<td>UCU</td>\n",
    "<td rowspan=\"4\" style=\"background-color:#b3dec0\">(Ser/S) <a href=\"/wiki/Serine\" title=\"Serine\">Serine</a></td>\n",
    "<td>UAU</td>\n",
    "<td rowspan=\"2\" style=\"background-color:#b3dec0\">(Tyr/Y) <a href=\"/wiki/Tyrosine\" title=\"Tyrosine\">Tyrosine</a></td>\n",
    "<td>UGU</td>\n",
    "<td rowspan=\"2\" style=\"background-color:#b3dec0\">(Cys/C) <a href=\"/wiki/Cysteine\" title=\"Cysteine\">Cysteine</a></td>\n",
    "<th>U</th>\n",
    "</tr>\n",
    "<tr>\n",
    "<td>UUC</td>\n",
    "<td>UCC</td>\n",
    "<td>UAC</td>\n",
    "<td>UGC</td>\n",
    "<th>C</th>\n",
    "</tr>\n",
    "<tr>\n",
    "<td>UUA</td>\n",
    "<td rowspan=\"6\" style=\"background-color:#ffe75f\">(Leu/L) <a href=\"/wiki/Leucine\" title=\"Leucine\">Leucine</a></td>\n",
    "<td>UCA</td>\n",
    "<td>UAA</td>\n",
    "<td style=\"background-color:#B0B0B0;\"><a href=\"/wiki/Stop_codon\" title=\"Stop codon\">Stop</a> (<i>Ochre</i>)</td>\n",
    "<td>UGA</td>\n",
    "<td style=\"background-color:#B0B0B0;\"><a href=\"/wiki/Stop_codon\" title=\"Stop codon\">Stop</a> (<i>Opal</i>)</td>\n",
    "<th>A</th>\n",
    "</tr>\n",
    "<tr>\n",
    "<td>UUG</td>\n",
    "<td>UCG</td>\n",
    "<td>UAG</td>\n",
    "<td style=\"background-color:#B0B0B0;\"><a href=\"/wiki/Stop_codon\" title=\"Stop codon\">Stop</a> (<i>Amber</i>)</td>\n",
    "<td>UGG</td>\n",
    "<td style=\"background-color:#ffe75f;\">(Trp/W) <a href=\"/wiki/Tryptophan\" title=\"Tryptophan\">Tryptophan</a>&#160;&#160;&#160;&#160;</td>\n",
    "<th>G</th>\n",
    "</tr>\n",
    "<tr>\n",
    "<th rowspan=\"4\">C</th>\n",
    "<td>CUU</td>\n",
    "<td>CCU</td>\n",
    "<td rowspan=\"4\" style=\"background-color:#ffe75f\">(Pro/P) <a href=\"/wiki/Proline\" title=\"Proline\">Proline</a></td>\n",
    "<td>CAU</td>\n",
    "<td rowspan=\"2\" style=\"background-color:#bbbfe0\">(His/H) <a href=\"/wiki/Histidine\" title=\"Histidine\">Histidine</a></td>\n",
    "<td>CGU</td>\n",
    "<td rowspan=\"4\" style=\"background-color:#bbbfe0\">(Arg/R) <a href=\"/wiki/Arginine\" title=\"Arginine\">Arginine</a></td>\n",
    "<th>U</th>\n",
    "</tr>\n",
    "<tr>\n",
    "<td>CUC</td>\n",
    "<td>CCC</td>\n",
    "<td>CAC</td>\n",
    "<td>CGC</td>\n",
    "<th>C</th>\n",
    "</tr>\n",
    "<tr>\n",
    "<td>CUA</td>\n",
    "<td>CCA</td>\n",
    "<td>CAA</td>\n",
    "<td rowspan=\"2\" style=\"background-color:#b3dec0\">(Gln/Q) <a href=\"/wiki/Glutamine\" title=\"Glutamine\">Glutamine</a></td>\n",
    "<td>CGA</td>\n",
    "<th>A</th>\n",
    "</tr>\n",
    "<tr>\n",
    "<td>CUG</td>\n",
    "<td>CCG</td>\n",
    "<td>CAG</td>\n",
    "<td>CGG</td>\n",
    "<th>G</th>\n",
    "</tr>\n",
    "<tr>\n",
    "<th rowspan=\"4\">A</th>\n",
    "<td>AUU</td>\n",
    "<td rowspan=\"3\" style=\"background-color:#ffe75f\">(Ile/I) <a href=\"/wiki/Isoleucine\" title=\"Isoleucine\">Isoleucine</a></td>\n",
    "<td>ACU</td>\n",
    "<td rowspan=\"4\" style=\"background-color:#b3dec0\">(Thr/T) <a href=\"/wiki/Threonine\" title=\"Threonine\">Threonine</a>&#160;&#160;&#160;&#160;&#160;&#160;&#160;&#160;</td>\n",
    "<td>AAU</td>\n",
    "<td rowspan=\"2\" style=\"background-color:#b3dec0\">(Asn/N) <a href=\"/wiki/Asparagine\" title=\"Asparagine\">Asparagine</a></td>\n",
    "<td>AGU</td>\n",
    "<td rowspan=\"2\" style=\"background-color:#b3dec0\">(Ser/S) <a href=\"/wiki/Serine\" title=\"Serine\">Serine</a></td>\n",
    "<th>U</th>\n",
    "</tr>\n",
    "<tr>\n",
    "<td>AUC</td>\n",
    "<td>ACC</td>\n",
    "<td>AAC</td>\n",
    "<td>AGC</td>\n",
    "<th>C</th>\n",
    "</tr>\n",
    "<tr>\n",
    "<td>AUA</td>\n",
    "<td>ACA</td>\n",
    "<td>AAA</td>\n",
    "<td rowspan=\"2\" style=\"background-color:#bbbfe0\">(Lys/K) <a href=\"/wiki/Lysine\" title=\"Lysine\">Lysine</a></td>\n",
    "<td>AGA</td>\n",
    "<td rowspan=\"2\" style=\"background-color:#bbbfe0\">(Arg/R) <a href=\"/wiki/Arginine\" title=\"Arginine\">Arginine</a></td>\n",
    "<th>A</th>\n",
    "</tr>\n",
    "<tr>\n",
    "<td>AUG<sup class=\"reference\" id=\"ref_methionineA\"><a href=\"#endnote_methionineA\">[A]</a></sup></td>\n",
    "<td style=\"background-color:#ffe75f;\">(Met/M) <a href=\"/wiki/Methionine\" title=\"Methionine\">Methionine</a></td>\n",
    "<td>ACG</td>\n",
    "<td>AAG</td>\n",
    "<td>AGG</td>\n",
    "<th>G</th>\n",
    "</tr>\n",
    "<tr>\n",
    "<th rowspan=\"4\">G</th>\n",
    "<td>GUU</td>\n",
    "<td rowspan=\"4\" style=\"background-color:#ffe75f\">(Val/V) <a href=\"/wiki/Valine\" title=\"Valine\">Valine</a></td>\n",
    "<td>GCU</td>\n",
    "<td rowspan=\"4\" style=\"background-color:#ffe75f\">(Ala/A) <a href=\"/wiki/Alanine\" title=\"Alanine\">Alanine</a></td>\n",
    "<td>GAU</td>\n",
    "<td rowspan=\"2\" style=\"background-color:#f8b7d3\">(Asp/D) <a href=\"/wiki/Aspartic_acid\" title=\"Aspartic acid\">Aspartic acid</a></td>\n",
    "<td>GGU</td>\n",
    "<td rowspan=\"4\" style=\"background-color:#ffe75f\">(Gly/G) <a href=\"/wiki/Glycine\" title=\"Glycine\">Glycine</a></td>\n",
    "<th>U</th>\n",
    "</tr>\n",
    "<tr>\n",
    "<td>GUC</td>\n",
    "<td>GCC</td>\n",
    "<td>GAC</td>\n",
    "<td>GGC</td>\n",
    "<th>C</th>\n",
    "</tr>\n",
    "<tr>\n",
    "<td>GUA</td>\n",
    "<td>GCA</td>\n",
    "<td>GAA</td>\n",
    "<td rowspan=\"2\" style=\"background-color:#f8b7d3\">(Glu/E) <a href=\"/wiki/Glutamic_acid\" title=\"Glutamic acid\">Glutamic acid</a></td>\n",
    "<td>GGA</td>\n",
    "<th>A</th>\n",
    "</tr>\n",
    "<tr>\n",
    "<td>GUG</td>\n",
    "<td>GCG</td>\n",
    "<td>GAG</td>\n",
    "<td>GGG</td>\n",
    "<th>G</th>\n",
    "</tr>\n",
    "</table>"
   ]
  },
  {
   "cell_type": "markdown",
   "metadata": {},
   "source": [
    "We provide the function `rna2amino` which accepts a three-letter codon and returns the corresponding amino acid.  This uses a `dict`, a data type you haven't encountered yet but which is easy to use."
   ]
  },
  {
   "cell_type": "code",
   "execution_count": null,
   "metadata": {
    "collapsed": true
   },
   "outputs": [],
   "source": [
    "genetic_code = {\n",
    "    'UUU': 'F', 'UUC': 'F', 'UUA': 'L', 'UUG': 'L',        'CUU': 'L', 'CUC': 'L', 'CUA': 'L', 'CUG': 'L',\n",
    "    'AUU': 'I', 'AUC': 'I', 'AUA': 'I', 'AUG': 'M',        'GUU': 'V', 'GUC': 'V', 'GUA': 'V', 'GUG': 'V',\n",
    "    \n",
    "    'UCU': 'S', 'UCC': 'S', 'UCA': 'S', 'UCG': 'S',        'CCU': 'P', 'CCC': 'P', 'CCA': 'P', 'CCG': 'P',\n",
    "    'ACU': 'T', 'ACC': 'T', 'ACA': 'T', 'ACG': 'T',        'GCU': 'A', 'GCC': 'A', 'GCA': 'A', 'GCG': 'A',\n",
    "    \n",
    "    'UAU': 'Y', 'UAC': 'Y', 'UAA': '*', 'UAG': '*',        'CAU': 'H', 'CAC': 'H', 'CAA': 'Q', 'CAG': 'Q',\n",
    "    'AAU': 'N', 'AAC': 'N', 'AAA': 'K', 'AAG': 'K',        'GAU': 'D', 'GAC': 'D', 'GAA': 'E', 'GAG': 'E',\n",
    "    \n",
    "    'UGU': 'C', 'UGC': 'C', 'UGA': '*', 'UGG': 'W',        'CGU': 'R', 'CGC': 'R', 'CGA': 'R', 'CGG': 'R',\n",
    "    'AGU': 'S', 'AGC': 'S', 'AGA': 'R', 'AGG': 'R',        'GGU': 'G', 'GGC': 'G', 'GGA': 'G', 'GGG': 'G',\n",
    "}\n",
    "allowed_codons = set('ACGU')\n",
    "\n",
    "def rna2amino(codon):\n",
    "    if len(codon) != 3: return None\n",
    "    codon = codon.upper()\n",
    "    if (set(codon) > allowed_codons): return None\n",
    "    return genetic_code[codon]"
   ]
  },
  {
   "cell_type": "markdown",
   "metadata": {},
   "source": [
    "-   We next need a function `sequence_string` which accepts a string `rna_seq` containing RNA sequence data and maps it to amino acids.  This requires that you:\n",
    "    \n",
    "    1.  Break each string into three-letter chunks.\n",
    "    2.  For each chunk, map it to a valid amino acid codon according to the table below.  (We provide code for this step.)\n",
    "    3.  Return the result."
   ]
  },
  {
   "cell_type": "markdown",
   "metadata": {},
   "source": [
    "The tricky part is figuring out how to get a string chopped into three-letter chunks.  (This is harder than it seems at first.)  There are many ways you can think of to do this.  One possibility:"
   ]
  },
  {
   "cell_type": "markdown",
   "metadata": {},
   "source": [
    "The first part is figuring out how to get a string chopped into three-letter chunks. This is harder than it seems at first. Please write a function `parse_rna_seq` that takes a RNA sequence rna_seq as input and outputs a list of its 3-letter codon chunks of it:"
   ]
  },
  {
   "cell_type": "code",
   "execution_count": null,
   "metadata": {
    "collapsed": false
   },
   "outputs": [],
   "source": [
    "def parse_rna_seq('''(delete this string and replace it with the incoming variables)'''):\n",
    "    # insert your code here\n",
    "    pass # you can always delete a `pass` statement, since it does nothing"
   ]
  },
  {
   "cell_type": "code",
   "execution_count": null,
   "metadata": {
    "collapsed": true
   },
   "outputs": [],
   "source": [
    "example_string = 'abcdefghijklmnopqrstuvwxyz'\n",
    "assert parse_rna_seq(example_string) == ['abc', 'def', 'ghi', 'jkl', 'mno', 'pqr', 'stu', 'vwx']"
   ]
  },
  {
   "cell_type": "markdown",
   "metadata": {},
   "source": [
    "Now write the function `sequence_string` that accepts a string `rna_seq` containing RNA sequence data and maps it to amino acids"
   ]
  },
  {
   "cell_type": "code",
   "execution_count": null,
   "metadata": {
    "collapsed": true,
    "nbgrader": {
     "grade": false,
     "grade_id": "rna_seq",
     "locked": false,
     "solution": true
    }
   },
   "outputs": [],
   "source": [
    "# define your function here\n",
    "def sequence_string('''(delete this string and replace it with the incoming variables)'''):\n",
    "    # divide the string into three-letter chunks\n",
    "    # map each three-letter codon to a protein\n",
    "    # append the protein to the result string\n",
    "    # return the result string\n",
    "    pass # you can always delete a `pass` statement, since it does nothing"
   ]
  },
  {
   "cell_type": "code",
   "execution_count": null,
   "metadata": {
    "collapsed": true,
    "nbgrader": {
     "grade": true,
     "grade_id": "rna_seq-test1",
     "locked": true,
     "points": 1,
     "solution": false
    }
   },
   "outputs": [],
   "source": [
    "# it should pass this test---do NOT edit this cell\n",
    "# test for simple case\n",
    "assert sequence_string('ACUGAU') == 'TD'"
   ]
  },
  {
   "cell_type": "code",
   "execution_count": null,
   "metadata": {
    "collapsed": false,
    "nbgrader": {
     "grade": true,
     "grade_id": "rna_seq-test2",
     "locked": true,
     "points": 1,
     "solution": false
    }
   },
   "outputs": [],
   "source": [
    "# it should pass this test---do NOT edit this cell\n",
    "# test for a more complicated case\n",
    "assert sequence_string('AUCACUGUAGUAGUAGCUGGAAAGAGAAAUCUGUGACUCCAAUUAGCC') == 'ITVVVAGKRNL*LQLA'"
   ]
  },
  {
   "cell_type": "code",
   "execution_count": null,
   "metadata": {
    "collapsed": false,
    "nbgrader": {
     "grade": true,
     "grade_id": "rna_seq-test3",
     "locked": true,
     "points": 1,
     "solution": false
    }
   },
   "outputs": [],
   "source": [
    "# it should pass this test---do NOT edit this cell\n",
    "# test for failure case\n",
    "try:\n",
    "    sequence_string('ASDF')\n",
    "except KeyError:\n",
    "    True\n",
    "else:\n",
    "    False"
   ]
  },
  {
   "cell_type": "markdown",
   "metadata": {},
   "source": [
    "Finally, we are interested in loading a file of DNA sequence data, complementing it, and mapping the resulting RNA to amino acids.  This requires that you:\n",
    "\n",
    "1.  Load a file.\n",
    "2.  Use your function `sequence_string` to convert each line of the file to its protein expression string.\n",
    "3.  Return the resulting string."
   ]
  },
  {
   "cell_type": "markdown",
   "metadata": {},
   "source": [
    "-   Write a function `sequence_file` which accepts a string `dna_seq_file`.  This function will `return` (NOT write to disk) a string containing the amino acids described in the file `dna_seq_file`, including line breaks."
   ]
  },
  {
   "cell_type": "code",
   "execution_count": null,
   "metadata": {
    "collapsed": false,
    "nbgrader": {
     "grade": false,
     "grade_id": "sequence",
     "locked": false,
     "solution": true
    }
   },
   "outputs": [],
   "source": [
    "# define your function here\n",
    "def sequence_file('''(delete this string and replace it with the incoming variables)'''):\n",
    "    # use read_and_complement_dna to get the dna complement as rna\n",
    "    # use sequence_string to convert rna to amino acid sequence\n",
    "    pass # you can always delete a `pass` statement, since it does nothing"
   ]
  },
  {
   "cell_type": "code",
   "execution_count": null,
   "metadata": {
    "collapsed": false,
    "nbgrader": {
     "grade": true,
     "grade_id": "sequence-test",
     "locked": true,
     "points": 2,
     "solution": false
    }
   },
   "outputs": [],
   "source": [
    "# it should pass this test---do NOT edit this cell\n",
    "# test for simple case\n",
    "test_data_file = './data/dna_test.dat'\n",
    "assert sequence_file(test_data_file) == '''\n",
    "YKRPPPPGDRGPPFSRRSRRRPKKRGRPGAPRPAPGGGTNSVLKMLGMERGQPCVVFGWPGWVAVCMISLTLLKAK*RGAHDLLLRGGLFARPHVLPVEFARGFHMTPPLLALQEAQPSPPKTGAASADTPPHLVRGRPKLGWQWQKVHML*DLLHLVRM\n",
    "'''.strip()"
   ]
  },
  {
   "cell_type": "markdown",
   "metadata": {},
   "source": [
    "This has quickly become a sophisticated workflow, and it is easy to lose track of both what you're doing and what you've already written!  This diagram shows how the data pipeline works to process data from disk:\n",
    "\n",
    "![](./img/flowchart.png)"
   ]
  }
 ],
 "metadata": {
  "anaconda-cloud": {},
  "kernelspec": {
   "display_name": "Python [Root]",
   "language": "python",
   "name": "Python [Root]"
  },
  "language_info": {
   "codemirror_mode": {
    "name": "ipython",
    "version": 3
   },
   "file_extension": ".py",
   "mimetype": "text/x-python",
   "name": "python",
   "nbconvert_exporter": "python",
   "pygments_lexer": "ipython3",
   "version": "3.5.2"
  }
 },
 "nbformat": 4,
 "nbformat_minor": 0
}
