{
 "cells": [
  {
   "cell_type": "markdown",
   "metadata": {},
   "source": [
    "## `lab5`—RNA Sequencing"
   ]
  },
  {
   "cell_type": "markdown",
   "metadata": {},
   "source": [
    "❖ Objectives\n",
    "\n",
    "-   Build a multi-part workflow to process data."
   ]
  },
  {
   "cell_type": "markdown",
   "metadata": {},
   "source": [
    "![](https://oerpub.github.io/epubjs-demo-book/resources/0324_DNA_Translation_and_Codons.jpg)\n",
    "\n",
    "A DNA sequence is composed of adenine (`'A'`), guanine (`'G'`), cytosine (`'C'`), and thymine (`'T'`) nucleobases.  During the process of gene expression, RNA reads off each nucleobase with its opposite.  Thus an RNA sequence is a string containing uracil (`'U'`), cytosine (`'C'`), guanine (`'G'`), and adenine (`'A'`) bases<sup>[[Wikipedia](https://en.wikipedia.org/wiki/RNA#Types_of_RNA)]</sup>.  (Note that U pairs with A as RNA does not contain thymine.)\n",
    "\n",
    "| Symbol | Name     | Complementary Base |\n",
    "|--------|----------|--------------------|\n",
    "| A  | adenine  | T (DNA); U (RNA)   |\n",
    "| C  | cytosine | G                  |\n",
    "| G  | guanine  | C                  |\n",
    "| T  | thymine  | A                  |\n",
    "| U  | uracil   | A                  |\n",
    "\n",
    "This multi-part problem will lead you through processing DNA sequence data through transcription into RNA and then examining sequences."
   ]
  },
  {
   "cell_type": "markdown",
   "metadata": {},
   "source": [
    "#### Complementing DNA"
   ]
  },
  {
   "cell_type": "markdown",
   "metadata": {},
   "source": [
    "-   Write a function `dna2rna` which accepts a string `seq_dna` representing a template strand of DNA.  `dna2rna` should `return` a string `seq_rna` which should contain the DNA strand transcribed to its RNA complement.  That is, the input `'ACGT'` should return `'UGCA'`.  The function should not be case sensitive with respect to input, but should return an upper-case transcription.\n",
    "    \n",
    "    You may use any means to accomplish this, but you may find the [`replace` function](http://www.tutorialspoint.com/python/string_replace.htm) useful."
   ]
  },
  {
   "cell_type": "code",
   "execution_count": null,
   "metadata": {
    "collapsed": true,
    "nbgrader": {
     "grade": false,
     "grade_id": "dna2rna",
     "locked": false,
     "solution": true
    }
   },
   "outputs": [],
   "source": [
    "# define your function here\n",
    "def dna2rna('''(delete this string and replace it with the incoming variables)'''):\n",
    "    pass # you can always delete a `pass` statement, since it does nothing"
   ]
  },
  {
   "cell_type": "code",
   "execution_count": null,
   "metadata": {
    "collapsed": true,
    "nbgrader": {
     "grade": true,
     "grade_id": "dna2rna-test",
     "locked": true,
     "points": 1,
     "solution": false
    }
   },
   "outputs": [],
   "source": [
    "# it should pass this test---do NOT edit this cell\n",
    "# test for simple case\n",
    "assert dna2rna('CGAT') == 'GCUA'\n",
    "print('Success!')"
   ]
  },
  {
   "cell_type": "code",
   "execution_count": null,
   "metadata": {
    "collapsed": false,
    "nbgrader": {
     "grade": true,
     "grade_id": "dna2rna-test-case",
     "locked": true,
     "points": 1,
     "solution": false
    }
   },
   "outputs": [],
   "source": [
    "# it should pass this test---do NOT edit this cell\n",
    "# test for case insensitivity\n",
    "assert dna2rna('CgATaaTTgcGGAttCAGatcGAaacGcg') == 'GCUAUUAACGCCUAAGUCUAGCUUUGCGC'\n",
    "print('Success!')"
   ]
  },
  {
   "cell_type": "markdown",
   "metadata": {},
   "source": [
    "In the directory `./data/` there is a file called `dna_seq.dat` containing many lines of DNA sequences.\n",
    "\n",
    "-   Write a function `read_and_complement_dna` which accepts a filename as a string `dna_file`.  `read_and_complement_dna` then loads the data in the file, converts each line into its RNA complement using `dna2rna`, and `return`s the resulting string."
   ]
  },
  {
   "cell_type": "code",
   "execution_count": null,
   "metadata": {
    "collapsed": true,
    "nbgrader": {
     "grade": false,
     "grade_id": "dna_seq",
     "locked": false,
     "solution": true
    }
   },
   "outputs": [],
   "source": [
    "# define your function here\n",
    "def read_and_complement_dna('''(delete this string and replace it with the incoming variables)'''):\n",
    "    # load the file, get the data out, close the file\n",
    "    result_string = \"\"\n",
    "    # loop over each line in the file\n",
    "        # convert the string to its RNA complement\n",
    "        converted_string = # your code here\n",
    "        # append the string to the overall result string\n",
    "        result_string += converted_string\n",
    "    # return the result string\n",
    "    pass # you can always delete a `pass` statement, since it does nothing"
   ]
  },
  {
   "cell_type": "code",
   "execution_count": null,
   "metadata": {
    "collapsed": true,
    "nbgrader": {
     "grade": true,
     "grade_id": "dna_seq-test",
     "locked": true,
     "points": 2,
     "solution": false
    }
   },
   "outputs": [],
   "source": [
    "# it should pass this test---do NOT edit this cell\n",
    "# test for simple case\n",
    "assert read_and_complement_dna('./data/dna_seq.dat') == 'AUGCCGCAAUCUGUUCACGCACUCAUGUGU'\n",
    "print('Success!')"
   ]
  },
  {
   "cell_type": "markdown",
   "metadata": {},
   "source": [
    "#### Mapping RNA to Amino Acids (Codons)"
   ]
  },
  {
   "cell_type": "markdown",
   "metadata": {},
   "source": [
    "One of the major functions of RNA in the body is as “messenger RNA”, which contains groups of three-letter *codons* mapping to amino acids expressed in the cell.  Thus if we find `CUU CAG` in mRNA, we anticipate that the cell will create leucine and glutamine, written `LQ`.  The full table of codons follows.\n",
    "\n",
    "<table class=\"wikitable\">\n",
    "<h4>Standard genetic code<sup>[[Wikipedia](https://en.wikipedia.org/wiki/Genetic_code#RNA_codon_table)]</sup></h4>\n",
    "<tr>\n",
    "<th rowspan=\"2\">1st<br />\n",
    "base</th>\n",
    "<th colspan=\"8\">2nd base</th>\n",
    "<th rowspan=\"2\">3rd<br />\n",
    "base</th>\n",
    "</tr>\n",
    "<tr>\n",
    "<th colspan=\"2\">U</th>\n",
    "<th colspan=\"2\">C</th>\n",
    "<th colspan=\"2\">A</th>\n",
    "<th colspan=\"2\">G</th>\n",
    "</tr>\n",
    "<tr>\n",
    "<th rowspan=\"4\">U</th>\n",
    "<td>UUU</td>\n",
    "<td rowspan=\"2\" style=\"background-color:#ffe75f\">(Phe/F) <a href=\"/wiki/Phenylalanine\" title=\"Phenylalanine\">Phenylalanine</a></td>\n",
    "<td>UCU</td>\n",
    "<td rowspan=\"4\" style=\"background-color:#b3dec0\">(Ser/S) <a href=\"/wiki/Serine\" title=\"Serine\">Serine</a></td>\n",
    "<td>UAU</td>\n",
    "<td rowspan=\"2\" style=\"background-color:#b3dec0\">(Tyr/Y) <a href=\"/wiki/Tyrosine\" title=\"Tyrosine\">Tyrosine</a></td>\n",
    "<td>UGU</td>\n",
    "<td rowspan=\"2\" style=\"background-color:#b3dec0\">(Cys/C) <a href=\"/wiki/Cysteine\" title=\"Cysteine\">Cysteine</a></td>\n",
    "<th>U</th>\n",
    "</tr>\n",
    "<tr>\n",
    "<td>UUC</td>\n",
    "<td>UCC</td>\n",
    "<td>UAC</td>\n",
    "<td>UGC</td>\n",
    "<th>C</th>\n",
    "</tr>\n",
    "<tr>\n",
    "<td>UUA</td>\n",
    "<td rowspan=\"6\" style=\"background-color:#ffe75f\">(Leu/L) <a href=\"/wiki/Leucine\" title=\"Leucine\">Leucine</a></td>\n",
    "<td>UCA</td>\n",
    "<td>UAA</td>\n",
    "<td style=\"background-color:#B0B0B0;\"><a href=\"/wiki/Stop_codon\" title=\"Stop codon\">Stop</a> (<i>Ochre</i>)</td>\n",
    "<td>UGA</td>\n",
    "<td style=\"background-color:#B0B0B0;\"><a href=\"/wiki/Stop_codon\" title=\"Stop codon\">Stop</a> (<i>Opal</i>)</td>\n",
    "<th>A</th>\n",
    "</tr>\n",
    "<tr>\n",
    "<td>UUG</td>\n",
    "<td>UCG</td>\n",
    "<td>UAG</td>\n",
    "<td style=\"background-color:#B0B0B0;\"><a href=\"/wiki/Stop_codon\" title=\"Stop codon\">Stop</a> (<i>Amber</i>)</td>\n",
    "<td>UGG</td>\n",
    "<td style=\"background-color:#ffe75f;\">(Trp/W) <a href=\"/wiki/Tryptophan\" title=\"Tryptophan\">Tryptophan</a>&#160;&#160;&#160;&#160;</td>\n",
    "<th>G</th>\n",
    "</tr>\n",
    "<tr>\n",
    "<th rowspan=\"4\">C</th>\n",
    "<td>CUU</td>\n",
    "<td>CCU</td>\n",
    "<td rowspan=\"4\" style=\"background-color:#ffe75f\">(Pro/P) <a href=\"/wiki/Proline\" title=\"Proline\">Proline</a></td>\n",
    "<td>CAU</td>\n",
    "<td rowspan=\"2\" style=\"background-color:#bbbfe0\">(His/H) <a href=\"/wiki/Histidine\" title=\"Histidine\">Histidine</a></td>\n",
    "<td>CGU</td>\n",
    "<td rowspan=\"4\" style=\"background-color:#bbbfe0\">(Arg/R) <a href=\"/wiki/Arginine\" title=\"Arginine\">Arginine</a></td>\n",
    "<th>U</th>\n",
    "</tr>\n",
    "<tr>\n",
    "<td>CUC</td>\n",
    "<td>CCC</td>\n",
    "<td>CAC</td>\n",
    "<td>CGC</td>\n",
    "<th>C</th>\n",
    "</tr>\n",
    "<tr>\n",
    "<td>CUA</td>\n",
    "<td>CCA</td>\n",
    "<td>CAA</td>\n",
    "<td rowspan=\"2\" style=\"background-color:#b3dec0\">(Gln/Q) <a href=\"/wiki/Glutamine\" title=\"Glutamine\">Glutamine</a></td>\n",
    "<td>CGA</td>\n",
    "<th>A</th>\n",
    "</tr>\n",
    "<tr>\n",
    "<td>CUG</td>\n",
    "<td>CCG</td>\n",
    "<td>CAG</td>\n",
    "<td>CGG</td>\n",
    "<th>G</th>\n",
    "</tr>\n",
    "<tr>\n",
    "<th rowspan=\"4\">A</th>\n",
    "<td>AUU</td>\n",
    "<td rowspan=\"3\" style=\"background-color:#ffe75f\">(Ile/I) <a href=\"/wiki/Isoleucine\" title=\"Isoleucine\">Isoleucine</a></td>\n",
    "<td>ACU</td>\n",
    "<td rowspan=\"4\" style=\"background-color:#b3dec0\">(Thr/T) <a href=\"/wiki/Threonine\" title=\"Threonine\">Threonine</a>&#160;&#160;&#160;&#160;&#160;&#160;&#160;&#160;</td>\n",
    "<td>AAU</td>\n",
    "<td rowspan=\"2\" style=\"background-color:#b3dec0\">(Asn/N) <a href=\"/wiki/Asparagine\" title=\"Asparagine\">Asparagine</a></td>\n",
    "<td>AGU</td>\n",
    "<td rowspan=\"2\" style=\"background-color:#b3dec0\">(Ser/S) <a href=\"/wiki/Serine\" title=\"Serine\">Serine</a></td>\n",
    "<th>U</th>\n",
    "</tr>\n",
    "<tr>\n",
    "<td>AUC</td>\n",
    "<td>ACC</td>\n",
    "<td>AAC</td>\n",
    "<td>AGC</td>\n",
    "<th>C</th>\n",
    "</tr>\n",
    "<tr>\n",
    "<td>AUA</td>\n",
    "<td>ACA</td>\n",
    "<td>AAA</td>\n",
    "<td rowspan=\"2\" style=\"background-color:#bbbfe0\">(Lys/K) <a href=\"/wiki/Lysine\" title=\"Lysine\">Lysine</a></td>\n",
    "<td>AGA</td>\n",
    "<td rowspan=\"2\" style=\"background-color:#bbbfe0\">(Arg/R) <a href=\"/wiki/Arginine\" title=\"Arginine\">Arginine</a></td>\n",
    "<th>A</th>\n",
    "</tr>\n",
    "<tr>\n",
    "<td>AUG<sup class=\"reference\" id=\"ref_methionineA\"><a href=\"#endnote_methionineA\">[A]</a></sup></td>\n",
    "<td style=\"background-color:#ffe75f;\">(Met/M) <a href=\"/wiki/Methionine\" title=\"Methionine\">Methionine</a></td>\n",
    "<td>ACG</td>\n",
    "<td>AAG</td>\n",
    "<td>AGG</td>\n",
    "<th>G</th>\n",
    "</tr>\n",
    "<tr>\n",
    "<th rowspan=\"4\">G</th>\n",
    "<td>GUU</td>\n",
    "<td rowspan=\"4\" style=\"background-color:#ffe75f\">(Val/V) <a href=\"/wiki/Valine\" title=\"Valine\">Valine</a></td>\n",
    "<td>GCU</td>\n",
    "<td rowspan=\"4\" style=\"background-color:#ffe75f\">(Ala/A) <a href=\"/wiki/Alanine\" title=\"Alanine\">Alanine</a></td>\n",
    "<td>GAU</td>\n",
    "<td rowspan=\"2\" style=\"background-color:#f8b7d3\">(Asp/D) <a href=\"/wiki/Aspartic_acid\" title=\"Aspartic acid\">Aspartic acid</a></td>\n",
    "<td>GGU</td>\n",
    "<td rowspan=\"4\" style=\"background-color:#ffe75f\">(Gly/G) <a href=\"/wiki/Glycine\" title=\"Glycine\">Glycine</a></td>\n",
    "<th>U</th>\n",
    "</tr>\n",
    "<tr>\n",
    "<td>GUC</td>\n",
    "<td>GCC</td>\n",
    "<td>GAC</td>\n",
    "<td>GGC</td>\n",
    "<th>C</th>\n",
    "</tr>\n",
    "<tr>\n",
    "<td>GUA</td>\n",
    "<td>GCA</td>\n",
    "<td>GAA</td>\n",
    "<td rowspan=\"2\" style=\"background-color:#f8b7d3\">(Glu/E) <a href=\"/wiki/Glutamic_acid\" title=\"Glutamic acid\">Glutamic acid</a></td>\n",
    "<td>GGA</td>\n",
    "<th>A</th>\n",
    "</tr>\n",
    "<tr>\n",
    "<td>GUG</td>\n",
    "<td>GCG</td>\n",
    "<td>GAG</td>\n",
    "<td>GGG</td>\n",
    "<th>G</th>\n",
    "</tr>\n",
    "</table>"
   ]
  },
  {
   "cell_type": "markdown",
   "metadata": {},
   "source": [
    "We provide the function `rna2amino` which accepts a three-letter codon and returns the corresponding amino acid.  This uses a `dict`, a data type we haven't encountered yet but which is easy to use."
   ]
  },
  {
   "cell_type": "code",
   "execution_count": null,
   "metadata": {
    "collapsed": true
   },
   "outputs": [],
   "source": [
    "genetic_code = {\n",
    "    'UUU': 'F', 'UUC': 'F', 'UUA': 'L', 'UUG': 'L',        'CUU': 'L', 'CUC': 'L', 'CUA': 'L', 'CUG': 'L',\n",
    "    'AUU': 'I', 'AUC': 'I', 'AUA': 'I', 'AUG': 'M',        'GUU': 'V', 'GUC': 'V', 'GUA': 'V', 'GUG': 'V',\n",
    "    \n",
    "    'UCU': 'S', 'UCC': 'S', 'UCA': 'S', 'UCG': 'S',        'CCU': 'P', 'CCC': 'P', 'CCA': 'P', 'CCG': 'P',\n",
    "    'ACU': 'T', 'ACC': 'T', 'ACA': 'T', 'ACG': 'T',        'GCU': 'A', 'GCC': 'A', 'GCA': 'A', 'GCG': 'A',\n",
    "    \n",
    "    'UAU': 'Y', 'UAC': 'Y', 'UAA': '*', 'UAG': '*',        'CAU': 'H', 'CAC': 'H', 'CAA': 'Q', 'CAG': 'Q',\n",
    "    'AAU': 'N', 'AAC': 'N', 'AAA': 'K', 'AAG': 'K',        'GAU': 'D', 'GAC': 'D', 'GAA': 'E', 'GAG': 'E',\n",
    "    \n",
    "    'UGU': 'C', 'UGC': 'C', 'UGA': '*', 'UGG': 'W',        'CGU': 'R', 'CGC': 'R', 'CGA': 'R', 'CGG': 'R',\n",
    "    'AGU': 'S', 'AGC': 'S', 'AGA': 'R', 'AGG': 'R',        'GGU': 'G', 'GGC': 'G', 'GGA': 'G', 'GGG': 'G',\n",
    "}\n",
    "allowed_codons = set('ACGU')\n",
    "\n",
    "def rna2amino(codon):\n",
    "    '''\n",
    "    Convert a three-letter RNA codon to an amino acid.\n",
    "    '''\n",
    "    # Check for the correct length of the codon.\n",
    "    if len(codon) != 3:\n",
    "        return None\n",
    "    codon = codon.upper()\n",
    "    # Check that the codon is valid.\n",
    "    if (set(codon) > allowed_codons):\n",
    "        return None\n",
    "    return genetic_code[codon]"
   ]
  },
  {
   "cell_type": "markdown",
   "metadata": {},
   "source": [
    "Now we can convert an RNA codon to an amino acid trivially using `rna2amino`:"
   ]
  },
  {
   "cell_type": "code",
   "execution_count": null,
   "metadata": {
    "collapsed": false
   },
   "outputs": [],
   "source": [
    "rna2amino('CGU')"
   ]
  },
  {
   "cell_type": "markdown",
   "metadata": {},
   "source": [
    "-   We next need a function `sequence_string` which accepts a string `rna_seq` containing RNA sequence data and maps it to amino acids.  This requires that you:\n",
    "    \n",
    "    1.  Break each string into three-letter chunks.\n",
    "    2.  For each chunk, map it to a valid amino acid codon according to the table below.  (We provide code for this step.)\n",
    "    3.  Return the result."
   ]
  },
  {
   "cell_type": "markdown",
   "metadata": {},
   "source": [
    "The tricky part is figuring out how to get a string chopped into three-letter chunks.  (This is harder than it seems at first.)  There are many ways you can think of to do this.  One possibility:"
   ]
  },
  {
   "cell_type": "code",
   "execution_count": null,
   "metadata": {
    "collapsed": false
   },
   "outputs": [],
   "source": [
    "example_string = 'abcdefghijklmnopqrstuvwxyz'\n",
    "for i in range(0,int(len(example_string)/3)):\n",
    "    print(example_string[3*i:3*i+3])"
   ]
  },
  {
   "cell_type": "code",
   "execution_count": null,
   "metadata": {
    "collapsed": true,
    "nbgrader": {
     "grade": false,
     "grade_id": "rna_seq",
     "locked": false,
     "solution": true
    }
   },
   "outputs": [],
   "source": [
    "# define your function here\n",
    "def sequence_string('''(delete this string and replace it with the incoming variables)'''):\n",
    "    # divide the string into three-letter chunks\n",
    "    # map each three-letter codon to a protein\n",
    "    # append the protein to the result string\n",
    "    # return the result string\n",
    "    pass # you can always delete a `pass` statement, since it does nothing"
   ]
  },
  {
   "cell_type": "code",
   "execution_count": null,
   "metadata": {
    "collapsed": true,
    "nbgrader": {
     "grade": true,
     "grade_id": "rna_seq-test1",
     "locked": true,
     "points": 1,
     "solution": false
    }
   },
   "outputs": [],
   "source": [
    "# it should pass this test---do NOT edit this cell\n",
    "# test for simple case\n",
    "assert sequence_string('ACUGAU') == 'TD'\n",
    "print('Success!')"
   ]
  },
  {
   "cell_type": "code",
   "execution_count": null,
   "metadata": {
    "collapsed": false,
    "nbgrader": {
     "grade": true,
     "grade_id": "rna_seq-test2",
     "locked": true,
     "points": 1,
     "solution": false
    }
   },
   "outputs": [],
   "source": [
    "# it should pass this test---do NOT edit this cell\n",
    "# test for a more complicated case\n",
    "assert sequence_string('AUCACUGUAGUAGUAGCUGGAAAGAGAAAUCUGUGACUCCAAUUAGCC') == 'ITVVVAGKRNL*LQLA'\n",
    "print('Success!')"
   ]
  },
  {
   "cell_type": "code",
   "execution_count": null,
   "metadata": {
    "collapsed": false,
    "nbgrader": {
     "grade": true,
     "grade_id": "rna_seq-test3",
     "locked": true,
     "points": 1,
     "solution": false
    }
   },
   "outputs": [],
   "source": [
    "# it should pass this test---do NOT edit this cell\n",
    "# test for failure case\n",
    "try:\n",
    "    sequence_string('ASDF')\n",
    "except KeyError:\n",
    "    True\n",
    "else:\n",
    "    False"
   ]
  },
  {
   "cell_type": "markdown",
   "metadata": {},
   "source": [
    "Finally, we are interested in loading a file of DNA sequence data, complementing it, and mapping the resulting RNA to amino acids.  This requires that you:\n",
    "\n",
    "1.  Load a file.\n",
    "2.  Use your function `sequence_string` to convert each line of the file to its protein expression string.\n",
    "3.  Return the resulting string."
   ]
  },
  {
   "cell_type": "markdown",
   "metadata": {},
   "source": [
    "-   Write a function `sequence_file` which accepts a string `dna_seq_file`.  This function will `return` (NOT write to disk) a string containing the amino acids described in the file `dna_seq_file`, including line breaks."
   ]
  },
  {
   "cell_type": "code",
   "execution_count": null,
   "metadata": {
    "collapsed": false,
    "nbgrader": {
     "grade": false,
     "grade_id": "sequence",
     "locked": false,
     "solution": true
    }
   },
   "outputs": [],
   "source": [
    "# define your function here\n",
    "def sequence_file('''(delete this string and replace it with the incoming variables)'''):\n",
    "    # use read_and_complement_dna to get the dna complement as rna\n",
    "    # use sequence_string to convert rna to amino acid sequence\n",
    "    pass # you can always delete a `pass` statement, since it does nothing"
   ]
  },
  {
   "cell_type": "code",
   "execution_count": null,
   "metadata": {
    "collapsed": false,
    "nbgrader": {
     "grade": true,
     "grade_id": "sequence-test",
     "locked": true,
     "points": 2,
     "solution": false
    }
   },
   "outputs": [],
   "source": [
    "# it should pass this test---do NOT edit this cell\n",
    "# test for simple case\n",
    "test_data_file = './data/dna_test.dat'\n",
    "assert sequence_file(test_data_file) == '''\n",
    "YKRPPPPGDRGPPFSRRSRRRPKKRGRPGAPRPAPGGGTNSVLKMLGMERGQPCVVFGWPGWVAVCMISLTLLKAK*RGAHDLLLRGGLFARPHVLPVEFARGFHMTPPLLALQEAQPSPPKTGAASADTPPHLVRGRPKLGWQWQKVHML*DLLHLVRM\n",
    "'''.strip()\n",
    "print('Success!')"
   ]
  },
  {
   "cell_type": "markdown",
   "metadata": {},
   "source": [
    "This has quickly become a sophisticated workflow, and it is easy to lose track of both what you're doing and what you've already written!  This diagram shows how the data pipeline works to process data from disk:\n",
    "\n",
    "![](./img/flowchart.png)"
   ]
  }
 ],
 "metadata": {
  "kernelspec": {
   "display_name": "IPython (Python 3)",
   "language": "python",
   "name": "python3"
  },
  "language_info": {
   "codemirror_mode": {
    "name": "ipython",
    "version": 3
   },
   "file_extension": ".py",
   "mimetype": "text/x-python",
   "name": "python",
   "nbconvert_exporter": "python",
   "pygments_lexer": "ipython3",
   "version": "3.4.4"
  }
 },
 "nbformat": 4,
 "nbformat_minor": 0
}
