{
 "cells": [
  {
   "cell_type": "markdown",
   "metadata": {},
   "source": [
    "## `lab06`—Data Analysis"
   ]
  },
  {
   "cell_type": "markdown",
   "metadata": {},
   "source": [
    "**Objectives**\n",
    "\n",
    "-   Use lists and list features to process data from a file.\n",
    "-   Apply the standard pipeline of data analysis:  data cleaning and preparation, data processing, and output."
   ]
  },
  {
   "cell_type": "markdown",
   "metadata": {},
   "source": [
    "![](https://upload.wikimedia.org/wikipedia/en/9/9c/MilesDavisKindofBlue.jpg)\n",
    "\n",
    "For this lab project, we are going to work with a list of blues musicians in various traditions.  You have the following files in your `lab06/data` directory:\n",
    "    \n",
    "    blues.txt\n",
    "    swamppop.txt\n",
    "    zydeco.txt\n",
    "\n",
    "Open the file `blues.txt` in a text editor and examine its format.\n",
    "    \n",
    "    # Delta Blues\n",
    "    Cecil Augusta\n",
    "    Mose Allison\n",
    "    Tommy Bankhead\n",
    "    ...\n",
    "    Elder Roma Wilson\n",
    "    \n",
    "    # Chicago Blues\n",
    "    Alberta Adams\n",
    "    Luther Allison\n",
    "    ...\n",
    "\n",
    "We are going to read the contents of this file and run it through the standard pipeline of data analysis:  data cleaning and preparation, data processing, and output."
   ]
  },
  {
   "cell_type": "markdown",
   "metadata": {},
   "source": [
    "### Data Cleaning and Preparation"
   ]
  },
  {
   "cell_type": "markdown",
   "metadata": {},
   "source": [
    "A file simply contains an ordered collection of characters and digits.  Any logical interpretation is created by the user as he or she uses the data.  Thus we first need to ensure that incoming data are in a suitable format and structure for further analysis.\n",
    "\n",
    "What does a suitable format look like?  If you were organizing a library of these musicians' works, you could sort by surname or by musical style.  There are several formats which could make sense, such as a collection of *database records* containing *fields* such as \"artist name\" and \"musical style\".  We will opt here for a spreadsheet-like organization:  three \"columns\" of data:  \"surname\", \"first name\", and \"style\".  Each entry will be a tuple inside of a list.\n",
    "\n",
    "**Data Logical Format:**\n",
    "\n",
    "    artist surname  artist first name   musical style\n",
    "    Augusta         Cecil               Delta Blues\n",
    "    Alexander       Alger \"Texas\"       Country Blues\n",
    "\n",
    "**Data Machine Representation:**\n",
    "\n",
    "    # musicians is a list of tuples\n",
    "    musicians[0] = ('Augusta', 'Cecil', 'Delta Blues')\n",
    "    musicians[1] = ('Alexander', 'Alger \"Texas\"', 'Country Blues')\n",
    "    ...\n",
    "\n",
    "Thus a single record should have one entry from each of these fields.  The data file we import from, however, is not in this format.  Thus when importing the data we have to:\n",
    "\n",
    "1.  track which musical style we are currently importing; and\n",
    "2.  *tokenize* the name into first-name and surname components; and\n",
    "3.  add the tuple of these three items to a list."
   ]
  },
  {
   "cell_type": "markdown",
   "metadata": {},
   "source": [
    "Let's see how this works with a single record as a string.  If you have a line of text as a string,"
   ]
  },
  {
   "cell_type": "code",
   "execution_count": null,
   "metadata": {
    "collapsed": false
   },
   "outputs": [],
   "source": [
    "example = 'Jimmy Clanton'\n",
    "print(example)"
   ]
  },
  {
   "cell_type": "markdown",
   "metadata": {},
   "source": [
    "and you'd like to turn it into a tuple `record = (surname, first_name)`, how would you do it?\n",
    "\n",
    "First, you'd probably want to split it into pieces so there is a separate `first_name` and `surname` to assign:"
   ]
  },
  {
   "cell_type": "code",
   "execution_count": null,
   "metadata": {
    "collapsed": false
   },
   "outputs": [],
   "source": [
    "names = example.split(' ')\n",
    "print(names)"
   ]
  },
  {
   "cell_type": "markdown",
   "metadata": {},
   "source": [
    "Now you have a `list` called `names` which you can use to assign the separate variables in your tuple either in two steps:"
   ]
  },
  {
   "cell_type": "code",
   "execution_count": null,
   "metadata": {
    "collapsed": false
   },
   "outputs": [],
   "source": [
    "# step 1:  get the surname and first name separately\n",
    "surname = names[1]\n",
    "first_name = names[0]\n",
    "\n",
    "# step 2:  populate the record tuple\n",
    "record = (surname, first_name)\n",
    "print(record)"
   ]
  },
  {
   "cell_type": "markdown",
   "metadata": {},
   "source": [
    "or equivalently in a single step:"
   ]
  },
  {
   "cell_type": "code",
   "execution_count": null,
   "metadata": {
    "collapsed": false
   },
   "outputs": [],
   "source": [
    "record = (names[1], names[0])\n",
    "print(record)"
   ]
  },
  {
   "cell_type": "markdown",
   "metadata": {},
   "source": [
    "Since we're just using a simple tuple of strings, that's all you need to worry about to create a record.\n",
    "\n",
    "This gets a little trickier with multiple first names, though:"
   ]
  },
  {
   "cell_type": "code",
   "execution_count": null,
   "metadata": {
    "collapsed": true
   },
   "outputs": [],
   "source": [
    "example = 'John Henry Barbee'"
   ]
  },
  {
   "cell_type": "markdown",
   "metadata": {},
   "source": [
    "In this case, I suggest the following method.  First, split the name into its pieces like this:"
   ]
  },
  {
   "cell_type": "code",
   "execution_count": null,
   "metadata": {
    "collapsed": false
   },
   "outputs": [],
   "source": [
    "names = example.split(' ')\n",
    "print(names)"
   ]
  },
  {
   "cell_type": "markdown",
   "metadata": {},
   "source": [
    "Next, pull the surname out as a single name.  (We have already removed Jrs. and Srs. from these data, so there's nothing exceptional left.)"
   ]
  },
  {
   "cell_type": "code",
   "execution_count": null,
   "metadata": {
    "collapsed": false
   },
   "outputs": [],
   "source": [
    "surname = names[-1]\n",
    "print(surname)"
   ]
  },
  {
   "cell_type": "markdown",
   "metadata": {},
   "source": [
    "Finally, join the other names back together using the handy `join` method:"
   ]
  },
  {
   "cell_type": "code",
   "execution_count": null,
   "metadata": {
    "collapsed": false
   },
   "outputs": [],
   "source": [
    "first_name = ' '.join(names[:-1])  # note how this joins a list of strings by a blank space---it's an odd way of writing this\n",
    "print(first_name)"
   ]
  },
  {
   "cell_type": "code",
   "execution_count": null,
   "metadata": {
    "collapsed": false
   },
   "outputs": [],
   "source": [
    "record = (surname, first_name)\n",
    "print(record)"
   ]
  },
  {
   "cell_type": "markdown",
   "metadata": {},
   "source": [
    "<div class=\"alert alert-info\">\n",
    "Note that we are using tuples for the records.  Recall that tuples are like `list`s, but can't be changed (*immutable*).  Since we won't need to change a record once it's created, it makes sense in this case.\n",
    "</div>"
   ]
  },
  {
   "cell_type": "markdown",
   "metadata": {},
   "source": [
    "Let's now store a list of records.  Practice this process on the following entries:"
   ]
  },
  {
   "cell_type": "code",
   "execution_count": null,
   "metadata": {
    "collapsed": true,
    "nbgrader": {
     "grade": false,
     "grade_id": "records-pre",
     "locked": true,
     "solution": false
    }
   },
   "outputs": [],
   "source": [
    "# Setup code for your exercise---do NOT edit this cell\n",
    "records = [] # an empty list\n",
    "entries = ['Ivory Joe Hunter', 'Etta James', 'Little Willie Littlefield', 'Robert Lowery', 'J. J. Malone', 'Percy Mayfield', 'Jimmy McCracklin']"
   ]
  },
  {
   "cell_type": "code",
   "execution_count": null,
   "metadata": {
    "collapsed": false,
    "nbgrader": {
     "grade": false,
     "grade_id": "records",
     "locked": false,
     "solution": true
    }
   },
   "outputs": [],
   "source": [
    "# Cycle through each musician name and add it to records in format.\n",
    "for entry in entries:\n",
    "    # compose your code here\n",
    "    # get the name elements out of entry\n",
    "    # create a new record\n",
    "    \n",
    "    # append the record to the list records\n",
    "    records.append( (surname, first_name) )"
   ]
  },
  {
   "cell_type": "code",
   "execution_count": null,
   "metadata": {
    "collapsed": false,
    "nbgrader": {
     "grade": true,
     "grade_id": "records-test",
     "locked": true,
     "points": 1,
     "solution": false
    }
   },
   "outputs": [],
   "source": [
    "# it should pass this test---do NOT edit this cell\n",
    "assert records[0]  == ('Hunter', 'Ivory Joe')\n",
    "assert records[-1] == ('McCracklin', 'Jimmy')\n",
    "print('Success!')"
   ]
  },
  {
   "cell_type": "markdown",
   "metadata": {},
   "source": [
    "Make sure you understand why there are two sets of parentheses on the last line (`records.append`), and ask a classmate or TA to explain if you do not."
   ]
  },
  {
   "cell_type": "markdown",
   "metadata": {},
   "source": [
    "Now we will turn the above process into a general script to load and process the data."
   ]
  },
  {
   "cell_type": "markdown",
   "metadata": {},
   "source": [
    "-   Compose a function `process` which accepts a string `filename`.  `process` should `return` a list of records contained in the file."
   ]
  },
  {
   "cell_type": "code",
   "execution_count": null,
   "metadata": {
    "collapsed": false,
    "nbgrader": {
     "grade": false,
     "grade_id": "process",
     "locked": false,
     "solution": true
    }
   },
   "outputs": [],
   "source": [
    "# define your function here\n",
    "def process('''(delete this string and replace it with the incoming variables)'''):\n",
    "    # Create a blank list called `entries` and an empty string called `current_style`.\n",
    "    \n",
    "    # Open the file `filename`, read the data, and close it.\n",
    "    \n",
    "    # Loop through each line of the file and do the following:\n",
    "        # Strip the whitespace off of the ends of the line using the `strip` method.\n",
    "        \n",
    "        # If the line is blank, `continue` execution.\n",
    "        # (The `continue` statement makes Python just go back to the `for` loop again with the next value---\n",
    "        # no more code is executed for the current value.)\n",
    "        \n",
    "        # If a line starts with `#`, it represents the musical style to be assigned until the next line with `#`.\n",
    "        # In this case, remove the `'#'` from the beginning of the string and assign the musical style to `current_style`.\n",
    "        # The loop should then `continue`.\n",
    "        \n",
    "        # Otherwise, a line contains a blues performer.  In this case, process the record much as you did above,\n",
    "        # except that you also need to add a musical style to the tuple as the third element.\n",
    "        \n",
    "        # These data should be appended to the list `entries` as a single entry in the form of a tuple,\n",
    "        #    (surname, first_name, current_style)\n",
    "        \n",
    "    # Finally, `return` the list `entries`.\n",
    "    pass # you can always delete a `pass` statement, since it does nothing"
   ]
  },
  {
   "cell_type": "code",
   "execution_count": null,
   "metadata": {
    "collapsed": true
   },
   "outputs": [],
   "source": [
    "# test your code here.  You may edit this cell, and you may use the files 'blues.txt', 'swamppop.txt', and 'zydeco.txt',\n",
    "# all of which are located in the 'data/' directory."
   ]
  },
  {
   "cell_type": "code",
   "execution_count": null,
   "metadata": {
    "collapsed": false,
    "nbgrader": {
     "grade": true,
     "grade_id": "process-test1",
     "locked": true,
     "points": 1,
     "solution": false
    }
   },
   "outputs": [],
   "source": [
    "# it should pass this test---do NOT edit this cell\n",
    "# test basic single-genre case\n",
    "zydeco = process('./data/zydeco.txt')\n",
    "assert zydeco[0]  == ('Chavis', 'Boozoo', 'Zydeco')\n",
    "assert zydeco[-3] == ('Dopsy', \"Rockin'\", 'Zydeco')\n",
    "print('Success!')"
   ]
  },
  {
   "cell_type": "code",
   "execution_count": null,
   "metadata": {
    "collapsed": false,
    "nbgrader": {
     "grade": true,
     "grade_id": "process-test2",
     "locked": true,
     "points": 1,
     "solution": false
    }
   },
   "outputs": [],
   "source": [
    "# it should pass this test---do NOT edit this cell\n",
    "# test case with multiple genres\n",
    "blues = process('./data/blues.txt')\n",
    "assert blues[0]  == ('Augusta', 'Cecil', 'Delta Blues')\n",
    "assert blues[-1] == ('Rose', 'Bayless', 'Piano Blues')\n",
    "print('Success!')"
   ]
  },
  {
   "cell_type": "markdown",
   "metadata": {},
   "source": [
    "Typically, you would also need to test for duplicates.  In this case, we've already removed duplicate entries that were present.  (This may occur because the many entries will have different musical styles associated with them—many musicians performed in several styles within the genre of blues.)"
   ]
  },
  {
   "cell_type": "markdown",
   "metadata": {},
   "source": [
    "###  Data Processing"
   ]
  },
  {
   "cell_type": "markdown",
   "metadata": {},
   "source": [
    "You should now have a function which loads a formated text file and converts that file into a collection of records which you can now use to ask and answer questions about the properties of the data set."
   ]
  },
  {
   "cell_type": "code",
   "execution_count": null,
   "metadata": {
    "collapsed": false
   },
   "outputs": [],
   "source": [
    "blues = process('./data/blues.txt')"
   ]
  },
  {
   "cell_type": "markdown",
   "metadata": {},
   "source": [
    "#### Sorting"
   ]
  },
  {
   "cell_type": "markdown",
   "metadata": {},
   "source": [
    "For instance, sort by surname and list the first ten entries."
   ]
  },
  {
   "cell_type": "code",
   "execution_count": null,
   "metadata": {
    "collapsed": false
   },
   "outputs": [],
   "source": [
    "blues.sort()  # note that sort sorts in place, rather than returning a result to you---this will trip you up if you are not careful!\n",
    "blues[:10]"
   ]
  },
  {
   "cell_type": "markdown",
   "metadata": {},
   "source": [
    "Tuples will automatically be sorted by the first element, then the second, then the third; this makes sorting by surname easy.  Sorting by the other fields, such as first name or style, is a bit more involved.  You have to provide a `key` to `sort` so it knows what to sort by.  The easiest way is to write a function which `return`s the second element (or the first name, in this case):"
   ]
  },
  {
   "cell_type": "code",
   "execution_count": null,
   "metadata": {
    "collapsed": false
   },
   "outputs": [],
   "source": [
    "def second_element(a_list):\n",
    "    return a_list[1]\n",
    "blues = sorted(blues, key=second_element)\n",
    "blues  # note that `\"Baby Face\" Leroy` sorts by `\"` not `B`"
   ]
  },
  {
   "cell_type": "markdown",
   "metadata": {},
   "source": [
    "-   How many musical styles are there, and how many musicians in each style?\n",
    "    \n",
    "    To answer this question, we'll use a `dict`ionary.  A `dict` is like a `list`, except that a list is indexed by `int`s and a `dict` is indexed by many different data types.\n",
    "    \n",
    "    A `list` that contains strings, for example, can be indexed directly by the position of each string in the `list`:\n",
    "    \n",
    "    ![](./img/list-pic.png)"
   ]
  },
  {
   "cell_type": "code",
   "execution_count": null,
   "metadata": {
    "collapsed": false
   },
   "outputs": [],
   "source": [
    "list_example = ['alpha', 'beta', 'gamma', 'delta', 'omega']\n",
    "print(list_example)"
   ]
  },
  {
   "cell_type": "markdown",
   "metadata": {},
   "source": [
    "A `dict`, in contrast, can use strings or floating-point values or tuples (and many other things) to index.  Consider a `dict` that uses English color names to identify HTML color codes:\n",
    "\n",
    "![](./img/dict-pic.png)"
   ]
  },
  {
   "cell_type": "code",
   "execution_count": null,
   "metadata": {
    "collapsed": false
   },
   "outputs": [],
   "source": [
    "dict_example = {'red': '#FF0000', 'green': '#00FF00', 'yellow': '#FFFF00', 'blue': '#0000FF', 'black': '#000000'}\n",
    "print(dict_example)"
   ]
  },
  {
   "cell_type": "code",
   "execution_count": null,
   "metadata": {
    "collapsed": false
   },
   "outputs": [],
   "source": [
    "dict_example['yellow']"
   ]
  },
  {
   "cell_type": "markdown",
   "metadata": {},
   "source": [
    "You can add new entries to the `dict` very easily:"
   ]
  },
  {
   "cell_type": "code",
   "execution_count": null,
   "metadata": {
    "collapsed": true
   },
   "outputs": [],
   "source": [
    "dict_example['grey'] = '#888888'"
   ]
  },
  {
   "cell_type": "markdown",
   "metadata": {},
   "source": [
    "So to count the number of musicians by style, we can use a `dict` to organize our counting.\n",
    "\n",
    "1.  Loop over the records.\n",
    "2.  For each record, get the musical style field.\n",
    "3.  If the style is in the `dict`, add one to the count.\n",
    "4.  If the style is *not* in the `dict`, add it (and give it a count of `1`).\n",
    "\n",
    "This is how you see which keys (indices) are in the `dict`:"
   ]
  },
  {
   "cell_type": "code",
   "execution_count": null,
   "metadata": {
    "collapsed": false
   },
   "outputs": [],
   "source": [
    "list(dict_example.keys())"
   ]
  },
  {
   "cell_type": "markdown",
   "metadata": {},
   "source": [
    "This is how you see if the `dict` has a particular key or not:"
   ]
  },
  {
   "cell_type": "code",
   "execution_count": null,
   "metadata": {
    "collapsed": false
   },
   "outputs": [],
   "source": [
    "'yellow' in dict_example.keys()"
   ]
  },
  {
   "cell_type": "code",
   "execution_count": null,
   "metadata": {
    "collapsed": false
   },
   "outputs": [],
   "source": [
    "'teal' in dict_example.keys()"
   ]
  },
  {
   "cell_type": "markdown",
   "metadata": {},
   "source": [
    "-   Now that we've gotten this far with `dict`ionaries, let's revisit the original question:  how many artists are in each musical style?  Compose a function `count_styles` below which accepts a `list` of entries `records`.  `count_styles` should `return` a `dict` containing the musical styles represented and their respective count."
   ]
  },
  {
   "cell_type": "code",
   "execution_count": null,
   "metadata": {
    "collapsed": true,
    "nbgrader": {
     "grade": false,
     "grade_id": "count_styles",
     "locked": false,
     "solution": true
    }
   },
   "outputs": [],
   "source": [
    "# define your function here\n",
    "def count_styles(records):\n",
    "    styles = {}  # a blank dictionary\n",
    "    # Loop over the records.\n",
    "        # For each record, get the musical style field.\n",
    "        # If the style is in the dict, add one to the count.\n",
    "        # i.e., styles['old style'] += 1\n",
    "        \n",
    "        # If the style is not in the dict, add it (and give it a count of 1).\n",
    "        # i.e., styles['new style'] = 1\n",
    "        \n",
    "    # Return the resulting dict of styles\n",
    "    pass # you can always delete a `pass` statement, since it does nothing"
   ]
  },
  {
   "cell_type": "code",
   "execution_count": null,
   "metadata": {
    "collapsed": true
   },
   "outputs": [],
   "source": [
    "# test your code here.  You may edit this cell, and you may use the files 'blues.txt', 'swamppop.txt', and 'zydeco.txt',\n",
    "# all of which are located in the 'data/' directory."
   ]
  },
  {
   "cell_type": "code",
   "execution_count": null,
   "metadata": {
    "collapsed": false,
    "nbgrader": {
     "grade": true,
     "grade_id": "count_styles-test",
     "locked": true,
     "points": 1,
     "solution": false
    }
   },
   "outputs": [],
   "source": [
    "# it should pass this test---do NOT edit this cell\n",
    "zydeco = process('./data/zydeco.txt')\n",
    "zydeco_styles = count_styles(zydeco)\n",
    "assert zydeco_styles['Zydeco'] == 29\n",
    "print('Success!')\n",
    "zydeco_styles"
   ]
  },
  {
   "cell_type": "code",
   "execution_count": null,
   "metadata": {
    "collapsed": false,
    "nbgrader": {
     "grade": true,
     "grade_id": "count_styles-test-blues",
     "locked": true,
     "points": 1,
     "solution": false
    }
   },
   "outputs": [],
   "source": [
    "# it should pass this test---do NOT edit this cell\n",
    "blues = process('./data/blues.txt')\n",
    "blues_styles = count_styles(blues)\n",
    "assert blues_styles['Gospel Blues'] == 19\n",
    "print('Success!')\n",
    "blues_styles"
   ]
  },
  {
   "cell_type": "markdown",
   "metadata": {},
   "source": [
    "So that tells you *how many times each thing occurs*.  What if you want to know *how many kinds of things there are*?\n",
    "\n",
    "We need to make our list contain only unique elements—that is, remove multiple copies from it.  This is called *uniqifying* the list.\n",
    "\n",
    "To uniqify your list, you can use the following code:"
   ]
  },
  {
   "cell_type": "code",
   "execution_count": null,
   "metadata": {
    "collapsed": false
   },
   "outputs": [],
   "source": [
    "# a short function to remove repeat elements of a list\n",
    "def uniqify(input_list):\n",
    "    # make an empty dictionary\n",
    "    keys = {}\n",
    "    for e in input_list:\n",
    "        # add a key for each item in the list---duplicate keys will be overwritten\n",
    "        keys[e] = 1\n",
    "    return list(keys.keys())  # return a list of all unique keys"
   ]
  },
  {
   "cell_type": "markdown",
   "metadata": {},
   "source": [
    "As an example, test this function on a simple list:"
   ]
  },
  {
   "cell_type": "code",
   "execution_count": null,
   "metadata": {
    "collapsed": false
   },
   "outputs": [],
   "source": [
    "my_list = [1,2,2,4,3,2,5,7,1,2]\n",
    "uniqify(my_list)"
   ]
  },
  {
   "cell_type": "code",
   "execution_count": null,
   "metadata": {
    "collapsed": false
   },
   "outputs": [],
   "source": [
    "surnames = []\n",
    "for musician in blues:\n",
    "   surnames.append(musician[0])\n",
    "\n",
    "unique_surnames = uniqify(surnames)\n",
    "unique_surnames.sort()\n",
    "unique_surnames"
   ]
  },
  {
   "cell_type": "markdown",
   "metadata": {},
   "source": [
    "-   Now, use this ability to `uniqify` a list to determine how many different surnames there are.\n",
    "    \n",
    "    Compose a function `unique_surname_list` which accepts a `list` `records` containing the tuple entries.  `unique_surname_list` will `return` a `list` of unique surnames."
   ]
  },
  {
   "cell_type": "code",
   "execution_count": null,
   "metadata": {
    "collapsed": true,
    "nbgrader": {
     "grade": false,
     "grade_id": "surname_list",
     "locked": false,
     "solution": true
    }
   },
   "outputs": [],
   "source": [
    "# define your function here\n",
    "def unique_surname_list(records):\n",
    "    # your code here\n",
    "    \n",
    "    # Return the resulting list of surnames\n",
    "    pass # you can always delete a `pass` statement, since it does nothing"
   ]
  },
  {
   "cell_type": "code",
   "execution_count": null,
   "metadata": {
    "collapsed": true
   },
   "outputs": [],
   "source": [
    "# test your code here.  You may edit this cell, and you may use the files 'blues.txt', 'swamppop.txt', and 'zydeco.txt',\n",
    "# all of which are located in the 'data/' directory."
   ]
  },
  {
   "cell_type": "code",
   "execution_count": null,
   "metadata": {
    "collapsed": false,
    "nbgrader": {
     "grade": true,
     "grade_id": "surname_list-test",
     "locked": true,
     "points": 1,
     "solution": false
    }
   },
   "outputs": [],
   "source": [
    "# it should pass this test---do NOT edit this cell\n",
    "zydeco = process('./data/zydeco.txt')\n",
    "zydeco_surnames = unique_surname_list(zydeco)\n",
    "assert len(zydeco_surnames) == 24\n",
    "print('Success!')"
   ]
  },
  {
   "cell_type": "markdown",
   "metadata": {},
   "source": [
    "#### Tokenizing"
   ]
  },
  {
   "cell_type": "markdown",
   "metadata": {},
   "source": [
    "To *tokenize* is to split a string into pieces (or *tokens*) by some rule.  For instance, you've done this with `split` before:"
   ]
  },
  {
   "cell_type": "code",
   "execution_count": null,
   "metadata": {
    "collapsed": false
   },
   "outputs": [],
   "source": [
    "\"The Well at the World's End\".split(' ')"
   ]
  },
  {
   "cell_type": "markdown",
   "metadata": {},
   "source": [
    "We can extract some statistical information about the naming of blues artists by tokenizing all components of their first names and then counting how many times each token (or bit) occurs.  For instance, `Blind Lemon Jefferson` became `('Jefferson', 'Blind Lemon', 'Gospel Blues')`; we now wish to tokenize `'Blind Lemon'` into `'Blind'` and `'Lemon'` (since `'Blind'` is a common moniker among Delta Blues performers and their musical descendants)."
   ]
  },
  {
   "cell_type": "markdown",
   "metadata": {},
   "source": [
    "-   How many times does the name element `'Blind'` occur in the file `./data/blues.txt`?\n",
    "    \n",
    "    To find this, you will need to:\n",
    "    \n",
    "    1.  Tokenize all name bits.\n",
    "    2.  Count the number of times each name bit occurs.  This is very similar to the counting of musical styles previously.\n",
    "\n",
    "First, let's get all of the names (first and last) together in one `list`."
   ]
  },
  {
   "cell_type": "code",
   "execution_count": null,
   "metadata": {
    "collapsed": false
   },
   "outputs": [],
   "source": [
    "blues = process('./data/blues.txt')\n",
    "names = []\n",
    "for musician in blues:\n",
    "    names.append(musician[1])\n",
    "    names.append(musician[0])"
   ]
  },
  {
   "cell_type": "markdown",
   "metadata": {},
   "source": [
    "Next, tokenize each name and add the components to a master `list` of name bits.  Since you are adding a list of strings in each case to the list, you may wish to use the `extend` method instead of the `append` method."
   ]
  },
  {
   "cell_type": "code",
   "execution_count": null,
   "metadata": {
    "collapsed": false
   },
   "outputs": [],
   "source": [
    "name_bits = []\n",
    "# loop over names\n",
    "# tokenize each name into name tokens\n",
    "# DO NOT FORGET THE FIRST NAME AND THE SURNAME ENTRIES\n",
    "# add the name tokens to names\n",
    "\n",
    "name_bits"
   ]
  },
  {
   "cell_type": "code",
   "execution_count": null,
   "metadata": {
    "collapsed": false
   },
   "outputs": [],
   "source": [
    "name_bits = []\n",
    "# loop over blues\n",
    "for name in names:\n",
    "    name_bits.extend(name.split(' '))\n",
    "    \n",
    "# tokenize each name into name tokens\n",
    "# add the name tokens to names\n",
    "name_bits"
   ]
  },
  {
   "cell_type": "markdown",
   "metadata": {},
   "source": [
    "Finally, create a list of the count of each name bit as you did with `count_styles`."
   ]
  },
  {
   "cell_type": "code",
   "execution_count": null,
   "metadata": {
    "collapsed": false
   },
   "outputs": [],
   "source": [
    "name_counts = {}  # a blank dictionary\n",
    "\n",
    "for name_bit in name_bits:\n",
    "    if name_bit in name_counts.keys():\n",
    "        name_counts[name_bit] += 1\n",
    "    else:\n",
    "        name_counts[name_bit] = 1\n",
    "\n",
    "name_counts"
   ]
  },
  {
   "cell_type": "code",
   "execution_count": null,
   "metadata": {
    "collapsed": false
   },
   "outputs": [],
   "source": [
    "# Sort the list and output it from most frequently occurring name bits to least.\n",
    "def value(k):\n",
    "    return name_counts[k]\n",
    "name_count_list = sorted(name_counts, key=value)[::-1]\n",
    "\n",
    "for name in name_count_list:\n",
    "    print(name, name_counts[name])"
   ]
  },
  {
   "cell_type": "markdown",
   "metadata": {},
   "source": [
    "It's now trivial for you to answer the original question of how many `'Blind'`s there are in the `blues.txt` file:"
   ]
  },
  {
   "cell_type": "code",
   "execution_count": null,
   "metadata": {
    "collapsed": false
   },
   "outputs": [],
   "source": [
    "print(name_counts['Blind'])"
   ]
  },
  {
   "cell_type": "code",
   "execution_count": null,
   "metadata": {
    "collapsed": true
   },
   "outputs": [],
   "source": [
    "# clear earlier data so we don't mask the behavior of the function `count_names` below\n",
    "names = None\n",
    "name_bits = None\n",
    "name_count_list = None\n",
    "name_counts = None"
   ]
  },
  {
   "cell_type": "markdown",
   "metadata": {},
   "source": [
    "Go ahead and write this into a function `count_names`, which accepts a `list` `records` containing the tuple entries.  `count_names` will `return` a `dict` containing the number of times each name bit occurs."
   ]
  },
  {
   "cell_type": "code",
   "execution_count": null,
   "metadata": {
    "collapsed": true,
    "nbgrader": {
     "grade": false,
     "grade_id": "count_names",
     "locked": false,
     "solution": true
    }
   },
   "outputs": [],
   "source": [
    "# define your function here\n",
    "def count_names(records):\n",
    "    name_counts = {}  # a blank dictionary\n",
    "    \n",
    "    # loop over names in records\n",
    "        # tokenize each name into name tokens---DO NOT FORGET THE FIRST NAME AND THE SURNAME ENTRIES\n",
    "        # add the name tokens to names\n",
    "    \n",
    "    # create a list of the count of each name bit as you did with count_styles.\n",
    "    \n",
    "    # sort the list from most frequently occurring name bits to least\n",
    "    \n",
    "    # return the resulting dict counting name bits.\n",
    "    pass # you can always delete a `pass` statement, since it does nothing"
   ]
  },
  {
   "cell_type": "code",
   "execution_count": null,
   "metadata": {
    "collapsed": true
   },
   "outputs": [],
   "source": [
    "# test your code here.  You may edit this cell, and you may use the files 'blues.txt', 'swamppop.txt', and 'zydeco.txt',\n",
    "# all of which are located in the 'data/' directory."
   ]
  },
  {
   "cell_type": "code",
   "execution_count": null,
   "metadata": {
    "collapsed": false,
    "nbgrader": {
     "grade": true,
     "grade_id": "count_names-test",
     "locked": true,
     "points": 1,
     "solution": false
    }
   },
   "outputs": [],
   "source": [
    "# it should pass this test---do NOT edit this cell\n",
    "# test number of name elements found\n",
    "blues = process('./data/blues.txt')\n",
    "blues_names = count_names(blues)\n",
    "assert len(list(blues_names.keys())) == 594\n",
    "print('Success!')"
   ]
  },
  {
   "cell_type": "code",
   "execution_count": null,
   "metadata": {
    "collapsed": false,
    "nbgrader": {
     "grade": true,
     "grade_id": "count_names-test2",
     "locked": true,
     "points": 1,
     "solution": false
    }
   },
   "outputs": [],
   "source": [
    "# it should pass this test---do NOT edit this cell\n",
    "# test success in counting name elements\n",
    "blues = process('./data/blues.txt')\n",
    "blues_names = count_names(blues)\n",
    "assert blues_names['Wheatstraw'] == 1\n",
    "assert blues_names['Johnny'] == 14\n",
    "print('Success!')"
   ]
  }
 ],
 "metadata": {
  "kernelspec": {
   "display_name": "IPython (Python 3)",
   "language": "python",
   "name": "python3"
  },
  "language_info": {
   "codemirror_mode": {
    "name": "ipython",
    "version": 3
   },
   "file_extension": ".py",
   "mimetype": "text/x-python",
   "name": "python",
   "nbconvert_exporter": "python",
   "pygments_lexer": "ipython3",
   "version": "3.4.4"
  }
 },
 "nbformat": 4,
 "nbformat_minor": 0
}
