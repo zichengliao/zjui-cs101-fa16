{
 "cells": [
  {
   "cell_type": "markdown",
   "metadata": {},
   "source": [
    "## `lab11`—The Weather Forecast"
   ]
  },
  {
   "cell_type": "markdown",
   "metadata": {},
   "source": [
    "❖ Objectives\n",
    "\n",
    "-   Engage in pair programming exercises to build team programming skills.\n",
    "-   Run Python script from command line window\n",
    "-   Use pipe to pass program output to another program or file"
   ]
  },
  {
   "cell_type": "markdown",
   "metadata": {},
   "source": [
    "<div class=\"alert alert-warning\">\n",
    "**Pair Programming**\n",
    "<br />\n",
    "This lab is built around *pair* programming—you need to work in pairs, although you need not be at a single machine unless you prefer to work that way.  At the end, when you report collaborators, please report the names and IDs of all partners in this lab exercise.  (In exceptional cases, such as the room layout, trios are permitted.)\n",
    "</div>\n",
    "\n",
    "The big picture:  we have a series of Python scripts which do the following:\n",
    "\n",
    "1.  `grab_stations` retrieves a list of National Weather Service stations and prints the station call sign and latitude/longitude.\n",
    "2.  `grab_forecast` accepts the foregoing data and retrieves the current temperature or a forecast, adding this as a column to a similar output.\n",
    "3.  `plot_forecast` plots the resulting temperatures against a map of the state of Illinois.\n",
    "\n",
    "You are going to determine how to compose scripts 1 and 2, and then work together as a team to implement the full toolchain.\n",
    "\n",
    "The lab will take place in three parts:\n",
    "\n",
    "1.  The Instructor will teach a brief lesson covering how the pieces of the toolchain work and what you need to implement.\n",
    "2.  The class will divide into groups of two.  For each group, one partner will write the `grab_stations` script, while the other will write the `grab_forecast` script. You may share code in class using [this Etherpad](https://public.etherpad-mozilla.org/p/Pa6X2Bzq0h), but please be careful in using it as a common resource.\n",
    "3.  Once your code works, you and your partner will put your pieces together to make the end result work and plot the figure."
   ]
  },
  {
   "cell_type": "markdown",
   "metadata": {},
   "source": [
    "### Working from the Command Line"
   ]
  },
  {
   "cell_type": "markdown",
   "metadata": {},
   "source": [
    "We've worked in the Jupyter notebook almost exclusively for the labs, but this time we're going to run some code directly on the command line.  Open a command line window to work in (Windows/type `cmd`). You will see a command line window prompts out. You then change the working directory by the following command:  (You shouldn't type the `$`—it's there to remind you that the code is at the prompt window rather than in Python.)\n",
    "    \n",
    "    $ cd Documents\\lab13\n",
    "\n",
    "One of the current Python scripts can be executed by simply telling Python to run a file (instead of to start the interpreter):\n",
    "    \n",
    "    $ python grab_stations.pyc\n",
    "\n",
    "<div class=\"alert alert-info\">\n",
    "We're doing something a little funny here—note that `pyc` extension instead of `py`.  This is a *compiled* Python file, which means that Python has stored the script in a faster intermediate code that isn't human-readable anymore.  (These get replaced if you edit and run the script, so they're never a problem.)  Since you need to *write* the scripts but still need to *test* the toolchain, we provide these `pyc` files as a substitute for testing.\n",
    "</div>\n",
    "\n",
    "To run the entire toolchain, the command line lets you take the *output* from one script and use it as the *input* to another.  Thus:\n",
    "    \n",
    "    $ python grab_stations.pyc | python grab_forecast.pyc | python plot_forecast.py\n",
    "\n",
    "This takes a moment to run and then displays a list of Illinois weather stations and today's forecast high temperatures visible."
   ]
  },
  {
   "cell_type": "markdown",
   "metadata": {},
   "source": [
    "### Reading Input from another program"
   ]
  },
  {
   "cell_type": "markdown",
   "metadata": {},
   "source": [
    "Note the `|` operator in the above command: this takes the output of the first program and *pipes* it as the input to the next program. It is a straightforward way to pass output from one program to another.\n",
    "\n",
    "The output of the first program is passed as *standard input stream*, or `stdin` into a string that you can parse in the second program:"
   ]
  },
  {
   "cell_type": "code",
   "execution_count": 7,
   "metadata": {
    "collapsed": false
   },
   "outputs": [],
   "source": [
    "# this won't show anything in Jupyter because there's no `stdin`, but here's what you would do:\n",
    "import sys\n",
    "for line in sys.stdin:\n",
    "    print(line)"
   ]
  },
  {
   "cell_type": "markdown",
   "metadata": {},
   "source": [
    "To see how this works in command line, I wrote a simple test code to try out:\n",
    "\n",
    "program1.py:\n",
    "\n",
    "    print('hello world')\n",
    "    print('another line to print..')\n",
    "\n",
    "program2.py:\n",
    "    \n",
    "    import sys\n",
    "    from line in sys.stdin:\n",
    "        print('I receive this line: %s'%line.strip())\n",
    "        \n",
    "Now try the following from command line:\n",
    "\n",
    "    $ python program1.py | python program2.py"
   ]
  },
  {
   "cell_type": "markdown",
   "metadata": {},
   "source": [
    "### Accessing Web Data:  `requests`"
   ]
  },
  {
   "cell_type": "markdown",
   "metadata": {},
   "source": [
    "Programmers and scientists often need to access data which are not located directly on the hard drive, so `open` won't take care of it.  If the data are available on the web, we can use the `requests` library to access the server, grab the data, and then parse it as a single string (just like `read()` for a file).\n",
    "\n",
    "This example grabs a web page and outputs the HTML markup code underlying the page:"
   ]
  },
  {
   "cell_type": "code",
   "execution_count": null,
   "metadata": {
    "collapsed": false
   },
   "outputs": [],
   "source": [
    "import requests\n",
    "\n",
    "url = 'http://www.nws.noaa.gov/mdl/gfslamp/lavlamp.shtml'\n",
    "page = requests.get(url)\n",
    "\n",
    "print(page.text)"
   ]
  },
  {
   "cell_type": "markdown",
   "metadata": {},
   "source": [
    "This example grabs data from an online source:"
   ]
  },
  {
   "cell_type": "code",
   "execution_count": null,
   "metadata": {
    "collapsed": false,
    "nbgrader": {
     "grade": false,
     "grade_id": "basic-caesar",
     "locked": false,
     "solution": false
    }
   },
   "outputs": [],
   "source": [
    "url = 'https://raw.githubusercontent.com/davis68/cs101-example/master/exoplanets.csv'\n",
    "planets = requests.get(url)\n",
    "\n",
    "print(planets.text)"
   ]
  },
  {
   "cell_type": "markdown",
   "metadata": {},
   "source": [
    "Part of this lab will involve crawling data from a web page.  This means that you have to pull a large chunk of data (the web page as a string) and then fish around to find the exact datum you are looking for. The scripts are written to cache the web files locally so that you don't need to crawl the page every time you run (for saving your time)."
   ]
  },
  {
   "cell_type": "markdown",
   "metadata": {},
   "source": [
    "### Forming your team"
   ]
  },
  {
   "cell_type": "markdown",
   "metadata": {},
   "source": [
    "Each one of you should form a team with another partner for this session. One of you will be in charge of finishing the `grab_stations.py`, the other one will be in charge of finishing `grab_forecast.py`.\n",
    "\n",
    "If you are in charge of writing `grab_stations.py`, then you can use `grab_forecast.pyc` to test your code and make it work:\n",
    "    \n",
    "    $ python grab_stations.py | python grab_forecast.pyc\n",
    "    \n",
    "If you are in charge of writing `grab_forecast.py`, then you can use `grab_stations.pyc` to test your code and make it work:\n",
    "    \n",
    "    $ python grab_stations.pyc | python grab_forecast.py\n",
    "\n",
    "Again, the `pyc` files are intermediate code compiled from the final scripts. You may use one of them for your testing if you are working on one of the scripts. This makes it easier for you to debug your code. \n",
    "\n",
    "The output of these commands should be a list of records, each line containing a station name, lon, lat and the highest temperature data of the day. The `plot_forecast.py` script takes these as input and plots out the final whether forecast figure showed at the bottom of the page."
   ]
  },
  {
   "cell_type": "markdown",
   "metadata": {},
   "source": [
    "##  `grab_stations.py`"
   ]
  },
  {
   "cell_type": "markdown",
   "metadata": {},
   "source": [
    "If you are on this script, you'll need to open the skeleton code file `grab_stations.py` from Jupyter, and write the unfinished part of this script.  The program has the following structure:\n",
    "\n",
    "    import requests\n",
    "\n",
    "    def grab_website_data():\n",
    "        '''Get raw data as HTML string from the NOAA website.'''\n",
    "        \n",
    "        page_file = \"./stations.txt\"\n",
    "        if not os.path.isfile(page_file):\n",
    "            url = 'http://www.nws.noaa.gov/mdl/gfslamp/docs/stations_info.shtml'\n",
    "            \n",
    "            ## YOUR CODE HERE\n",
    "            \n",
    "            f = open(page_file,'w')   #cache the page content to a local file \n",
    "            f.write(page.text)\n",
    "            f.close()\n",
    "            return page.text\n",
    "        else:\n",
    "            f = open(page_file,'r')  #read from cached html file\n",
    "            data = f.read()\n",
    "            f.close()\n",
    "            return data\n",
    "\n",
    "    def extract_section(text):\n",
    "        '''Find Illinois data segment (in a PRE tag).\n",
    "        We know (from examination) that inside of the PRE block containing ' IL '\n",
    "        (with whitespace and case matching) we can find the IL station data.\n",
    "        This solution isn't robust, but it's good enough for practical cases.'''\n",
    "        \n",
    "        il_start  = text.find(' IL ')\n",
    "        tag_start = text.rfind('PRE', il_start-200, il_start) # look backwards\n",
    "        tag_end   = text.find('PRE', il_start)\n",
    "        data = text[tag_start+4:tag_end-2]\n",
    "        lines = data.splitlines()\n",
    "        lines = lines[2:-1]\n",
    "        return lines\n",
    "\n",
    "    def parse_station_line(line):\n",
    "        '''Extract latitude and longitude of stations. We know the columns are fixed\n",
    "        (which is both inconvenient and convenient). In this case, we will simply\n",
    "        set the limits of the relevant columns by counting the number of columns\n",
    "        over we need to go.'''\n",
    "        \n",
    "        pass  # YOUR CODE HERE\n",
    "        \n",
    "        return stn, lon, lat\n",
    "        \n",
    "\n",
    "    text = grab_website_data()\n",
    "    lines = extract_section(text)\n",
    "    for line in lines: \n",
    "        try:\n",
    "            stn, lon, lat = parse_station_line(line)\n",
    "            print('%s\\t%f\\t%f'%(stn,lon,lat))\n",
    "        except:\n",
    "            print('Could not parse line\\n\\t%s'%line)\n",
    "\n",
    "To test:\n",
    "    \n",
    "    $ python grab_stations.py | python grab_forecast.pyc\n",
    "\n",
    "or\n",
    "    \n",
    "    $ python grab_stations.py | python grab_forecast.pyc |　python plot_forecast.py"
   ]
  },
  {
   "cell_type": "markdown",
   "metadata": {},
   "source": [
    "## `grab_forecast.py`"
   ]
  },
  {
   "cell_type": "markdown",
   "metadata": {},
   "source": [
    "If you are on this script, you'll need to open the skeleton code file `grab_forecast.py` from Jupyter, and write the unfinished part of this script.  The program has the following structure:\n",
    "\n",
    "    def grab_stdin(text=sys.stdin):\n",
    "        '''Get input stations from stdin.'''\n",
    "        stns = []\n",
    "        locx = []\n",
    "        locy = []\n",
    "        for line in text:\n",
    "            try:\n",
    "                pass  # YOUR CODE HERE\n",
    "            except:\n",
    "                print('Could not parse line \\n\\t\"%s\"'%line)\n",
    "        return stns, locx, locy\n",
    "\n",
    "    def grab_forecast_data():\n",
    "        '''Get raw data as HTML string from the NOAA website.'''\n",
    "        \n",
    "        page_file = \".forecast.txt\"\n",
    "        if not os.path.isfile(page_file):\n",
    "            url = 'http://www.nws.noaa.gov/mdl/gfslamp/lavlamp.shtml'\n",
    "            \n",
    "            ## YOUR CODE HERE\n",
    "            \n",
    "            f = open(page_file,'w')   #cache the page content to a local file \n",
    "            f.write(page.text)\n",
    "            f.close()\n",
    "            return page.text\n",
    "        else:\n",
    "            f = open(page_file,'r')   #read from cached html file \n",
    "            data = f.read()\n",
    "            f.close()\n",
    "            return data\n",
    "\n",
    "    def get_station_temp(temp_data, stn):\n",
    "        '''We have a list of Illinois stations from the sites loaded previously.\n",
    "           We need to load the data for each of those sites and store these data \n",
    "           locally.  There are a lot of data included here, but we are only \n",
    "           interested in one:  the current temperature, located at the index\n",
    "           offset 169 and of length 2 (found by examination).\n",
    "        '''\n",
    "        \n",
    "        tag_start = temp_data.find(stn)\n",
    "        if tag_start == -1:\n",
    "            T = float('NaN')\n",
    "            return\n",
    "        tag_end = tag_start + 1720 #each text block is 1720 characters long\n",
    "        T = float(temp_data[tag_start+169:tag_start+172])\n",
    "        return T\n",
    "    \n",
    "    stns, locx, locy = grab_stdin()\n",
    "    temp_data = grab_forecast_data()\n",
    "    for stn,lat,lon in zip(stns, locx, locy):\n",
    "        temp = get_station_temp(temp_data, stn)\n",
    "        print('%s\\t%f\\t%f\\t%f'%(stn,lon,lat,temp))\n",
    "\n",
    "To test:\n",
    "    \n",
    "    $ python grab_stations.pyc | python grab_forecast.py\n",
    "\n",
    "or\n",
    "\n",
    "    $ python grab_stations.pyc | python grab_forecast.py | python plot_forecast.py"
   ]
  },
  {
   "cell_type": "markdown",
   "metadata": {},
   "source": [
    "### Putting It All Together"
   ]
  },
  {
   "cell_type": "markdown",
   "metadata": {},
   "source": [
    "Now you and your partner need to collaborate to make these codes work together.  There's not a really easy way to share the files directly with the tools available in our CS101 lab, so we suggest that you email your script to one another so you can get them both in the same folder (or simply use a USB drive).  This will, of course, overwrite the existing skeleton code file in that folder.\n",
    "\n",
    "Once you've got the updated file from your partner, you can run the toolchain without using the .pyc file anymore. And one last thing: use the `>` operator in command line to *redirect* the stdout to a file called `output.txt`\n",
    "    \n",
    "    $ python grab_stations.py | python grab_forecast.py | python plot_forecasts.py\n",
    "\n",
    "If this doesn't work, debug and figure out where things went wrong with your partner.\n",
    "\n",
    "If it works, This should plot a figure like this, but in your plot, there should be temperature information in the plot as well:"
   ]
  },
  {
   "cell_type": "markdown",
   "metadata": {},
   "source": [
    "![](./img/figure_1.png)"
   ]
  },
  {
   "cell_type": "markdown",
   "metadata": {},
   "source": [
    "### Stretch Goal"
   ]
  },
  {
   "cell_type": "markdown",
   "metadata": {},
   "source": [
    "When reporting your work, please use the following format.\n",
    "    \n",
    "    grab_stations_[ID1].py\n",
    "    grab_forecast_[ID2].py\n",
    "    station_plot.png\n",
    "\n",
    "Only one of you of the team need to send me the result. Please remember to `cc` the email to the other member of your team.\n",
    "\n",
    "If you make it this far, awesome! This is all for today's session.\n",
    "\n",
    "Try this out if there is more than twenty minutes left:  randomly pair with a different person in the lab and swap code with them. This should work if both of your scripts are correct. If not, try to figure out why your previous pair of codes worked and the new pairing does not.."
   ]
  }
 ],
 "metadata": {
  "anaconda-cloud": {},
  "kernelspec": {
   "display_name": "Python [Root]",
   "language": "python",
   "name": "Python [Root]"
  },
  "language_info": {
   "codemirror_mode": {
    "name": "ipython",
    "version": 3
   },
   "file_extension": ".py",
   "mimetype": "text/x-python",
   "name": "python",
   "nbconvert_exporter": "python",
   "pygments_lexer": "ipython3",
   "version": "3.5.2"
  }
 },
 "nbformat": 4,
 "nbformat_minor": 0
}
