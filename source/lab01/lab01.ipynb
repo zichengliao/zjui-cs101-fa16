{
 "cells": [
  {
   "cell_type": "markdown",
   "metadata": {},
   "source": [
    "## `lab01`—The Linux Command Line"
   ]
  },
  {
   "cell_type": "markdown",
   "metadata": {},
   "source": [
    "**Objectives**\n",
    "\n",
    "-   Access the online Jupyter notebook system for labs.\n",
    "-   Locate key course information."
   ]
  },
  {
   "cell_type": "markdown",
   "metadata": {},
   "source": [
    "### How to use the online Python notebook server."
   ]
  },
  {
   "cell_type": "markdown",
   "metadata": {},
   "source": [
    "Our lessons will use a few standard conventions that you should be aware of:\n",
    "\n",
    "    # This is a nonexecutable code block.\n",
    "    # Things which are written here represent Python code (or pseudocode)\n",
    "    # but are not executable---\n",
    "    # see the executable code cells following for code that you can run in place.\n",
    "\n",
    "<div class=\"alert alert-warning\">\n",
    "This is a *warning* block.  You should always carefully read this information since it will materially impact your ability to complete the lab exercises successfully, or your ability to use Python to solve problems.\n",
    "</div>\n",
    "\n",
    "<div class=\"alert alert-info\">\n",
    "This is an *info* block.  You can safely ignore this information for completing your lab exercises, but may find it to be interesting and useful in your broader scholarship and career.\n",
    "</div>"
   ]
  },
  {
   "cell_type": "markdown",
   "metadata": {},
   "source": [
    "The following grey cell, in contrast, is an executable *code cell*.  (As an aside, you do not need to understand the details of the Python code in this lab.  We'll cover all you need in the next few weeks.)\n",
    "\n",
    "Code cells require you to enter Python code (or just read what's already there), and then to execute the cell when you are ready to proceed with the lab.  To do so, select inside of the cell and press Ctrl+Enter."
   ]
  },
  {
   "cell_type": "code",
   "execution_count": null,
   "metadata": {
    "collapsed": false
   },
   "outputs": [],
   "source": [
    "1 + 2"
   ]
  },
  {
   "cell_type": "markdown",
   "metadata": {},
   "source": [
    "Note that two things happened.  One is that the `In []` gained a number—this is the number of the input you have executed in the notebook.  The absolute number almost never matters, but the *order* often does.  You can execute cells out of order, so you have to be sure that if you change one thing later cells are in fact written with the updated value in mind.\n",
    "\n",
    "The other thing that happened is that the cell returned a value to you as an output.  This may not always happen, but in the case of single-line expressions like mathematical formulae it often will.  If you need explicit output, you can use a `print` function:"
   ]
  },
  {
   "cell_type": "code",
   "execution_count": null,
   "metadata": {
    "collapsed": false
   },
   "outputs": [],
   "source": [
    "print('Four times five equals', 4 * 5)"
   ]
  },
  {
   "cell_type": "markdown",
   "metadata": {},
   "source": [
    "You can input multiple lines into a code cell and execute them as a block.  The following cell contains a very short program which counts down from ten and then prints a message."
   ]
  },
  {
   "cell_type": "code",
   "execution_count": null,
   "metadata": {
    "collapsed": false
   },
   "outputs": [],
   "source": [
    "for counter in range(10,0,-1):\n",
    "    print(counter)\n",
    "print('Blast off!')"
   ]
  },
  {
   "cell_type": "markdown",
   "metadata": {},
   "source": [
    "Here are a couple more.  (Don't worry about the specifics of the code—in a few weeks you'll be able to come back and understand it all perfectly.)"
   ]
  },
  {
   "cell_type": "code",
   "execution_count": null,
   "metadata": {
    "collapsed": false
   },
   "outputs": [],
   "source": [
    "# Transform a message with underscores and spaces.\n",
    "msg = 'Life is too short to remove a USB drive safely.'\n",
    "print(' '.join(msg.replace(' ','_')*3))"
   ]
  },
  {
   "cell_type": "code",
   "execution_count": null,
   "metadata": {
    "collapsed": false
   },
   "outputs": [],
   "source": [
    "# Find palindromic prime numbers from n = 2 to 7**5=16807.\n",
    "n = 1\n",
    "for x in range(n+1, 7**5):\n",
    "    if repr(x) == repr(x)[::-1] * all(x%i for i in range(2,x)):\n",
    "        print(x)"
   ]
  },
  {
   "cell_type": "markdown",
   "metadata": {},
   "source": [
    "Try double-clicking on this text (**right here**).  When you do so, the cell changes to a grey editable field.  This may happen occasionally by accident (or on purpose), but to view the regular text like in the rest of this lab, select inside this cell and press Ctrl+Enter."
   ]
  },
  {
   "cell_type": "markdown",
   "metadata": {},
   "source": [
    "The next pair of cells is a different animal—these are graded cells, which means that the first cell of the pair will contain the code you need to write (the *answer*), and the second cell contains the *test* or tests which your code needs to pass.\n",
    "\n",
    "Just go ahead and execute the answer cell to test it out.  The test cell will be given to you so that you can understand an assignment's expectations.  If you run a test cell, it will often fail unless you have already composed correct code, so don't worry about it until you are wrapping up an assignment."
   ]
  },
  {
   "cell_type": "code",
   "execution_count": null,
   "metadata": {
    "collapsed": false,
    "nbgrader": {
     "grade": false,
     "grade_id": "simple",
     "locked": false,
     "solution": true
    }
   },
   "outputs": [],
   "source": [
    "message = \"Let me never fall into the vulgar mistake of dreaming that I am persecuted whenever I am contradicted. (Ralph Waldo Emerson)\"\n",
    "print(message)"
   ]
  },
  {
   "cell_type": "code",
   "execution_count": null,
   "metadata": {
    "collapsed": false,
    "nbgrader": {
     "grade": true,
     "grade_id": "simple-test",
     "locked": true,
     "points": 1,
     "solution": false
    }
   },
   "outputs": [],
   "source": [
    "# This is a test cell.  You should not modify its contents in any way.\n",
    "assert len(message) == 124\n",
    "print('Success!')"
   ]
  },
  {
   "cell_type": "markdown",
   "metadata": {
    "nbgrader": {
     "grade": false,
     "locked": false,
     "solution": false
    }
   },
   "source": [
    "The next pair requires you to make a small change.  You need to *uncomment* a single line of code—in this case, that just means selecting inside of the cell and deleting the `#` at the beginning of the line.  This makes the answer cell satisfy the test below."
   ]
  },
  {
   "cell_type": "code",
   "execution_count": null,
   "metadata": {
    "collapsed": false,
    "nbgrader": {
     "grade": false,
     "grade_id": "change",
     "locked": false,
     "solution": true
    }
   },
   "outputs": [],
   "source": [
    "e = 2.71828\n",
    "exponent = 5\n",
    "value = e ** exponent\n",
    "#value = value * 2"
   ]
  },
  {
   "cell_type": "code",
   "execution_count": null,
   "metadata": {
    "collapsed": false,
    "nbgrader": {
     "grade": true,
     "grade_id": "change-test",
     "locked": true,
     "points": 1,
     "solution": false
    }
   },
   "outputs": [],
   "source": [
    "# This is a test cell.  You should not modify its contents in any way.\n",
    "assert value == 2 * e ** exponent\n",
    "print('Success!')"
   ]
  },
  {
   "cell_type": "markdown",
   "metadata": {},
   "source": [
    "---"
   ]
  },
  {
   "cell_type": "markdown",
   "metadata": {},
   "source": [
    "### Find out key course information."
   ]
  },
  {
   "cell_type": "markdown",
   "metadata": {},
   "source": [
    "One of today's major goals is to make sure that you know where to go to find out about course policies and where to get help.\n",
    "\n",
    "Look on the main page of the course website if necessary and make sure you know the following:\n",
    "\n",
    "-   lab section ID (AYA–AYR)\n",
    "-   TA name\n",
    "\n",
    "You should use that information to fill out the following answer cell.  (This one doesn't have a test cell because it will be manually graded by the TA.)"
   ]
  },
  {
   "cell_type": "code",
   "execution_count": null,
   "metadata": {
    "collapsed": true,
    "nbgrader": {
     "grade": true,
     "grade_id": "course-data",
     "locked": false,
     "points": 1,
     "solution": true
    }
   },
   "outputs": [],
   "source": [
    "lab_section_id = \"YOUR SECTION ID HERE\"\n",
    "ta_name = \"YOUR TA'S NAME HERE\""
   ]
  },
  {
   "cell_type": "markdown",
   "metadata": {},
   "source": [
    "Questions about homework assignments, lecture materials, etc. should be posted to the [CS 101 discussion forum on Piazza](https://piazza.com/class/ij7g7i5dhs31aa).\n",
    "\n",
    "<div class=\"alert alert-warning\">\n",
    "You should *never* post portions of your homework or lab solutions on Piazza unless your post is marked ‘private’.\n",
    "</div>\n",
    "\n",
    "If you have an absence or an emergency, you need to contact course administration (Neal Davis and Chelsea Song) at the administrative email address listed at the top of the [main course website](http://go.illinois.edu/cs101).  Find this address and place it in the text box below in quotes."
   ]
  },
  {
   "cell_type": "code",
   "execution_count": null,
   "metadata": {
    "collapsed": true,
    "nbgrader": {
     "grade": true,
     "grade_id": "course-email-song",
     "locked": false,
     "points": 1,
     "solution": true
    }
   },
   "outputs": [],
   "source": [
    "ca_email = \"ADMIN EMAIL ADDRESS HERE\""
   ]
  },
  {
   "cell_type": "markdown",
   "metadata": {},
   "source": [
    "#### How to get help on your assignments"
   ]
  },
  {
   "cell_type": "markdown",
   "metadata": {},
   "source": [
    "You may always ask your section TA, the instructor, and any TA in office hours for help on assignments.  Throughout the semester, we will occasionally refer you to Python tutorials and reference pages.  You may freely use the resources we introduce to you to finish your exercises (although you may not directly copy code—more on that in a moment).\n",
    "\n",
    "You should do your own work, but some amount of interaction with your peers is expected.  What is the appropriate amount of help to request (or offer)?\n",
    "\n",
    "Our philosophy in this course is based on the fact that (in real life) most of the time you have access to many resources:  websites, peers, mentors, books, and others' source code.  Your competence will be greatly increased by the resources you can use without recourse to external references.  We recognize that when learning it only makes sense to let you function in a realistic manner.  Our official policy is the following:\n",
    "\n",
    "<div class=\"alert alert-warning\">\n",
    "For lab exercises and homework, you should work alone unless told otherwise, but you may consult outside sources of information as long as you do not copy that source's work verbatim (*i.e.*, write your own code!) and you cite all sources used and the contribution they made to your work.\n",
    "</div>\n",
    "\n",
    "This policy is designed to protect you against plagiarism without being *carte blanche* to skip doing the work yourself.\n",
    "\n",
    "What is plagiarism? The university defines it thusly:\n",
    "<blockquote>\n",
    "Plagiarism is using others' ideas and/or words without clearly acknowledging the source of that information. Students may plagiarize very deliberately (e.g., copying or purchasing papers from an online source), or they may not realize what they are doing, which is sometimes the case when students fail to give credit for authors' ideas that they have paraphrased or summarized in their own words.<sup>[[Illinois2014]](http://www.library.illinois.edu/learn/research/academicintegrity.html)</sup>\n",
    "</blockquote>\n",
    "\n",
    "What about using books or programming websites? Again, make sure that you don't copy the source's code verbatim and that you cite the work and its contribution.  There will be a spot for you to \n",
    "\n",
    "Pair exercises need not include a note about peer consultation."
   ]
  },
  {
   "cell_type": "markdown",
   "metadata": {},
   "source": [
    "#### How to attend your lab"
   ]
  },
  {
   "cell_type": "markdown",
   "metadata": {},
   "source": [
    "The labs collectively constitute 25% of your grade in CS 101.  Although they will gradually increase in difficulty, you should be able to complete the lab exercises in the two-hour period allotted to you.  **You have two hours to complete the lab and late submissions will not be tolerated**, since the labs are running at the capacity of the room.\n",
    "\n",
    "A corollary policy is that you should always attend your assigned lab section.  **Attendance and submission of your work will be graded on that basis, and failure to attend the proper section in which you are enrolled may lead to a grade of zero on that lab.**  Any exceptions must be cleared with Chelsea Song, *not* with your section TA.\n",
    "\n",
    "When a student has a permitted absence for lab, make-up labs will be arranged.  Make-up labs can come in the form of:\n",
    "\n",
    "1.  students attending alternative lab sessions during the same week (the attendance grade will still be recorded by the original TA); or\n",
    "2.  alternative one-on-one time to finish the lab material under supervision of the original TA."
   ]
  },
  {
   "cell_type": "markdown",
   "metadata": {},
   "source": [
    "---"
   ]
  },
  {
   "cell_type": "markdown",
   "metadata": {},
   "source": [
    "### Learn how to use Linux."
   ]
  },
  {
   "cell_type": "markdown",
   "metadata": {},
   "source": [
    "Okay, enough wall of text.  Let's do something you may not have done before—use the command line on a Linux system.\n",
    "\n",
    "-   From the system task bar, select *Applications* and then *System Tools*.  Among the applications you can launch is listed *Terminal*. (In the future we will abbreviate this as *Applications→System Tools→Terminal*.)  If you click on this item, the system will launch a window showing the command line, or an *instance*.  An instance is an independent process or point of access to the system—you could open multiple instances as new windows by clicking the Terminal icon repeatedly.\n",
    "\n",
    "<div class=\"alert alert-info\">\n",
    "You will often hear the terms *shell*, *terminal*, and *command line* used interchangeably for historic reasons.  The only point of confusion to be aware of is that the term *shell* can also refer to the Python interpreter.  However, the meaning should generally be clear from the context.\n",
    "</div>\n",
    "\n",
    "-   By default, your window will appear with a prompt `[netid@hostname ~]$`.  We don’t need to unpack all of this prompt, but it’s worth noting the following:\n",
    "<div style=\"background-color: #f7f7f9; border: 1px solid #e1e1e8;\"><code style=\"background-color: transparent;\">[netid@hostname cs101-sp16]$\n",
    "</code></div>\n",
    "\n",
    "| part of prompt | interpretation |\n",
    "|------------|----------------------------------------------------------------------------------------------------------------|\n",
    "| `netid`    | your NetID                                                                                                     |\n",
    "| `hostname` | the ID of the machine you're using                                                                             |\n",
    "| `cs101-sp16`        | the current directory (like *C:\\My Documents\\cs101-sp16* in Windows)                                          |\n",
    "| `$`        | the prompt itself (when you see this, you know that the command line is waiting for you to tell it what to do) |\n",
    "    \n",
    "Everything you type past this point until the end of the notebook will take place in the command line window."
   ]
  },
  {
   "cell_type": "markdown",
   "metadata": {},
   "source": [
    "#### How to navigate the file system"
   ]
  },
  {
   "cell_type": "markdown",
   "metadata": {},
   "source": [
    "Type the following commands (in `monotype`) into the terminal, one at a time, and see what the output is:\n",
    "\n",
    "-   `pwd`—*p*rint *w*orking *d*irectory, or show the name of the directory you are currently working in\n",
    "-   `ls`—list the files and directories in the current directory\n",
    "-   `cd`—by itself, change to your home directory\n",
    "-   `cd Desktop`—will take you to the `Desktop` directory, which corresponds to the graphical contents of your desktop as well\n",
    "\n",
    "Now your prompt should be at the `Desktop`.  Use the `cd` command to first go back to your home directory and second to go into the `cs101-fa16` and then `lab01` directory.  Finally, use `ls` to show you the files in that directory."
   ]
  },
  {
   "cell_type": "markdown",
   "metadata": {},
   "source": [
    "#### How to view or change files"
   ]
  },
  {
   "cell_type": "markdown",
   "metadata": {},
   "source": [
    "Of course there is much more to life than simply having lists of files in a directory.  If you are working on the command line, you can't just double-click a file to see what's in it.  Instead, you can either print out the contents of the file or open the file in an editor.\n",
    "\n",
    "To print the contents of a file (to the screen), simply enter `cat` and then the name of the file.  You should navigate in the command line to the `~/cs101-fa16/lab01/files` directory:\n",
    "\n",
    "<div style=\"background-color: #f7f7f9; border: 1px solid #e1e1e8;\"><code style=\"background-color: transparent;\">cd\n",
    "cd cs101-fa16/lab01/files\n",
    "</code></div>\n",
    "\n",
    "and then type this:\n",
    "    \n",
    "<div style=\"background-color: #f7f7f9; border: 1px solid #e1e1e8;\"><code style=\"background-color: transparent;\">cat ink-spots.txt\n",
    "</code></div>\n",
    "\n",
    "You will also find it useful to remove files which you no longer need.  This is accomplished with `rm`.  **Be careful with `rm`**—there is no Recycle Bin or Trash, and anything deleted is unrecoverable!  Go ahead and delete the file `shaggs.txt` (you can take a look at it first with `cat` if you like):\n",
    "\n",
    "<div style=\"background-color: #f7f7f9; border: 1px solid #e1e1e8;\"><code style=\"background-color: transparent;\">cat shaggs.txt\n",
    "rm shaggs.txt\n",
    "</code></div>\n",
    "\n",
    "Although most of our lab work will take place in notebooks like this one, you will occasionally need to edit files for CS 101.  A text editor lets you enter and edit simple plain text, without formatting (like **bold** or *italic* text), and lets you save `txt` files.  Two good options are available to you in this class, `nano` on the command line and Gedit in the graphical user environment.\n",
    "\n",
    "To use `nano`:\n",
    "    \n",
    "<div style=\"background-color: #f7f7f9; border: 1px solid #e1e1e8;\"><code style=\"background-color: transparent;\">nano dylan.txt\n",
    "</code></div>\n",
    "\n",
    "Edit its perfection if you dare.  Press Ctrl+O to save the file; Ctrl+X to close the file.\n",
    "\n",
    "Open the text editor called Gedit by selecting from the main toolbar *Applications→Accessories→gedit Text Editor*.  Gedit will open with an empty text file.  You can navigate to open `dylan.txt` or another file if you like.  Take a look around and then close Gedit."
   ]
  },
  {
   "cell_type": "markdown",
   "metadata": {},
   "source": [
    "#### How to run Python programs"
   ]
  },
  {
   "cell_type": "markdown",
   "metadata": {},
   "source": [
    "There are three different ways to run Python code as a program.\n",
    "\n",
    "1.  One is what you are doing here—as part of a **notebook** in separate cells.  In this case, any data or values you introduce are stored and operated on by the notebook server, called Jupyter.\n",
    "    \n",
    "    Although you can access this CS 101 server and the notebooks you have created online throughout the semester, you may want to keep a copy of your completed lab assignments so that you have a record for future reference.  In that case, you should select *File→Download as→* and either *IPython Notebook  (.ipynb)* or *HTML (.html)*.  You can save a copy wherever you like on the local file system.\n",
    "\n",
    "    <div class=\"alert alert-info\">\n",
    "    IPython is an older name for Jupyter, and you may hear it occasionally used by your TA or other programmers.\n",
    "    </div>\n",
    "\n",
    "2.  Another way is to feed your code line-by-line into a Python **interpreter**, which executes each line in turn and gives you the result of that piece of code.  This is an excellent way to explore data, for instance, or to test ideas once you are more familiar with Python.\n",
    "\n",
    "3.  Finally, you can save a block of code as a **script**, which is like connecting a bunch of notebook cells together in one spot.  This is the most frequent way that Python is used, since it lets you run computations and data analyses without having to manually monitor your machine (like you do in a notebook).\n",
    "    \n",
    "    For instance, we will consider a version of the countdown program you used above.  The code is basically identical, but instead of being in a notebook cell it is saved as a text file with the `py` suffix.\n",
    "    \n",
    "    1.  First, examine the file by navigating to (or verifying that you are already in) the `lab01` directory and using `cat` to look at the file named `rocket.py`.\n",
    "    \n",
    "    2.  Next, execute the script by typing the following at the prompt and pressing Enter.\n",
    "            \n",
    "        <div style=\"background-color: #f7f7f9; border: 1px solid #e1e1e8;\"><code style=\"background-color: transparent;\">python rocket.py\n",
    "        </code></div>\n",
    "        \n",
    "        You should see the same output at the command line as you previously saw with the code in the cell above."
   ]
  },
  {
   "cell_type": "markdown",
   "metadata": {},
   "source": [
    "A [summary card](./getting-started.pdf) is available for you as a reference to what you've learnt today as well.  We do *not* expect you to remember all of the necessary commands at this point—this lab was more about making you familiar with the computing environment you'll use throughout the semester."
   ]
  },
  {
   "cell_type": "markdown",
   "metadata": {},
   "source": [
    "<div class=\"alert alert-warning\">\n",
    "Due to the campus IT policy, you will only be able to access this web site from on campus.  If you are off campus, you should install [the campus VPN](https://techservices.illinois.edu/services/virtual-private-networking-vpn/download-and-set-up-the-vpn-client) if you need to access the lab server.  We do not support the VPN—if you have questions, they should be directed to Technology Services.\n",
    "</div>"
   ]
  },
  {
   "cell_type": "markdown",
   "metadata": {},
   "source": [
    "#### How to keep your work secure"
   ]
  },
  {
   "cell_type": "markdown",
   "metadata": {},
   "source": [
    "Your labs and homework assignments should be completed separately unless you are explicitly told to work in pairs.  In order to keep your work secure and protect yourself against accusations of plagiarism if you need to leave your workstation for a few minutes, please take advantage of Linux's \"Lock Screen\" feature, found on the main (Linux) toolbar at *System→Lock Screen*.\n",
    "\n",
    "At the completion of your day's lab work, you should always log out of the system completely.  When you are ready to do so, from the main toolbar select *System→Log Out*."
   ]
  },
  {
   "cell_type": "markdown",
   "metadata": {},
   "source": [
    "<div class=\"alert alert-info\">\n",
    "<p>You may hear the terms *Unix* and *Linux* being used interchangeably.  Unix properly refers to an operating system developed in 1972 at Bell Labs and its descendants and re-implementations (including Mac OS X).  Unix was widely successfully due to its locally minimalist, globally expansionist philosophy. What I mean by this is that Unix prefers small simple programs which carry out one task and do it extremely well, but contains a legion of such programs.</p>\n",
    "\n",
    "<p>Linux has been developed as an independent project since 1991.  Linux largely reimplements Unix's functionality but with an open source policy of providing the source code to all features.  This openness has served it well in the computational science and scientific computing communities, which appreciated the ability to look inside of programs and thus verify numerics and algorithms.</p>\n",
    "</div>"
   ]
  }
 ],
 "metadata": {
  "anaconda-cloud": {},
  "kernelspec": {
   "display_name": "Python [Root]",
   "language": "python",
   "name": "Python [Root]"
  },
  "language_info": {
   "codemirror_mode": {
    "name": "ipython",
    "version": 3
   },
   "file_extension": ".py",
   "mimetype": "text/x-python",
   "name": "python",
   "nbconvert_exporter": "python",
   "pygments_lexer": "ipython3",
   "version": "3.5.2"
  }
 },
 "nbformat": 4,
 "nbformat_minor": 0
}
