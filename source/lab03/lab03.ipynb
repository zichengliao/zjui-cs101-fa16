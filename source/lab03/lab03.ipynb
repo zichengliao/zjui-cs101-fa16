{
 "cells": [
  {
   "cell_type": "markdown",
   "metadata": {},
   "source": [
    "## `lab03`—Types, Functions, & Scope"
   ]
  },
  {
   "cell_type": "markdown",
   "metadata": {},
   "source": [
    "**Objectives**\n",
    "\n",
    "-   Use index slicing to access larger pieces of a string.\n",
    "-   Use functions to modularize code.\n",
    "-   Utilize the built-in libraries of Python functions effectively."
   ]
  },
  {
   "cell_type": "markdown",
   "metadata": {},
   "source": [
    "#### Slicing"
   ]
  },
  {
   "cell_type": "markdown",
   "metadata": {
    "collapsed": false
   },
   "source": [
    "We can generalize our notion of *indexing* to *slicing*.  Slicing means using a *range of indices* to take a *slice* of a string.  A range is written `string[left:right]`, where the `left` index is part of the string but the `right` index is not.  (We call this a *half-open* range.)"
   ]
  },
  {
   "cell_type": "code",
   "execution_count": null,
   "metadata": {
    "collapsed": false
   },
   "outputs": [],
   "source": [
    "pangram = 'Sphinx of black quartz: judge my vow.'"
   ]
  },
  {
   "cell_type": "code",
   "execution_count": null,
   "metadata": {
    "collapsed": false
   },
   "outputs": [],
   "source": [
    "pangram[0:5]"
   ]
  },
  {
   "cell_type": "code",
   "execution_count": null,
   "metadata": {
    "collapsed": false
   },
   "outputs": [],
   "source": [
    "pangram[6:13]"
   ]
  },
  {
   "cell_type": "code",
   "execution_count": null,
   "metadata": {
    "collapsed": false
   },
   "outputs": [],
   "source": [
    "pangram[0:0]  # Note that the right-hand index is not in the range, so this string is empty."
   ]
  },
  {
   "cell_type": "code",
   "execution_count": null,
   "metadata": {
    "collapsed": false
   },
   "outputs": [],
   "source": [
    "pangram[0:-1]"
   ]
  },
  {
   "cell_type": "code",
   "execution_count": null,
   "metadata": {
    "collapsed": false
   },
   "outputs": [],
   "source": [
    "pangram[5:]  # We don't have to specify both sides; if we don't, Python assumes we are going all the way to the end or coming all the way from the beginning."
   ]
  },
  {
   "cell_type": "code",
   "execution_count": null,
   "metadata": {
    "collapsed": false
   },
   "outputs": [],
   "source": [
    "pangram[:10]"
   ]
  },
  {
   "cell_type": "code",
   "execution_count": null,
   "metadata": {
    "collapsed": false
   },
   "outputs": [],
   "source": [
    "pangram[:]  # Thus this is just a copy of the entire original string."
   ]
  },
  {
   "cell_type": "code",
   "execution_count": null,
   "metadata": {
    "collapsed": false
   },
   "outputs": [],
   "source": [
    "pangram[4:-1:3]  # Take every THIRD character from the fourth space to the last (exclusive)."
   ]
  },
  {
   "cell_type": "markdown",
   "metadata": {},
   "source": [
    "Although strings *are* important and useful, you're still fairly limited in what you're able to do with them.  But many aspects of indexing will carry over to data types you'll meet later, like `list`s and `ndarray`s ($n$-dimensional arrays)—you will use these techniques to manipulate large arrays of numerical data as well."
   ]
  },
  {
   "cell_type": "markdown",
   "metadata": {},
   "source": [
    "-   How would you extract the letters `'ssupdla nioiaim'` from the following string?  Write the full expression (*i.e.*, `showoff[???]`) in the answer block below.\n",
    "        \n",
    "        showoff = 'sesquipedalian antinominalism'"
   ]
  },
  {
   "cell_type": "code",
   "execution_count": null,
   "metadata": {
    "collapsed": true
   },
   "outputs": [],
   "source": [
    "# definition\n",
    "showoff = 'sesquipedalian antinominalism'"
   ]
  },
  {
   "cell_type": "code",
   "execution_count": null,
   "metadata": {
    "collapsed": false,
    "nbgrader": {
     "grade": true,
     "grade_id": "slice",
     "locked": false,
     "points": 1,
     "solution": true
    }
   },
   "outputs": [],
   "source": [
    "# your answer here\n",
    "showoff[ ??? ]"
   ]
  },
  {
   "cell_type": "markdown",
   "metadata": {},
   "source": [
    "### How to reuse your code"
   ]
  },
  {
   "cell_type": "markdown",
   "metadata": {},
   "source": [
    "When you need to carry out a calculation many times (whether simple or complicated), you don't want to write out the formula over and over again.  Besides being inefficient, if you later need to expand the code or correct a bug, you'd have to look everywhere to make sure you changed every case.  It's far better to write the calculation *once*, as a function, and then call that function every time you need it.\n",
    "\n",
    "You've seen a handful of functions before:  `type`, `exp`, `abs`.  Let's see what's involved with writing your own."
   ]
  },
  {
   "cell_type": "markdown",
   "metadata": {
    "collapsed": false
   },
   "source": [
    "In mathematics, a function is simply a way of relating an input value (often $x$) to an output value (sometimes $y$ or $f(x)$).  For instance, a parabola may be expressed as\n",
    "\n",
    "$$y = f(x) = x^2$$\n",
    "\n",
    "and plotted as\n",
    "\n",
    "![](./img/parabola.png)\n",
    "\n",
    "Properly speaking, the resulting curve represents the collection of ordered pairs $(x,y)$.  To plot this, we select a discrete set of points in the domain $x$ and calculate the corresponding set of values $y$.\n",
    "\n",
    "| $x$  | -1.5 | -1.25  | -1    | -0.75 | -0.5  | -0.25 | 0  | .25    | 0.5  | 0.75   | 1 | 1.25  |  1.5  |\n",
    "|--------|------|--------|-------|-------|-------|-------|----|--------|------|--------|---|-------|-------|\n",
    "| $y$ | 2.25 | 1.5625 | 1.0 | 0.5625 | 0.25 | 0.0625 |  0 | 0.0625 | 0.25 | 0.5625 | 1 | 1.5625 | 2.25 |\n",
    "\n",
    "Of course, the advantage of using a computer is that each step is easier to type than to calculate by hand.  If you had to fill in this table, even using Python it would be tedious if you had to reset the variable `x` and retype the expression for `y` by hand every time.\n",
    "\n",
    "It is very likely that any equation you will wish to use in your studies and career will be more complicated than $y = x^{2}$.  In order to minimize the amount of time typing code, as well as the likelihood of making a mistake due to repetition, we can use functions to capture the operations involved:"
   ]
  },
  {
   "cell_type": "code",
   "execution_count": null,
   "metadata": {
    "collapsed": false
   },
   "outputs": [],
   "source": [
    "def sqr(x):\n",
    "    result = x * x\n",
    "    return result"
   ]
  },
  {
   "cell_type": "markdown",
   "metadata": {},
   "source": [
    "Now instead of typing `x**2` or `x*x` each time you need the formula, you can call the function `sqr(x)` instead.  (In this trivial case, that's actually *more* keystrokes, but the principle stands.)\n",
    "\n",
    "A more realistic candidate is the quadratic equation (as we saw implemented in lab2), or the equation for an arbitrary line, $y = mx + b$, where $m$ is the slope and $b$ is the intercept.  A function which formats a slope and intercept into a string representing a line may look like this:"
   ]
  },
  {
   "cell_type": "code",
   "execution_count": null,
   "metadata": {
    "collapsed": false
   },
   "outputs": [],
   "source": [
    "def line_eqn(m,b):\n",
    "    return 'y = %f x + %f'%(m,b)"
   ]
  },
  {
   "cell_type": "code",
   "execution_count": null,
   "metadata": {
    "collapsed": false
   },
   "outputs": [],
   "source": [
    "print(line_eqn(1.875,4))"
   ]
  },
  {
   "cell_type": "markdown",
   "metadata": {},
   "source": [
    "#### `math` Library Functions"
   ]
  },
  {
   "cell_type": "markdown",
   "metadata": {},
   "source": [
    "*Modules* are collections of functions which allow you to take advantage of the collective work of the scientific and engineering community when carrying out your calculations or building your models.  One of the strengths of Python is its enormous and rich library of modules, which provide both basic and involved operations far beyond the built-in operators.\n",
    "\n",
    "Let's consider the `math` library.  To use functions like `sin`, `cos`, `exp`, and `log`, you simply need to `import math`:"
   ]
  },
  {
   "cell_type": "code",
   "execution_count": null,
   "metadata": {
    "collapsed": true
   },
   "outputs": [],
   "source": [
    "import math"
   ]
  },
  {
   "cell_type": "markdown",
   "metadata": {},
   "source": [
    "You still need to specify *which* module contains the functions to use them, but otherwise it's quite straightforward:"
   ]
  },
  {
   "cell_type": "markdown",
   "metadata": {},
   "source": [
    "$$\n",
    "\\sin\\left(\\frac{\\pi}{4}\\right)\n",
    "$$"
   ]
  },
  {
   "cell_type": "code",
   "execution_count": null,
   "metadata": {
    "collapsed": false
   },
   "outputs": [],
   "source": [
    "math.sin(math.pi/4)"
   ]
  },
  {
   "cell_type": "markdown",
   "metadata": {},
   "source": [
    "$$\n",
    "\\left[\\text{ceil}\\left(4.5\\right)\\right] !\n",
    "$$"
   ]
  },
  {
   "cell_type": "code",
   "execution_count": null,
   "metadata": {
    "collapsed": false
   },
   "outputs": [],
   "source": [
    "math.factorial(math.ceil(4.5))"
   ]
  },
  {
   "cell_type": "markdown",
   "metadata": {},
   "source": [
    "-   Write an expression for the following formula:\n",
    "    \n",
    "    $$\n",
    "    \\frac{(m+n)!}{(m+1)(n-1)!}\n",
    "    $$\n",
    "    \n",
    "    (Note that the factorial refers only to the second term of the denominator, not the entire denominator.)"
   ]
  },
  {
   "cell_type": "code",
   "execution_count": null,
   "metadata": {
    "collapsed": true,
    "nbgrader": {
     "grade": false,
     "grade_id": "form-vars",
     "locked": true,
     "solution": false
    }
   },
   "outputs": [],
   "source": [
    "# these are representative values—don't change these\n",
    "m = 2\n",
    "n = 3"
   ]
  },
  {
   "cell_type": "code",
   "execution_count": null,
   "metadata": {
    "collapsed": false,
    "nbgrader": {
     "grade": false,
     "grade_id": "form",
     "locked": false,
     "solution": true
    }
   },
   "outputs": [],
   "source": [
    "# write your expression here\n",
    "expr = # your code here"
   ]
  },
  {
   "cell_type": "code",
   "execution_count": null,
   "metadata": {
    "collapsed": false,
    "nbgrader": {
     "grade": true,
     "grade_id": "form-test",
     "locked": true,
     "points": 1,
     "solution": false
    }
   },
   "outputs": [],
   "source": [
    "# it should pass this test---do NOT edit this cell\n",
    "from numpy import isclose\n",
    "assert isclose(expr, 20.0)\n",
    "print('Success!')"
   ]
  },
  {
   "cell_type": "markdown",
   "metadata": {},
   "source": [
    "Some modules are quite large, and you may not want to import everything into memory at once.  In that case, you can import a single function from a module as follows:"
   ]
  },
  {
   "cell_type": "code",
   "execution_count": null,
   "metadata": {
    "collapsed": false
   },
   "outputs": [],
   "source": [
    "from math import asin  # arcsine"
   ]
  },
  {
   "cell_type": "markdown",
   "metadata": {},
   "source": [
    "-   What line of Python code could you write to import `log10` from `math`?  (This is the logarithm base 10, $\\log_{10}(x)$.)"
   ]
  },
  {
   "cell_type": "code",
   "execution_count": null,
   "metadata": {
    "collapsed": false,
    "nbgrader": {
     "grade": false,
     "grade_id": "import",
     "locked": false,
     "solution": true
    }
   },
   "outputs": [],
   "source": [
    "# write your expression here"
   ]
  },
  {
   "cell_type": "code",
   "execution_count": null,
   "metadata": {
    "collapsed": false,
    "nbgrader": {
     "grade": true,
     "grade_id": "import-test",
     "locked": true,
     "points": 1,
     "solution": false
    }
   },
   "outputs": [],
   "source": [
    "# it should pass this test---do NOT edit this cell\n",
    "from numpy import isclose\n",
    "try:\n",
    "    log10(0.25)\n",
    "except NameError:\n",
    "    raise AssertionError('log10 not imported yet')\n",
    "print('Success!')"
   ]
  },
  {
   "cell_type": "markdown",
   "metadata": {},
   "source": [
    "### Application:  Cardinal Sine Function"
   ]
  },
  {
   "cell_type": "markdown",
   "metadata": {
    "collapsed": false
   },
   "source": [
    "The bread and butter of working effectively in Python is writing your own functions.\n",
    "\n",
    "Consider the *cardinal sine function*, $\\text{sinc}(x)$, which is used in signal processing by electrical engineers.\n",
    "\n",
    "$$\\text{sinc}(x) = \\frac{\\sin(x)}{x}$$\n",
    "\n",
    "![](https://upload.wikimedia.org/wikipedia/commons/thumb/5/59/Si_sinc.svg/700px-Si_sinc.svg.png)\n",
    "\n",
    "To compose a function which reproduces this behavior for an arbitrary number, we could simply define:"
   ]
  },
  {
   "cell_type": "code",
   "execution_count": null,
   "metadata": {
    "collapsed": false
   },
   "outputs": [],
   "source": [
    "from math import sin\n",
    "def sinc(x):\n",
    "    y = sin(x) / x\n",
    "    return y"
   ]
  },
  {
   "cell_type": "markdown",
   "metadata": {},
   "source": [
    "This short function simply creates a new variable `y` which contains the result of `sin(x)/x` evaluated for the actual value of `x`.  The `return` statement tells Python what the function gives back—in this case, the value of `y`."
   ]
  },
  {
   "cell_type": "code",
   "execution_count": null,
   "metadata": {
    "collapsed": false,
    "nbgrader": {
     "grade": false,
     "grade_id": "string1",
     "locked": false,
     "points": 0,
     "solution": false
    }
   },
   "outputs": [],
   "source": [
    "sinc(1.5)"
   ]
  },
  {
   "cell_type": "code",
   "execution_count": null,
   "metadata": {
    "collapsed": false
   },
   "outputs": [],
   "source": [
    "sinc(3.1415)"
   ]
  },
  {
   "cell_type": "markdown",
   "metadata": {},
   "source": [
    "Critically, *the name of the variable OUTSIDE of `sinc` is not related to the name of the variable INSIDE `sinc`*.  (We say that they inhabit different *scopes*.)  Consider this:"
   ]
  },
  {
   "cell_type": "code",
   "execution_count": null,
   "metadata": {
    "collapsed": false,
    "nbgrader": {
     "grade": false,
     "grade_id": "string2",
     "locked": false,
     "points": 1,
     "solution": false
    }
   },
   "outputs": [],
   "source": [
    "y = 5.0\n",
    "sinc(y)"
   ]
  },
  {
   "cell_type": "markdown",
   "metadata": {},
   "source": [
    "-   For what value of input `x` does `sinc` fail?  (You can find this by experiment or inspection.)"
   ]
  },
  {
   "cell_type": "code",
   "execution_count": null,
   "metadata": {
    "collapsed": true,
    "nbgrader": {
     "grade": true,
     "grade_id": "divbyzero",
     "locked": false,
     "points": 1,
     "solution": true
    }
   },
   "outputs": [],
   "source": [
    "# your answer here, in the form of a float (e.g., 1.0)"
   ]
  },
  {
   "cell_type": "markdown",
   "metadata": {},
   "source": [
    "<div class=\"alert alert-warning\">\n",
    "<p>\n",
    "The `y` in the scope outside of the function is equal to `5.0`, whereas inside of the function `sinc` the same *value* is referred to as `x`, and `y` means something else.\n",
    "</p><p>\n",
    "You can call variables any valid name you like, but it's generally good practice to name it something clear in context.  That is,\n",
    "    \n",
    "    <pre><code>def sinc(number_of_calabazas):\n",
    "        return sin(number_of_calabazas) / number_of_calabazas\n",
    "</code></pre>\n",
    "is a little too bohemian to represent good programming style.  **Responsible variable names reflect their use.**\n",
    "</p>\n",
    "</div>"
   ]
  },
  {
   "cell_type": "markdown",
   "metadata": {},
   "source": [
    "### Application:  Atmospheric Pressure"
   ]
  },
  {
   "cell_type": "markdown",
   "metadata": {},
   "source": [
    "A mercury barometer is frequently used to precisely measure the atmospheric pressure.  The height $h$ of a column of mercury adjusts to a point where its weight plus force due to the mercury vapor pressure $p_{\\text{vapor}}$ balances the force due to the external atmospheric pressure $p_{\\text{atm}}$.  Mathematically, we write,\n",
    "\n",
    "$$p_{\\text{atm}} = \\gamma h + p_{\\text{vapor}}$$\n",
    "\n",
    "where $\\gamma$ is the specific weight of mercury.  In SI units, $\\gamma = 133 \\times 10^{3} \\,\\text{N}\\cdot\\text{m}^{-3}$.  The vapor pressure of mercury is typically very small in relation to the other values, so we can safely neglect it ($\\left. p_{\\text{vapor}} \\right|_{T=25 ^{\\circ}\\text{C}} = 26.13 Pa$)<sup>[[NISTIR 6643](http://www.boulder.nist.gov/div838/SelectedPubs/NISTIR.6643.pdf)]</sup>.  A function which calculates the atmospheric pressure given the height of a column of mercury, then, is:"
   ]
  },
  {
   "cell_type": "code",
   "execution_count": null,
   "metadata": {
    "collapsed": true
   },
   "outputs": [],
   "source": [
    "def p_pa(h_Hg):\n",
    "    # Calculate and return the atmospheric pressure (in Pa) given the height\n",
    "    # of a column of mercury (in m).\n",
    "    gamma = 133e3       # N/m^-3\n",
    "    P = gamma * h_Hg    # Pa\n",
    "    return P"
   ]
  },
  {
   "cell_type": "code",
   "execution_count": null,
   "metadata": {
    "collapsed": false
   },
   "outputs": [],
   "source": [
    "p_pa(0.598)  # The atmospheric pressure in pascals for 598 mmHg."
   ]
  },
  {
   "cell_type": "code",
   "execution_count": null,
   "metadata": {
    "collapsed": false
   },
   "outputs": [],
   "source": [
    "p_pa(0.598) / 101325  # The atmospheric pressure in the units of standard atmosphere for 598 mmHg."
   ]
  },
  {
   "cell_type": "markdown",
   "metadata": {},
   "source": [
    "We will now introduce the `input` function, which lets you supply a message and ask the user for a value.  (This value then needs to be converted from a string to a `float`.)"
   ]
  },
  {
   "cell_type": "code",
   "execution_count": null,
   "metadata": {
    "collapsed": false
   },
   "outputs": [],
   "source": [
    "h_str = input('Give the height of the column of mercury in m:')\n",
    "h = float(h_str) # convert to a floating-point number\n",
    "print('The result is %f pascals.' % p_pa(h))"
   ]
  },
  {
   "cell_type": "markdown",
   "metadata": {},
   "source": [
    "-   Create a function `p_atm` which accepts the height of a column of mercury and returns the atmospheric pressure in standard atmospheres (demonstrated a couple of cells above this).  (This is equal to the pressure in pascals divided by $101\\,325\\,\\text{Pa}/\\text{atm}$.  You may accomplish this by either calling `p_pa` and dividing by 101325 or by doing the calculation directly.)"
   ]
  },
  {
   "cell_type": "code",
   "execution_count": null,
   "metadata": {
    "collapsed": false,
    "nbgrader": {
     "grade": false,
     "grade_id": "mercury",
     "locked": false,
     "solution": true
    }
   },
   "outputs": [],
   "source": [
    "# define your function here---you can copy and paste from above, or write your own from scratch"
   ]
  },
  {
   "cell_type": "code",
   "execution_count": null,
   "metadata": {
    "collapsed": false,
    "nbgrader": {
     "grade": true,
     "grade_id": "mercury-test",
     "locked": true,
     "points": 1,
     "solution": false
    }
   },
   "outputs": [],
   "source": [
    "# it should pass this test---do NOT edit this cell\n",
    "from numpy import isclose\n",
    "assert isclose(p_atm(1.00), 1.3126079447322971)\n",
    "print('Success!')"
   ]
  },
  {
   "cell_type": "markdown",
   "metadata": {
    "collapsed": true
   },
   "source": [
    "### Application:  The U.S.D.O.T. Bridge Formula"
   ]
  },
  {
   "cell_type": "markdown",
   "metadata": {
    "collapsed": false
   },
   "source": [
    "The United States Department of Transportation, as part of its stewardship of the U.S. interstate highway system, maintains code standards for bridge construction.  As a metric for preserving shipping infrastructure, the DOT uses the bridge formula<sup>[[DOT2014](http://ops.fhwa.dot.gov/freight/sw/brdgcalc/calc_page.htm)]</sup> to limit the legal weight-to-length ratio for freight-laden vehicles crossing a bridge.  In simplified form, the bridge formula is\n",
    "\n",
    "$$W = 500 \\left( \\frac{LN}{N-1} + 12N + 36 \\right)$$\n",
    "\n",
    "where\n",
    "\n",
    "-   $W$ is the overall gross weight on any group of consecutive axles;\n",
    "-   $L$ is the distance in feet between the outer axles of any group of consecutive axles; and\n",
    "-   $N$ is the number of axles in the group under consideration.\n",
    "\n",
    "This prevents short trucks with heavy loads from damaging bridges.\n",
    "\n",
    "![](http://ops.fhwa.dot.gov/Freight/publications/brdg_frm_wghts/images/fig1.gif)\n",
    "\n",
    "You will implement this formula as a function and use it to answer the following questions."
   ]
  },
  {
   "cell_type": "markdown",
   "metadata": {},
   "source": [
    "-   Complete the function `bridge_formula` by adding lines of code to accomplish both tasks indicated."
   ]
  },
  {
   "cell_type": "code",
   "execution_count": null,
   "metadata": {
    "collapsed": false,
    "nbgrader": {
     "grade": false,
     "grade_id": "dot",
     "locked": false,
     "solution": true
    }
   },
   "outputs": [],
   "source": [
    "def bridge_formula(L, N):\n",
    "    '''\n",
    "    Calculate bridge weight in accordance with federal law.\n",
    "\n",
    "    Args:\n",
    "        L:  distance between groups of consecutive axles, ft\n",
    "        N:  number of axles in group under consideration\n",
    "    Returns:\n",
    "        W:  overall gross weight on any group of consecutive axles, lb\n",
    "    '''\n",
    "\n",
    "    # Calculate the bridge formula's weight W using L and N.\n",
    "    # ... your code here ...\n",
    "\n",
    "    # Return the resulting weight W.\n",
    "    # ... your code here ..."
   ]
  },
  {
   "cell_type": "markdown",
   "metadata": {},
   "source": [
    "As a test of your function, the following values are correct:  $L = 51$, $N = 5$, $W = 79,500$.  (This describes a $51'$, 5-axle semi which is legally allowed to carry $79,500 \\,\\text{lb}$, including freight and truck weight—in practice, U.S.D.O.T. rounds to $80,000$ but we won't worry about that layer of complexity here.)"
   ]
  },
  {
   "cell_type": "code",
   "execution_count": null,
   "metadata": {
    "collapsed": false,
    "nbgrader": {
     "grade": true,
     "grade_id": "dot-test1",
     "locked": true,
     "points": 1,
     "solution": false
    }
   },
   "outputs": [],
   "source": [
    "# it should pass this test---do NOT edit this cell\n",
    "assert bridge_formula(51, 5) == 79875\n",
    "print('Success!')"
   ]
  },
  {
   "cell_type": "code",
   "execution_count": null,
   "metadata": {
    "collapsed": false,
    "nbgrader": {
     "grade": true,
     "grade_id": "dot-test2",
     "locked": true,
     "points": 1,
     "solution": false
    }
   },
   "outputs": [],
   "source": [
    "# it should pass this test---do NOT edit this cell\n",
    "assert bridge_formula(20,3) == 51000\n",
    "print('Success!')"
   ]
  },
  {
   "cell_type": "markdown",
   "metadata": {},
   "source": [
    "### How to divide your code logically"
   ]
  },
  {
   "cell_type": "code",
   "execution_count": null,
   "metadata": {
    "collapsed": false
   },
   "outputs": [],
   "source": [
    "def warn(msg):\n",
    "    print('WARNING:  ', msg)\n",
    "\n",
    "warn('Keyboard not responding. Press any key to continue.')"
   ]
  },
  {
   "cell_type": "markdown",
   "metadata": {
    "collapsed": false,
    "nbgrader": {
     "grade": false,
     "grade_id": "string-test",
     "locked": false,
     "points": 2,
     "solution": false
    }
   },
   "source": [
    "### How to manipulate strings"
   ]
  },
  {
   "cell_type": "markdown",
   "metadata": {},
   "source": [
    "One of the elegant notions of programming is that programming helps generalize the idea of function beyond just manipulating numbers.  What about other data types—in particular, the other data type we've examined thus far, the string?  Python does have a lot of basic string manipulation functions."
   ]
  },
  {
   "cell_type": "code",
   "execution_count": null,
   "metadata": {
    "collapsed": true
   },
   "outputs": [],
   "source": [
    "myStr = 'Mr. Jock, TV quiz PhD, bags few lynx.  '"
   ]
  },
  {
   "cell_type": "code",
   "execution_count": null,
   "metadata": {
    "collapsed": true
   },
   "outputs": [],
   "source": [
    "len(myStr)              # counts number of characters in myStr"
   ]
  },
  {
   "cell_type": "code",
   "execution_count": null,
   "metadata": {
    "collapsed": true
   },
   "outputs": [],
   "source": [
    "myStr.count('x')        # counts number of occurrences of 'x' in myStr"
   ]
  },
  {
   "cell_type": "code",
   "execution_count": null,
   "metadata": {
    "collapsed": true
   },
   "outputs": [],
   "source": [
    "myStr.find('x')         # returns position of character 'x'"
   ]
  },
  {
   "cell_type": "code",
   "execution_count": null,
   "metadata": {
    "collapsed": true
   },
   "outputs": [],
   "source": [
    "myStr.lower()           # returns myStr as lower-case letters"
   ]
  },
  {
   "cell_type": "code",
   "execution_count": null,
   "metadata": {
    "collapsed": true
   },
   "outputs": [],
   "source": [
    "myStr.upper()           # returns myStr as upper-case letters"
   ]
  },
  {
   "cell_type": "code",
   "execution_count": null,
   "metadata": {
    "collapsed": true
   },
   "outputs": [],
   "source": [
    "myStr.title()           # returns myStr as title-case letters"
   ]
  },
  {
   "cell_type": "code",
   "execution_count": null,
   "metadata": {
    "collapsed": false
   },
   "outputs": [],
   "source": [
    "myStr.replace('a', 'b') # replaces all occurrences of a with b in myStr"
   ]
  },
  {
   "cell_type": "code",
   "execution_count": null,
   "metadata": {
    "collapsed": false
   },
   "outputs": [],
   "source": [
    "myStr.strip()           # removes leading/trailing white space from myStr"
   ]
  },
  {
   "cell_type": "markdown",
   "metadata": {},
   "source": [
    "Note that `myStr` itself never changes—functions like `upper` *return a copy* of `myStr` with the requested change made."
   ]
  },
  {
   "cell_type": "markdown",
   "metadata": {},
   "source": [
    "String methods are also *composable*—that is, you can put them together to carry out more complex operations:"
   ]
  },
  {
   "cell_type": "code",
   "execution_count": null,
   "metadata": {
    "collapsed": false
   },
   "outputs": [],
   "source": [
    "myStr.strip().replace(' ', '-')"
   ]
  },
  {
   "cell_type": "code",
   "execution_count": null,
   "metadata": {
    "collapsed": false
   },
   "outputs": [],
   "source": [
    "myStr.replace(' ', '-').strip()"
   ]
  },
  {
   "cell_type": "markdown",
   "metadata": {},
   "source": [
    "Now answer these questions *using the string methods given above*:"
   ]
  },
  {
   "cell_type": "code",
   "execution_count": null,
   "metadata": {
    "collapsed": true
   },
   "outputs": [],
   "source": [
    "quip = '\"Sometimes I wonder whether the world is being run by smart people who are putting us on, or by imbeciles who really mean it.\" (Mark Twain)'"
   ]
  },
  {
   "cell_type": "markdown",
   "metadata": {},
   "source": [
    "-   How long is `quip`?"
   ]
  },
  {
   "cell_type": "code",
   "execution_count": null,
   "metadata": {
    "collapsed": true,
    "nbgrader": {
     "grade": true,
     "grade_id": "quip1",
     "locked": false,
     "points": 1,
     "solution": true
    }
   },
   "outputs": [],
   "source": [
    "# your answer here\n",
    "ans = "
   ]
  },
  {
   "cell_type": "markdown",
   "metadata": {},
   "source": [
    "-   How many times does `'b'` occur in this phrase?"
   ]
  },
  {
   "cell_type": "code",
   "execution_count": null,
   "metadata": {
    "collapsed": true,
    "nbgrader": {
     "grade": true,
     "grade_id": "quip2",
     "locked": false,
     "points": 1,
     "solution": true
    }
   },
   "outputs": [],
   "source": [
    "# your answer here\n",
    "ans = "
   ]
  },
  {
   "cell_type": "markdown",
   "metadata": {},
   "source": [
    "-   How many times does `' '` occur?"
   ]
  },
  {
   "cell_type": "code",
   "execution_count": null,
   "metadata": {
    "collapsed": true,
    "nbgrader": {
     "grade": true,
     "grade_id": "quip3",
     "locked": false,
     "points": 1,
     "solution": true
    }
   },
   "outputs": [],
   "source": [
    "# your answer here\n",
    "ans = "
   ]
  },
  {
   "cell_type": "markdown",
   "metadata": {},
   "source": [
    "-   Replace all instances of `' '` with `'a'`.  Now how many times does `'a'` occur?  (You can do this using an intermediate variable or by composing the operations as above.)"
   ]
  },
  {
   "cell_type": "code",
   "execution_count": null,
   "metadata": {
    "collapsed": true,
    "nbgrader": {
     "grade": true,
     "grade_id": "quip4",
     "locked": false,
     "points": 1,
     "solution": true
    }
   },
   "outputs": [],
   "source": [
    "# your answer here\n",
    "ans = "
   ]
  },
  {
   "cell_type": "markdown",
   "metadata": {},
   "source": [
    "Finally, let's close out this section with a teaser for the `list`, which we discuss in lecture 7.  Try these:"
   ]
  },
  {
   "cell_type": "code",
   "execution_count": null,
   "metadata": {
    "collapsed": false
   },
   "outputs": [],
   "source": [
    "quip.split(' ')"
   ]
  },
  {
   "cell_type": "code",
   "execution_count": null,
   "metadata": {
    "collapsed": false
   },
   "outputs": [],
   "source": [
    "myStr.split(',')"
   ]
  },
  {
   "cell_type": "markdown",
   "metadata": {},
   "source": [
    "These break the string along the fault lines specified, or the *delimiters* `' '` and `','`, and return the result as a collection of strings known as a list."
   ]
  },
  {
   "cell_type": "markdown",
   "metadata": {},
   "source": [
    "-   Convert the string `' Time present and time past / Are both perhaps present in time future '` into the string `'Tim3_Pr3S3Nt_And_Tim3_Past_/_Ar3_Both_P3Rhaps_Pr3S3Nt_In_Tim3_Futur3'` using only the above functions.  You should only require four functions, but may take more if necessary.  The final result should be stored in the variable `ans`."
   ]
  },
  {
   "cell_type": "code",
   "execution_count": null,
   "metadata": {
    "collapsed": true,
    "nbgrader": {
     "grade": false,
     "grade_id": "xform",
     "locked": false,
     "solution": true
    }
   },
   "outputs": [],
   "source": [
    "# your code here\n",
    "start = ' Time present and time past / Are both perhaps present in time future '\n",
    "ans = "
   ]
  },
  {
   "cell_type": "code",
   "execution_count": null,
   "metadata": {
    "collapsed": true,
    "nbgrader": {
     "grade": true,
     "grade_id": "xform-test",
     "locked": true,
     "points": 1,
     "solution": false
    }
   },
   "outputs": [],
   "source": [
    "# it should pass this test---do NOT edit this cell\n",
    "assert ans == 'Tim3_Pr3S3Nt_And_Tim3_Past_/_Ar3_Both_P3Rhaps_Pr3S3Nt_In_Tim3_Futur3'\n",
    "print('Success!')"
   ]
  }
 ],
 "metadata": {
  "anaconda-cloud": {},
  "kernelspec": {
   "display_name": "Python [Root]",
   "language": "python",
   "name": "Python [Root]"
  },
  "language_info": {
   "codemirror_mode": {
    "name": "ipython",
    "version": 3
   },
   "file_extension": ".py",
   "mimetype": "text/x-python",
   "name": "python",
   "nbconvert_exporter": "python",
   "pygments_lexer": "ipython3",
   "version": "3.5.2"
  }
 },
 "nbformat": 4,
 "nbformat_minor": 0
}
